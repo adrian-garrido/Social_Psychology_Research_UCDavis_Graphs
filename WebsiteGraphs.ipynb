{
 "cells": [
  {
   "cell_type": "code",
   "execution_count": 30,
   "metadata": {},
   "outputs": [],
   "source": [
    "import pandas as pd\n",
    "import numpy as np\n",
    "import matplotlib.pyplot as plt\n",
    "import plotly.graph_objects as go\n",
    "from plotly.offline import init_notebook_mode, iplot\n",
    "from IPython.display import display, HTML"
   ]
  },
  {
   "cell_type": "code",
   "execution_count": 31,
   "metadata": {},
   "outputs": [
    {
     "name": "stderr",
     "output_type": "stream",
     "text": [
      "C:\\ProgramData\\Anaconda3\\lib\\site-packages\\IPython\\core\\interactiveshell.py:3049: DtypeWarning:\n",
      "\n",
      "Columns (302,321,333,371) have mixed types. Specify dtype option on import or set low_memory=False.\n",
      "\n"
     ]
    }
   ],
   "source": [
    "df = pd.read_csv('rft_new_data_csv.csv')"
   ]
  },
  {
   "cell_type": "code",
   "execution_count": 32,
   "metadata": {},
   "outputs": [],
   "source": [
    "df_diff = df[['disclose.open.p',\n",
    "              'disclose.open.t',\n",
    "              'support.overall.p',\n",
    "              'support.overall.t',\n",
    "              'trust.overall.p',\n",
    "              'trust.overall.t',\n",
    "              'int.overall.close.p',\n",
    "              'int.overall.close.t',\n",
    "              'invest.overall.p',\n",
    "              'invest.overall.t']]"
   ]
  },
  {
   "cell_type": "code",
   "execution_count": 33,
   "metadata": {},
   "outputs": [
    {
     "name": "stderr",
     "output_type": "stream",
     "text": [
      "C:\\ProgramData\\Anaconda3\\lib\\site-packages\\ipykernel_launcher.py:4: SettingWithCopyWarning:\n",
      "\n",
      "\n",
      "A value is trying to be set on a copy of a slice from a DataFrame.\n",
      "Try using .loc[row_indexer,col_indexer] = value instead\n",
      "\n",
      "See the caveats in the documentation: http://pandas.pydata.org/pandas-docs/stable/indexing.html#indexing-view-versus-copy\n",
      "\n"
     ]
    }
   ],
   "source": [
    "# going through .p columns and substracting the corresponding .t column, crating a new .x (for difference) column (changing to '.d' below)\n",
    "for n in range(len(df_diff.columns)):\n",
    "    if n % 2 == 0:\n",
    "        df_diff[df_diff.columns[n][:-2] + '.x'] = df_diff.iloc[:,n] - df_diff.iloc[:,n+1]\n",
    "        \n",
    "# organizing columns in alphabetical order\n",
    "df_diff = df_diff.reindex(sorted(df_diff), axis=1)\n",
    "\n",
    "# replacing '.x' ending for '.d' to express difference\n",
    "df_diff.columns = df_diff.columns.str.replace('.x', '.d', regex = False)\n",
    "\n",
    "# resetting indexes\n",
    "df_diff = df_diff.reset_index(drop = True)\n",
    "\n",
    "# adding dyad_type col at the beginning\n",
    "df_diff['dyad_type'] = df['dyad_type']\n",
    "col_names_diff= list(df_diff.columns)\n",
    "col_names_diff = col_names_diff[-1:] + col_names_diff[:-1]\n",
    "df_diff = df_diff[col_names_diff]"
   ]
  },
  {
   "cell_type": "code",
   "execution_count": 34,
   "metadata": {
    "scrolled": true
   },
   "outputs": [
    {
     "data": {
      "text/html": [
       "<div>\n",
       "<style scoped>\n",
       "    .dataframe tbody tr th:only-of-type {\n",
       "        vertical-align: middle;\n",
       "    }\n",
       "\n",
       "    .dataframe tbody tr th {\n",
       "        vertical-align: top;\n",
       "    }\n",
       "\n",
       "    .dataframe thead th {\n",
       "        text-align: right;\n",
       "    }\n",
       "</style>\n",
       "<table border=\"1\" class=\"dataframe\">\n",
       "  <thead>\n",
       "    <tr style=\"text-align: right;\">\n",
       "      <th></th>\n",
       "      <th>dyad_type</th>\n",
       "      <th>disclose.open.p</th>\n",
       "      <th>disclose.open.t</th>\n",
       "      <th>disclose.open.d</th>\n",
       "      <th>int.overall.close.p</th>\n",
       "      <th>int.overall.close.t</th>\n",
       "      <th>int.overall.close.d</th>\n",
       "      <th>invest.overall.p</th>\n",
       "      <th>invest.overall.t</th>\n",
       "      <th>invest.overall.d</th>\n",
       "      <th>support.overall.p</th>\n",
       "      <th>support.overall.t</th>\n",
       "      <th>support.overall.d</th>\n",
       "      <th>trust.overall.p</th>\n",
       "      <th>trust.overall.t</th>\n",
       "      <th>trust.overall.d</th>\n",
       "    </tr>\n",
       "  </thead>\n",
       "  <tbody>\n",
       "    <tr>\n",
       "      <th>0</th>\n",
       "      <td>1.0</td>\n",
       "      <td>7.0</td>\n",
       "      <td>4.0</td>\n",
       "      <td>3.0</td>\n",
       "      <td>7.0</td>\n",
       "      <td>7.0</td>\n",
       "      <td>0.0</td>\n",
       "      <td>7.0</td>\n",
       "      <td>7.0</td>\n",
       "      <td>0.0</td>\n",
       "      <td>7.0</td>\n",
       "      <td>7.0</td>\n",
       "      <td>0.0</td>\n",
       "      <td>7.0</td>\n",
       "      <td>5.0</td>\n",
       "      <td>2.0</td>\n",
       "    </tr>\n",
       "    <tr>\n",
       "      <th>1</th>\n",
       "      <td>1.0</td>\n",
       "      <td>5.0</td>\n",
       "      <td>5.0</td>\n",
       "      <td>0.0</td>\n",
       "      <td>5.0</td>\n",
       "      <td>5.0</td>\n",
       "      <td>0.0</td>\n",
       "      <td>6.0</td>\n",
       "      <td>5.0</td>\n",
       "      <td>1.0</td>\n",
       "      <td>7.0</td>\n",
       "      <td>6.0</td>\n",
       "      <td>1.0</td>\n",
       "      <td>5.0</td>\n",
       "      <td>5.0</td>\n",
       "      <td>0.0</td>\n",
       "    </tr>\n",
       "    <tr>\n",
       "      <th>2</th>\n",
       "      <td>1.0</td>\n",
       "      <td>4.0</td>\n",
       "      <td>3.0</td>\n",
       "      <td>1.0</td>\n",
       "      <td>4.0</td>\n",
       "      <td>4.0</td>\n",
       "      <td>0.0</td>\n",
       "      <td>5.0</td>\n",
       "      <td>5.0</td>\n",
       "      <td>0.0</td>\n",
       "      <td>2.0</td>\n",
       "      <td>4.0</td>\n",
       "      <td>-2.0</td>\n",
       "      <td>3.0</td>\n",
       "      <td>4.0</td>\n",
       "      <td>-1.0</td>\n",
       "    </tr>\n",
       "    <tr>\n",
       "      <th>3</th>\n",
       "      <td>1.0</td>\n",
       "      <td>5.0</td>\n",
       "      <td>3.0</td>\n",
       "      <td>2.0</td>\n",
       "      <td>4.0</td>\n",
       "      <td>3.0</td>\n",
       "      <td>1.0</td>\n",
       "      <td>2.0</td>\n",
       "      <td>5.0</td>\n",
       "      <td>-3.0</td>\n",
       "      <td>4.0</td>\n",
       "      <td>3.0</td>\n",
       "      <td>1.0</td>\n",
       "      <td>3.0</td>\n",
       "      <td>5.0</td>\n",
       "      <td>-2.0</td>\n",
       "    </tr>\n",
       "    <tr>\n",
       "      <th>4</th>\n",
       "      <td>1.0</td>\n",
       "      <td>6.0</td>\n",
       "      <td>2.0</td>\n",
       "      <td>4.0</td>\n",
       "      <td>3.0</td>\n",
       "      <td>3.0</td>\n",
       "      <td>0.0</td>\n",
       "      <td>5.0</td>\n",
       "      <td>2.0</td>\n",
       "      <td>3.0</td>\n",
       "      <td>NaN</td>\n",
       "      <td>NaN</td>\n",
       "      <td>NaN</td>\n",
       "      <td>6.0</td>\n",
       "      <td>4.0</td>\n",
       "      <td>2.0</td>\n",
       "    </tr>\n",
       "  </tbody>\n",
       "</table>\n",
       "</div>"
      ],
      "text/plain": [
       "   dyad_type  disclose.open.p  disclose.open.t  disclose.open.d  \\\n",
       "0        1.0              7.0              4.0              3.0   \n",
       "1        1.0              5.0              5.0              0.0   \n",
       "2        1.0              4.0              3.0              1.0   \n",
       "3        1.0              5.0              3.0              2.0   \n",
       "4        1.0              6.0              2.0              4.0   \n",
       "\n",
       "   int.overall.close.p  int.overall.close.t  int.overall.close.d  \\\n",
       "0                  7.0                  7.0                  0.0   \n",
       "1                  5.0                  5.0                  0.0   \n",
       "2                  4.0                  4.0                  0.0   \n",
       "3                  4.0                  3.0                  1.0   \n",
       "4                  3.0                  3.0                  0.0   \n",
       "\n",
       "   invest.overall.p  invest.overall.t  invest.overall.d  support.overall.p  \\\n",
       "0               7.0               7.0               0.0                7.0   \n",
       "1               6.0               5.0               1.0                7.0   \n",
       "2               5.0               5.0               0.0                2.0   \n",
       "3               2.0               5.0              -3.0                4.0   \n",
       "4               5.0               2.0               3.0                NaN   \n",
       "\n",
       "   support.overall.t  support.overall.d  trust.overall.p  trust.overall.t  \\\n",
       "0                7.0                0.0              7.0              5.0   \n",
       "1                6.0                1.0              5.0              5.0   \n",
       "2                4.0               -2.0              3.0              4.0   \n",
       "3                3.0                1.0              3.0              5.0   \n",
       "4                NaN                NaN              6.0              4.0   \n",
       "\n",
       "   trust.overall.d  \n",
       "0              2.0  \n",
       "1              0.0  \n",
       "2             -1.0  \n",
       "3             -2.0  \n",
       "4              2.0  "
      ]
     },
     "execution_count": 34,
     "metadata": {},
     "output_type": "execute_result"
    }
   ],
   "source": [
    "df_diff.head()"
   ]
  },
  {
   "cell_type": "code",
   "execution_count": 35,
   "metadata": {},
   "outputs": [],
   "source": [
    "def percent_bar(data1, data2, data3, question1, question2):\n",
    "    questions = [question1, question2]\n",
    "\n",
    "    top_labels = ['Not at all', 'Rarely', 'Occasionally', 'Sometimes', '???', 'Often', 'A lot']\n",
    "\n",
    "    color_list = ['#FF6478',\n",
    "                  '#FF8477',\n",
    "                  '#FF9F77',\n",
    "                  '#FFB775',\n",
    "                  '#BCF0C2',\n",
    "                  '#8BE595',\n",
    "                  '#56DA65']\n",
    "    \n",
    "    fig = go.Figure()\n",
    "\n",
    "    for i in range(0, len(data1[0])):\n",
    "        for xd, yd in zip(data1, questions):\n",
    "            if yd == question1:\n",
    "                fig.add_trace(go.Bar(\n",
    "                x = [xd[i]],\n",
    "                y = [yd],\n",
    "                orientation = 'h',\n",
    "                marker_color = color_list[i],\n",
    "                hovertemplate = \"<b>%{x}%</b>\" + \"<extra></extra>\",\n",
    "                showlegend = False))\n",
    "            else:\n",
    "                fig.add_trace(go.Bar(\n",
    "                x = [xd[i]],\n",
    "                y = [yd],\n",
    "                name = top_labels[i],\n",
    "                orientation = 'h',\n",
    "                marker_color = color_list[i],\n",
    "                hovertemplate = \"<b>%{x}%</b>\" + \"<extra></extra>\",\n",
    "                showlegend = True))\n",
    "\n",
    "    for i in range(0, len(data2[0])):\n",
    "        for xd, yd in zip(data2, questions):\n",
    "            if yd == question1:\n",
    "                fig.add_trace(go.Bar(\n",
    "                x = [xd[i]],\n",
    "                y = [yd],\n",
    "                orientation = 'h',\n",
    "                marker_color = color_list[i],\n",
    "                hovertemplate = \"<b>%{x}%</b>\" + \"<extra></extra>\",\n",
    "                visible = False,\n",
    "                showlegend = False))\n",
    "            else:\n",
    "                fig.add_trace(go.Bar(\n",
    "                x = [xd[i]],\n",
    "                y = [yd],\n",
    "                name = top_labels[i],\n",
    "                orientation = 'h',\n",
    "                marker_color = color_list[i],\n",
    "                hovertemplate = \"<b>%{x}%</b>\" + \"<extra></extra>\",\n",
    "                visible = False,\n",
    "                showlegend = True))\n",
    "            \n",
    "\n",
    "    for i in range(0, len(data3[0])):\n",
    "        for xd, yd in zip(data3, questions):\n",
    "            if yd == question1:\n",
    "                fig.add_trace(go.Bar(\n",
    "                x = [xd[i]],\n",
    "                y = [yd],\n",
    "                orientation = 'h',\n",
    "                marker_color = color_list[i],\n",
    "                hovertemplate = \"<b>%{x}%</b>\" + \"<extra></extra>\",\n",
    "                visible = False,\n",
    "                showlegend = False))\n",
    "            else:\n",
    "                fig.add_trace(go.Bar(\n",
    "                x = [xd[i]],\n",
    "                y = [yd],\n",
    "                name = top_labels[i],\n",
    "                orientation = 'h',\n",
    "                marker_color = color_list[i],\n",
    "                hovertemplate = \"<b>%{x}%</b>\" + \"<extra></extra>\",\n",
    "                visible = False,\n",
    "                showlegend = True))\n",
    "    \n",
    "    fig.update_layout(\n",
    "        xaxis = dict(\n",
    "            showgrid = False,\n",
    "            showline = False,\n",
    "            showticklabels = False,\n",
    "            zeroline = False,\n",
    "            domain = [0.15, 1]\n",
    "        ),\n",
    "        yaxis = dict(\n",
    "            showgrid = False,\n",
    "            showline = False,\n",
    "            showticklabels = False,\n",
    "            zeroline = False,\n",
    "        ),\n",
    "        barmode ='stack',\n",
    "        title = dict(text = 'Formal', \n",
    "                 y = 0.88,\n",
    "                 x = 0.95\n",
    "                    ),\n",
    "        paper_bgcolor = 'rgb(248, 248, 255)',\n",
    "        plot_bgcolor = 'rgb(248, 248, 255)',\n",
    "        margin = dict(l = 120, r = 10, t = 140, b = 80),\n",
    "        font = dict(color = 'black', size = 12),\n",
    "        legend = dict(orientation = 'h',\n",
    "                      yanchor = 'bottom',\n",
    "                      y = 1.02,\n",
    "                      xanchor = 'right',\n",
    "                      x = 0.94,\n",
    "                      traceorder = 'normal',\n",
    "                      itemclick = False\n",
    "                     )\n",
    "    )       \n",
    "\n",
    "    #annotations formal\n",
    "    annotations1 = []\n",
    "\n",
    "    for yd, xd in zip(questions, data1):\n",
    "        # labeling the y-axis\n",
    "        annotations1.append(dict(xref = 'paper', yref = 'y',\n",
    "                                x = 0.14, y = yd,\n",
    "                                xanchor = 'right',\n",
    "                                text = str(yd),\n",
    "                                font = dict(size = 12,\n",
    "                                          color = 'black'),\n",
    "                                showarrow = False, align = 'right'))\n",
    "        # labeling the first percentage of each bar (x_axis)\n",
    "        if xd[0] > 5:\n",
    "            annotations1.append(dict(xref = 'x', yref = 'y',\n",
    "                                    x = xd[0] / 2, y=yd,\n",
    "                                    text = str(xd[0]) + '%',\n",
    "                                    font = dict(size = 12,\n",
    "                                              color = '#595959'),\n",
    "                                    showarrow = False))\n",
    "        space = xd[0]\n",
    "\n",
    "        for i in range(1, 7):\n",
    "            try:\n",
    "                if xd[i] > 5:\n",
    "                    # labeling the rest of percentages for each bar (x_axis)\n",
    "                    annotations1.append(dict(xref = 'x', yref = 'y',\n",
    "                                        x = space + (xd[i]/2), y = yd,\n",
    "                                        text = str(xd[i]) + '%',\n",
    "                                        font = dict(size = 12,\n",
    "                                                  color = '#595959'),\n",
    "                                        showarrow = False))\n",
    "            except:\n",
    "                pass\n",
    "            space += xd[i]\n",
    "    \n",
    "    #annotations informal\n",
    "    annotations2 = []\n",
    "    \n",
    "    for yd, xd in zip(questions, data2):\n",
    "        # labeling the y-axis\n",
    "        annotations2.append(dict(xref = 'paper', yref = 'y',\n",
    "                                x = 0.14, y = yd,\n",
    "                                xanchor = 'right',\n",
    "                                text = str(yd),\n",
    "                                font = dict(size = 12,\n",
    "                                          color = 'black'),\n",
    "                                showarrow = False, align = 'right'))\n",
    "        # labeling the first percentage of each bar (x_axis)\n",
    "        if xd[0] > 5:\n",
    "            annotations2.append(dict(xref = 'x', yref = 'y',\n",
    "                                    x = xd[0] / 2, y=yd,\n",
    "                                    text = str(xd[0]) + '%',\n",
    "                                    font = dict(size = 12,\n",
    "                                              color = '#595959'),\n",
    "                                    showarrow = False))\n",
    "\n",
    "        space = xd[0]\n",
    "\n",
    "        for i in range(1, 7):\n",
    "            try:\n",
    "                if xd[i] > 5:\n",
    "                    # labeling the rest of percentages for each bar (x_axis)\n",
    "                    annotations2.append(dict(xref = 'x', yref = 'y',\n",
    "                                        x = space + (xd[i]/2), y = yd,\n",
    "                                        text = str(xd[i]) + '%',\n",
    "                                        font = dict(size = 12,\n",
    "                                                  color = '#595959'),\n",
    "                                        showarrow = False))\n",
    "            except:\n",
    "                pass\n",
    "            space += xd[i]\n",
    "            \n",
    "    #annotations friend\n",
    "    annotations3 = []\n",
    "    \n",
    "    for yd, xd in zip(questions, data3):\n",
    "        # labeling the y-axis\n",
    "        annotations3.append(dict(xref = 'paper', yref = 'y',\n",
    "                                x = 0.14, y = yd,\n",
    "                                xanchor = 'right',\n",
    "                                text = str(yd),\n",
    "                                font = dict(size = 12,\n",
    "                                          color = 'black'),\n",
    "                                showarrow = False, align = 'right'))\n",
    "        # labeling the first percentage of each bar (x_axis)\n",
    "        if xd[0] > 5:\n",
    "            annotations3.append(dict(xref = 'x', yref = 'y',\n",
    "                                    x = xd[0] / 2, y=yd,\n",
    "                                    text = str(xd[0]) + '%',\n",
    "                                    font = dict(size = 12,\n",
    "                                              color = 'blue'),\n",
    "                                    showarrow = False))\n",
    "        space = xd[0]\n",
    "\n",
    "        for i in range(1, 7):\n",
    "            try:\n",
    "                if xd[i] > 5:\n",
    "                    # labeling the rest of percentages for each bar (x_axis)\n",
    "                    annotations3.append(dict(xref = 'x', yref = 'y',\n",
    "                                        x = space + (xd[i]/2), y = yd,\n",
    "                                        text = str(xd[i]) + '%',\n",
    "                                        font = dict(size = 12,\n",
    "                                                  color = '#595959'),\n",
    "                                        showarrow = False))\n",
    "            except:\n",
    "                pass\n",
    "            try:\n",
    "                space += xd[i]\n",
    "            except:\n",
    "                pass\n",
    "            \n",
    "    fig.update_layout(annotations = annotations1)\n",
    "\n",
    "    ##### Buttons #####\n",
    "\n",
    "    fig.update_layout(\n",
    "    updatemenus =[\n",
    "        go.layout.Updatemenu(\n",
    "            type = 'buttons',\n",
    "            direction = 'right',\n",
    "            bgcolor = '#c9c7c7',\n",
    "            showactive = True,\n",
    "            x = 0.684,\n",
    "            y = 1.3,\n",
    "            buttons = list([\n",
    "                dict(label = 'Formal',\n",
    "                     method = 'update',\n",
    "                     args = [{'visible': [True, True, True, True, True, True, True, True, True, True, True, True, True, True, False, False, False, False, False, False, False, False, False, False, False, False, False, False, False, False, False, False, False, False, False, False, False, False, False, False, False, False]},\n",
    "                             {'title': 'Formal',\n",
    "                              'annotations': annotations1}\n",
    "                            ]),\n",
    "                dict(label = 'Informal',\n",
    "                     method = 'update',\n",
    "                     args = [{'visible': [False, False, False, False, False, False, False, False, False, False, False, False, False, False, True, True, True, True, True, True, True, True, True, True, True, True, True, True, False, False, False, False, False, False, False, False, False, False, False, False, False, False]},\n",
    "                             {'title': 'Informal',\n",
    "                              'annotations': annotations2}\n",
    "                            ]),\n",
    "                dict(label = 'Friend',\n",
    "                     method = 'update',\n",
    "                     args = [{'visible': [False, False, False, False, False, False, False, False, False, False, False, False, False, False, False, False, False, False, False, False, False, False, False, False, False, False, False, False, True, True, True, True, True, True, True, True, True, True, True, True, True, True]},\n",
    "                             {'title': 'Friend',\n",
    "                              'annotations': annotations3}\n",
    "                            ])\n",
    "            ]),\n",
    "        )\n",
    "    ])\n",
    "    \n",
    "    config = {'displayModeBar': False}\n",
    "\n",
    "    fig.show(config = config)"
   ]
  },
  {
   "cell_type": "code",
   "execution_count": 37,
   "metadata": {},
   "outputs": [
    {
     "data": {
      "application/vnd.plotly.v1+json": {
       "config": {
        "displayModeBar": false,
        "plotlyServerURL": "https://plotly.com"
       },
       "data": [
        {
         "hovertemplate": "<b>%{x}%</b><extra></extra>",
         "marker": {
          "color": "#FF6478"
         },
         "orientation": "h",
         "showlegend": false,
         "type": "bar",
         "x": [
          31.8
         ],
         "y": [
          "How much does this<br>person open up to you about<br>their personal experiences?"
         ]
        },
        {
         "hovertemplate": "<b>%{x}%</b><extra></extra>",
         "marker": {
          "color": "#FF6478"
         },
         "name": "Not at all",
         "orientation": "h",
         "showlegend": true,
         "type": "bar",
         "x": [
          5.9
         ],
         "y": [
          "How much can you<br>open up to this<br>person about your personal<br>experiences?"
         ]
        },
        {
         "hovertemplate": "<b>%{x}%</b><extra></extra>",
         "marker": {
          "color": "#FF8477"
         },
         "orientation": "h",
         "showlegend": false,
         "type": "bar",
         "x": [
          13.3
         ],
         "y": [
          "How much does this<br>person open up to you about<br>their personal experiences?"
         ]
        },
        {
         "hovertemplate": "<b>%{x}%</b><extra></extra>",
         "marker": {
          "color": "#FF8477"
         },
         "name": "Rarely",
         "orientation": "h",
         "showlegend": true,
         "type": "bar",
         "x": [
          4.7
         ],
         "y": [
          "How much can you<br>open up to this<br>person about your personal<br>experiences?"
         ]
        },
        {
         "hovertemplate": "<b>%{x}%</b><extra></extra>",
         "marker": {
          "color": "#FF9F77"
         },
         "orientation": "h",
         "showlegend": false,
         "type": "bar",
         "x": [
          10.3
         ],
         "y": [
          "How much does this<br>person open up to you about<br>their personal experiences?"
         ]
        },
        {
         "hovertemplate": "<b>%{x}%</b><extra></extra>",
         "marker": {
          "color": "#FF9F77"
         },
         "name": "Occasionally",
         "orientation": "h",
         "showlegend": true,
         "type": "bar",
         "x": [
          3.5
         ],
         "y": [
          "How much can you<br>open up to this<br>person about your personal<br>experiences?"
         ]
        },
        {
         "hovertemplate": "<b>%{x}%</b><extra></extra>",
         "marker": {
          "color": "#FFB775"
         },
         "orientation": "h",
         "showlegend": false,
         "type": "bar",
         "x": [
          17.1
         ],
         "y": [
          "How much does this<br>person open up to you about<br>their personal experiences?"
         ]
        },
        {
         "hovertemplate": "<b>%{x}%</b><extra></extra>",
         "marker": {
          "color": "#FFB775"
         },
         "name": "Sometimes",
         "orientation": "h",
         "showlegend": true,
         "type": "bar",
         "x": [
          10.5
         ],
         "y": [
          "How much can you<br>open up to this<br>person about your personal<br>experiences?"
         ]
        },
        {
         "hovertemplate": "<b>%{x}%</b><extra></extra>",
         "marker": {
          "color": "#BCF0C2"
         },
         "orientation": "h",
         "showlegend": false,
         "type": "bar",
         "x": [
          11
         ],
         "y": [
          "How much does this<br>person open up to you about<br>their personal experiences?"
         ]
        },
        {
         "hovertemplate": "<b>%{x}%</b><extra></extra>",
         "marker": {
          "color": "#BCF0C2"
         },
         "name": "???",
         "orientation": "h",
         "showlegend": true,
         "type": "bar",
         "x": [
          18.2
         ],
         "y": [
          "How much can you<br>open up to this<br>person about your personal<br>experiences?"
         ]
        },
        {
         "hovertemplate": "<b>%{x}%</b><extra></extra>",
         "marker": {
          "color": "#8BE595"
         },
         "orientation": "h",
         "showlegend": false,
         "type": "bar",
         "x": [
          9.9
         ],
         "y": [
          "How much does this<br>person open up to you about<br>their personal experiences?"
         ]
        },
        {
         "hovertemplate": "<b>%{x}%</b><extra></extra>",
         "marker": {
          "color": "#8BE595"
         },
         "name": "Often",
         "orientation": "h",
         "showlegend": true,
         "type": "bar",
         "x": [
          25.1
         ],
         "y": [
          "How much can you<br>open up to this<br>person about your personal<br>experiences?"
         ]
        },
        {
         "hovertemplate": "<b>%{x}%</b><extra></extra>",
         "marker": {
          "color": "#56DA65"
         },
         "orientation": "h",
         "showlegend": false,
         "type": "bar",
         "x": [
          6.7
         ],
         "y": [
          "How much does this<br>person open up to you about<br>their personal experiences?"
         ]
        },
        {
         "hovertemplate": "<b>%{x}%</b><extra></extra>",
         "marker": {
          "color": "#56DA65"
         },
         "name": "A lot",
         "orientation": "h",
         "showlegend": true,
         "type": "bar",
         "x": [
          32.3
         ],
         "y": [
          "How much can you<br>open up to this<br>person about your personal<br>experiences?"
         ]
        },
        {
         "hovertemplate": "<b>%{x}%</b><extra></extra>",
         "marker": {
          "color": "#FF6478"
         },
         "orientation": "h",
         "showlegend": false,
         "type": "bar",
         "visible": false,
         "x": [
          5.3
         ],
         "y": [
          "How much does this<br>person open up to you about<br>their personal experiences?"
         ]
        },
        {
         "hovertemplate": "<b>%{x}%</b><extra></extra>",
         "marker": {
          "color": "#FF6478"
         },
         "name": "Not at all",
         "orientation": "h",
         "showlegend": true,
         "type": "bar",
         "visible": false,
         "x": [
          5.6
         ],
         "y": [
          "How much can you<br>open up to this<br>person about your personal<br>experiences?"
         ]
        },
        {
         "hovertemplate": "<b>%{x}%</b><extra></extra>",
         "marker": {
          "color": "#FF8477"
         },
         "orientation": "h",
         "showlegend": false,
         "type": "bar",
         "visible": false,
         "x": [
          6
         ],
         "y": [
          "How much does this<br>person open up to you about<br>their personal experiences?"
         ]
        },
        {
         "hovertemplate": "<b>%{x}%</b><extra></extra>",
         "marker": {
          "color": "#FF8477"
         },
         "name": "Rarely",
         "orientation": "h",
         "showlegend": true,
         "type": "bar",
         "visible": false,
         "x": [
          4.1
         ],
         "y": [
          "How much can you<br>open up to this<br>person about your personal<br>experiences?"
         ]
        },
        {
         "hovertemplate": "<b>%{x}%</b><extra></extra>",
         "marker": {
          "color": "#FF9F77"
         },
         "orientation": "h",
         "showlegend": false,
         "type": "bar",
         "visible": false,
         "x": [
          5.5
         ],
         "y": [
          "How much does this<br>person open up to you about<br>their personal experiences?"
         ]
        },
        {
         "hovertemplate": "<b>%{x}%</b><extra></extra>",
         "marker": {
          "color": "#FF9F77"
         },
         "name": "Occasionally",
         "orientation": "h",
         "showlegend": true,
         "type": "bar",
         "visible": false,
         "x": [
          5.1
         ],
         "y": [
          "How much can you<br>open up to this<br>person about your personal<br>experiences?"
         ]
        },
        {
         "hovertemplate": "<b>%{x}%</b><extra></extra>",
         "marker": {
          "color": "#FFB775"
         },
         "orientation": "h",
         "showlegend": false,
         "type": "bar",
         "visible": false,
         "x": [
          16.7
         ],
         "y": [
          "How much does this<br>person open up to you about<br>their personal experiences?"
         ]
        },
        {
         "hovertemplate": "<b>%{x}%</b><extra></extra>",
         "marker": {
          "color": "#FFB775"
         },
         "name": "Sometimes",
         "orientation": "h",
         "showlegend": true,
         "type": "bar",
         "visible": false,
         "x": [
          13.1
         ],
         "y": [
          "How much can you<br>open up to this<br>person about your personal<br>experiences?"
         ]
        },
        {
         "hovertemplate": "<b>%{x}%</b><extra></extra>",
         "marker": {
          "color": "#BCF0C2"
         },
         "orientation": "h",
         "showlegend": false,
         "type": "bar",
         "visible": false,
         "x": [
          18.5
         ],
         "y": [
          "How much does this<br>person open up to you about<br>their personal experiences?"
         ]
        },
        {
         "hovertemplate": "<b>%{x}%</b><extra></extra>",
         "marker": {
          "color": "#BCF0C2"
         },
         "name": "???",
         "orientation": "h",
         "showlegend": true,
         "type": "bar",
         "visible": false,
         "x": [
          16.4
         ],
         "y": [
          "How much can you<br>open up to this<br>person about your personal<br>experiences?"
         ]
        },
        {
         "hovertemplate": "<b>%{x}%</b><extra></extra>",
         "marker": {
          "color": "#8BE595"
         },
         "orientation": "h",
         "showlegend": false,
         "type": "bar",
         "visible": false,
         "x": [
          23.4
         ],
         "y": [
          "How much does this<br>person open up to you about<br>their personal experiences?"
         ]
        },
        {
         "hovertemplate": "<b>%{x}%</b><extra></extra>",
         "marker": {
          "color": "#8BE595"
         },
         "name": "Often",
         "orientation": "h",
         "showlegend": true,
         "type": "bar",
         "visible": false,
         "x": [
          21.8
         ],
         "y": [
          "How much can you<br>open up to this<br>person about your personal<br>experiences?"
         ]
        },
        {
         "hovertemplate": "<b>%{x}%</b><extra></extra>",
         "marker": {
          "color": "#56DA65"
         },
         "orientation": "h",
         "showlegend": false,
         "type": "bar",
         "visible": false,
         "x": [
          24.6
         ],
         "y": [
          "How much does this<br>person open up to you about<br>their personal experiences?"
         ]
        },
        {
         "hovertemplate": "<b>%{x}%</b><extra></extra>",
         "marker": {
          "color": "#56DA65"
         },
         "name": "A lot",
         "orientation": "h",
         "showlegend": true,
         "type": "bar",
         "visible": false,
         "x": [
          34
         ],
         "y": [
          "How much can you<br>open up to this<br>person about your personal<br>experiences?"
         ]
        },
        {
         "hovertemplate": "<b>%{x}%</b><extra></extra>",
         "marker": {
          "color": "#FF6478"
         },
         "orientation": "h",
         "showlegend": false,
         "type": "bar",
         "visible": false,
         "x": [
          0.6
         ],
         "y": [
          "How much does this<br>person open up to you about<br>their personal experiences?"
         ]
        },
        {
         "hovertemplate": "<b>%{x}%</b><extra></extra>",
         "marker": {
          "color": "#FF6478"
         },
         "name": "Not at all",
         "orientation": "h",
         "showlegend": true,
         "type": "bar",
         "visible": false,
         "x": [
          0.3
         ],
         "y": [
          "How much can you<br>open up to this<br>person about your personal<br>experiences?"
         ]
        },
        {
         "hovertemplate": "<b>%{x}%</b><extra></extra>",
         "marker": {
          "color": "#FF8477"
         },
         "orientation": "h",
         "showlegend": false,
         "type": "bar",
         "visible": false,
         "x": [
          1.3
         ],
         "y": [
          "How much does this<br>person open up to you about<br>their personal experiences?"
         ]
        },
        {
         "hovertemplate": "<b>%{x}%</b><extra></extra>",
         "marker": {
          "color": "#FF8477"
         },
         "name": "Rarely",
         "orientation": "h",
         "showlegend": true,
         "type": "bar",
         "visible": false,
         "x": [
          1.6
         ],
         "y": [
          "How much can you<br>open up to this<br>person about your personal<br>experiences?"
         ]
        },
        {
         "hovertemplate": "<b>%{x}%</b><extra></extra>",
         "marker": {
          "color": "#FF9F77"
         },
         "orientation": "h",
         "showlegend": false,
         "type": "bar",
         "visible": false,
         "x": [
          2.5
         ],
         "y": [
          "How much does this<br>person open up to you about<br>their personal experiences?"
         ]
        },
        {
         "hovertemplate": "<b>%{x}%</b><extra></extra>",
         "marker": {
          "color": "#FF9F77"
         },
         "name": "Occasionally",
         "orientation": "h",
         "showlegend": true,
         "type": "bar",
         "visible": false,
         "x": [
          1.3
         ],
         "y": [
          "How much can you<br>open up to this<br>person about your personal<br>experiences?"
         ]
        },
        {
         "hovertemplate": "<b>%{x}%</b><extra></extra>",
         "marker": {
          "color": "#FFB775"
         },
         "orientation": "h",
         "showlegend": false,
         "type": "bar",
         "visible": false,
         "x": [
          14.5
         ],
         "y": [
          "How much does this<br>person open up to you about<br>their personal experiences?"
         ]
        },
        {
         "hovertemplate": "<b>%{x}%</b><extra></extra>",
         "marker": {
          "color": "#FFB775"
         },
         "name": "Sometimes",
         "orientation": "h",
         "showlegend": true,
         "type": "bar",
         "visible": false,
         "x": [
          11.7
         ],
         "y": [
          "How much can you<br>open up to this<br>person about your personal<br>experiences?"
         ]
        },
        {
         "hovertemplate": "<b>%{x}%</b><extra></extra>",
         "marker": {
          "color": "#BCF0C2"
         },
         "orientation": "h",
         "showlegend": false,
         "type": "bar",
         "visible": false,
         "x": [
          17.4
         ],
         "y": [
          "How much does this<br>person open up to you about<br>their personal experiences?"
         ]
        },
        {
         "hovertemplate": "<b>%{x}%</b><extra></extra>",
         "marker": {
          "color": "#BCF0C2"
         },
         "name": "???",
         "orientation": "h",
         "showlegend": true,
         "type": "bar",
         "visible": false,
         "x": [
          18.9
         ],
         "y": [
          "How much can you<br>open up to this<br>person about your personal<br>experiences?"
         ]
        },
        {
         "hovertemplate": "<b>%{x}%</b><extra></extra>",
         "marker": {
          "color": "#8BE595"
         },
         "orientation": "h",
         "showlegend": false,
         "type": "bar",
         "visible": false,
         "x": [
          25.9
         ],
         "y": [
          "How much does this<br>person open up to you about<br>their personal experiences?"
         ]
        },
        {
         "hovertemplate": "<b>%{x}%</b><extra></extra>",
         "marker": {
          "color": "#8BE595"
         },
         "name": "Often",
         "orientation": "h",
         "showlegend": true,
         "type": "bar",
         "visible": false,
         "x": [
          28.1
         ],
         "y": [
          "How much can you<br>open up to this<br>person about your personal<br>experiences?"
         ]
        },
        {
         "hovertemplate": "<b>%{x}%</b><extra></extra>",
         "marker": {
          "color": "#56DA65"
         },
         "orientation": "h",
         "showlegend": false,
         "type": "bar",
         "visible": false,
         "x": [
          37.9
         ],
         "y": [
          "How much does this<br>person open up to you about<br>their personal experiences?"
         ]
        },
        {
         "hovertemplate": "<b>%{x}%</b><extra></extra>",
         "marker": {
          "color": "#56DA65"
         },
         "name": "A lot",
         "orientation": "h",
         "showlegend": true,
         "type": "bar",
         "visible": false,
         "x": [
          38.2
         ],
         "y": [
          "How much can you<br>open up to this<br>person about your personal<br>experiences?"
         ]
        }
       ],
       "layout": {
        "annotations": [
         {
          "align": "right",
          "font": {
           "color": "black",
           "size": 12
          },
          "showarrow": false,
          "text": "How much does this<br>person open up to you about<br>their personal experiences?",
          "x": 0.14,
          "xanchor": "right",
          "xref": "paper",
          "y": "How much does this<br>person open up to you about<br>their personal experiences?",
          "yref": "y"
         },
         {
          "font": {
           "color": "#595959",
           "size": 12
          },
          "showarrow": false,
          "text": "31.8%",
          "x": 15.9,
          "xref": "x",
          "y": "How much does this<br>person open up to you about<br>their personal experiences?",
          "yref": "y"
         },
         {
          "font": {
           "color": "#595959",
           "size": 12
          },
          "showarrow": false,
          "text": "13.3%",
          "x": 38.45,
          "xref": "x",
          "y": "How much does this<br>person open up to you about<br>their personal experiences?",
          "yref": "y"
         },
         {
          "font": {
           "color": "#595959",
           "size": 12
          },
          "showarrow": false,
          "text": "10.3%",
          "x": 50.25,
          "xref": "x",
          "y": "How much does this<br>person open up to you about<br>their personal experiences?",
          "yref": "y"
         },
         {
          "font": {
           "color": "#595959",
           "size": 12
          },
          "showarrow": false,
          "text": "17.1%",
          "x": 63.95,
          "xref": "x",
          "y": "How much does this<br>person open up to you about<br>their personal experiences?",
          "yref": "y"
         },
         {
          "font": {
           "color": "#595959",
           "size": 12
          },
          "showarrow": false,
          "text": "11.0%",
          "x": 78,
          "xref": "x",
          "y": "How much does this<br>person open up to you about<br>their personal experiences?",
          "yref": "y"
         },
         {
          "font": {
           "color": "#595959",
           "size": 12
          },
          "showarrow": false,
          "text": "9.9%",
          "x": 88.45,
          "xref": "x",
          "y": "How much does this<br>person open up to you about<br>their personal experiences?",
          "yref": "y"
         },
         {
          "font": {
           "color": "#595959",
           "size": 12
          },
          "showarrow": false,
          "text": "6.7%",
          "x": 96.75,
          "xref": "x",
          "y": "How much does this<br>person open up to you about<br>their personal experiences?",
          "yref": "y"
         },
         {
          "align": "right",
          "font": {
           "color": "black",
           "size": 12
          },
          "showarrow": false,
          "text": "How much can you<br>open up to this<br>person about your personal<br>experiences?",
          "x": 0.14,
          "xanchor": "right",
          "xref": "paper",
          "y": "How much can you<br>open up to this<br>person about your personal<br>experiences?",
          "yref": "y"
         },
         {
          "font": {
           "color": "#595959",
           "size": 12
          },
          "showarrow": false,
          "text": "5.9%",
          "x": 2.95,
          "xref": "x",
          "y": "How much can you<br>open up to this<br>person about your personal<br>experiences?",
          "yref": "y"
         },
         {
          "font": {
           "color": "#595959",
           "size": 12
          },
          "showarrow": false,
          "text": "10.5%",
          "x": 19.35,
          "xref": "x",
          "y": "How much can you<br>open up to this<br>person about your personal<br>experiences?",
          "yref": "y"
         },
         {
          "font": {
           "color": "#595959",
           "size": 12
          },
          "showarrow": false,
          "text": "18.2%",
          "x": 33.7,
          "xref": "x",
          "y": "How much can you<br>open up to this<br>person about your personal<br>experiences?",
          "yref": "y"
         },
         {
          "font": {
           "color": "#595959",
           "size": 12
          },
          "showarrow": false,
          "text": "25.1%",
          "x": 55.349999999999994,
          "xref": "x",
          "y": "How much can you<br>open up to this<br>person about your personal<br>experiences?",
          "yref": "y"
         },
         {
          "font": {
           "color": "#595959",
           "size": 12
          },
          "showarrow": false,
          "text": "32.3%",
          "x": 84.05000000000001,
          "xref": "x",
          "y": "How much can you<br>open up to this<br>person about your personal<br>experiences?",
          "yref": "y"
         }
        ],
        "barmode": "stack",
        "font": {
         "color": "black",
         "size": 12
        },
        "legend": {
         "itemclick": false,
         "orientation": "h",
         "traceorder": "normal",
         "x": 0.94,
         "xanchor": "right",
         "y": 1.02,
         "yanchor": "bottom"
        },
        "margin": {
         "b": 80,
         "l": 120,
         "r": 10,
         "t": 140
        },
        "paper_bgcolor": "rgb(248, 248, 255)",
        "plot_bgcolor": "rgb(248, 248, 255)",
        "template": {
         "data": {
          "bar": [
           {
            "error_x": {
             "color": "#2a3f5f"
            },
            "error_y": {
             "color": "#2a3f5f"
            },
            "marker": {
             "line": {
              "color": "#E5ECF6",
              "width": 0.5
             }
            },
            "type": "bar"
           }
          ],
          "barpolar": [
           {
            "marker": {
             "line": {
              "color": "#E5ECF6",
              "width": 0.5
             }
            },
            "type": "barpolar"
           }
          ],
          "carpet": [
           {
            "aaxis": {
             "endlinecolor": "#2a3f5f",
             "gridcolor": "white",
             "linecolor": "white",
             "minorgridcolor": "white",
             "startlinecolor": "#2a3f5f"
            },
            "baxis": {
             "endlinecolor": "#2a3f5f",
             "gridcolor": "white",
             "linecolor": "white",
             "minorgridcolor": "white",
             "startlinecolor": "#2a3f5f"
            },
            "type": "carpet"
           }
          ],
          "choropleth": [
           {
            "colorbar": {
             "outlinewidth": 0,
             "ticks": ""
            },
            "type": "choropleth"
           }
          ],
          "contour": [
           {
            "colorbar": {
             "outlinewidth": 0,
             "ticks": ""
            },
            "colorscale": [
             [
              0,
              "#0d0887"
             ],
             [
              0.1111111111111111,
              "#46039f"
             ],
             [
              0.2222222222222222,
              "#7201a8"
             ],
             [
              0.3333333333333333,
              "#9c179e"
             ],
             [
              0.4444444444444444,
              "#bd3786"
             ],
             [
              0.5555555555555556,
              "#d8576b"
             ],
             [
              0.6666666666666666,
              "#ed7953"
             ],
             [
              0.7777777777777778,
              "#fb9f3a"
             ],
             [
              0.8888888888888888,
              "#fdca26"
             ],
             [
              1,
              "#f0f921"
             ]
            ],
            "type": "contour"
           }
          ],
          "contourcarpet": [
           {
            "colorbar": {
             "outlinewidth": 0,
             "ticks": ""
            },
            "type": "contourcarpet"
           }
          ],
          "heatmap": [
           {
            "colorbar": {
             "outlinewidth": 0,
             "ticks": ""
            },
            "colorscale": [
             [
              0,
              "#0d0887"
             ],
             [
              0.1111111111111111,
              "#46039f"
             ],
             [
              0.2222222222222222,
              "#7201a8"
             ],
             [
              0.3333333333333333,
              "#9c179e"
             ],
             [
              0.4444444444444444,
              "#bd3786"
             ],
             [
              0.5555555555555556,
              "#d8576b"
             ],
             [
              0.6666666666666666,
              "#ed7953"
             ],
             [
              0.7777777777777778,
              "#fb9f3a"
             ],
             [
              0.8888888888888888,
              "#fdca26"
             ],
             [
              1,
              "#f0f921"
             ]
            ],
            "type": "heatmap"
           }
          ],
          "heatmapgl": [
           {
            "colorbar": {
             "outlinewidth": 0,
             "ticks": ""
            },
            "colorscale": [
             [
              0,
              "#0d0887"
             ],
             [
              0.1111111111111111,
              "#46039f"
             ],
             [
              0.2222222222222222,
              "#7201a8"
             ],
             [
              0.3333333333333333,
              "#9c179e"
             ],
             [
              0.4444444444444444,
              "#bd3786"
             ],
             [
              0.5555555555555556,
              "#d8576b"
             ],
             [
              0.6666666666666666,
              "#ed7953"
             ],
             [
              0.7777777777777778,
              "#fb9f3a"
             ],
             [
              0.8888888888888888,
              "#fdca26"
             ],
             [
              1,
              "#f0f921"
             ]
            ],
            "type": "heatmapgl"
           }
          ],
          "histogram": [
           {
            "marker": {
             "colorbar": {
              "outlinewidth": 0,
              "ticks": ""
             }
            },
            "type": "histogram"
           }
          ],
          "histogram2d": [
           {
            "colorbar": {
             "outlinewidth": 0,
             "ticks": ""
            },
            "colorscale": [
             [
              0,
              "#0d0887"
             ],
             [
              0.1111111111111111,
              "#46039f"
             ],
             [
              0.2222222222222222,
              "#7201a8"
             ],
             [
              0.3333333333333333,
              "#9c179e"
             ],
             [
              0.4444444444444444,
              "#bd3786"
             ],
             [
              0.5555555555555556,
              "#d8576b"
             ],
             [
              0.6666666666666666,
              "#ed7953"
             ],
             [
              0.7777777777777778,
              "#fb9f3a"
             ],
             [
              0.8888888888888888,
              "#fdca26"
             ],
             [
              1,
              "#f0f921"
             ]
            ],
            "type": "histogram2d"
           }
          ],
          "histogram2dcontour": [
           {
            "colorbar": {
             "outlinewidth": 0,
             "ticks": ""
            },
            "colorscale": [
             [
              0,
              "#0d0887"
             ],
             [
              0.1111111111111111,
              "#46039f"
             ],
             [
              0.2222222222222222,
              "#7201a8"
             ],
             [
              0.3333333333333333,
              "#9c179e"
             ],
             [
              0.4444444444444444,
              "#bd3786"
             ],
             [
              0.5555555555555556,
              "#d8576b"
             ],
             [
              0.6666666666666666,
              "#ed7953"
             ],
             [
              0.7777777777777778,
              "#fb9f3a"
             ],
             [
              0.8888888888888888,
              "#fdca26"
             ],
             [
              1,
              "#f0f921"
             ]
            ],
            "type": "histogram2dcontour"
           }
          ],
          "mesh3d": [
           {
            "colorbar": {
             "outlinewidth": 0,
             "ticks": ""
            },
            "type": "mesh3d"
           }
          ],
          "parcoords": [
           {
            "line": {
             "colorbar": {
              "outlinewidth": 0,
              "ticks": ""
             }
            },
            "type": "parcoords"
           }
          ],
          "pie": [
           {
            "automargin": true,
            "type": "pie"
           }
          ],
          "scatter": [
           {
            "marker": {
             "colorbar": {
              "outlinewidth": 0,
              "ticks": ""
             }
            },
            "type": "scatter"
           }
          ],
          "scatter3d": [
           {
            "line": {
             "colorbar": {
              "outlinewidth": 0,
              "ticks": ""
             }
            },
            "marker": {
             "colorbar": {
              "outlinewidth": 0,
              "ticks": ""
             }
            },
            "type": "scatter3d"
           }
          ],
          "scattercarpet": [
           {
            "marker": {
             "colorbar": {
              "outlinewidth": 0,
              "ticks": ""
             }
            },
            "type": "scattercarpet"
           }
          ],
          "scattergeo": [
           {
            "marker": {
             "colorbar": {
              "outlinewidth": 0,
              "ticks": ""
             }
            },
            "type": "scattergeo"
           }
          ],
          "scattergl": [
           {
            "marker": {
             "colorbar": {
              "outlinewidth": 0,
              "ticks": ""
             }
            },
            "type": "scattergl"
           }
          ],
          "scattermapbox": [
           {
            "marker": {
             "colorbar": {
              "outlinewidth": 0,
              "ticks": ""
             }
            },
            "type": "scattermapbox"
           }
          ],
          "scatterpolar": [
           {
            "marker": {
             "colorbar": {
              "outlinewidth": 0,
              "ticks": ""
             }
            },
            "type": "scatterpolar"
           }
          ],
          "scatterpolargl": [
           {
            "marker": {
             "colorbar": {
              "outlinewidth": 0,
              "ticks": ""
             }
            },
            "type": "scatterpolargl"
           }
          ],
          "scatterternary": [
           {
            "marker": {
             "colorbar": {
              "outlinewidth": 0,
              "ticks": ""
             }
            },
            "type": "scatterternary"
           }
          ],
          "surface": [
           {
            "colorbar": {
             "outlinewidth": 0,
             "ticks": ""
            },
            "colorscale": [
             [
              0,
              "#0d0887"
             ],
             [
              0.1111111111111111,
              "#46039f"
             ],
             [
              0.2222222222222222,
              "#7201a8"
             ],
             [
              0.3333333333333333,
              "#9c179e"
             ],
             [
              0.4444444444444444,
              "#bd3786"
             ],
             [
              0.5555555555555556,
              "#d8576b"
             ],
             [
              0.6666666666666666,
              "#ed7953"
             ],
             [
              0.7777777777777778,
              "#fb9f3a"
             ],
             [
              0.8888888888888888,
              "#fdca26"
             ],
             [
              1,
              "#f0f921"
             ]
            ],
            "type": "surface"
           }
          ],
          "table": [
           {
            "cells": {
             "fill": {
              "color": "#EBF0F8"
             },
             "line": {
              "color": "white"
             }
            },
            "header": {
             "fill": {
              "color": "#C8D4E3"
             },
             "line": {
              "color": "white"
             }
            },
            "type": "table"
           }
          ]
         },
         "layout": {
          "annotationdefaults": {
           "arrowcolor": "#2a3f5f",
           "arrowhead": 0,
           "arrowwidth": 1
          },
          "coloraxis": {
           "colorbar": {
            "outlinewidth": 0,
            "ticks": ""
           }
          },
          "colorscale": {
           "diverging": [
            [
             0,
             "#8e0152"
            ],
            [
             0.1,
             "#c51b7d"
            ],
            [
             0.2,
             "#de77ae"
            ],
            [
             0.3,
             "#f1b6da"
            ],
            [
             0.4,
             "#fde0ef"
            ],
            [
             0.5,
             "#f7f7f7"
            ],
            [
             0.6,
             "#e6f5d0"
            ],
            [
             0.7,
             "#b8e186"
            ],
            [
             0.8,
             "#7fbc41"
            ],
            [
             0.9,
             "#4d9221"
            ],
            [
             1,
             "#276419"
            ]
           ],
           "sequential": [
            [
             0,
             "#0d0887"
            ],
            [
             0.1111111111111111,
             "#46039f"
            ],
            [
             0.2222222222222222,
             "#7201a8"
            ],
            [
             0.3333333333333333,
             "#9c179e"
            ],
            [
             0.4444444444444444,
             "#bd3786"
            ],
            [
             0.5555555555555556,
             "#d8576b"
            ],
            [
             0.6666666666666666,
             "#ed7953"
            ],
            [
             0.7777777777777778,
             "#fb9f3a"
            ],
            [
             0.8888888888888888,
             "#fdca26"
            ],
            [
             1,
             "#f0f921"
            ]
           ],
           "sequentialminus": [
            [
             0,
             "#0d0887"
            ],
            [
             0.1111111111111111,
             "#46039f"
            ],
            [
             0.2222222222222222,
             "#7201a8"
            ],
            [
             0.3333333333333333,
             "#9c179e"
            ],
            [
             0.4444444444444444,
             "#bd3786"
            ],
            [
             0.5555555555555556,
             "#d8576b"
            ],
            [
             0.6666666666666666,
             "#ed7953"
            ],
            [
             0.7777777777777778,
             "#fb9f3a"
            ],
            [
             0.8888888888888888,
             "#fdca26"
            ],
            [
             1,
             "#f0f921"
            ]
           ]
          },
          "colorway": [
           "#636efa",
           "#EF553B",
           "#00cc96",
           "#ab63fa",
           "#FFA15A",
           "#19d3f3",
           "#FF6692",
           "#B6E880",
           "#FF97FF",
           "#FECB52"
          ],
          "font": {
           "color": "#2a3f5f"
          },
          "geo": {
           "bgcolor": "white",
           "lakecolor": "white",
           "landcolor": "#E5ECF6",
           "showlakes": true,
           "showland": true,
           "subunitcolor": "white"
          },
          "hoverlabel": {
           "align": "left"
          },
          "hovermode": "closest",
          "mapbox": {
           "style": "light"
          },
          "paper_bgcolor": "white",
          "plot_bgcolor": "#E5ECF6",
          "polar": {
           "angularaxis": {
            "gridcolor": "white",
            "linecolor": "white",
            "ticks": ""
           },
           "bgcolor": "#E5ECF6",
           "radialaxis": {
            "gridcolor": "white",
            "linecolor": "white",
            "ticks": ""
           }
          },
          "scene": {
           "xaxis": {
            "backgroundcolor": "#E5ECF6",
            "gridcolor": "white",
            "gridwidth": 2,
            "linecolor": "white",
            "showbackground": true,
            "ticks": "",
            "zerolinecolor": "white"
           },
           "yaxis": {
            "backgroundcolor": "#E5ECF6",
            "gridcolor": "white",
            "gridwidth": 2,
            "linecolor": "white",
            "showbackground": true,
            "ticks": "",
            "zerolinecolor": "white"
           },
           "zaxis": {
            "backgroundcolor": "#E5ECF6",
            "gridcolor": "white",
            "gridwidth": 2,
            "linecolor": "white",
            "showbackground": true,
            "ticks": "",
            "zerolinecolor": "white"
           }
          },
          "shapedefaults": {
           "line": {
            "color": "#2a3f5f"
           }
          },
          "ternary": {
           "aaxis": {
            "gridcolor": "white",
            "linecolor": "white",
            "ticks": ""
           },
           "baxis": {
            "gridcolor": "white",
            "linecolor": "white",
            "ticks": ""
           },
           "bgcolor": "#E5ECF6",
           "caxis": {
            "gridcolor": "white",
            "linecolor": "white",
            "ticks": ""
           }
          },
          "title": {
           "x": 0.05
          },
          "xaxis": {
           "automargin": true,
           "gridcolor": "white",
           "linecolor": "white",
           "ticks": "",
           "title": {
            "standoff": 15
           },
           "zerolinecolor": "white",
           "zerolinewidth": 2
          },
          "yaxis": {
           "automargin": true,
           "gridcolor": "white",
           "linecolor": "white",
           "ticks": "",
           "title": {
            "standoff": 15
           },
           "zerolinecolor": "white",
           "zerolinewidth": 2
          }
         }
        },
        "title": {
         "text": "Formal",
         "x": 0.95,
         "y": 0.88
        },
        "updatemenus": [
         {
          "bgcolor": "#c9c7c7",
          "buttons": [
           {
            "args": [
             {
              "visible": [
               true,
               true,
               true,
               true,
               true,
               true,
               true,
               true,
               true,
               true,
               true,
               true,
               true,
               true,
               false,
               false,
               false,
               false,
               false,
               false,
               false,
               false,
               false,
               false,
               false,
               false,
               false,
               false,
               false,
               false,
               false,
               false,
               false,
               false,
               false,
               false,
               false,
               false,
               false,
               false,
               false,
               false
              ]
             },
             {
              "annotations": [
               {
                "align": "right",
                "font": {
                 "color": "black",
                 "size": 12
                },
                "showarrow": false,
                "text": "How much does this<br>person open up to you about<br>their personal experiences?",
                "x": 0.14,
                "xanchor": "right",
                "xref": "paper",
                "y": "How much does this<br>person open up to you about<br>their personal experiences?",
                "yref": "y"
               },
               {
                "font": {
                 "color": "#595959",
                 "size": 12
                },
                "showarrow": false,
                "text": "31.8%",
                "x": 15.9,
                "xref": "x",
                "y": "How much does this<br>person open up to you about<br>their personal experiences?",
                "yref": "y"
               },
               {
                "font": {
                 "color": "#595959",
                 "size": 12
                },
                "showarrow": false,
                "text": "13.3%",
                "x": 38.45,
                "xref": "x",
                "y": "How much does this<br>person open up to you about<br>their personal experiences?",
                "yref": "y"
               },
               {
                "font": {
                 "color": "#595959",
                 "size": 12
                },
                "showarrow": false,
                "text": "10.3%",
                "x": 50.25,
                "xref": "x",
                "y": "How much does this<br>person open up to you about<br>their personal experiences?",
                "yref": "y"
               },
               {
                "font": {
                 "color": "#595959",
                 "size": 12
                },
                "showarrow": false,
                "text": "17.1%",
                "x": 63.95,
                "xref": "x",
                "y": "How much does this<br>person open up to you about<br>their personal experiences?",
                "yref": "y"
               },
               {
                "font": {
                 "color": "#595959",
                 "size": 12
                },
                "showarrow": false,
                "text": "11.0%",
                "x": 78,
                "xref": "x",
                "y": "How much does this<br>person open up to you about<br>their personal experiences?",
                "yref": "y"
               },
               {
                "font": {
                 "color": "#595959",
                 "size": 12
                },
                "showarrow": false,
                "text": "9.9%",
                "x": 88.45,
                "xref": "x",
                "y": "How much does this<br>person open up to you about<br>their personal experiences?",
                "yref": "y"
               },
               {
                "font": {
                 "color": "#595959",
                 "size": 12
                },
                "showarrow": false,
                "text": "6.7%",
                "x": 96.75,
                "xref": "x",
                "y": "How much does this<br>person open up to you about<br>their personal experiences?",
                "yref": "y"
               },
               {
                "align": "right",
                "font": {
                 "color": "black",
                 "size": 12
                },
                "showarrow": false,
                "text": "How much can you<br>open up to this<br>person about your personal<br>experiences?",
                "x": 0.14,
                "xanchor": "right",
                "xref": "paper",
                "y": "How much can you<br>open up to this<br>person about your personal<br>experiences?",
                "yref": "y"
               },
               {
                "font": {
                 "color": "#595959",
                 "size": 12
                },
                "showarrow": false,
                "text": "5.9%",
                "x": 2.95,
                "xref": "x",
                "y": "How much can you<br>open up to this<br>person about your personal<br>experiences?",
                "yref": "y"
               },
               {
                "font": {
                 "color": "#595959",
                 "size": 12
                },
                "showarrow": false,
                "text": "10.5%",
                "x": 19.35,
                "xref": "x",
                "y": "How much can you<br>open up to this<br>person about your personal<br>experiences?",
                "yref": "y"
               },
               {
                "font": {
                 "color": "#595959",
                 "size": 12
                },
                "showarrow": false,
                "text": "18.2%",
                "x": 33.7,
                "xref": "x",
                "y": "How much can you<br>open up to this<br>person about your personal<br>experiences?",
                "yref": "y"
               },
               {
                "font": {
                 "color": "#595959",
                 "size": 12
                },
                "showarrow": false,
                "text": "25.1%",
                "x": 55.349999999999994,
                "xref": "x",
                "y": "How much can you<br>open up to this<br>person about your personal<br>experiences?",
                "yref": "y"
               },
               {
                "font": {
                 "color": "#595959",
                 "size": 12
                },
                "showarrow": false,
                "text": "32.3%",
                "x": 84.05000000000001,
                "xref": "x",
                "y": "How much can you<br>open up to this<br>person about your personal<br>experiences?",
                "yref": "y"
               }
              ],
              "title": "Formal"
             }
            ],
            "label": "Formal",
            "method": "update"
           },
           {
            "args": [
             {
              "visible": [
               false,
               false,
               false,
               false,
               false,
               false,
               false,
               false,
               false,
               false,
               false,
               false,
               false,
               false,
               true,
               true,
               true,
               true,
               true,
               true,
               true,
               true,
               true,
               true,
               true,
               true,
               true,
               true,
               false,
               false,
               false,
               false,
               false,
               false,
               false,
               false,
               false,
               false,
               false,
               false,
               false,
               false
              ]
             },
             {
              "annotations": [
               {
                "align": "right",
                "font": {
                 "color": "black",
                 "size": 12
                },
                "showarrow": false,
                "text": "How much does this<br>person open up to you about<br>their personal experiences?",
                "x": 0.14,
                "xanchor": "right",
                "xref": "paper",
                "y": "How much does this<br>person open up to you about<br>their personal experiences?",
                "yref": "y"
               },
               {
                "font": {
                 "color": "#595959",
                 "size": 12
                },
                "showarrow": false,
                "text": "5.3%",
                "x": 2.65,
                "xref": "x",
                "y": "How much does this<br>person open up to you about<br>their personal experiences?",
                "yref": "y"
               },
               {
                "font": {
                 "color": "#595959",
                 "size": 12
                },
                "showarrow": false,
                "text": "6.0%",
                "x": 8.3,
                "xref": "x",
                "y": "How much does this<br>person open up to you about<br>their personal experiences?",
                "yref": "y"
               },
               {
                "font": {
                 "color": "#595959",
                 "size": 12
                },
                "showarrow": false,
                "text": "5.5%",
                "x": 14.05,
                "xref": "x",
                "y": "How much does this<br>person open up to you about<br>their personal experiences?",
                "yref": "y"
               },
               {
                "font": {
                 "color": "#595959",
                 "size": 12
                },
                "showarrow": false,
                "text": "16.7%",
                "x": 25.15,
                "xref": "x",
                "y": "How much does this<br>person open up to you about<br>their personal experiences?",
                "yref": "y"
               },
               {
                "font": {
                 "color": "#595959",
                 "size": 12
                },
                "showarrow": false,
                "text": "18.5%",
                "x": 42.75,
                "xref": "x",
                "y": "How much does this<br>person open up to you about<br>their personal experiences?",
                "yref": "y"
               },
               {
                "font": {
                 "color": "#595959",
                 "size": 12
                },
                "showarrow": false,
                "text": "23.4%",
                "x": 63.7,
                "xref": "x",
                "y": "How much does this<br>person open up to you about<br>their personal experiences?",
                "yref": "y"
               },
               {
                "font": {
                 "color": "#595959",
                 "size": 12
                },
                "showarrow": false,
                "text": "24.6%",
                "x": 87.7,
                "xref": "x",
                "y": "How much does this<br>person open up to you about<br>their personal experiences?",
                "yref": "y"
               },
               {
                "align": "right",
                "font": {
                 "color": "black",
                 "size": 12
                },
                "showarrow": false,
                "text": "How much can you<br>open up to this<br>person about your personal<br>experiences?",
                "x": 0.14,
                "xanchor": "right",
                "xref": "paper",
                "y": "How much can you<br>open up to this<br>person about your personal<br>experiences?",
                "yref": "y"
               },
               {
                "font": {
                 "color": "#595959",
                 "size": 12
                },
                "showarrow": false,
                "text": "5.6%",
                "x": 2.8,
                "xref": "x",
                "y": "How much can you<br>open up to this<br>person about your personal<br>experiences?",
                "yref": "y"
               },
               {
                "font": {
                 "color": "#595959",
                 "size": 12
                },
                "showarrow": false,
                "text": "5.1%",
                "x": 12.25,
                "xref": "x",
                "y": "How much can you<br>open up to this<br>person about your personal<br>experiences?",
                "yref": "y"
               },
               {
                "font": {
                 "color": "#595959",
                 "size": 12
                },
                "showarrow": false,
                "text": "13.1%",
                "x": 21.349999999999998,
                "xref": "x",
                "y": "How much can you<br>open up to this<br>person about your personal<br>experiences?",
                "yref": "y"
               },
               {
                "font": {
                 "color": "#595959",
                 "size": 12
                },
                "showarrow": false,
                "text": "16.4%",
                "x": 36.099999999999994,
                "xref": "x",
                "y": "How much can you<br>open up to this<br>person about your personal<br>experiences?",
                "yref": "y"
               },
               {
                "font": {
                 "color": "#595959",
                 "size": 12
                },
                "showarrow": false,
                "text": "21.8%",
                "x": 55.199999999999996,
                "xref": "x",
                "y": "How much can you<br>open up to this<br>person about your personal<br>experiences?",
                "yref": "y"
               },
               {
                "font": {
                 "color": "#595959",
                 "size": 12
                },
                "showarrow": false,
                "text": "34.0%",
                "x": 83.1,
                "xref": "x",
                "y": "How much can you<br>open up to this<br>person about your personal<br>experiences?",
                "yref": "y"
               }
              ],
              "title": "Informal"
             }
            ],
            "label": "Informal",
            "method": "update"
           },
           {
            "args": [
             {
              "visible": [
               false,
               false,
               false,
               false,
               false,
               false,
               false,
               false,
               false,
               false,
               false,
               false,
               false,
               false,
               false,
               false,
               false,
               false,
               false,
               false,
               false,
               false,
               false,
               false,
               false,
               false,
               false,
               false,
               true,
               true,
               true,
               true,
               true,
               true,
               true,
               true,
               true,
               true,
               true,
               true,
               true,
               true
              ]
             },
             {
              "annotations": [
               {
                "align": "right",
                "font": {
                 "color": "black",
                 "size": 12
                },
                "showarrow": false,
                "text": "How much does this<br>person open up to you about<br>their personal experiences?",
                "x": 0.14,
                "xanchor": "right",
                "xref": "paper",
                "y": "How much does this<br>person open up to you about<br>their personal experiences?",
                "yref": "y"
               },
               {
                "font": {
                 "color": "#595959",
                 "size": 12
                },
                "showarrow": false,
                "text": "14.5%",
                "x": 11.65,
                "xref": "x",
                "y": "How much does this<br>person open up to you about<br>their personal experiences?",
                "yref": "y"
               },
               {
                "font": {
                 "color": "#595959",
                 "size": 12
                },
                "showarrow": false,
                "text": "17.4%",
                "x": 27.599999999999998,
                "xref": "x",
                "y": "How much does this<br>person open up to you about<br>their personal experiences?",
                "yref": "y"
               },
               {
                "font": {
                 "color": "#595959",
                 "size": 12
                },
                "showarrow": false,
                "text": "25.9%",
                "x": 49.25,
                "xref": "x",
                "y": "How much does this<br>person open up to you about<br>their personal experiences?",
                "yref": "y"
               },
               {
                "font": {
                 "color": "#595959",
                 "size": 12
                },
                "showarrow": false,
                "text": "37.9%",
                "x": 81.14999999999999,
                "xref": "x",
                "y": "How much does this<br>person open up to you about<br>their personal experiences?",
                "yref": "y"
               },
               {
                "align": "right",
                "font": {
                 "color": "black",
                 "size": 12
                },
                "showarrow": false,
                "text": "How much can you<br>open up to this<br>person about your personal<br>experiences?",
                "x": 0.14,
                "xanchor": "right",
                "xref": "paper",
                "y": "How much can you<br>open up to this<br>person about your personal<br>experiences?",
                "yref": "y"
               },
               {
                "font": {
                 "color": "#595959",
                 "size": 12
                },
                "showarrow": false,
                "text": "11.7%",
                "x": 9.05,
                "xref": "x",
                "y": "How much can you<br>open up to this<br>person about your personal<br>experiences?",
                "yref": "y"
               },
               {
                "font": {
                 "color": "#595959",
                 "size": 12
                },
                "showarrow": false,
                "text": "18.9%",
                "x": 24.349999999999998,
                "xref": "x",
                "y": "How much can you<br>open up to this<br>person about your personal<br>experiences?",
                "yref": "y"
               },
               {
                "font": {
                 "color": "#595959",
                 "size": 12
                },
                "showarrow": false,
                "text": "28.1%",
                "x": 47.849999999999994,
                "xref": "x",
                "y": "How much can you<br>open up to this<br>person about your personal<br>experiences?",
                "yref": "y"
               },
               {
                "font": {
                 "color": "#595959",
                 "size": 12
                },
                "showarrow": false,
                "text": "38.2%",
                "x": 81,
                "xref": "x",
                "y": "How much can you<br>open up to this<br>person about your personal<br>experiences?",
                "yref": "y"
               }
              ],
              "title": "Friend"
             }
            ],
            "label": "Friend",
            "method": "update"
           }
          ],
          "direction": "right",
          "showactive": true,
          "type": "buttons",
          "x": 0.684,
          "y": 1.3
         }
        ],
        "xaxis": {
         "domain": [
          0.15,
          1
         ],
         "showgrid": false,
         "showline": false,
         "showticklabels": false,
         "zeroline": false
        },
        "yaxis": {
         "showgrid": false,
         "showline": false,
         "showticklabels": false,
         "zeroline": false
        }
       }
      },
      "text/html": [
       "<div>\n",
       "        \n",
       "        \n",
       "            <div id=\"224b2d2e-41cc-4f5a-bd78-914778c058f4\" class=\"plotly-graph-div\" style=\"height:525px; width:100%;\"></div>\n",
       "            <script type=\"text/javascript\">\n",
       "                require([\"plotly\"], function(Plotly) {\n",
       "                    window.PLOTLYENV=window.PLOTLYENV || {};\n",
       "                    \n",
       "                if (document.getElementById(\"224b2d2e-41cc-4f5a-bd78-914778c058f4\")) {\n",
       "                    Plotly.newPlot(\n",
       "                        '224b2d2e-41cc-4f5a-bd78-914778c058f4',\n",
       "                        [{\"hovertemplate\": \"<b>%{x}%</b><extra></extra>\", \"marker\": {\"color\": \"#FF6478\"}, \"orientation\": \"h\", \"showlegend\": false, \"type\": \"bar\", \"x\": [31.8], \"y\": [\"How much does this<br>person open up to you about<br>their personal experiences?\"]}, {\"hovertemplate\": \"<b>%{x}%</b><extra></extra>\", \"marker\": {\"color\": \"#FF6478\"}, \"name\": \"Not at all\", \"orientation\": \"h\", \"showlegend\": true, \"type\": \"bar\", \"x\": [5.9], \"y\": [\"How much can you<br>open up to this<br>person about your personal<br>experiences?\"]}, {\"hovertemplate\": \"<b>%{x}%</b><extra></extra>\", \"marker\": {\"color\": \"#FF8477\"}, \"orientation\": \"h\", \"showlegend\": false, \"type\": \"bar\", \"x\": [13.3], \"y\": [\"How much does this<br>person open up to you about<br>their personal experiences?\"]}, {\"hovertemplate\": \"<b>%{x}%</b><extra></extra>\", \"marker\": {\"color\": \"#FF8477\"}, \"name\": \"Rarely\", \"orientation\": \"h\", \"showlegend\": true, \"type\": \"bar\", \"x\": [4.7], \"y\": [\"How much can you<br>open up to this<br>person about your personal<br>experiences?\"]}, {\"hovertemplate\": \"<b>%{x}%</b><extra></extra>\", \"marker\": {\"color\": \"#FF9F77\"}, \"orientation\": \"h\", \"showlegend\": false, \"type\": \"bar\", \"x\": [10.3], \"y\": [\"How much does this<br>person open up to you about<br>their personal experiences?\"]}, {\"hovertemplate\": \"<b>%{x}%</b><extra></extra>\", \"marker\": {\"color\": \"#FF9F77\"}, \"name\": \"Occasionally\", \"orientation\": \"h\", \"showlegend\": true, \"type\": \"bar\", \"x\": [3.5], \"y\": [\"How much can you<br>open up to this<br>person about your personal<br>experiences?\"]}, {\"hovertemplate\": \"<b>%{x}%</b><extra></extra>\", \"marker\": {\"color\": \"#FFB775\"}, \"orientation\": \"h\", \"showlegend\": false, \"type\": \"bar\", \"x\": [17.1], \"y\": [\"How much does this<br>person open up to you about<br>their personal experiences?\"]}, {\"hovertemplate\": \"<b>%{x}%</b><extra></extra>\", \"marker\": {\"color\": \"#FFB775\"}, \"name\": \"Sometimes\", \"orientation\": \"h\", \"showlegend\": true, \"type\": \"bar\", \"x\": [10.5], \"y\": [\"How much can you<br>open up to this<br>person about your personal<br>experiences?\"]}, {\"hovertemplate\": \"<b>%{x}%</b><extra></extra>\", \"marker\": {\"color\": \"#BCF0C2\"}, \"orientation\": \"h\", \"showlegend\": false, \"type\": \"bar\", \"x\": [11.0], \"y\": [\"How much does this<br>person open up to you about<br>their personal experiences?\"]}, {\"hovertemplate\": \"<b>%{x}%</b><extra></extra>\", \"marker\": {\"color\": \"#BCF0C2\"}, \"name\": \"???\", \"orientation\": \"h\", \"showlegend\": true, \"type\": \"bar\", \"x\": [18.2], \"y\": [\"How much can you<br>open up to this<br>person about your personal<br>experiences?\"]}, {\"hovertemplate\": \"<b>%{x}%</b><extra></extra>\", \"marker\": {\"color\": \"#8BE595\"}, \"orientation\": \"h\", \"showlegend\": false, \"type\": \"bar\", \"x\": [9.9], \"y\": [\"How much does this<br>person open up to you about<br>their personal experiences?\"]}, {\"hovertemplate\": \"<b>%{x}%</b><extra></extra>\", \"marker\": {\"color\": \"#8BE595\"}, \"name\": \"Often\", \"orientation\": \"h\", \"showlegend\": true, \"type\": \"bar\", \"x\": [25.1], \"y\": [\"How much can you<br>open up to this<br>person about your personal<br>experiences?\"]}, {\"hovertemplate\": \"<b>%{x}%</b><extra></extra>\", \"marker\": {\"color\": \"#56DA65\"}, \"orientation\": \"h\", \"showlegend\": false, \"type\": \"bar\", \"x\": [6.7], \"y\": [\"How much does this<br>person open up to you about<br>their personal experiences?\"]}, {\"hovertemplate\": \"<b>%{x}%</b><extra></extra>\", \"marker\": {\"color\": \"#56DA65\"}, \"name\": \"A lot\", \"orientation\": \"h\", \"showlegend\": true, \"type\": \"bar\", \"x\": [32.3], \"y\": [\"How much can you<br>open up to this<br>person about your personal<br>experiences?\"]}, {\"hovertemplate\": \"<b>%{x}%</b><extra></extra>\", \"marker\": {\"color\": \"#FF6478\"}, \"orientation\": \"h\", \"showlegend\": false, \"type\": \"bar\", \"visible\": false, \"x\": [5.3], \"y\": [\"How much does this<br>person open up to you about<br>their personal experiences?\"]}, {\"hovertemplate\": \"<b>%{x}%</b><extra></extra>\", \"marker\": {\"color\": \"#FF6478\"}, \"name\": \"Not at all\", \"orientation\": \"h\", \"showlegend\": true, \"type\": \"bar\", \"visible\": false, \"x\": [5.6], \"y\": [\"How much can you<br>open up to this<br>person about your personal<br>experiences?\"]}, {\"hovertemplate\": \"<b>%{x}%</b><extra></extra>\", \"marker\": {\"color\": \"#FF8477\"}, \"orientation\": \"h\", \"showlegend\": false, \"type\": \"bar\", \"visible\": false, \"x\": [6.0], \"y\": [\"How much does this<br>person open up to you about<br>their personal experiences?\"]}, {\"hovertemplate\": \"<b>%{x}%</b><extra></extra>\", \"marker\": {\"color\": \"#FF8477\"}, \"name\": \"Rarely\", \"orientation\": \"h\", \"showlegend\": true, \"type\": \"bar\", \"visible\": false, \"x\": [4.1], \"y\": [\"How much can you<br>open up to this<br>person about your personal<br>experiences?\"]}, {\"hovertemplate\": \"<b>%{x}%</b><extra></extra>\", \"marker\": {\"color\": \"#FF9F77\"}, \"orientation\": \"h\", \"showlegend\": false, \"type\": \"bar\", \"visible\": false, \"x\": [5.5], \"y\": [\"How much does this<br>person open up to you about<br>their personal experiences?\"]}, {\"hovertemplate\": \"<b>%{x}%</b><extra></extra>\", \"marker\": {\"color\": \"#FF9F77\"}, \"name\": \"Occasionally\", \"orientation\": \"h\", \"showlegend\": true, \"type\": \"bar\", \"visible\": false, \"x\": [5.1], \"y\": [\"How much can you<br>open up to this<br>person about your personal<br>experiences?\"]}, {\"hovertemplate\": \"<b>%{x}%</b><extra></extra>\", \"marker\": {\"color\": \"#FFB775\"}, \"orientation\": \"h\", \"showlegend\": false, \"type\": \"bar\", \"visible\": false, \"x\": [16.7], \"y\": [\"How much does this<br>person open up to you about<br>their personal experiences?\"]}, {\"hovertemplate\": \"<b>%{x}%</b><extra></extra>\", \"marker\": {\"color\": \"#FFB775\"}, \"name\": \"Sometimes\", \"orientation\": \"h\", \"showlegend\": true, \"type\": \"bar\", \"visible\": false, \"x\": [13.1], \"y\": [\"How much can you<br>open up to this<br>person about your personal<br>experiences?\"]}, {\"hovertemplate\": \"<b>%{x}%</b><extra></extra>\", \"marker\": {\"color\": \"#BCF0C2\"}, \"orientation\": \"h\", \"showlegend\": false, \"type\": \"bar\", \"visible\": false, \"x\": [18.5], \"y\": [\"How much does this<br>person open up to you about<br>their personal experiences?\"]}, {\"hovertemplate\": \"<b>%{x}%</b><extra></extra>\", \"marker\": {\"color\": \"#BCF0C2\"}, \"name\": \"???\", \"orientation\": \"h\", \"showlegend\": true, \"type\": \"bar\", \"visible\": false, \"x\": [16.4], \"y\": [\"How much can you<br>open up to this<br>person about your personal<br>experiences?\"]}, {\"hovertemplate\": \"<b>%{x}%</b><extra></extra>\", \"marker\": {\"color\": \"#8BE595\"}, \"orientation\": \"h\", \"showlegend\": false, \"type\": \"bar\", \"visible\": false, \"x\": [23.4], \"y\": [\"How much does this<br>person open up to you about<br>their personal experiences?\"]}, {\"hovertemplate\": \"<b>%{x}%</b><extra></extra>\", \"marker\": {\"color\": \"#8BE595\"}, \"name\": \"Often\", \"orientation\": \"h\", \"showlegend\": true, \"type\": \"bar\", \"visible\": false, \"x\": [21.8], \"y\": [\"How much can you<br>open up to this<br>person about your personal<br>experiences?\"]}, {\"hovertemplate\": \"<b>%{x}%</b><extra></extra>\", \"marker\": {\"color\": \"#56DA65\"}, \"orientation\": \"h\", \"showlegend\": false, \"type\": \"bar\", \"visible\": false, \"x\": [24.6], \"y\": [\"How much does this<br>person open up to you about<br>their personal experiences?\"]}, {\"hovertemplate\": \"<b>%{x}%</b><extra></extra>\", \"marker\": {\"color\": \"#56DA65\"}, \"name\": \"A lot\", \"orientation\": \"h\", \"showlegend\": true, \"type\": \"bar\", \"visible\": false, \"x\": [34.0], \"y\": [\"How much can you<br>open up to this<br>person about your personal<br>experiences?\"]}, {\"hovertemplate\": \"<b>%{x}%</b><extra></extra>\", \"marker\": {\"color\": \"#FF6478\"}, \"orientation\": \"h\", \"showlegend\": false, \"type\": \"bar\", \"visible\": false, \"x\": [0.6], \"y\": [\"How much does this<br>person open up to you about<br>their personal experiences?\"]}, {\"hovertemplate\": \"<b>%{x}%</b><extra></extra>\", \"marker\": {\"color\": \"#FF6478\"}, \"name\": \"Not at all\", \"orientation\": \"h\", \"showlegend\": true, \"type\": \"bar\", \"visible\": false, \"x\": [0.3], \"y\": [\"How much can you<br>open up to this<br>person about your personal<br>experiences?\"]}, {\"hovertemplate\": \"<b>%{x}%</b><extra></extra>\", \"marker\": {\"color\": \"#FF8477\"}, \"orientation\": \"h\", \"showlegend\": false, \"type\": \"bar\", \"visible\": false, \"x\": [1.3], \"y\": [\"How much does this<br>person open up to you about<br>their personal experiences?\"]}, {\"hovertemplate\": \"<b>%{x}%</b><extra></extra>\", \"marker\": {\"color\": \"#FF8477\"}, \"name\": \"Rarely\", \"orientation\": \"h\", \"showlegend\": true, \"type\": \"bar\", \"visible\": false, \"x\": [1.6], \"y\": [\"How much can you<br>open up to this<br>person about your personal<br>experiences?\"]}, {\"hovertemplate\": \"<b>%{x}%</b><extra></extra>\", \"marker\": {\"color\": \"#FF9F77\"}, \"orientation\": \"h\", \"showlegend\": false, \"type\": \"bar\", \"visible\": false, \"x\": [2.5], \"y\": [\"How much does this<br>person open up to you about<br>their personal experiences?\"]}, {\"hovertemplate\": \"<b>%{x}%</b><extra></extra>\", \"marker\": {\"color\": \"#FF9F77\"}, \"name\": \"Occasionally\", \"orientation\": \"h\", \"showlegend\": true, \"type\": \"bar\", \"visible\": false, \"x\": [1.3], \"y\": [\"How much can you<br>open up to this<br>person about your personal<br>experiences?\"]}, {\"hovertemplate\": \"<b>%{x}%</b><extra></extra>\", \"marker\": {\"color\": \"#FFB775\"}, \"orientation\": \"h\", \"showlegend\": false, \"type\": \"bar\", \"visible\": false, \"x\": [14.5], \"y\": [\"How much does this<br>person open up to you about<br>their personal experiences?\"]}, {\"hovertemplate\": \"<b>%{x}%</b><extra></extra>\", \"marker\": {\"color\": \"#FFB775\"}, \"name\": \"Sometimes\", \"orientation\": \"h\", \"showlegend\": true, \"type\": \"bar\", \"visible\": false, \"x\": [11.7], \"y\": [\"How much can you<br>open up to this<br>person about your personal<br>experiences?\"]}, {\"hovertemplate\": \"<b>%{x}%</b><extra></extra>\", \"marker\": {\"color\": \"#BCF0C2\"}, \"orientation\": \"h\", \"showlegend\": false, \"type\": \"bar\", \"visible\": false, \"x\": [17.4], \"y\": [\"How much does this<br>person open up to you about<br>their personal experiences?\"]}, {\"hovertemplate\": \"<b>%{x}%</b><extra></extra>\", \"marker\": {\"color\": \"#BCF0C2\"}, \"name\": \"???\", \"orientation\": \"h\", \"showlegend\": true, \"type\": \"bar\", \"visible\": false, \"x\": [18.9], \"y\": [\"How much can you<br>open up to this<br>person about your personal<br>experiences?\"]}, {\"hovertemplate\": \"<b>%{x}%</b><extra></extra>\", \"marker\": {\"color\": \"#8BE595\"}, \"orientation\": \"h\", \"showlegend\": false, \"type\": \"bar\", \"visible\": false, \"x\": [25.9], \"y\": [\"How much does this<br>person open up to you about<br>their personal experiences?\"]}, {\"hovertemplate\": \"<b>%{x}%</b><extra></extra>\", \"marker\": {\"color\": \"#8BE595\"}, \"name\": \"Often\", \"orientation\": \"h\", \"showlegend\": true, \"type\": \"bar\", \"visible\": false, \"x\": [28.1], \"y\": [\"How much can you<br>open up to this<br>person about your personal<br>experiences?\"]}, {\"hovertemplate\": \"<b>%{x}%</b><extra></extra>\", \"marker\": {\"color\": \"#56DA65\"}, \"orientation\": \"h\", \"showlegend\": false, \"type\": \"bar\", \"visible\": false, \"x\": [37.9], \"y\": [\"How much does this<br>person open up to you about<br>their personal experiences?\"]}, {\"hovertemplate\": \"<b>%{x}%</b><extra></extra>\", \"marker\": {\"color\": \"#56DA65\"}, \"name\": \"A lot\", \"orientation\": \"h\", \"showlegend\": true, \"type\": \"bar\", \"visible\": false, \"x\": [38.2], \"y\": [\"How much can you<br>open up to this<br>person about your personal<br>experiences?\"]}],\n",
       "                        {\"annotations\": [{\"align\": \"right\", \"font\": {\"color\": \"black\", \"size\": 12}, \"showarrow\": false, \"text\": \"How much does this<br>person open up to you about<br>their personal experiences?\", \"x\": 0.14, \"xanchor\": \"right\", \"xref\": \"paper\", \"y\": \"How much does this<br>person open up to you about<br>their personal experiences?\", \"yref\": \"y\"}, {\"font\": {\"color\": \"#595959\", \"size\": 12}, \"showarrow\": false, \"text\": \"31.8%\", \"x\": 15.9, \"xref\": \"x\", \"y\": \"How much does this<br>person open up to you about<br>their personal experiences?\", \"yref\": \"y\"}, {\"font\": {\"color\": \"#595959\", \"size\": 12}, \"showarrow\": false, \"text\": \"13.3%\", \"x\": 38.45, \"xref\": \"x\", \"y\": \"How much does this<br>person open up to you about<br>their personal experiences?\", \"yref\": \"y\"}, {\"font\": {\"color\": \"#595959\", \"size\": 12}, \"showarrow\": false, \"text\": \"10.3%\", \"x\": 50.25, \"xref\": \"x\", \"y\": \"How much does this<br>person open up to you about<br>their personal experiences?\", \"yref\": \"y\"}, {\"font\": {\"color\": \"#595959\", \"size\": 12}, \"showarrow\": false, \"text\": \"17.1%\", \"x\": 63.95, \"xref\": \"x\", \"y\": \"How much does this<br>person open up to you about<br>their personal experiences?\", \"yref\": \"y\"}, {\"font\": {\"color\": \"#595959\", \"size\": 12}, \"showarrow\": false, \"text\": \"11.0%\", \"x\": 78.0, \"xref\": \"x\", \"y\": \"How much does this<br>person open up to you about<br>their personal experiences?\", \"yref\": \"y\"}, {\"font\": {\"color\": \"#595959\", \"size\": 12}, \"showarrow\": false, \"text\": \"9.9%\", \"x\": 88.45, \"xref\": \"x\", \"y\": \"How much does this<br>person open up to you about<br>their personal experiences?\", \"yref\": \"y\"}, {\"font\": {\"color\": \"#595959\", \"size\": 12}, \"showarrow\": false, \"text\": \"6.7%\", \"x\": 96.75, \"xref\": \"x\", \"y\": \"How much does this<br>person open up to you about<br>their personal experiences?\", \"yref\": \"y\"}, {\"align\": \"right\", \"font\": {\"color\": \"black\", \"size\": 12}, \"showarrow\": false, \"text\": \"How much can you<br>open up to this<br>person about your personal<br>experiences?\", \"x\": 0.14, \"xanchor\": \"right\", \"xref\": \"paper\", \"y\": \"How much can you<br>open up to this<br>person about your personal<br>experiences?\", \"yref\": \"y\"}, {\"font\": {\"color\": \"#595959\", \"size\": 12}, \"showarrow\": false, \"text\": \"5.9%\", \"x\": 2.95, \"xref\": \"x\", \"y\": \"How much can you<br>open up to this<br>person about your personal<br>experiences?\", \"yref\": \"y\"}, {\"font\": {\"color\": \"#595959\", \"size\": 12}, \"showarrow\": false, \"text\": \"10.5%\", \"x\": 19.35, \"xref\": \"x\", \"y\": \"How much can you<br>open up to this<br>person about your personal<br>experiences?\", \"yref\": \"y\"}, {\"font\": {\"color\": \"#595959\", \"size\": 12}, \"showarrow\": false, \"text\": \"18.2%\", \"x\": 33.7, \"xref\": \"x\", \"y\": \"How much can you<br>open up to this<br>person about your personal<br>experiences?\", \"yref\": \"y\"}, {\"font\": {\"color\": \"#595959\", \"size\": 12}, \"showarrow\": false, \"text\": \"25.1%\", \"x\": 55.349999999999994, \"xref\": \"x\", \"y\": \"How much can you<br>open up to this<br>person about your personal<br>experiences?\", \"yref\": \"y\"}, {\"font\": {\"color\": \"#595959\", \"size\": 12}, \"showarrow\": false, \"text\": \"32.3%\", \"x\": 84.05000000000001, \"xref\": \"x\", \"y\": \"How much can you<br>open up to this<br>person about your personal<br>experiences?\", \"yref\": \"y\"}], \"barmode\": \"stack\", \"font\": {\"color\": \"black\", \"size\": 12}, \"legend\": {\"itemclick\": false, \"orientation\": \"h\", \"traceorder\": \"normal\", \"x\": 0.94, \"xanchor\": \"right\", \"y\": 1.02, \"yanchor\": \"bottom\"}, \"margin\": {\"b\": 80, \"l\": 120, \"r\": 10, \"t\": 140}, \"paper_bgcolor\": \"rgb(248, 248, 255)\", \"plot_bgcolor\": \"rgb(248, 248, 255)\", \"template\": {\"data\": {\"bar\": [{\"error_x\": {\"color\": \"#2a3f5f\"}, \"error_y\": {\"color\": \"#2a3f5f\"}, \"marker\": {\"line\": {\"color\": \"#E5ECF6\", \"width\": 0.5}}, \"type\": \"bar\"}], \"barpolar\": [{\"marker\": {\"line\": {\"color\": \"#E5ECF6\", \"width\": 0.5}}, \"type\": \"barpolar\"}], \"carpet\": [{\"aaxis\": {\"endlinecolor\": \"#2a3f5f\", \"gridcolor\": \"white\", \"linecolor\": \"white\", \"minorgridcolor\": \"white\", \"startlinecolor\": \"#2a3f5f\"}, \"baxis\": {\"endlinecolor\": \"#2a3f5f\", \"gridcolor\": \"white\", \"linecolor\": \"white\", \"minorgridcolor\": \"white\", \"startlinecolor\": \"#2a3f5f\"}, \"type\": \"carpet\"}], \"choropleth\": [{\"colorbar\": {\"outlinewidth\": 0, \"ticks\": \"\"}, \"type\": \"choropleth\"}], \"contour\": [{\"colorbar\": {\"outlinewidth\": 0, \"ticks\": \"\"}, \"colorscale\": [[0.0, \"#0d0887\"], [0.1111111111111111, \"#46039f\"], [0.2222222222222222, \"#7201a8\"], [0.3333333333333333, \"#9c179e\"], [0.4444444444444444, \"#bd3786\"], [0.5555555555555556, \"#d8576b\"], [0.6666666666666666, \"#ed7953\"], [0.7777777777777778, \"#fb9f3a\"], [0.8888888888888888, \"#fdca26\"], [1.0, \"#f0f921\"]], \"type\": \"contour\"}], \"contourcarpet\": [{\"colorbar\": {\"outlinewidth\": 0, \"ticks\": \"\"}, \"type\": \"contourcarpet\"}], \"heatmap\": [{\"colorbar\": {\"outlinewidth\": 0, \"ticks\": \"\"}, \"colorscale\": [[0.0, \"#0d0887\"], [0.1111111111111111, \"#46039f\"], [0.2222222222222222, \"#7201a8\"], [0.3333333333333333, \"#9c179e\"], [0.4444444444444444, \"#bd3786\"], [0.5555555555555556, \"#d8576b\"], [0.6666666666666666, \"#ed7953\"], [0.7777777777777778, \"#fb9f3a\"], [0.8888888888888888, \"#fdca26\"], [1.0, \"#f0f921\"]], \"type\": \"heatmap\"}], \"heatmapgl\": [{\"colorbar\": {\"outlinewidth\": 0, \"ticks\": \"\"}, \"colorscale\": [[0.0, \"#0d0887\"], [0.1111111111111111, \"#46039f\"], [0.2222222222222222, \"#7201a8\"], [0.3333333333333333, \"#9c179e\"], [0.4444444444444444, \"#bd3786\"], [0.5555555555555556, \"#d8576b\"], [0.6666666666666666, \"#ed7953\"], [0.7777777777777778, \"#fb9f3a\"], [0.8888888888888888, \"#fdca26\"], [1.0, \"#f0f921\"]], \"type\": \"heatmapgl\"}], \"histogram\": [{\"marker\": {\"colorbar\": {\"outlinewidth\": 0, \"ticks\": \"\"}}, \"type\": \"histogram\"}], \"histogram2d\": [{\"colorbar\": {\"outlinewidth\": 0, \"ticks\": \"\"}, \"colorscale\": [[0.0, \"#0d0887\"], [0.1111111111111111, \"#46039f\"], [0.2222222222222222, \"#7201a8\"], [0.3333333333333333, \"#9c179e\"], [0.4444444444444444, \"#bd3786\"], [0.5555555555555556, \"#d8576b\"], [0.6666666666666666, \"#ed7953\"], [0.7777777777777778, \"#fb9f3a\"], [0.8888888888888888, \"#fdca26\"], [1.0, \"#f0f921\"]], \"type\": \"histogram2d\"}], \"histogram2dcontour\": [{\"colorbar\": {\"outlinewidth\": 0, \"ticks\": \"\"}, \"colorscale\": [[0.0, \"#0d0887\"], [0.1111111111111111, \"#46039f\"], [0.2222222222222222, \"#7201a8\"], [0.3333333333333333, \"#9c179e\"], [0.4444444444444444, \"#bd3786\"], [0.5555555555555556, \"#d8576b\"], [0.6666666666666666, \"#ed7953\"], [0.7777777777777778, \"#fb9f3a\"], [0.8888888888888888, \"#fdca26\"], [1.0, \"#f0f921\"]], \"type\": \"histogram2dcontour\"}], \"mesh3d\": [{\"colorbar\": {\"outlinewidth\": 0, \"ticks\": \"\"}, \"type\": \"mesh3d\"}], \"parcoords\": [{\"line\": {\"colorbar\": {\"outlinewidth\": 0, \"ticks\": \"\"}}, \"type\": \"parcoords\"}], \"pie\": [{\"automargin\": true, \"type\": \"pie\"}], \"scatter\": [{\"marker\": {\"colorbar\": {\"outlinewidth\": 0, \"ticks\": \"\"}}, \"type\": \"scatter\"}], \"scatter3d\": [{\"line\": {\"colorbar\": {\"outlinewidth\": 0, \"ticks\": \"\"}}, \"marker\": {\"colorbar\": {\"outlinewidth\": 0, \"ticks\": \"\"}}, \"type\": \"scatter3d\"}], \"scattercarpet\": [{\"marker\": {\"colorbar\": {\"outlinewidth\": 0, \"ticks\": \"\"}}, \"type\": \"scattercarpet\"}], \"scattergeo\": [{\"marker\": {\"colorbar\": {\"outlinewidth\": 0, \"ticks\": \"\"}}, \"type\": \"scattergeo\"}], \"scattergl\": [{\"marker\": {\"colorbar\": {\"outlinewidth\": 0, \"ticks\": \"\"}}, \"type\": \"scattergl\"}], \"scattermapbox\": [{\"marker\": {\"colorbar\": {\"outlinewidth\": 0, \"ticks\": \"\"}}, \"type\": \"scattermapbox\"}], \"scatterpolar\": [{\"marker\": {\"colorbar\": {\"outlinewidth\": 0, \"ticks\": \"\"}}, \"type\": \"scatterpolar\"}], \"scatterpolargl\": [{\"marker\": {\"colorbar\": {\"outlinewidth\": 0, \"ticks\": \"\"}}, \"type\": \"scatterpolargl\"}], \"scatterternary\": [{\"marker\": {\"colorbar\": {\"outlinewidth\": 0, \"ticks\": \"\"}}, \"type\": \"scatterternary\"}], \"surface\": [{\"colorbar\": {\"outlinewidth\": 0, \"ticks\": \"\"}, \"colorscale\": [[0.0, \"#0d0887\"], [0.1111111111111111, \"#46039f\"], [0.2222222222222222, \"#7201a8\"], [0.3333333333333333, \"#9c179e\"], [0.4444444444444444, \"#bd3786\"], [0.5555555555555556, \"#d8576b\"], [0.6666666666666666, \"#ed7953\"], [0.7777777777777778, \"#fb9f3a\"], [0.8888888888888888, \"#fdca26\"], [1.0, \"#f0f921\"]], \"type\": \"surface\"}], \"table\": [{\"cells\": {\"fill\": {\"color\": \"#EBF0F8\"}, \"line\": {\"color\": \"white\"}}, \"header\": {\"fill\": {\"color\": \"#C8D4E3\"}, \"line\": {\"color\": \"white\"}}, \"type\": \"table\"}]}, \"layout\": {\"annotationdefaults\": {\"arrowcolor\": \"#2a3f5f\", \"arrowhead\": 0, \"arrowwidth\": 1}, \"coloraxis\": {\"colorbar\": {\"outlinewidth\": 0, \"ticks\": \"\"}}, \"colorscale\": {\"diverging\": [[0, \"#8e0152\"], [0.1, \"#c51b7d\"], [0.2, \"#de77ae\"], [0.3, \"#f1b6da\"], [0.4, \"#fde0ef\"], [0.5, \"#f7f7f7\"], [0.6, \"#e6f5d0\"], [0.7, \"#b8e186\"], [0.8, \"#7fbc41\"], [0.9, \"#4d9221\"], [1, \"#276419\"]], \"sequential\": [[0.0, \"#0d0887\"], [0.1111111111111111, \"#46039f\"], [0.2222222222222222, \"#7201a8\"], [0.3333333333333333, \"#9c179e\"], [0.4444444444444444, \"#bd3786\"], [0.5555555555555556, \"#d8576b\"], [0.6666666666666666, \"#ed7953\"], [0.7777777777777778, \"#fb9f3a\"], [0.8888888888888888, \"#fdca26\"], [1.0, \"#f0f921\"]], \"sequentialminus\": [[0.0, \"#0d0887\"], [0.1111111111111111, \"#46039f\"], [0.2222222222222222, \"#7201a8\"], [0.3333333333333333, \"#9c179e\"], [0.4444444444444444, \"#bd3786\"], [0.5555555555555556, \"#d8576b\"], [0.6666666666666666, \"#ed7953\"], [0.7777777777777778, \"#fb9f3a\"], [0.8888888888888888, \"#fdca26\"], [1.0, \"#f0f921\"]]}, \"colorway\": [\"#636efa\", \"#EF553B\", \"#00cc96\", \"#ab63fa\", \"#FFA15A\", \"#19d3f3\", \"#FF6692\", \"#B6E880\", \"#FF97FF\", \"#FECB52\"], \"font\": {\"color\": \"#2a3f5f\"}, \"geo\": {\"bgcolor\": \"white\", \"lakecolor\": \"white\", \"landcolor\": \"#E5ECF6\", \"showlakes\": true, \"showland\": true, \"subunitcolor\": \"white\"}, \"hoverlabel\": {\"align\": \"left\"}, \"hovermode\": \"closest\", \"mapbox\": {\"style\": \"light\"}, \"paper_bgcolor\": \"white\", \"plot_bgcolor\": \"#E5ECF6\", \"polar\": {\"angularaxis\": {\"gridcolor\": \"white\", \"linecolor\": \"white\", \"ticks\": \"\"}, \"bgcolor\": \"#E5ECF6\", \"radialaxis\": {\"gridcolor\": \"white\", \"linecolor\": \"white\", \"ticks\": \"\"}}, \"scene\": {\"xaxis\": {\"backgroundcolor\": \"#E5ECF6\", \"gridcolor\": \"white\", \"gridwidth\": 2, \"linecolor\": \"white\", \"showbackground\": true, \"ticks\": \"\", \"zerolinecolor\": \"white\"}, \"yaxis\": {\"backgroundcolor\": \"#E5ECF6\", \"gridcolor\": \"white\", \"gridwidth\": 2, \"linecolor\": \"white\", \"showbackground\": true, \"ticks\": \"\", \"zerolinecolor\": \"white\"}, \"zaxis\": {\"backgroundcolor\": \"#E5ECF6\", \"gridcolor\": \"white\", \"gridwidth\": 2, \"linecolor\": \"white\", \"showbackground\": true, \"ticks\": \"\", \"zerolinecolor\": \"white\"}}, \"shapedefaults\": {\"line\": {\"color\": \"#2a3f5f\"}}, \"ternary\": {\"aaxis\": {\"gridcolor\": \"white\", \"linecolor\": \"white\", \"ticks\": \"\"}, \"baxis\": {\"gridcolor\": \"white\", \"linecolor\": \"white\", \"ticks\": \"\"}, \"bgcolor\": \"#E5ECF6\", \"caxis\": {\"gridcolor\": \"white\", \"linecolor\": \"white\", \"ticks\": \"\"}}, \"title\": {\"x\": 0.05}, \"xaxis\": {\"automargin\": true, \"gridcolor\": \"white\", \"linecolor\": \"white\", \"ticks\": \"\", \"title\": {\"standoff\": 15}, \"zerolinecolor\": \"white\", \"zerolinewidth\": 2}, \"yaxis\": {\"automargin\": true, \"gridcolor\": \"white\", \"linecolor\": \"white\", \"ticks\": \"\", \"title\": {\"standoff\": 15}, \"zerolinecolor\": \"white\", \"zerolinewidth\": 2}}}, \"title\": {\"text\": \"Formal\", \"x\": 0.95, \"y\": 0.88}, \"updatemenus\": [{\"bgcolor\": \"#c9c7c7\", \"buttons\": [{\"args\": [{\"visible\": [true, true, true, true, true, true, true, true, true, true, true, true, true, true, false, false, false, false, false, false, false, false, false, false, false, false, false, false, false, false, false, false, false, false, false, false, false, false, false, false, false, false]}, {\"annotations\": [{\"align\": \"right\", \"font\": {\"color\": \"black\", \"size\": 12}, \"showarrow\": false, \"text\": \"How much does this<br>person open up to you about<br>their personal experiences?\", \"x\": 0.14, \"xanchor\": \"right\", \"xref\": \"paper\", \"y\": \"How much does this<br>person open up to you about<br>their personal experiences?\", \"yref\": \"y\"}, {\"font\": {\"color\": \"#595959\", \"size\": 12}, \"showarrow\": false, \"text\": \"31.8%\", \"x\": 15.9, \"xref\": \"x\", \"y\": \"How much does this<br>person open up to you about<br>their personal experiences?\", \"yref\": \"y\"}, {\"font\": {\"color\": \"#595959\", \"size\": 12}, \"showarrow\": false, \"text\": \"13.3%\", \"x\": 38.45, \"xref\": \"x\", \"y\": \"How much does this<br>person open up to you about<br>their personal experiences?\", \"yref\": \"y\"}, {\"font\": {\"color\": \"#595959\", \"size\": 12}, \"showarrow\": false, \"text\": \"10.3%\", \"x\": 50.25, \"xref\": \"x\", \"y\": \"How much does this<br>person open up to you about<br>their personal experiences?\", \"yref\": \"y\"}, {\"font\": {\"color\": \"#595959\", \"size\": 12}, \"showarrow\": false, \"text\": \"17.1%\", \"x\": 63.95, \"xref\": \"x\", \"y\": \"How much does this<br>person open up to you about<br>their personal experiences?\", \"yref\": \"y\"}, {\"font\": {\"color\": \"#595959\", \"size\": 12}, \"showarrow\": false, \"text\": \"11.0%\", \"x\": 78.0, \"xref\": \"x\", \"y\": \"How much does this<br>person open up to you about<br>their personal experiences?\", \"yref\": \"y\"}, {\"font\": {\"color\": \"#595959\", \"size\": 12}, \"showarrow\": false, \"text\": \"9.9%\", \"x\": 88.45, \"xref\": \"x\", \"y\": \"How much does this<br>person open up to you about<br>their personal experiences?\", \"yref\": \"y\"}, {\"font\": {\"color\": \"#595959\", \"size\": 12}, \"showarrow\": false, \"text\": \"6.7%\", \"x\": 96.75, \"xref\": \"x\", \"y\": \"How much does this<br>person open up to you about<br>their personal experiences?\", \"yref\": \"y\"}, {\"align\": \"right\", \"font\": {\"color\": \"black\", \"size\": 12}, \"showarrow\": false, \"text\": \"How much can you<br>open up to this<br>person about your personal<br>experiences?\", \"x\": 0.14, \"xanchor\": \"right\", \"xref\": \"paper\", \"y\": \"How much can you<br>open up to this<br>person about your personal<br>experiences?\", \"yref\": \"y\"}, {\"font\": {\"color\": \"#595959\", \"size\": 12}, \"showarrow\": false, \"text\": \"5.9%\", \"x\": 2.95, \"xref\": \"x\", \"y\": \"How much can you<br>open up to this<br>person about your personal<br>experiences?\", \"yref\": \"y\"}, {\"font\": {\"color\": \"#595959\", \"size\": 12}, \"showarrow\": false, \"text\": \"10.5%\", \"x\": 19.35, \"xref\": \"x\", \"y\": \"How much can you<br>open up to this<br>person about your personal<br>experiences?\", \"yref\": \"y\"}, {\"font\": {\"color\": \"#595959\", \"size\": 12}, \"showarrow\": false, \"text\": \"18.2%\", \"x\": 33.7, \"xref\": \"x\", \"y\": \"How much can you<br>open up to this<br>person about your personal<br>experiences?\", \"yref\": \"y\"}, {\"font\": {\"color\": \"#595959\", \"size\": 12}, \"showarrow\": false, \"text\": \"25.1%\", \"x\": 55.349999999999994, \"xref\": \"x\", \"y\": \"How much can you<br>open up to this<br>person about your personal<br>experiences?\", \"yref\": \"y\"}, {\"font\": {\"color\": \"#595959\", \"size\": 12}, \"showarrow\": false, \"text\": \"32.3%\", \"x\": 84.05000000000001, \"xref\": \"x\", \"y\": \"How much can you<br>open up to this<br>person about your personal<br>experiences?\", \"yref\": \"y\"}], \"title\": \"Formal\"}], \"label\": \"Formal\", \"method\": \"update\"}, {\"args\": [{\"visible\": [false, false, false, false, false, false, false, false, false, false, false, false, false, false, true, true, true, true, true, true, true, true, true, true, true, true, true, true, false, false, false, false, false, false, false, false, false, false, false, false, false, false]}, {\"annotations\": [{\"align\": \"right\", \"font\": {\"color\": \"black\", \"size\": 12}, \"showarrow\": false, \"text\": \"How much does this<br>person open up to you about<br>their personal experiences?\", \"x\": 0.14, \"xanchor\": \"right\", \"xref\": \"paper\", \"y\": \"How much does this<br>person open up to you about<br>their personal experiences?\", \"yref\": \"y\"}, {\"font\": {\"color\": \"#595959\", \"size\": 12}, \"showarrow\": false, \"text\": \"5.3%\", \"x\": 2.65, \"xref\": \"x\", \"y\": \"How much does this<br>person open up to you about<br>their personal experiences?\", \"yref\": \"y\"}, {\"font\": {\"color\": \"#595959\", \"size\": 12}, \"showarrow\": false, \"text\": \"6.0%\", \"x\": 8.3, \"xref\": \"x\", \"y\": \"How much does this<br>person open up to you about<br>their personal experiences?\", \"yref\": \"y\"}, {\"font\": {\"color\": \"#595959\", \"size\": 12}, \"showarrow\": false, \"text\": \"5.5%\", \"x\": 14.05, \"xref\": \"x\", \"y\": \"How much does this<br>person open up to you about<br>their personal experiences?\", \"yref\": \"y\"}, {\"font\": {\"color\": \"#595959\", \"size\": 12}, \"showarrow\": false, \"text\": \"16.7%\", \"x\": 25.15, \"xref\": \"x\", \"y\": \"How much does this<br>person open up to you about<br>their personal experiences?\", \"yref\": \"y\"}, {\"font\": {\"color\": \"#595959\", \"size\": 12}, \"showarrow\": false, \"text\": \"18.5%\", \"x\": 42.75, \"xref\": \"x\", \"y\": \"How much does this<br>person open up to you about<br>their personal experiences?\", \"yref\": \"y\"}, {\"font\": {\"color\": \"#595959\", \"size\": 12}, \"showarrow\": false, \"text\": \"23.4%\", \"x\": 63.7, \"xref\": \"x\", \"y\": \"How much does this<br>person open up to you about<br>their personal experiences?\", \"yref\": \"y\"}, {\"font\": {\"color\": \"#595959\", \"size\": 12}, \"showarrow\": false, \"text\": \"24.6%\", \"x\": 87.7, \"xref\": \"x\", \"y\": \"How much does this<br>person open up to you about<br>their personal experiences?\", \"yref\": \"y\"}, {\"align\": \"right\", \"font\": {\"color\": \"black\", \"size\": 12}, \"showarrow\": false, \"text\": \"How much can you<br>open up to this<br>person about your personal<br>experiences?\", \"x\": 0.14, \"xanchor\": \"right\", \"xref\": \"paper\", \"y\": \"How much can you<br>open up to this<br>person about your personal<br>experiences?\", \"yref\": \"y\"}, {\"font\": {\"color\": \"#595959\", \"size\": 12}, \"showarrow\": false, \"text\": \"5.6%\", \"x\": 2.8, \"xref\": \"x\", \"y\": \"How much can you<br>open up to this<br>person about your personal<br>experiences?\", \"yref\": \"y\"}, {\"font\": {\"color\": \"#595959\", \"size\": 12}, \"showarrow\": false, \"text\": \"5.1%\", \"x\": 12.25, \"xref\": \"x\", \"y\": \"How much can you<br>open up to this<br>person about your personal<br>experiences?\", \"yref\": \"y\"}, {\"font\": {\"color\": \"#595959\", \"size\": 12}, \"showarrow\": false, \"text\": \"13.1%\", \"x\": 21.349999999999998, \"xref\": \"x\", \"y\": \"How much can you<br>open up to this<br>person about your personal<br>experiences?\", \"yref\": \"y\"}, {\"font\": {\"color\": \"#595959\", \"size\": 12}, \"showarrow\": false, \"text\": \"16.4%\", \"x\": 36.099999999999994, \"xref\": \"x\", \"y\": \"How much can you<br>open up to this<br>person about your personal<br>experiences?\", \"yref\": \"y\"}, {\"font\": {\"color\": \"#595959\", \"size\": 12}, \"showarrow\": false, \"text\": \"21.8%\", \"x\": 55.199999999999996, \"xref\": \"x\", \"y\": \"How much can you<br>open up to this<br>person about your personal<br>experiences?\", \"yref\": \"y\"}, {\"font\": {\"color\": \"#595959\", \"size\": 12}, \"showarrow\": false, \"text\": \"34.0%\", \"x\": 83.1, \"xref\": \"x\", \"y\": \"How much can you<br>open up to this<br>person about your personal<br>experiences?\", \"yref\": \"y\"}], \"title\": \"Informal\"}], \"label\": \"Informal\", \"method\": \"update\"}, {\"args\": [{\"visible\": [false, false, false, false, false, false, false, false, false, false, false, false, false, false, false, false, false, false, false, false, false, false, false, false, false, false, false, false, true, true, true, true, true, true, true, true, true, true, true, true, true, true]}, {\"annotations\": [{\"align\": \"right\", \"font\": {\"color\": \"black\", \"size\": 12}, \"showarrow\": false, \"text\": \"How much does this<br>person open up to you about<br>their personal experiences?\", \"x\": 0.14, \"xanchor\": \"right\", \"xref\": \"paper\", \"y\": \"How much does this<br>person open up to you about<br>their personal experiences?\", \"yref\": \"y\"}, {\"font\": {\"color\": \"#595959\", \"size\": 12}, \"showarrow\": false, \"text\": \"14.5%\", \"x\": 11.65, \"xref\": \"x\", \"y\": \"How much does this<br>person open up to you about<br>their personal experiences?\", \"yref\": \"y\"}, {\"font\": {\"color\": \"#595959\", \"size\": 12}, \"showarrow\": false, \"text\": \"17.4%\", \"x\": 27.599999999999998, \"xref\": \"x\", \"y\": \"How much does this<br>person open up to you about<br>their personal experiences?\", \"yref\": \"y\"}, {\"font\": {\"color\": \"#595959\", \"size\": 12}, \"showarrow\": false, \"text\": \"25.9%\", \"x\": 49.25, \"xref\": \"x\", \"y\": \"How much does this<br>person open up to you about<br>their personal experiences?\", \"yref\": \"y\"}, {\"font\": {\"color\": \"#595959\", \"size\": 12}, \"showarrow\": false, \"text\": \"37.9%\", \"x\": 81.14999999999999, \"xref\": \"x\", \"y\": \"How much does this<br>person open up to you about<br>their personal experiences?\", \"yref\": \"y\"}, {\"align\": \"right\", \"font\": {\"color\": \"black\", \"size\": 12}, \"showarrow\": false, \"text\": \"How much can you<br>open up to this<br>person about your personal<br>experiences?\", \"x\": 0.14, \"xanchor\": \"right\", \"xref\": \"paper\", \"y\": \"How much can you<br>open up to this<br>person about your personal<br>experiences?\", \"yref\": \"y\"}, {\"font\": {\"color\": \"#595959\", \"size\": 12}, \"showarrow\": false, \"text\": \"11.7%\", \"x\": 9.05, \"xref\": \"x\", \"y\": \"How much can you<br>open up to this<br>person about your personal<br>experiences?\", \"yref\": \"y\"}, {\"font\": {\"color\": \"#595959\", \"size\": 12}, \"showarrow\": false, \"text\": \"18.9%\", \"x\": 24.349999999999998, \"xref\": \"x\", \"y\": \"How much can you<br>open up to this<br>person about your personal<br>experiences?\", \"yref\": \"y\"}, {\"font\": {\"color\": \"#595959\", \"size\": 12}, \"showarrow\": false, \"text\": \"28.1%\", \"x\": 47.849999999999994, \"xref\": \"x\", \"y\": \"How much can you<br>open up to this<br>person about your personal<br>experiences?\", \"yref\": \"y\"}, {\"font\": {\"color\": \"#595959\", \"size\": 12}, \"showarrow\": false, \"text\": \"38.2%\", \"x\": 81.0, \"xref\": \"x\", \"y\": \"How much can you<br>open up to this<br>person about your personal<br>experiences?\", \"yref\": \"y\"}], \"title\": \"Friend\"}], \"label\": \"Friend\", \"method\": \"update\"}], \"direction\": \"right\", \"showactive\": true, \"type\": \"buttons\", \"x\": 0.684, \"y\": 1.3}], \"xaxis\": {\"domain\": [0.15, 1], \"showgrid\": false, \"showline\": false, \"showticklabels\": false, \"zeroline\": false}, \"yaxis\": {\"showgrid\": false, \"showline\": false, \"showticklabels\": false, \"zeroline\": false}},\n",
       "                        {\"displayModeBar\": false, \"responsive\": true}\n",
       "                    ).then(function(){\n",
       "                            \n",
       "var gd = document.getElementById('224b2d2e-41cc-4f5a-bd78-914778c058f4');\n",
       "var x = new MutationObserver(function (mutations, observer) {{\n",
       "        var display = window.getComputedStyle(gd).display;\n",
       "        if (!display || display === 'none') {{\n",
       "            console.log([gd, 'removed!']);\n",
       "            Plotly.purge(gd);\n",
       "            observer.disconnect();\n",
       "        }}\n",
       "}});\n",
       "\n",
       "// Listen for the removal of the full notebook cells\n",
       "var notebookContainer = gd.closest('#notebook-container');\n",
       "if (notebookContainer) {{\n",
       "    x.observe(notebookContainer, {childList: true});\n",
       "}}\n",
       "\n",
       "// Listen for the clearing of the current output cell\n",
       "var outputEl = gd.closest('.output');\n",
       "if (outputEl) {{\n",
       "    x.observe(outputEl, {childList: true});\n",
       "}}\n",
       "\n",
       "                        })\n",
       "                };\n",
       "                });\n",
       "            </script>\n",
       "        </div>"
      ]
     },
     "metadata": {},
     "output_type": "display_data"
    }
   ],
   "source": [
    "percent_bar([list(round((df_diff['disclose.open.t'][df_diff['dyad_type'] == 1].value_counts(normalize = True).sort_index() * 100), 1)),\n",
    "             list(round((df_diff['disclose.open.p'][df_diff['dyad_type'] == 1].value_counts(normalize = True).sort_index() * 100), 1))],\n",
    "            [list(round((df_diff['disclose.open.t'][df_diff['dyad_type'] == 2].value_counts(normalize = True).sort_index() * 100), 1)),\n",
    "             list(round((df_diff['disclose.open.p'][df_diff['dyad_type'] == 2].value_counts(normalize = True).sort_index() * 100), 1))],\n",
    "            [list(round((df_diff['disclose.open.t'][df_diff['dyad_type'] == 3].value_counts(normalize = True).sort_index() * 100), 1)),\n",
    "             list(round((df_diff['disclose.open.p'][df_diff['dyad_type'] == 3].value_counts(normalize = True).sort_index() * 100), 1))],\n",
    "            'How much does this<br>person open up to you about<br>their personal experiences?',\n",
    "            'How much can you<br>open up to this<br>person about your personal<br>experiences?')"
   ]
  },
  {
   "cell_type": "code",
   "execution_count": 38,
   "metadata": {},
   "outputs": [
    {
     "data": {
      "application/vnd.plotly.v1+json": {
       "config": {
        "displayModeBar": false,
        "plotlyServerURL": "https://plotly.com"
       },
       "data": [
        {
         "hovertemplate": "<b>%{x}%</b><extra></extra>",
         "marker": {
          "color": "#FF6478"
         },
         "orientation": "h",
         "showlegend": false,
         "type": "bar",
         "x": [
          22.3
         ],
         "y": [
          "Overall, how much do you<br>think this person feels<br>supported by you?"
         ]
        },
        {
         "hovertemplate": "<b>%{x}%</b><extra></extra>",
         "marker": {
          "color": "#FF6478"
         },
         "name": "Not at all",
         "orientation": "h",
         "showlegend": true,
         "type": "bar",
         "x": [
          11.5
         ],
         "y": [
          "Overall, how supported<br>do you feel by this<br>person?"
         ]
        },
        {
         "hovertemplate": "<b>%{x}%</b><extra></extra>",
         "marker": {
          "color": "#FF8477"
         },
         "orientation": "h",
         "showlegend": false,
         "type": "bar",
         "x": [
          11.4
         ],
         "y": [
          "Overall, how much do you<br>think this person feels<br>supported by you?"
         ]
        },
        {
         "hovertemplate": "<b>%{x}%</b><extra></extra>",
         "marker": {
          "color": "#FF8477"
         },
         "name": "Rarely",
         "orientation": "h",
         "showlegend": true,
         "type": "bar",
         "x": [
          4.8
         ],
         "y": [
          "Overall, how supported<br>do you feel by this<br>person?"
         ]
        },
        {
         "hovertemplate": "<b>%{x}%</b><extra></extra>",
         "marker": {
          "color": "#FF9F77"
         },
         "orientation": "h",
         "showlegend": false,
         "type": "bar",
         "x": [
          11.5
         ],
         "y": [
          "Overall, how much do you<br>think this person feels<br>supported by you?"
         ]
        },
        {
         "hovertemplate": "<b>%{x}%</b><extra></extra>",
         "marker": {
          "color": "#FF9F77"
         },
         "name": "Occasionally",
         "orientation": "h",
         "showlegend": true,
         "type": "bar",
         "x": [
          4.2
         ],
         "y": [
          "Overall, how supported<br>do you feel by this<br>person?"
         ]
        },
        {
         "hovertemplate": "<b>%{x}%</b><extra></extra>",
         "marker": {
          "color": "#FFB775"
         },
         "orientation": "h",
         "showlegend": false,
         "type": "bar",
         "x": [
          23
         ],
         "y": [
          "Overall, how much do you<br>think this person feels<br>supported by you?"
         ]
        },
        {
         "hovertemplate": "<b>%{x}%</b><extra></extra>",
         "marker": {
          "color": "#FFB775"
         },
         "name": "Sometimes",
         "orientation": "h",
         "showlegend": true,
         "type": "bar",
         "x": [
          12.6
         ],
         "y": [
          "Overall, how supported<br>do you feel by this<br>person?"
         ]
        },
        {
         "hovertemplate": "<b>%{x}%</b><extra></extra>",
         "marker": {
          "color": "#BCF0C2"
         },
         "orientation": "h",
         "showlegend": false,
         "type": "bar",
         "x": [
          9.8
         ],
         "y": [
          "Overall, how much do you<br>think this person feels<br>supported by you?"
         ]
        },
        {
         "hovertemplate": "<b>%{x}%</b><extra></extra>",
         "marker": {
          "color": "#BCF0C2"
         },
         "name": "???",
         "orientation": "h",
         "showlegend": true,
         "type": "bar",
         "x": [
          16.9
         ],
         "y": [
          "Overall, how supported<br>do you feel by this<br>person?"
         ]
        },
        {
         "hovertemplate": "<b>%{x}%</b><extra></extra>",
         "marker": {
          "color": "#8BE595"
         },
         "orientation": "h",
         "showlegend": false,
         "type": "bar",
         "x": [
          10.1
         ],
         "y": [
          "Overall, how much do you<br>think this person feels<br>supported by you?"
         ]
        },
        {
         "hovertemplate": "<b>%{x}%</b><extra></extra>",
         "marker": {
          "color": "#8BE595"
         },
         "name": "Often",
         "orientation": "h",
         "showlegend": true,
         "type": "bar",
         "x": [
          22.4
         ],
         "y": [
          "Overall, how supported<br>do you feel by this<br>person?"
         ]
        },
        {
         "hovertemplate": "<b>%{x}%</b><extra></extra>",
         "marker": {
          "color": "#56DA65"
         },
         "orientation": "h",
         "showlegend": false,
         "type": "bar",
         "x": [
          11.8
         ],
         "y": [
          "Overall, how much do you<br>think this person feels<br>supported by you?"
         ]
        },
        {
         "hovertemplate": "<b>%{x}%</b><extra></extra>",
         "marker": {
          "color": "#56DA65"
         },
         "name": "A lot",
         "orientation": "h",
         "showlegend": true,
         "type": "bar",
         "x": [
          27.5
         ],
         "y": [
          "Overall, how supported<br>do you feel by this<br>person?"
         ]
        },
        {
         "hovertemplate": "<b>%{x}%</b><extra></extra>",
         "marker": {
          "color": "#FF6478"
         },
         "orientation": "h",
         "showlegend": false,
         "type": "bar",
         "visible": false,
         "x": [
          4.6
         ],
         "y": [
          "Overall, how much do you<br>think this person feels<br>supported by you?"
         ]
        },
        {
         "hovertemplate": "<b>%{x}%</b><extra></extra>",
         "marker": {
          "color": "#FF6478"
         },
         "name": "Not at all",
         "orientation": "h",
         "showlegend": true,
         "type": "bar",
         "visible": false,
         "x": [
          7.1
         ],
         "y": [
          "Overall, how supported<br>do you feel by this<br>person?"
         ]
        },
        {
         "hovertemplate": "<b>%{x}%</b><extra></extra>",
         "marker": {
          "color": "#FF8477"
         },
         "orientation": "h",
         "showlegend": false,
         "type": "bar",
         "visible": false,
         "x": [
          3.5
         ],
         "y": [
          "Overall, how much do you<br>think this person feels<br>supported by you?"
         ]
        },
        {
         "hovertemplate": "<b>%{x}%</b><extra></extra>",
         "marker": {
          "color": "#FF8477"
         },
         "name": "Rarely",
         "orientation": "h",
         "showlegend": true,
         "type": "bar",
         "visible": false,
         "x": [
          3.3
         ],
         "y": [
          "Overall, how supported<br>do you feel by this<br>person?"
         ]
        },
        {
         "hovertemplate": "<b>%{x}%</b><extra></extra>",
         "marker": {
          "color": "#FF9F77"
         },
         "orientation": "h",
         "showlegend": false,
         "type": "bar",
         "visible": false,
         "x": [
          6.2
         ],
         "y": [
          "Overall, how much do you<br>think this person feels<br>supported by you?"
         ]
        },
        {
         "hovertemplate": "<b>%{x}%</b><extra></extra>",
         "marker": {
          "color": "#FF9F77"
         },
         "name": "Occasionally",
         "orientation": "h",
         "showlegend": true,
         "type": "bar",
         "visible": false,
         "x": [
          5.6
         ],
         "y": [
          "Overall, how supported<br>do you feel by this<br>person?"
         ]
        },
        {
         "hovertemplate": "<b>%{x}%</b><extra></extra>",
         "marker": {
          "color": "#FFB775"
         },
         "orientation": "h",
         "showlegend": false,
         "type": "bar",
         "visible": false,
         "x": [
          15.5
         ],
         "y": [
          "Overall, how much do you<br>think this person feels<br>supported by you?"
         ]
        },
        {
         "hovertemplate": "<b>%{x}%</b><extra></extra>",
         "marker": {
          "color": "#FFB775"
         },
         "name": "Sometimes",
         "orientation": "h",
         "showlegend": true,
         "type": "bar",
         "visible": false,
         "x": [
          9.6
         ],
         "y": [
          "Overall, how supported<br>do you feel by this<br>person?"
         ]
        },
        {
         "hovertemplate": "<b>%{x}%</b><extra></extra>",
         "marker": {
          "color": "#BCF0C2"
         },
         "orientation": "h",
         "showlegend": false,
         "type": "bar",
         "visible": false,
         "x": [
          19.5
         ],
         "y": [
          "Overall, how much do you<br>think this person feels<br>supported by you?"
         ]
        },
        {
         "hovertemplate": "<b>%{x}%</b><extra></extra>",
         "marker": {
          "color": "#BCF0C2"
         },
         "name": "???",
         "orientation": "h",
         "showlegend": true,
         "type": "bar",
         "visible": false,
         "x": [
          13.8
         ],
         "y": [
          "Overall, how supported<br>do you feel by this<br>person?"
         ]
        },
        {
         "hovertemplate": "<b>%{x}%</b><extra></extra>",
         "marker": {
          "color": "#8BE595"
         },
         "orientation": "h",
         "showlegend": false,
         "type": "bar",
         "visible": false,
         "x": [
          22.6
         ],
         "y": [
          "Overall, how much do you<br>think this person feels<br>supported by you?"
         ]
        },
        {
         "hovertemplate": "<b>%{x}%</b><extra></extra>",
         "marker": {
          "color": "#8BE595"
         },
         "name": "Often",
         "orientation": "h",
         "showlegend": true,
         "type": "bar",
         "visible": false,
         "x": [
          21.5
         ],
         "y": [
          "Overall, how supported<br>do you feel by this<br>person?"
         ]
        },
        {
         "hovertemplate": "<b>%{x}%</b><extra></extra>",
         "marker": {
          "color": "#56DA65"
         },
         "orientation": "h",
         "showlegend": false,
         "type": "bar",
         "visible": false,
         "x": [
          28.1
         ],
         "y": [
          "Overall, how much do you<br>think this person feels<br>supported by you?"
         ]
        },
        {
         "hovertemplate": "<b>%{x}%</b><extra></extra>",
         "marker": {
          "color": "#56DA65"
         },
         "name": "A lot",
         "orientation": "h",
         "showlegend": true,
         "type": "bar",
         "visible": false,
         "x": [
          39.1
         ],
         "y": [
          "Overall, how supported<br>do you feel by this<br>person?"
         ]
        },
        {
         "hovertemplate": "<b>%{x}%</b><extra></extra>",
         "marker": {
          "color": "#FF6478"
         },
         "orientation": "h",
         "showlegend": false,
         "type": "bar",
         "visible": false,
         "x": [
          0.3
         ],
         "y": [
          "Overall, how much do you<br>think this person feels<br>supported by you?"
         ]
        },
        {
         "hovertemplate": "<b>%{x}%</b><extra></extra>",
         "marker": {
          "color": "#FF6478"
         },
         "name": "Not at all",
         "orientation": "h",
         "showlegend": true,
         "type": "bar",
         "visible": false,
         "x": [
          0.3
         ],
         "y": [
          "Overall, how supported<br>do you feel by this<br>person?"
         ]
        },
        {
         "hovertemplate": "<b>%{x}%</b><extra></extra>",
         "marker": {
          "color": "#FF8477"
         },
         "orientation": "h",
         "showlegend": false,
         "type": "bar",
         "visible": false,
         "x": [
          0.9
         ],
         "y": [
          "Overall, how much do you<br>think this person feels<br>supported by you?"
         ]
        },
        {
         "hovertemplate": "<b>%{x}%</b><extra></extra>",
         "marker": {
          "color": "#FF8477"
         },
         "name": "Rarely",
         "orientation": "h",
         "showlegend": true,
         "type": "bar",
         "visible": false,
         "x": [
          1.3
         ],
         "y": [
          "Overall, how supported<br>do you feel by this<br>person?"
         ]
        },
        {
         "hovertemplate": "<b>%{x}%</b><extra></extra>",
         "marker": {
          "color": "#FF9F77"
         },
         "orientation": "h",
         "showlegend": false,
         "type": "bar",
         "visible": false,
         "x": [
          2.2
         ],
         "y": [
          "Overall, how much do you<br>think this person feels<br>supported by you?"
         ]
        },
        {
         "hovertemplate": "<b>%{x}%</b><extra></extra>",
         "marker": {
          "color": "#FF9F77"
         },
         "name": "Occasionally",
         "orientation": "h",
         "showlegend": true,
         "type": "bar",
         "visible": false,
         "x": [
          2.5
         ],
         "y": [
          "Overall, how supported<br>do you feel by this<br>person?"
         ]
        },
        {
         "hovertemplate": "<b>%{x}%</b><extra></extra>",
         "marker": {
          "color": "#FFB775"
         },
         "orientation": "h",
         "showlegend": false,
         "type": "bar",
         "visible": false,
         "x": [
          12.3
         ],
         "y": [
          "Overall, how much do you<br>think this person feels<br>supported by you?"
         ]
        },
        {
         "hovertemplate": "<b>%{x}%</b><extra></extra>",
         "marker": {
          "color": "#FFB775"
         },
         "name": "Sometimes",
         "orientation": "h",
         "showlegend": true,
         "type": "bar",
         "visible": false,
         "x": [
          11.4
         ],
         "y": [
          "Overall, how supported<br>do you feel by this<br>person?"
         ]
        },
        {
         "hovertemplate": "<b>%{x}%</b><extra></extra>",
         "marker": {
          "color": "#BCF0C2"
         },
         "orientation": "h",
         "showlegend": false,
         "type": "bar",
         "visible": false,
         "x": [
          19.6
         ],
         "y": [
          "Overall, how much do you<br>think this person feels<br>supported by you?"
         ]
        },
        {
         "hovertemplate": "<b>%{x}%</b><extra></extra>",
         "marker": {
          "color": "#BCF0C2"
         },
         "name": "???",
         "orientation": "h",
         "showlegend": true,
         "type": "bar",
         "visible": false,
         "x": [
          16.7
         ],
         "y": [
          "Overall, how supported<br>do you feel by this<br>person?"
         ]
        },
        {
         "hovertemplate": "<b>%{x}%</b><extra></extra>",
         "marker": {
          "color": "#8BE595"
         },
         "orientation": "h",
         "showlegend": false,
         "type": "bar",
         "visible": false,
         "x": [
          33.4
         ],
         "y": [
          "Overall, how much do you<br>think this person feels<br>supported by you?"
         ]
        },
        {
         "hovertemplate": "<b>%{x}%</b><extra></extra>",
         "marker": {
          "color": "#8BE595"
         },
         "name": "Often",
         "orientation": "h",
         "showlegend": true,
         "type": "bar",
         "visible": false,
         "x": [
          33.4
         ],
         "y": [
          "Overall, how supported<br>do you feel by this<br>person?"
         ]
        },
        {
         "hovertemplate": "<b>%{x}%</b><extra></extra>",
         "marker": {
          "color": "#56DA65"
         },
         "orientation": "h",
         "showlegend": false,
         "type": "bar",
         "visible": false,
         "x": [
          31.2
         ],
         "y": [
          "Overall, how much do you<br>think this person feels<br>supported by you?"
         ]
        },
        {
         "hovertemplate": "<b>%{x}%</b><extra></extra>",
         "marker": {
          "color": "#56DA65"
         },
         "name": "A lot",
         "orientation": "h",
         "showlegend": true,
         "type": "bar",
         "visible": false,
         "x": [
          34.4
         ],
         "y": [
          "Overall, how supported<br>do you feel by this<br>person?"
         ]
        }
       ],
       "layout": {
        "annotations": [
         {
          "align": "right",
          "font": {
           "color": "black",
           "size": 12
          },
          "showarrow": false,
          "text": "Overall, how much do you<br>think this person feels<br>supported by you?",
          "x": 0.14,
          "xanchor": "right",
          "xref": "paper",
          "y": "Overall, how much do you<br>think this person feels<br>supported by you?",
          "yref": "y"
         },
         {
          "font": {
           "color": "#595959",
           "size": 12
          },
          "showarrow": false,
          "text": "22.3%",
          "x": 11.15,
          "xref": "x",
          "y": "Overall, how much do you<br>think this person feels<br>supported by you?",
          "yref": "y"
         },
         {
          "font": {
           "color": "#595959",
           "size": 12
          },
          "showarrow": false,
          "text": "11.4%",
          "x": 28,
          "xref": "x",
          "y": "Overall, how much do you<br>think this person feels<br>supported by you?",
          "yref": "y"
         },
         {
          "font": {
           "color": "#595959",
           "size": 12
          },
          "showarrow": false,
          "text": "11.5%",
          "x": 39.45,
          "xref": "x",
          "y": "Overall, how much do you<br>think this person feels<br>supported by you?",
          "yref": "y"
         },
         {
          "font": {
           "color": "#595959",
           "size": 12
          },
          "showarrow": false,
          "text": "23.0%",
          "x": 56.7,
          "xref": "x",
          "y": "Overall, how much do you<br>think this person feels<br>supported by you?",
          "yref": "y"
         },
         {
          "font": {
           "color": "#595959",
           "size": 12
          },
          "showarrow": false,
          "text": "9.8%",
          "x": 73.10000000000001,
          "xref": "x",
          "y": "Overall, how much do you<br>think this person feels<br>supported by you?",
          "yref": "y"
         },
         {
          "font": {
           "color": "#595959",
           "size": 12
          },
          "showarrow": false,
          "text": "10.1%",
          "x": 83.05,
          "xref": "x",
          "y": "Overall, how much do you<br>think this person feels<br>supported by you?",
          "yref": "y"
         },
         {
          "font": {
           "color": "#595959",
           "size": 12
          },
          "showarrow": false,
          "text": "11.8%",
          "x": 94,
          "xref": "x",
          "y": "Overall, how much do you<br>think this person feels<br>supported by you?",
          "yref": "y"
         },
         {
          "align": "right",
          "font": {
           "color": "black",
           "size": 12
          },
          "showarrow": false,
          "text": "Overall, how supported<br>do you feel by this<br>person?",
          "x": 0.14,
          "xanchor": "right",
          "xref": "paper",
          "y": "Overall, how supported<br>do you feel by this<br>person?",
          "yref": "y"
         },
         {
          "font": {
           "color": "#595959",
           "size": 12
          },
          "showarrow": false,
          "text": "11.5%",
          "x": 5.75,
          "xref": "x",
          "y": "Overall, how supported<br>do you feel by this<br>person?",
          "yref": "y"
         },
         {
          "font": {
           "color": "#595959",
           "size": 12
          },
          "showarrow": false,
          "text": "12.6%",
          "x": 26.8,
          "xref": "x",
          "y": "Overall, how supported<br>do you feel by this<br>person?",
          "yref": "y"
         },
         {
          "font": {
           "color": "#595959",
           "size": 12
          },
          "showarrow": false,
          "text": "16.9%",
          "x": 41.55,
          "xref": "x",
          "y": "Overall, how supported<br>do you feel by this<br>person?",
          "yref": "y"
         },
         {
          "font": {
           "color": "#595959",
           "size": 12
          },
          "showarrow": false,
          "text": "22.4%",
          "x": 61.2,
          "xref": "x",
          "y": "Overall, how supported<br>do you feel by this<br>person?",
          "yref": "y"
         },
         {
          "font": {
           "color": "#595959",
           "size": 12
          },
          "showarrow": false,
          "text": "27.5%",
          "x": 86.15,
          "xref": "x",
          "y": "Overall, how supported<br>do you feel by this<br>person?",
          "yref": "y"
         }
        ],
        "barmode": "stack",
        "font": {
         "color": "black",
         "size": 12
        },
        "legend": {
         "itemclick": false,
         "orientation": "h",
         "traceorder": "normal",
         "x": 0.94,
         "xanchor": "right",
         "y": 1.02,
         "yanchor": "bottom"
        },
        "margin": {
         "b": 80,
         "l": 120,
         "r": 10,
         "t": 140
        },
        "paper_bgcolor": "rgb(248, 248, 255)",
        "plot_bgcolor": "rgb(248, 248, 255)",
        "template": {
         "data": {
          "bar": [
           {
            "error_x": {
             "color": "#2a3f5f"
            },
            "error_y": {
             "color": "#2a3f5f"
            },
            "marker": {
             "line": {
              "color": "#E5ECF6",
              "width": 0.5
             }
            },
            "type": "bar"
           }
          ],
          "barpolar": [
           {
            "marker": {
             "line": {
              "color": "#E5ECF6",
              "width": 0.5
             }
            },
            "type": "barpolar"
           }
          ],
          "carpet": [
           {
            "aaxis": {
             "endlinecolor": "#2a3f5f",
             "gridcolor": "white",
             "linecolor": "white",
             "minorgridcolor": "white",
             "startlinecolor": "#2a3f5f"
            },
            "baxis": {
             "endlinecolor": "#2a3f5f",
             "gridcolor": "white",
             "linecolor": "white",
             "minorgridcolor": "white",
             "startlinecolor": "#2a3f5f"
            },
            "type": "carpet"
           }
          ],
          "choropleth": [
           {
            "colorbar": {
             "outlinewidth": 0,
             "ticks": ""
            },
            "type": "choropleth"
           }
          ],
          "contour": [
           {
            "colorbar": {
             "outlinewidth": 0,
             "ticks": ""
            },
            "colorscale": [
             [
              0,
              "#0d0887"
             ],
             [
              0.1111111111111111,
              "#46039f"
             ],
             [
              0.2222222222222222,
              "#7201a8"
             ],
             [
              0.3333333333333333,
              "#9c179e"
             ],
             [
              0.4444444444444444,
              "#bd3786"
             ],
             [
              0.5555555555555556,
              "#d8576b"
             ],
             [
              0.6666666666666666,
              "#ed7953"
             ],
             [
              0.7777777777777778,
              "#fb9f3a"
             ],
             [
              0.8888888888888888,
              "#fdca26"
             ],
             [
              1,
              "#f0f921"
             ]
            ],
            "type": "contour"
           }
          ],
          "contourcarpet": [
           {
            "colorbar": {
             "outlinewidth": 0,
             "ticks": ""
            },
            "type": "contourcarpet"
           }
          ],
          "heatmap": [
           {
            "colorbar": {
             "outlinewidth": 0,
             "ticks": ""
            },
            "colorscale": [
             [
              0,
              "#0d0887"
             ],
             [
              0.1111111111111111,
              "#46039f"
             ],
             [
              0.2222222222222222,
              "#7201a8"
             ],
             [
              0.3333333333333333,
              "#9c179e"
             ],
             [
              0.4444444444444444,
              "#bd3786"
             ],
             [
              0.5555555555555556,
              "#d8576b"
             ],
             [
              0.6666666666666666,
              "#ed7953"
             ],
             [
              0.7777777777777778,
              "#fb9f3a"
             ],
             [
              0.8888888888888888,
              "#fdca26"
             ],
             [
              1,
              "#f0f921"
             ]
            ],
            "type": "heatmap"
           }
          ],
          "heatmapgl": [
           {
            "colorbar": {
             "outlinewidth": 0,
             "ticks": ""
            },
            "colorscale": [
             [
              0,
              "#0d0887"
             ],
             [
              0.1111111111111111,
              "#46039f"
             ],
             [
              0.2222222222222222,
              "#7201a8"
             ],
             [
              0.3333333333333333,
              "#9c179e"
             ],
             [
              0.4444444444444444,
              "#bd3786"
             ],
             [
              0.5555555555555556,
              "#d8576b"
             ],
             [
              0.6666666666666666,
              "#ed7953"
             ],
             [
              0.7777777777777778,
              "#fb9f3a"
             ],
             [
              0.8888888888888888,
              "#fdca26"
             ],
             [
              1,
              "#f0f921"
             ]
            ],
            "type": "heatmapgl"
           }
          ],
          "histogram": [
           {
            "marker": {
             "colorbar": {
              "outlinewidth": 0,
              "ticks": ""
             }
            },
            "type": "histogram"
           }
          ],
          "histogram2d": [
           {
            "colorbar": {
             "outlinewidth": 0,
             "ticks": ""
            },
            "colorscale": [
             [
              0,
              "#0d0887"
             ],
             [
              0.1111111111111111,
              "#46039f"
             ],
             [
              0.2222222222222222,
              "#7201a8"
             ],
             [
              0.3333333333333333,
              "#9c179e"
             ],
             [
              0.4444444444444444,
              "#bd3786"
             ],
             [
              0.5555555555555556,
              "#d8576b"
             ],
             [
              0.6666666666666666,
              "#ed7953"
             ],
             [
              0.7777777777777778,
              "#fb9f3a"
             ],
             [
              0.8888888888888888,
              "#fdca26"
             ],
             [
              1,
              "#f0f921"
             ]
            ],
            "type": "histogram2d"
           }
          ],
          "histogram2dcontour": [
           {
            "colorbar": {
             "outlinewidth": 0,
             "ticks": ""
            },
            "colorscale": [
             [
              0,
              "#0d0887"
             ],
             [
              0.1111111111111111,
              "#46039f"
             ],
             [
              0.2222222222222222,
              "#7201a8"
             ],
             [
              0.3333333333333333,
              "#9c179e"
             ],
             [
              0.4444444444444444,
              "#bd3786"
             ],
             [
              0.5555555555555556,
              "#d8576b"
             ],
             [
              0.6666666666666666,
              "#ed7953"
             ],
             [
              0.7777777777777778,
              "#fb9f3a"
             ],
             [
              0.8888888888888888,
              "#fdca26"
             ],
             [
              1,
              "#f0f921"
             ]
            ],
            "type": "histogram2dcontour"
           }
          ],
          "mesh3d": [
           {
            "colorbar": {
             "outlinewidth": 0,
             "ticks": ""
            },
            "type": "mesh3d"
           }
          ],
          "parcoords": [
           {
            "line": {
             "colorbar": {
              "outlinewidth": 0,
              "ticks": ""
             }
            },
            "type": "parcoords"
           }
          ],
          "pie": [
           {
            "automargin": true,
            "type": "pie"
           }
          ],
          "scatter": [
           {
            "marker": {
             "colorbar": {
              "outlinewidth": 0,
              "ticks": ""
             }
            },
            "type": "scatter"
           }
          ],
          "scatter3d": [
           {
            "line": {
             "colorbar": {
              "outlinewidth": 0,
              "ticks": ""
             }
            },
            "marker": {
             "colorbar": {
              "outlinewidth": 0,
              "ticks": ""
             }
            },
            "type": "scatter3d"
           }
          ],
          "scattercarpet": [
           {
            "marker": {
             "colorbar": {
              "outlinewidth": 0,
              "ticks": ""
             }
            },
            "type": "scattercarpet"
           }
          ],
          "scattergeo": [
           {
            "marker": {
             "colorbar": {
              "outlinewidth": 0,
              "ticks": ""
             }
            },
            "type": "scattergeo"
           }
          ],
          "scattergl": [
           {
            "marker": {
             "colorbar": {
              "outlinewidth": 0,
              "ticks": ""
             }
            },
            "type": "scattergl"
           }
          ],
          "scattermapbox": [
           {
            "marker": {
             "colorbar": {
              "outlinewidth": 0,
              "ticks": ""
             }
            },
            "type": "scattermapbox"
           }
          ],
          "scatterpolar": [
           {
            "marker": {
             "colorbar": {
              "outlinewidth": 0,
              "ticks": ""
             }
            },
            "type": "scatterpolar"
           }
          ],
          "scatterpolargl": [
           {
            "marker": {
             "colorbar": {
              "outlinewidth": 0,
              "ticks": ""
             }
            },
            "type": "scatterpolargl"
           }
          ],
          "scatterternary": [
           {
            "marker": {
             "colorbar": {
              "outlinewidth": 0,
              "ticks": ""
             }
            },
            "type": "scatterternary"
           }
          ],
          "surface": [
           {
            "colorbar": {
             "outlinewidth": 0,
             "ticks": ""
            },
            "colorscale": [
             [
              0,
              "#0d0887"
             ],
             [
              0.1111111111111111,
              "#46039f"
             ],
             [
              0.2222222222222222,
              "#7201a8"
             ],
             [
              0.3333333333333333,
              "#9c179e"
             ],
             [
              0.4444444444444444,
              "#bd3786"
             ],
             [
              0.5555555555555556,
              "#d8576b"
             ],
             [
              0.6666666666666666,
              "#ed7953"
             ],
             [
              0.7777777777777778,
              "#fb9f3a"
             ],
             [
              0.8888888888888888,
              "#fdca26"
             ],
             [
              1,
              "#f0f921"
             ]
            ],
            "type": "surface"
           }
          ],
          "table": [
           {
            "cells": {
             "fill": {
              "color": "#EBF0F8"
             },
             "line": {
              "color": "white"
             }
            },
            "header": {
             "fill": {
              "color": "#C8D4E3"
             },
             "line": {
              "color": "white"
             }
            },
            "type": "table"
           }
          ]
         },
         "layout": {
          "annotationdefaults": {
           "arrowcolor": "#2a3f5f",
           "arrowhead": 0,
           "arrowwidth": 1
          },
          "coloraxis": {
           "colorbar": {
            "outlinewidth": 0,
            "ticks": ""
           }
          },
          "colorscale": {
           "diverging": [
            [
             0,
             "#8e0152"
            ],
            [
             0.1,
             "#c51b7d"
            ],
            [
             0.2,
             "#de77ae"
            ],
            [
             0.3,
             "#f1b6da"
            ],
            [
             0.4,
             "#fde0ef"
            ],
            [
             0.5,
             "#f7f7f7"
            ],
            [
             0.6,
             "#e6f5d0"
            ],
            [
             0.7,
             "#b8e186"
            ],
            [
             0.8,
             "#7fbc41"
            ],
            [
             0.9,
             "#4d9221"
            ],
            [
             1,
             "#276419"
            ]
           ],
           "sequential": [
            [
             0,
             "#0d0887"
            ],
            [
             0.1111111111111111,
             "#46039f"
            ],
            [
             0.2222222222222222,
             "#7201a8"
            ],
            [
             0.3333333333333333,
             "#9c179e"
            ],
            [
             0.4444444444444444,
             "#bd3786"
            ],
            [
             0.5555555555555556,
             "#d8576b"
            ],
            [
             0.6666666666666666,
             "#ed7953"
            ],
            [
             0.7777777777777778,
             "#fb9f3a"
            ],
            [
             0.8888888888888888,
             "#fdca26"
            ],
            [
             1,
             "#f0f921"
            ]
           ],
           "sequentialminus": [
            [
             0,
             "#0d0887"
            ],
            [
             0.1111111111111111,
             "#46039f"
            ],
            [
             0.2222222222222222,
             "#7201a8"
            ],
            [
             0.3333333333333333,
             "#9c179e"
            ],
            [
             0.4444444444444444,
             "#bd3786"
            ],
            [
             0.5555555555555556,
             "#d8576b"
            ],
            [
             0.6666666666666666,
             "#ed7953"
            ],
            [
             0.7777777777777778,
             "#fb9f3a"
            ],
            [
             0.8888888888888888,
             "#fdca26"
            ],
            [
             1,
             "#f0f921"
            ]
           ]
          },
          "colorway": [
           "#636efa",
           "#EF553B",
           "#00cc96",
           "#ab63fa",
           "#FFA15A",
           "#19d3f3",
           "#FF6692",
           "#B6E880",
           "#FF97FF",
           "#FECB52"
          ],
          "font": {
           "color": "#2a3f5f"
          },
          "geo": {
           "bgcolor": "white",
           "lakecolor": "white",
           "landcolor": "#E5ECF6",
           "showlakes": true,
           "showland": true,
           "subunitcolor": "white"
          },
          "hoverlabel": {
           "align": "left"
          },
          "hovermode": "closest",
          "mapbox": {
           "style": "light"
          },
          "paper_bgcolor": "white",
          "plot_bgcolor": "#E5ECF6",
          "polar": {
           "angularaxis": {
            "gridcolor": "white",
            "linecolor": "white",
            "ticks": ""
           },
           "bgcolor": "#E5ECF6",
           "radialaxis": {
            "gridcolor": "white",
            "linecolor": "white",
            "ticks": ""
           }
          },
          "scene": {
           "xaxis": {
            "backgroundcolor": "#E5ECF6",
            "gridcolor": "white",
            "gridwidth": 2,
            "linecolor": "white",
            "showbackground": true,
            "ticks": "",
            "zerolinecolor": "white"
           },
           "yaxis": {
            "backgroundcolor": "#E5ECF6",
            "gridcolor": "white",
            "gridwidth": 2,
            "linecolor": "white",
            "showbackground": true,
            "ticks": "",
            "zerolinecolor": "white"
           },
           "zaxis": {
            "backgroundcolor": "#E5ECF6",
            "gridcolor": "white",
            "gridwidth": 2,
            "linecolor": "white",
            "showbackground": true,
            "ticks": "",
            "zerolinecolor": "white"
           }
          },
          "shapedefaults": {
           "line": {
            "color": "#2a3f5f"
           }
          },
          "ternary": {
           "aaxis": {
            "gridcolor": "white",
            "linecolor": "white",
            "ticks": ""
           },
           "baxis": {
            "gridcolor": "white",
            "linecolor": "white",
            "ticks": ""
           },
           "bgcolor": "#E5ECF6",
           "caxis": {
            "gridcolor": "white",
            "linecolor": "white",
            "ticks": ""
           }
          },
          "title": {
           "x": 0.05
          },
          "xaxis": {
           "automargin": true,
           "gridcolor": "white",
           "linecolor": "white",
           "ticks": "",
           "title": {
            "standoff": 15
           },
           "zerolinecolor": "white",
           "zerolinewidth": 2
          },
          "yaxis": {
           "automargin": true,
           "gridcolor": "white",
           "linecolor": "white",
           "ticks": "",
           "title": {
            "standoff": 15
           },
           "zerolinecolor": "white",
           "zerolinewidth": 2
          }
         }
        },
        "title": {
         "text": "Formal",
         "x": 0.95,
         "y": 0.88
        },
        "updatemenus": [
         {
          "bgcolor": "#c9c7c7",
          "buttons": [
           {
            "args": [
             {
              "visible": [
               true,
               true,
               true,
               true,
               true,
               true,
               true,
               true,
               true,
               true,
               true,
               true,
               true,
               true,
               false,
               false,
               false,
               false,
               false,
               false,
               false,
               false,
               false,
               false,
               false,
               false,
               false,
               false,
               false,
               false,
               false,
               false,
               false,
               false,
               false,
               false,
               false,
               false,
               false,
               false,
               false,
               false
              ]
             },
             {
              "annotations": [
               {
                "align": "right",
                "font": {
                 "color": "black",
                 "size": 12
                },
                "showarrow": false,
                "text": "Overall, how much do you<br>think this person feels<br>supported by you?",
                "x": 0.14,
                "xanchor": "right",
                "xref": "paper",
                "y": "Overall, how much do you<br>think this person feels<br>supported by you?",
                "yref": "y"
               },
               {
                "font": {
                 "color": "#595959",
                 "size": 12
                },
                "showarrow": false,
                "text": "22.3%",
                "x": 11.15,
                "xref": "x",
                "y": "Overall, how much do you<br>think this person feels<br>supported by you?",
                "yref": "y"
               },
               {
                "font": {
                 "color": "#595959",
                 "size": 12
                },
                "showarrow": false,
                "text": "11.4%",
                "x": 28,
                "xref": "x",
                "y": "Overall, how much do you<br>think this person feels<br>supported by you?",
                "yref": "y"
               },
               {
                "font": {
                 "color": "#595959",
                 "size": 12
                },
                "showarrow": false,
                "text": "11.5%",
                "x": 39.45,
                "xref": "x",
                "y": "Overall, how much do you<br>think this person feels<br>supported by you?",
                "yref": "y"
               },
               {
                "font": {
                 "color": "#595959",
                 "size": 12
                },
                "showarrow": false,
                "text": "23.0%",
                "x": 56.7,
                "xref": "x",
                "y": "Overall, how much do you<br>think this person feels<br>supported by you?",
                "yref": "y"
               },
               {
                "font": {
                 "color": "#595959",
                 "size": 12
                },
                "showarrow": false,
                "text": "9.8%",
                "x": 73.10000000000001,
                "xref": "x",
                "y": "Overall, how much do you<br>think this person feels<br>supported by you?",
                "yref": "y"
               },
               {
                "font": {
                 "color": "#595959",
                 "size": 12
                },
                "showarrow": false,
                "text": "10.1%",
                "x": 83.05,
                "xref": "x",
                "y": "Overall, how much do you<br>think this person feels<br>supported by you?",
                "yref": "y"
               },
               {
                "font": {
                 "color": "#595959",
                 "size": 12
                },
                "showarrow": false,
                "text": "11.8%",
                "x": 94,
                "xref": "x",
                "y": "Overall, how much do you<br>think this person feels<br>supported by you?",
                "yref": "y"
               },
               {
                "align": "right",
                "font": {
                 "color": "black",
                 "size": 12
                },
                "showarrow": false,
                "text": "Overall, how supported<br>do you feel by this<br>person?",
                "x": 0.14,
                "xanchor": "right",
                "xref": "paper",
                "y": "Overall, how supported<br>do you feel by this<br>person?",
                "yref": "y"
               },
               {
                "font": {
                 "color": "#595959",
                 "size": 12
                },
                "showarrow": false,
                "text": "11.5%",
                "x": 5.75,
                "xref": "x",
                "y": "Overall, how supported<br>do you feel by this<br>person?",
                "yref": "y"
               },
               {
                "font": {
                 "color": "#595959",
                 "size": 12
                },
                "showarrow": false,
                "text": "12.6%",
                "x": 26.8,
                "xref": "x",
                "y": "Overall, how supported<br>do you feel by this<br>person?",
                "yref": "y"
               },
               {
                "font": {
                 "color": "#595959",
                 "size": 12
                },
                "showarrow": false,
                "text": "16.9%",
                "x": 41.55,
                "xref": "x",
                "y": "Overall, how supported<br>do you feel by this<br>person?",
                "yref": "y"
               },
               {
                "font": {
                 "color": "#595959",
                 "size": 12
                },
                "showarrow": false,
                "text": "22.4%",
                "x": 61.2,
                "xref": "x",
                "y": "Overall, how supported<br>do you feel by this<br>person?",
                "yref": "y"
               },
               {
                "font": {
                 "color": "#595959",
                 "size": 12
                },
                "showarrow": false,
                "text": "27.5%",
                "x": 86.15,
                "xref": "x",
                "y": "Overall, how supported<br>do you feel by this<br>person?",
                "yref": "y"
               }
              ],
              "title": "Formal"
             }
            ],
            "label": "Formal",
            "method": "update"
           },
           {
            "args": [
             {
              "visible": [
               false,
               false,
               false,
               false,
               false,
               false,
               false,
               false,
               false,
               false,
               false,
               false,
               false,
               false,
               true,
               true,
               true,
               true,
               true,
               true,
               true,
               true,
               true,
               true,
               true,
               true,
               true,
               true,
               false,
               false,
               false,
               false,
               false,
               false,
               false,
               false,
               false,
               false,
               false,
               false,
               false,
               false
              ]
             },
             {
              "annotations": [
               {
                "align": "right",
                "font": {
                 "color": "black",
                 "size": 12
                },
                "showarrow": false,
                "text": "Overall, how much do you<br>think this person feels<br>supported by you?",
                "x": 0.14,
                "xanchor": "right",
                "xref": "paper",
                "y": "Overall, how much do you<br>think this person feels<br>supported by you?",
                "yref": "y"
               },
               {
                "font": {
                 "color": "#595959",
                 "size": 12
                },
                "showarrow": false,
                "text": "6.2%",
                "x": 11.2,
                "xref": "x",
                "y": "Overall, how much do you<br>think this person feels<br>supported by you?",
                "yref": "y"
               },
               {
                "font": {
                 "color": "#595959",
                 "size": 12
                },
                "showarrow": false,
                "text": "15.5%",
                "x": 22.05,
                "xref": "x",
                "y": "Overall, how much do you<br>think this person feels<br>supported by you?",
                "yref": "y"
               },
               {
                "font": {
                 "color": "#595959",
                 "size": 12
                },
                "showarrow": false,
                "text": "19.5%",
                "x": 39.55,
                "xref": "x",
                "y": "Overall, how much do you<br>think this person feels<br>supported by you?",
                "yref": "y"
               },
               {
                "font": {
                 "color": "#595959",
                 "size": 12
                },
                "showarrow": false,
                "text": "22.6%",
                "x": 60.599999999999994,
                "xref": "x",
                "y": "Overall, how much do you<br>think this person feels<br>supported by you?",
                "yref": "y"
               },
               {
                "font": {
                 "color": "#595959",
                 "size": 12
                },
                "showarrow": false,
                "text": "28.1%",
                "x": 85.95,
                "xref": "x",
                "y": "Overall, how much do you<br>think this person feels<br>supported by you?",
                "yref": "y"
               },
               {
                "align": "right",
                "font": {
                 "color": "black",
                 "size": 12
                },
                "showarrow": false,
                "text": "Overall, how supported<br>do you feel by this<br>person?",
                "x": 0.14,
                "xanchor": "right",
                "xref": "paper",
                "y": "Overall, how supported<br>do you feel by this<br>person?",
                "yref": "y"
               },
               {
                "font": {
                 "color": "#595959",
                 "size": 12
                },
                "showarrow": false,
                "text": "7.1%",
                "x": 3.55,
                "xref": "x",
                "y": "Overall, how supported<br>do you feel by this<br>person?",
                "yref": "y"
               },
               {
                "font": {
                 "color": "#595959",
                 "size": 12
                },
                "showarrow": false,
                "text": "5.6%",
                "x": 13.2,
                "xref": "x",
                "y": "Overall, how supported<br>do you feel by this<br>person?",
                "yref": "y"
               },
               {
                "font": {
                 "color": "#595959",
                 "size": 12
                },
                "showarrow": false,
                "text": "9.6%",
                "x": 20.799999999999997,
                "xref": "x",
                "y": "Overall, how supported<br>do you feel by this<br>person?",
                "yref": "y"
               },
               {
                "font": {
                 "color": "#595959",
                 "size": 12
                },
                "showarrow": false,
                "text": "13.8%",
                "x": 32.5,
                "xref": "x",
                "y": "Overall, how supported<br>do you feel by this<br>person?",
                "yref": "y"
               },
               {
                "font": {
                 "color": "#595959",
                 "size": 12
                },
                "showarrow": false,
                "text": "21.5%",
                "x": 50.15,
                "xref": "x",
                "y": "Overall, how supported<br>do you feel by this<br>person?",
                "yref": "y"
               },
               {
                "font": {
                 "color": "#595959",
                 "size": 12
                },
                "showarrow": false,
                "text": "39.1%",
                "x": 80.45,
                "xref": "x",
                "y": "Overall, how supported<br>do you feel by this<br>person?",
                "yref": "y"
               }
              ],
              "title": "Informal"
             }
            ],
            "label": "Informal",
            "method": "update"
           },
           {
            "args": [
             {
              "visible": [
               false,
               false,
               false,
               false,
               false,
               false,
               false,
               false,
               false,
               false,
               false,
               false,
               false,
               false,
               false,
               false,
               false,
               false,
               false,
               false,
               false,
               false,
               false,
               false,
               false,
               false,
               false,
               false,
               true,
               true,
               true,
               true,
               true,
               true,
               true,
               true,
               true,
               true,
               true,
               true,
               true,
               true
              ]
             },
             {
              "annotations": [
               {
                "align": "right",
                "font": {
                 "color": "black",
                 "size": 12
                },
                "showarrow": false,
                "text": "Overall, how much do you<br>think this person feels<br>supported by you?",
                "x": 0.14,
                "xanchor": "right",
                "xref": "paper",
                "y": "Overall, how much do you<br>think this person feels<br>supported by you?",
                "yref": "y"
               },
               {
                "font": {
                 "color": "#595959",
                 "size": 12
                },
                "showarrow": false,
                "text": "12.3%",
                "x": 9.55,
                "xref": "x",
                "y": "Overall, how much do you<br>think this person feels<br>supported by you?",
                "yref": "y"
               },
               {
                "font": {
                 "color": "#595959",
                 "size": 12
                },
                "showarrow": false,
                "text": "19.6%",
                "x": 25.5,
                "xref": "x",
                "y": "Overall, how much do you<br>think this person feels<br>supported by you?",
                "yref": "y"
               },
               {
                "font": {
                 "color": "#595959",
                 "size": 12
                },
                "showarrow": false,
                "text": "33.4%",
                "x": 52,
                "xref": "x",
                "y": "Overall, how much do you<br>think this person feels<br>supported by you?",
                "yref": "y"
               },
               {
                "font": {
                 "color": "#595959",
                 "size": 12
                },
                "showarrow": false,
                "text": "31.2%",
                "x": 84.3,
                "xref": "x",
                "y": "Overall, how much do you<br>think this person feels<br>supported by you?",
                "yref": "y"
               },
               {
                "align": "right",
                "font": {
                 "color": "black",
                 "size": 12
                },
                "showarrow": false,
                "text": "Overall, how supported<br>do you feel by this<br>person?",
                "x": 0.14,
                "xanchor": "right",
                "xref": "paper",
                "y": "Overall, how supported<br>do you feel by this<br>person?",
                "yref": "y"
               },
               {
                "font": {
                 "color": "#595959",
                 "size": 12
                },
                "showarrow": false,
                "text": "11.4%",
                "x": 9.8,
                "xref": "x",
                "y": "Overall, how supported<br>do you feel by this<br>person?",
                "yref": "y"
               },
               {
                "font": {
                 "color": "#595959",
                 "size": 12
                },
                "showarrow": false,
                "text": "16.7%",
                "x": 23.85,
                "xref": "x",
                "y": "Overall, how supported<br>do you feel by this<br>person?",
                "yref": "y"
               },
               {
                "font": {
                 "color": "#595959",
                 "size": 12
                },
                "showarrow": false,
                "text": "33.4%",
                "x": 48.900000000000006,
                "xref": "x",
                "y": "Overall, how supported<br>do you feel by this<br>person?",
                "yref": "y"
               },
               {
                "font": {
                 "color": "#595959",
                 "size": 12
                },
                "showarrow": false,
                "text": "34.4%",
                "x": 82.8,
                "xref": "x",
                "y": "Overall, how supported<br>do you feel by this<br>person?",
                "yref": "y"
               }
              ],
              "title": "Friend"
             }
            ],
            "label": "Friend",
            "method": "update"
           }
          ],
          "direction": "right",
          "showactive": true,
          "type": "buttons",
          "x": 0.684,
          "y": 1.3
         }
        ],
        "xaxis": {
         "domain": [
          0.15,
          1
         ],
         "showgrid": false,
         "showline": false,
         "showticklabels": false,
         "zeroline": false
        },
        "yaxis": {
         "showgrid": false,
         "showline": false,
         "showticklabels": false,
         "zeroline": false
        }
       }
      },
      "text/html": [
       "<div>\n",
       "        \n",
       "        \n",
       "            <div id=\"ded9ae62-69fe-4531-b5e9-cd4fa3b21677\" class=\"plotly-graph-div\" style=\"height:525px; width:100%;\"></div>\n",
       "            <script type=\"text/javascript\">\n",
       "                require([\"plotly\"], function(Plotly) {\n",
       "                    window.PLOTLYENV=window.PLOTLYENV || {};\n",
       "                    \n",
       "                if (document.getElementById(\"ded9ae62-69fe-4531-b5e9-cd4fa3b21677\")) {\n",
       "                    Plotly.newPlot(\n",
       "                        'ded9ae62-69fe-4531-b5e9-cd4fa3b21677',\n",
       "                        [{\"hovertemplate\": \"<b>%{x}%</b><extra></extra>\", \"marker\": {\"color\": \"#FF6478\"}, \"orientation\": \"h\", \"showlegend\": false, \"type\": \"bar\", \"x\": [22.3], \"y\": [\"Overall, how much do you<br>think this person feels<br>supported by you?\"]}, {\"hovertemplate\": \"<b>%{x}%</b><extra></extra>\", \"marker\": {\"color\": \"#FF6478\"}, \"name\": \"Not at all\", \"orientation\": \"h\", \"showlegend\": true, \"type\": \"bar\", \"x\": [11.5], \"y\": [\"Overall, how supported<br>do you feel by this<br>person?\"]}, {\"hovertemplate\": \"<b>%{x}%</b><extra></extra>\", \"marker\": {\"color\": \"#FF8477\"}, \"orientation\": \"h\", \"showlegend\": false, \"type\": \"bar\", \"x\": [11.4], \"y\": [\"Overall, how much do you<br>think this person feels<br>supported by you?\"]}, {\"hovertemplate\": \"<b>%{x}%</b><extra></extra>\", \"marker\": {\"color\": \"#FF8477\"}, \"name\": \"Rarely\", \"orientation\": \"h\", \"showlegend\": true, \"type\": \"bar\", \"x\": [4.8], \"y\": [\"Overall, how supported<br>do you feel by this<br>person?\"]}, {\"hovertemplate\": \"<b>%{x}%</b><extra></extra>\", \"marker\": {\"color\": \"#FF9F77\"}, \"orientation\": \"h\", \"showlegend\": false, \"type\": \"bar\", \"x\": [11.5], \"y\": [\"Overall, how much do you<br>think this person feels<br>supported by you?\"]}, {\"hovertemplate\": \"<b>%{x}%</b><extra></extra>\", \"marker\": {\"color\": \"#FF9F77\"}, \"name\": \"Occasionally\", \"orientation\": \"h\", \"showlegend\": true, \"type\": \"bar\", \"x\": [4.2], \"y\": [\"Overall, how supported<br>do you feel by this<br>person?\"]}, {\"hovertemplate\": \"<b>%{x}%</b><extra></extra>\", \"marker\": {\"color\": \"#FFB775\"}, \"orientation\": \"h\", \"showlegend\": false, \"type\": \"bar\", \"x\": [23.0], \"y\": [\"Overall, how much do you<br>think this person feels<br>supported by you?\"]}, {\"hovertemplate\": \"<b>%{x}%</b><extra></extra>\", \"marker\": {\"color\": \"#FFB775\"}, \"name\": \"Sometimes\", \"orientation\": \"h\", \"showlegend\": true, \"type\": \"bar\", \"x\": [12.6], \"y\": [\"Overall, how supported<br>do you feel by this<br>person?\"]}, {\"hovertemplate\": \"<b>%{x}%</b><extra></extra>\", \"marker\": {\"color\": \"#BCF0C2\"}, \"orientation\": \"h\", \"showlegend\": false, \"type\": \"bar\", \"x\": [9.8], \"y\": [\"Overall, how much do you<br>think this person feels<br>supported by you?\"]}, {\"hovertemplate\": \"<b>%{x}%</b><extra></extra>\", \"marker\": {\"color\": \"#BCF0C2\"}, \"name\": \"???\", \"orientation\": \"h\", \"showlegend\": true, \"type\": \"bar\", \"x\": [16.9], \"y\": [\"Overall, how supported<br>do you feel by this<br>person?\"]}, {\"hovertemplate\": \"<b>%{x}%</b><extra></extra>\", \"marker\": {\"color\": \"#8BE595\"}, \"orientation\": \"h\", \"showlegend\": false, \"type\": \"bar\", \"x\": [10.1], \"y\": [\"Overall, how much do you<br>think this person feels<br>supported by you?\"]}, {\"hovertemplate\": \"<b>%{x}%</b><extra></extra>\", \"marker\": {\"color\": \"#8BE595\"}, \"name\": \"Often\", \"orientation\": \"h\", \"showlegend\": true, \"type\": \"bar\", \"x\": [22.4], \"y\": [\"Overall, how supported<br>do you feel by this<br>person?\"]}, {\"hovertemplate\": \"<b>%{x}%</b><extra></extra>\", \"marker\": {\"color\": \"#56DA65\"}, \"orientation\": \"h\", \"showlegend\": false, \"type\": \"bar\", \"x\": [11.8], \"y\": [\"Overall, how much do you<br>think this person feels<br>supported by you?\"]}, {\"hovertemplate\": \"<b>%{x}%</b><extra></extra>\", \"marker\": {\"color\": \"#56DA65\"}, \"name\": \"A lot\", \"orientation\": \"h\", \"showlegend\": true, \"type\": \"bar\", \"x\": [27.5], \"y\": [\"Overall, how supported<br>do you feel by this<br>person?\"]}, {\"hovertemplate\": \"<b>%{x}%</b><extra></extra>\", \"marker\": {\"color\": \"#FF6478\"}, \"orientation\": \"h\", \"showlegend\": false, \"type\": \"bar\", \"visible\": false, \"x\": [4.6], \"y\": [\"Overall, how much do you<br>think this person feels<br>supported by you?\"]}, {\"hovertemplate\": \"<b>%{x}%</b><extra></extra>\", \"marker\": {\"color\": \"#FF6478\"}, \"name\": \"Not at all\", \"orientation\": \"h\", \"showlegend\": true, \"type\": \"bar\", \"visible\": false, \"x\": [7.1], \"y\": [\"Overall, how supported<br>do you feel by this<br>person?\"]}, {\"hovertemplate\": \"<b>%{x}%</b><extra></extra>\", \"marker\": {\"color\": \"#FF8477\"}, \"orientation\": \"h\", \"showlegend\": false, \"type\": \"bar\", \"visible\": false, \"x\": [3.5], \"y\": [\"Overall, how much do you<br>think this person feels<br>supported by you?\"]}, {\"hovertemplate\": \"<b>%{x}%</b><extra></extra>\", \"marker\": {\"color\": \"#FF8477\"}, \"name\": \"Rarely\", \"orientation\": \"h\", \"showlegend\": true, \"type\": \"bar\", \"visible\": false, \"x\": [3.3], \"y\": [\"Overall, how supported<br>do you feel by this<br>person?\"]}, {\"hovertemplate\": \"<b>%{x}%</b><extra></extra>\", \"marker\": {\"color\": \"#FF9F77\"}, \"orientation\": \"h\", \"showlegend\": false, \"type\": \"bar\", \"visible\": false, \"x\": [6.2], \"y\": [\"Overall, how much do you<br>think this person feels<br>supported by you?\"]}, {\"hovertemplate\": \"<b>%{x}%</b><extra></extra>\", \"marker\": {\"color\": \"#FF9F77\"}, \"name\": \"Occasionally\", \"orientation\": \"h\", \"showlegend\": true, \"type\": \"bar\", \"visible\": false, \"x\": [5.6], \"y\": [\"Overall, how supported<br>do you feel by this<br>person?\"]}, {\"hovertemplate\": \"<b>%{x}%</b><extra></extra>\", \"marker\": {\"color\": \"#FFB775\"}, \"orientation\": \"h\", \"showlegend\": false, \"type\": \"bar\", \"visible\": false, \"x\": [15.5], \"y\": [\"Overall, how much do you<br>think this person feels<br>supported by you?\"]}, {\"hovertemplate\": \"<b>%{x}%</b><extra></extra>\", \"marker\": {\"color\": \"#FFB775\"}, \"name\": \"Sometimes\", \"orientation\": \"h\", \"showlegend\": true, \"type\": \"bar\", \"visible\": false, \"x\": [9.6], \"y\": [\"Overall, how supported<br>do you feel by this<br>person?\"]}, {\"hovertemplate\": \"<b>%{x}%</b><extra></extra>\", \"marker\": {\"color\": \"#BCF0C2\"}, \"orientation\": \"h\", \"showlegend\": false, \"type\": \"bar\", \"visible\": false, \"x\": [19.5], \"y\": [\"Overall, how much do you<br>think this person feels<br>supported by you?\"]}, {\"hovertemplate\": \"<b>%{x}%</b><extra></extra>\", \"marker\": {\"color\": \"#BCF0C2\"}, \"name\": \"???\", \"orientation\": \"h\", \"showlegend\": true, \"type\": \"bar\", \"visible\": false, \"x\": [13.8], \"y\": [\"Overall, how supported<br>do you feel by this<br>person?\"]}, {\"hovertemplate\": \"<b>%{x}%</b><extra></extra>\", \"marker\": {\"color\": \"#8BE595\"}, \"orientation\": \"h\", \"showlegend\": false, \"type\": \"bar\", \"visible\": false, \"x\": [22.6], \"y\": [\"Overall, how much do you<br>think this person feels<br>supported by you?\"]}, {\"hovertemplate\": \"<b>%{x}%</b><extra></extra>\", \"marker\": {\"color\": \"#8BE595\"}, \"name\": \"Often\", \"orientation\": \"h\", \"showlegend\": true, \"type\": \"bar\", \"visible\": false, \"x\": [21.5], \"y\": [\"Overall, how supported<br>do you feel by this<br>person?\"]}, {\"hovertemplate\": \"<b>%{x}%</b><extra></extra>\", \"marker\": {\"color\": \"#56DA65\"}, \"orientation\": \"h\", \"showlegend\": false, \"type\": \"bar\", \"visible\": false, \"x\": [28.1], \"y\": [\"Overall, how much do you<br>think this person feels<br>supported by you?\"]}, {\"hovertemplate\": \"<b>%{x}%</b><extra></extra>\", \"marker\": {\"color\": \"#56DA65\"}, \"name\": \"A lot\", \"orientation\": \"h\", \"showlegend\": true, \"type\": \"bar\", \"visible\": false, \"x\": [39.1], \"y\": [\"Overall, how supported<br>do you feel by this<br>person?\"]}, {\"hovertemplate\": \"<b>%{x}%</b><extra></extra>\", \"marker\": {\"color\": \"#FF6478\"}, \"orientation\": \"h\", \"showlegend\": false, \"type\": \"bar\", \"visible\": false, \"x\": [0.3], \"y\": [\"Overall, how much do you<br>think this person feels<br>supported by you?\"]}, {\"hovertemplate\": \"<b>%{x}%</b><extra></extra>\", \"marker\": {\"color\": \"#FF6478\"}, \"name\": \"Not at all\", \"orientation\": \"h\", \"showlegend\": true, \"type\": \"bar\", \"visible\": false, \"x\": [0.3], \"y\": [\"Overall, how supported<br>do you feel by this<br>person?\"]}, {\"hovertemplate\": \"<b>%{x}%</b><extra></extra>\", \"marker\": {\"color\": \"#FF8477\"}, \"orientation\": \"h\", \"showlegend\": false, \"type\": \"bar\", \"visible\": false, \"x\": [0.9], \"y\": [\"Overall, how much do you<br>think this person feels<br>supported by you?\"]}, {\"hovertemplate\": \"<b>%{x}%</b><extra></extra>\", \"marker\": {\"color\": \"#FF8477\"}, \"name\": \"Rarely\", \"orientation\": \"h\", \"showlegend\": true, \"type\": \"bar\", \"visible\": false, \"x\": [1.3], \"y\": [\"Overall, how supported<br>do you feel by this<br>person?\"]}, {\"hovertemplate\": \"<b>%{x}%</b><extra></extra>\", \"marker\": {\"color\": \"#FF9F77\"}, \"orientation\": \"h\", \"showlegend\": false, \"type\": \"bar\", \"visible\": false, \"x\": [2.2], \"y\": [\"Overall, how much do you<br>think this person feels<br>supported by you?\"]}, {\"hovertemplate\": \"<b>%{x}%</b><extra></extra>\", \"marker\": {\"color\": \"#FF9F77\"}, \"name\": \"Occasionally\", \"orientation\": \"h\", \"showlegend\": true, \"type\": \"bar\", \"visible\": false, \"x\": [2.5], \"y\": [\"Overall, how supported<br>do you feel by this<br>person?\"]}, {\"hovertemplate\": \"<b>%{x}%</b><extra></extra>\", \"marker\": {\"color\": \"#FFB775\"}, \"orientation\": \"h\", \"showlegend\": false, \"type\": \"bar\", \"visible\": false, \"x\": [12.3], \"y\": [\"Overall, how much do you<br>think this person feels<br>supported by you?\"]}, {\"hovertemplate\": \"<b>%{x}%</b><extra></extra>\", \"marker\": {\"color\": \"#FFB775\"}, \"name\": \"Sometimes\", \"orientation\": \"h\", \"showlegend\": true, \"type\": \"bar\", \"visible\": false, \"x\": [11.4], \"y\": [\"Overall, how supported<br>do you feel by this<br>person?\"]}, {\"hovertemplate\": \"<b>%{x}%</b><extra></extra>\", \"marker\": {\"color\": \"#BCF0C2\"}, \"orientation\": \"h\", \"showlegend\": false, \"type\": \"bar\", \"visible\": false, \"x\": [19.6], \"y\": [\"Overall, how much do you<br>think this person feels<br>supported by you?\"]}, {\"hovertemplate\": \"<b>%{x}%</b><extra></extra>\", \"marker\": {\"color\": \"#BCF0C2\"}, \"name\": \"???\", \"orientation\": \"h\", \"showlegend\": true, \"type\": \"bar\", \"visible\": false, \"x\": [16.7], \"y\": [\"Overall, how supported<br>do you feel by this<br>person?\"]}, {\"hovertemplate\": \"<b>%{x}%</b><extra></extra>\", \"marker\": {\"color\": \"#8BE595\"}, \"orientation\": \"h\", \"showlegend\": false, \"type\": \"bar\", \"visible\": false, \"x\": [33.4], \"y\": [\"Overall, how much do you<br>think this person feels<br>supported by you?\"]}, {\"hovertemplate\": \"<b>%{x}%</b><extra></extra>\", \"marker\": {\"color\": \"#8BE595\"}, \"name\": \"Often\", \"orientation\": \"h\", \"showlegend\": true, \"type\": \"bar\", \"visible\": false, \"x\": [33.4], \"y\": [\"Overall, how supported<br>do you feel by this<br>person?\"]}, {\"hovertemplate\": \"<b>%{x}%</b><extra></extra>\", \"marker\": {\"color\": \"#56DA65\"}, \"orientation\": \"h\", \"showlegend\": false, \"type\": \"bar\", \"visible\": false, \"x\": [31.2], \"y\": [\"Overall, how much do you<br>think this person feels<br>supported by you?\"]}, {\"hovertemplate\": \"<b>%{x}%</b><extra></extra>\", \"marker\": {\"color\": \"#56DA65\"}, \"name\": \"A lot\", \"orientation\": \"h\", \"showlegend\": true, \"type\": \"bar\", \"visible\": false, \"x\": [34.4], \"y\": [\"Overall, how supported<br>do you feel by this<br>person?\"]}],\n",
       "                        {\"annotations\": [{\"align\": \"right\", \"font\": {\"color\": \"black\", \"size\": 12}, \"showarrow\": false, \"text\": \"Overall, how much do you<br>think this person feels<br>supported by you?\", \"x\": 0.14, \"xanchor\": \"right\", \"xref\": \"paper\", \"y\": \"Overall, how much do you<br>think this person feels<br>supported by you?\", \"yref\": \"y\"}, {\"font\": {\"color\": \"#595959\", \"size\": 12}, \"showarrow\": false, \"text\": \"22.3%\", \"x\": 11.15, \"xref\": \"x\", \"y\": \"Overall, how much do you<br>think this person feels<br>supported by you?\", \"yref\": \"y\"}, {\"font\": {\"color\": \"#595959\", \"size\": 12}, \"showarrow\": false, \"text\": \"11.4%\", \"x\": 28.0, \"xref\": \"x\", \"y\": \"Overall, how much do you<br>think this person feels<br>supported by you?\", \"yref\": \"y\"}, {\"font\": {\"color\": \"#595959\", \"size\": 12}, \"showarrow\": false, \"text\": \"11.5%\", \"x\": 39.45, \"xref\": \"x\", \"y\": \"Overall, how much do you<br>think this person feels<br>supported by you?\", \"yref\": \"y\"}, {\"font\": {\"color\": \"#595959\", \"size\": 12}, \"showarrow\": false, \"text\": \"23.0%\", \"x\": 56.7, \"xref\": \"x\", \"y\": \"Overall, how much do you<br>think this person feels<br>supported by you?\", \"yref\": \"y\"}, {\"font\": {\"color\": \"#595959\", \"size\": 12}, \"showarrow\": false, \"text\": \"9.8%\", \"x\": 73.10000000000001, \"xref\": \"x\", \"y\": \"Overall, how much do you<br>think this person feels<br>supported by you?\", \"yref\": \"y\"}, {\"font\": {\"color\": \"#595959\", \"size\": 12}, \"showarrow\": false, \"text\": \"10.1%\", \"x\": 83.05, \"xref\": \"x\", \"y\": \"Overall, how much do you<br>think this person feels<br>supported by you?\", \"yref\": \"y\"}, {\"font\": {\"color\": \"#595959\", \"size\": 12}, \"showarrow\": false, \"text\": \"11.8%\", \"x\": 94.0, \"xref\": \"x\", \"y\": \"Overall, how much do you<br>think this person feels<br>supported by you?\", \"yref\": \"y\"}, {\"align\": \"right\", \"font\": {\"color\": \"black\", \"size\": 12}, \"showarrow\": false, \"text\": \"Overall, how supported<br>do you feel by this<br>person?\", \"x\": 0.14, \"xanchor\": \"right\", \"xref\": \"paper\", \"y\": \"Overall, how supported<br>do you feel by this<br>person?\", \"yref\": \"y\"}, {\"font\": {\"color\": \"#595959\", \"size\": 12}, \"showarrow\": false, \"text\": \"11.5%\", \"x\": 5.75, \"xref\": \"x\", \"y\": \"Overall, how supported<br>do you feel by this<br>person?\", \"yref\": \"y\"}, {\"font\": {\"color\": \"#595959\", \"size\": 12}, \"showarrow\": false, \"text\": \"12.6%\", \"x\": 26.8, \"xref\": \"x\", \"y\": \"Overall, how supported<br>do you feel by this<br>person?\", \"yref\": \"y\"}, {\"font\": {\"color\": \"#595959\", \"size\": 12}, \"showarrow\": false, \"text\": \"16.9%\", \"x\": 41.55, \"xref\": \"x\", \"y\": \"Overall, how supported<br>do you feel by this<br>person?\", \"yref\": \"y\"}, {\"font\": {\"color\": \"#595959\", \"size\": 12}, \"showarrow\": false, \"text\": \"22.4%\", \"x\": 61.2, \"xref\": \"x\", \"y\": \"Overall, how supported<br>do you feel by this<br>person?\", \"yref\": \"y\"}, {\"font\": {\"color\": \"#595959\", \"size\": 12}, \"showarrow\": false, \"text\": \"27.5%\", \"x\": 86.15, \"xref\": \"x\", \"y\": \"Overall, how supported<br>do you feel by this<br>person?\", \"yref\": \"y\"}], \"barmode\": \"stack\", \"font\": {\"color\": \"black\", \"size\": 12}, \"legend\": {\"itemclick\": false, \"orientation\": \"h\", \"traceorder\": \"normal\", \"x\": 0.94, \"xanchor\": \"right\", \"y\": 1.02, \"yanchor\": \"bottom\"}, \"margin\": {\"b\": 80, \"l\": 120, \"r\": 10, \"t\": 140}, \"paper_bgcolor\": \"rgb(248, 248, 255)\", \"plot_bgcolor\": \"rgb(248, 248, 255)\", \"template\": {\"data\": {\"bar\": [{\"error_x\": {\"color\": \"#2a3f5f\"}, \"error_y\": {\"color\": \"#2a3f5f\"}, \"marker\": {\"line\": {\"color\": \"#E5ECF6\", \"width\": 0.5}}, \"type\": \"bar\"}], \"barpolar\": [{\"marker\": {\"line\": {\"color\": \"#E5ECF6\", \"width\": 0.5}}, \"type\": \"barpolar\"}], \"carpet\": [{\"aaxis\": {\"endlinecolor\": \"#2a3f5f\", \"gridcolor\": \"white\", \"linecolor\": \"white\", \"minorgridcolor\": \"white\", \"startlinecolor\": \"#2a3f5f\"}, \"baxis\": {\"endlinecolor\": \"#2a3f5f\", \"gridcolor\": \"white\", \"linecolor\": \"white\", \"minorgridcolor\": \"white\", \"startlinecolor\": \"#2a3f5f\"}, \"type\": \"carpet\"}], \"choropleth\": [{\"colorbar\": {\"outlinewidth\": 0, \"ticks\": \"\"}, \"type\": \"choropleth\"}], \"contour\": [{\"colorbar\": {\"outlinewidth\": 0, \"ticks\": \"\"}, \"colorscale\": [[0.0, \"#0d0887\"], [0.1111111111111111, \"#46039f\"], [0.2222222222222222, \"#7201a8\"], [0.3333333333333333, \"#9c179e\"], [0.4444444444444444, \"#bd3786\"], [0.5555555555555556, \"#d8576b\"], [0.6666666666666666, \"#ed7953\"], [0.7777777777777778, \"#fb9f3a\"], [0.8888888888888888, \"#fdca26\"], [1.0, \"#f0f921\"]], \"type\": \"contour\"}], \"contourcarpet\": [{\"colorbar\": {\"outlinewidth\": 0, \"ticks\": \"\"}, \"type\": \"contourcarpet\"}], \"heatmap\": [{\"colorbar\": {\"outlinewidth\": 0, \"ticks\": \"\"}, \"colorscale\": [[0.0, \"#0d0887\"], [0.1111111111111111, \"#46039f\"], [0.2222222222222222, \"#7201a8\"], [0.3333333333333333, \"#9c179e\"], [0.4444444444444444, \"#bd3786\"], [0.5555555555555556, \"#d8576b\"], [0.6666666666666666, \"#ed7953\"], [0.7777777777777778, \"#fb9f3a\"], [0.8888888888888888, \"#fdca26\"], [1.0, \"#f0f921\"]], \"type\": \"heatmap\"}], \"heatmapgl\": [{\"colorbar\": {\"outlinewidth\": 0, \"ticks\": \"\"}, \"colorscale\": [[0.0, \"#0d0887\"], [0.1111111111111111, \"#46039f\"], [0.2222222222222222, \"#7201a8\"], [0.3333333333333333, \"#9c179e\"], [0.4444444444444444, \"#bd3786\"], [0.5555555555555556, \"#d8576b\"], [0.6666666666666666, \"#ed7953\"], [0.7777777777777778, \"#fb9f3a\"], [0.8888888888888888, \"#fdca26\"], [1.0, \"#f0f921\"]], \"type\": \"heatmapgl\"}], \"histogram\": [{\"marker\": {\"colorbar\": {\"outlinewidth\": 0, \"ticks\": \"\"}}, \"type\": \"histogram\"}], \"histogram2d\": [{\"colorbar\": {\"outlinewidth\": 0, \"ticks\": \"\"}, \"colorscale\": [[0.0, \"#0d0887\"], [0.1111111111111111, \"#46039f\"], [0.2222222222222222, \"#7201a8\"], [0.3333333333333333, \"#9c179e\"], [0.4444444444444444, \"#bd3786\"], [0.5555555555555556, \"#d8576b\"], [0.6666666666666666, \"#ed7953\"], [0.7777777777777778, \"#fb9f3a\"], [0.8888888888888888, \"#fdca26\"], [1.0, \"#f0f921\"]], \"type\": \"histogram2d\"}], \"histogram2dcontour\": [{\"colorbar\": {\"outlinewidth\": 0, \"ticks\": \"\"}, \"colorscale\": [[0.0, \"#0d0887\"], [0.1111111111111111, \"#46039f\"], [0.2222222222222222, \"#7201a8\"], [0.3333333333333333, \"#9c179e\"], [0.4444444444444444, \"#bd3786\"], [0.5555555555555556, \"#d8576b\"], [0.6666666666666666, \"#ed7953\"], [0.7777777777777778, \"#fb9f3a\"], [0.8888888888888888, \"#fdca26\"], [1.0, \"#f0f921\"]], \"type\": \"histogram2dcontour\"}], \"mesh3d\": [{\"colorbar\": {\"outlinewidth\": 0, \"ticks\": \"\"}, \"type\": \"mesh3d\"}], \"parcoords\": [{\"line\": {\"colorbar\": {\"outlinewidth\": 0, \"ticks\": \"\"}}, \"type\": \"parcoords\"}], \"pie\": [{\"automargin\": true, \"type\": \"pie\"}], \"scatter\": [{\"marker\": {\"colorbar\": {\"outlinewidth\": 0, \"ticks\": \"\"}}, \"type\": \"scatter\"}], \"scatter3d\": [{\"line\": {\"colorbar\": {\"outlinewidth\": 0, \"ticks\": \"\"}}, \"marker\": {\"colorbar\": {\"outlinewidth\": 0, \"ticks\": \"\"}}, \"type\": \"scatter3d\"}], \"scattercarpet\": [{\"marker\": {\"colorbar\": {\"outlinewidth\": 0, \"ticks\": \"\"}}, \"type\": \"scattercarpet\"}], \"scattergeo\": [{\"marker\": {\"colorbar\": {\"outlinewidth\": 0, \"ticks\": \"\"}}, \"type\": \"scattergeo\"}], \"scattergl\": [{\"marker\": {\"colorbar\": {\"outlinewidth\": 0, \"ticks\": \"\"}}, \"type\": \"scattergl\"}], \"scattermapbox\": [{\"marker\": {\"colorbar\": {\"outlinewidth\": 0, \"ticks\": \"\"}}, \"type\": \"scattermapbox\"}], \"scatterpolar\": [{\"marker\": {\"colorbar\": {\"outlinewidth\": 0, \"ticks\": \"\"}}, \"type\": \"scatterpolar\"}], \"scatterpolargl\": [{\"marker\": {\"colorbar\": {\"outlinewidth\": 0, \"ticks\": \"\"}}, \"type\": \"scatterpolargl\"}], \"scatterternary\": [{\"marker\": {\"colorbar\": {\"outlinewidth\": 0, \"ticks\": \"\"}}, \"type\": \"scatterternary\"}], \"surface\": [{\"colorbar\": {\"outlinewidth\": 0, \"ticks\": \"\"}, \"colorscale\": [[0.0, \"#0d0887\"], [0.1111111111111111, \"#46039f\"], [0.2222222222222222, \"#7201a8\"], [0.3333333333333333, \"#9c179e\"], [0.4444444444444444, \"#bd3786\"], [0.5555555555555556, \"#d8576b\"], [0.6666666666666666, \"#ed7953\"], [0.7777777777777778, \"#fb9f3a\"], [0.8888888888888888, \"#fdca26\"], [1.0, \"#f0f921\"]], \"type\": \"surface\"}], \"table\": [{\"cells\": {\"fill\": {\"color\": \"#EBF0F8\"}, \"line\": {\"color\": \"white\"}}, \"header\": {\"fill\": {\"color\": \"#C8D4E3\"}, \"line\": {\"color\": \"white\"}}, \"type\": \"table\"}]}, \"layout\": {\"annotationdefaults\": {\"arrowcolor\": \"#2a3f5f\", \"arrowhead\": 0, \"arrowwidth\": 1}, \"coloraxis\": {\"colorbar\": {\"outlinewidth\": 0, \"ticks\": \"\"}}, \"colorscale\": {\"diverging\": [[0, \"#8e0152\"], [0.1, \"#c51b7d\"], [0.2, \"#de77ae\"], [0.3, \"#f1b6da\"], [0.4, \"#fde0ef\"], [0.5, \"#f7f7f7\"], [0.6, \"#e6f5d0\"], [0.7, \"#b8e186\"], [0.8, \"#7fbc41\"], [0.9, \"#4d9221\"], [1, \"#276419\"]], \"sequential\": [[0.0, \"#0d0887\"], [0.1111111111111111, \"#46039f\"], [0.2222222222222222, \"#7201a8\"], [0.3333333333333333, \"#9c179e\"], [0.4444444444444444, \"#bd3786\"], [0.5555555555555556, \"#d8576b\"], [0.6666666666666666, \"#ed7953\"], [0.7777777777777778, \"#fb9f3a\"], [0.8888888888888888, \"#fdca26\"], [1.0, \"#f0f921\"]], \"sequentialminus\": [[0.0, \"#0d0887\"], [0.1111111111111111, \"#46039f\"], [0.2222222222222222, \"#7201a8\"], [0.3333333333333333, \"#9c179e\"], [0.4444444444444444, \"#bd3786\"], [0.5555555555555556, \"#d8576b\"], [0.6666666666666666, \"#ed7953\"], [0.7777777777777778, \"#fb9f3a\"], [0.8888888888888888, \"#fdca26\"], [1.0, \"#f0f921\"]]}, \"colorway\": [\"#636efa\", \"#EF553B\", \"#00cc96\", \"#ab63fa\", \"#FFA15A\", \"#19d3f3\", \"#FF6692\", \"#B6E880\", \"#FF97FF\", \"#FECB52\"], \"font\": {\"color\": \"#2a3f5f\"}, \"geo\": {\"bgcolor\": \"white\", \"lakecolor\": \"white\", \"landcolor\": \"#E5ECF6\", \"showlakes\": true, \"showland\": true, \"subunitcolor\": \"white\"}, \"hoverlabel\": {\"align\": \"left\"}, \"hovermode\": \"closest\", \"mapbox\": {\"style\": \"light\"}, \"paper_bgcolor\": \"white\", \"plot_bgcolor\": \"#E5ECF6\", \"polar\": {\"angularaxis\": {\"gridcolor\": \"white\", \"linecolor\": \"white\", \"ticks\": \"\"}, \"bgcolor\": \"#E5ECF6\", \"radialaxis\": {\"gridcolor\": \"white\", \"linecolor\": \"white\", \"ticks\": \"\"}}, \"scene\": {\"xaxis\": {\"backgroundcolor\": \"#E5ECF6\", \"gridcolor\": \"white\", \"gridwidth\": 2, \"linecolor\": \"white\", \"showbackground\": true, \"ticks\": \"\", \"zerolinecolor\": \"white\"}, \"yaxis\": {\"backgroundcolor\": \"#E5ECF6\", \"gridcolor\": \"white\", \"gridwidth\": 2, \"linecolor\": \"white\", \"showbackground\": true, \"ticks\": \"\", \"zerolinecolor\": \"white\"}, \"zaxis\": {\"backgroundcolor\": \"#E5ECF6\", \"gridcolor\": \"white\", \"gridwidth\": 2, \"linecolor\": \"white\", \"showbackground\": true, \"ticks\": \"\", \"zerolinecolor\": \"white\"}}, \"shapedefaults\": {\"line\": {\"color\": \"#2a3f5f\"}}, \"ternary\": {\"aaxis\": {\"gridcolor\": \"white\", \"linecolor\": \"white\", \"ticks\": \"\"}, \"baxis\": {\"gridcolor\": \"white\", \"linecolor\": \"white\", \"ticks\": \"\"}, \"bgcolor\": \"#E5ECF6\", \"caxis\": {\"gridcolor\": \"white\", \"linecolor\": \"white\", \"ticks\": \"\"}}, \"title\": {\"x\": 0.05}, \"xaxis\": {\"automargin\": true, \"gridcolor\": \"white\", \"linecolor\": \"white\", \"ticks\": \"\", \"title\": {\"standoff\": 15}, \"zerolinecolor\": \"white\", \"zerolinewidth\": 2}, \"yaxis\": {\"automargin\": true, \"gridcolor\": \"white\", \"linecolor\": \"white\", \"ticks\": \"\", \"title\": {\"standoff\": 15}, \"zerolinecolor\": \"white\", \"zerolinewidth\": 2}}}, \"title\": {\"text\": \"Formal\", \"x\": 0.95, \"y\": 0.88}, \"updatemenus\": [{\"bgcolor\": \"#c9c7c7\", \"buttons\": [{\"args\": [{\"visible\": [true, true, true, true, true, true, true, true, true, true, true, true, true, true, false, false, false, false, false, false, false, false, false, false, false, false, false, false, false, false, false, false, false, false, false, false, false, false, false, false, false, false]}, {\"annotations\": [{\"align\": \"right\", \"font\": {\"color\": \"black\", \"size\": 12}, \"showarrow\": false, \"text\": \"Overall, how much do you<br>think this person feels<br>supported by you?\", \"x\": 0.14, \"xanchor\": \"right\", \"xref\": \"paper\", \"y\": \"Overall, how much do you<br>think this person feels<br>supported by you?\", \"yref\": \"y\"}, {\"font\": {\"color\": \"#595959\", \"size\": 12}, \"showarrow\": false, \"text\": \"22.3%\", \"x\": 11.15, \"xref\": \"x\", \"y\": \"Overall, how much do you<br>think this person feels<br>supported by you?\", \"yref\": \"y\"}, {\"font\": {\"color\": \"#595959\", \"size\": 12}, \"showarrow\": false, \"text\": \"11.4%\", \"x\": 28.0, \"xref\": \"x\", \"y\": \"Overall, how much do you<br>think this person feels<br>supported by you?\", \"yref\": \"y\"}, {\"font\": {\"color\": \"#595959\", \"size\": 12}, \"showarrow\": false, \"text\": \"11.5%\", \"x\": 39.45, \"xref\": \"x\", \"y\": \"Overall, how much do you<br>think this person feels<br>supported by you?\", \"yref\": \"y\"}, {\"font\": {\"color\": \"#595959\", \"size\": 12}, \"showarrow\": false, \"text\": \"23.0%\", \"x\": 56.7, \"xref\": \"x\", \"y\": \"Overall, how much do you<br>think this person feels<br>supported by you?\", \"yref\": \"y\"}, {\"font\": {\"color\": \"#595959\", \"size\": 12}, \"showarrow\": false, \"text\": \"9.8%\", \"x\": 73.10000000000001, \"xref\": \"x\", \"y\": \"Overall, how much do you<br>think this person feels<br>supported by you?\", \"yref\": \"y\"}, {\"font\": {\"color\": \"#595959\", \"size\": 12}, \"showarrow\": false, \"text\": \"10.1%\", \"x\": 83.05, \"xref\": \"x\", \"y\": \"Overall, how much do you<br>think this person feels<br>supported by you?\", \"yref\": \"y\"}, {\"font\": {\"color\": \"#595959\", \"size\": 12}, \"showarrow\": false, \"text\": \"11.8%\", \"x\": 94.0, \"xref\": \"x\", \"y\": \"Overall, how much do you<br>think this person feels<br>supported by you?\", \"yref\": \"y\"}, {\"align\": \"right\", \"font\": {\"color\": \"black\", \"size\": 12}, \"showarrow\": false, \"text\": \"Overall, how supported<br>do you feel by this<br>person?\", \"x\": 0.14, \"xanchor\": \"right\", \"xref\": \"paper\", \"y\": \"Overall, how supported<br>do you feel by this<br>person?\", \"yref\": \"y\"}, {\"font\": {\"color\": \"#595959\", \"size\": 12}, \"showarrow\": false, \"text\": \"11.5%\", \"x\": 5.75, \"xref\": \"x\", \"y\": \"Overall, how supported<br>do you feel by this<br>person?\", \"yref\": \"y\"}, {\"font\": {\"color\": \"#595959\", \"size\": 12}, \"showarrow\": false, \"text\": \"12.6%\", \"x\": 26.8, \"xref\": \"x\", \"y\": \"Overall, how supported<br>do you feel by this<br>person?\", \"yref\": \"y\"}, {\"font\": {\"color\": \"#595959\", \"size\": 12}, \"showarrow\": false, \"text\": \"16.9%\", \"x\": 41.55, \"xref\": \"x\", \"y\": \"Overall, how supported<br>do you feel by this<br>person?\", \"yref\": \"y\"}, {\"font\": {\"color\": \"#595959\", \"size\": 12}, \"showarrow\": false, \"text\": \"22.4%\", \"x\": 61.2, \"xref\": \"x\", \"y\": \"Overall, how supported<br>do you feel by this<br>person?\", \"yref\": \"y\"}, {\"font\": {\"color\": \"#595959\", \"size\": 12}, \"showarrow\": false, \"text\": \"27.5%\", \"x\": 86.15, \"xref\": \"x\", \"y\": \"Overall, how supported<br>do you feel by this<br>person?\", \"yref\": \"y\"}], \"title\": \"Formal\"}], \"label\": \"Formal\", \"method\": \"update\"}, {\"args\": [{\"visible\": [false, false, false, false, false, false, false, false, false, false, false, false, false, false, true, true, true, true, true, true, true, true, true, true, true, true, true, true, false, false, false, false, false, false, false, false, false, false, false, false, false, false]}, {\"annotations\": [{\"align\": \"right\", \"font\": {\"color\": \"black\", \"size\": 12}, \"showarrow\": false, \"text\": \"Overall, how much do you<br>think this person feels<br>supported by you?\", \"x\": 0.14, \"xanchor\": \"right\", \"xref\": \"paper\", \"y\": \"Overall, how much do you<br>think this person feels<br>supported by you?\", \"yref\": \"y\"}, {\"font\": {\"color\": \"#595959\", \"size\": 12}, \"showarrow\": false, \"text\": \"6.2%\", \"x\": 11.2, \"xref\": \"x\", \"y\": \"Overall, how much do you<br>think this person feels<br>supported by you?\", \"yref\": \"y\"}, {\"font\": {\"color\": \"#595959\", \"size\": 12}, \"showarrow\": false, \"text\": \"15.5%\", \"x\": 22.05, \"xref\": \"x\", \"y\": \"Overall, how much do you<br>think this person feels<br>supported by you?\", \"yref\": \"y\"}, {\"font\": {\"color\": \"#595959\", \"size\": 12}, \"showarrow\": false, \"text\": \"19.5%\", \"x\": 39.55, \"xref\": \"x\", \"y\": \"Overall, how much do you<br>think this person feels<br>supported by you?\", \"yref\": \"y\"}, {\"font\": {\"color\": \"#595959\", \"size\": 12}, \"showarrow\": false, \"text\": \"22.6%\", \"x\": 60.599999999999994, \"xref\": \"x\", \"y\": \"Overall, how much do you<br>think this person feels<br>supported by you?\", \"yref\": \"y\"}, {\"font\": {\"color\": \"#595959\", \"size\": 12}, \"showarrow\": false, \"text\": \"28.1%\", \"x\": 85.95, \"xref\": \"x\", \"y\": \"Overall, how much do you<br>think this person feels<br>supported by you?\", \"yref\": \"y\"}, {\"align\": \"right\", \"font\": {\"color\": \"black\", \"size\": 12}, \"showarrow\": false, \"text\": \"Overall, how supported<br>do you feel by this<br>person?\", \"x\": 0.14, \"xanchor\": \"right\", \"xref\": \"paper\", \"y\": \"Overall, how supported<br>do you feel by this<br>person?\", \"yref\": \"y\"}, {\"font\": {\"color\": \"#595959\", \"size\": 12}, \"showarrow\": false, \"text\": \"7.1%\", \"x\": 3.55, \"xref\": \"x\", \"y\": \"Overall, how supported<br>do you feel by this<br>person?\", \"yref\": \"y\"}, {\"font\": {\"color\": \"#595959\", \"size\": 12}, \"showarrow\": false, \"text\": \"5.6%\", \"x\": 13.2, \"xref\": \"x\", \"y\": \"Overall, how supported<br>do you feel by this<br>person?\", \"yref\": \"y\"}, {\"font\": {\"color\": \"#595959\", \"size\": 12}, \"showarrow\": false, \"text\": \"9.6%\", \"x\": 20.799999999999997, \"xref\": \"x\", \"y\": \"Overall, how supported<br>do you feel by this<br>person?\", \"yref\": \"y\"}, {\"font\": {\"color\": \"#595959\", \"size\": 12}, \"showarrow\": false, \"text\": \"13.8%\", \"x\": 32.5, \"xref\": \"x\", \"y\": \"Overall, how supported<br>do you feel by this<br>person?\", \"yref\": \"y\"}, {\"font\": {\"color\": \"#595959\", \"size\": 12}, \"showarrow\": false, \"text\": \"21.5%\", \"x\": 50.15, \"xref\": \"x\", \"y\": \"Overall, how supported<br>do you feel by this<br>person?\", \"yref\": \"y\"}, {\"font\": {\"color\": \"#595959\", \"size\": 12}, \"showarrow\": false, \"text\": \"39.1%\", \"x\": 80.45, \"xref\": \"x\", \"y\": \"Overall, how supported<br>do you feel by this<br>person?\", \"yref\": \"y\"}], \"title\": \"Informal\"}], \"label\": \"Informal\", \"method\": \"update\"}, {\"args\": [{\"visible\": [false, false, false, false, false, false, false, false, false, false, false, false, false, false, false, false, false, false, false, false, false, false, false, false, false, false, false, false, true, true, true, true, true, true, true, true, true, true, true, true, true, true]}, {\"annotations\": [{\"align\": \"right\", \"font\": {\"color\": \"black\", \"size\": 12}, \"showarrow\": false, \"text\": \"Overall, how much do you<br>think this person feels<br>supported by you?\", \"x\": 0.14, \"xanchor\": \"right\", \"xref\": \"paper\", \"y\": \"Overall, how much do you<br>think this person feels<br>supported by you?\", \"yref\": \"y\"}, {\"font\": {\"color\": \"#595959\", \"size\": 12}, \"showarrow\": false, \"text\": \"12.3%\", \"x\": 9.55, \"xref\": \"x\", \"y\": \"Overall, how much do you<br>think this person feels<br>supported by you?\", \"yref\": \"y\"}, {\"font\": {\"color\": \"#595959\", \"size\": 12}, \"showarrow\": false, \"text\": \"19.6%\", \"x\": 25.5, \"xref\": \"x\", \"y\": \"Overall, how much do you<br>think this person feels<br>supported by you?\", \"yref\": \"y\"}, {\"font\": {\"color\": \"#595959\", \"size\": 12}, \"showarrow\": false, \"text\": \"33.4%\", \"x\": 52.0, \"xref\": \"x\", \"y\": \"Overall, how much do you<br>think this person feels<br>supported by you?\", \"yref\": \"y\"}, {\"font\": {\"color\": \"#595959\", \"size\": 12}, \"showarrow\": false, \"text\": \"31.2%\", \"x\": 84.3, \"xref\": \"x\", \"y\": \"Overall, how much do you<br>think this person feels<br>supported by you?\", \"yref\": \"y\"}, {\"align\": \"right\", \"font\": {\"color\": \"black\", \"size\": 12}, \"showarrow\": false, \"text\": \"Overall, how supported<br>do you feel by this<br>person?\", \"x\": 0.14, \"xanchor\": \"right\", \"xref\": \"paper\", \"y\": \"Overall, how supported<br>do you feel by this<br>person?\", \"yref\": \"y\"}, {\"font\": {\"color\": \"#595959\", \"size\": 12}, \"showarrow\": false, \"text\": \"11.4%\", \"x\": 9.8, \"xref\": \"x\", \"y\": \"Overall, how supported<br>do you feel by this<br>person?\", \"yref\": \"y\"}, {\"font\": {\"color\": \"#595959\", \"size\": 12}, \"showarrow\": false, \"text\": \"16.7%\", \"x\": 23.85, \"xref\": \"x\", \"y\": \"Overall, how supported<br>do you feel by this<br>person?\", \"yref\": \"y\"}, {\"font\": {\"color\": \"#595959\", \"size\": 12}, \"showarrow\": false, \"text\": \"33.4%\", \"x\": 48.900000000000006, \"xref\": \"x\", \"y\": \"Overall, how supported<br>do you feel by this<br>person?\", \"yref\": \"y\"}, {\"font\": {\"color\": \"#595959\", \"size\": 12}, \"showarrow\": false, \"text\": \"34.4%\", \"x\": 82.8, \"xref\": \"x\", \"y\": \"Overall, how supported<br>do you feel by this<br>person?\", \"yref\": \"y\"}], \"title\": \"Friend\"}], \"label\": \"Friend\", \"method\": \"update\"}], \"direction\": \"right\", \"showactive\": true, \"type\": \"buttons\", \"x\": 0.684, \"y\": 1.3}], \"xaxis\": {\"domain\": [0.15, 1], \"showgrid\": false, \"showline\": false, \"showticklabels\": false, \"zeroline\": false}, \"yaxis\": {\"showgrid\": false, \"showline\": false, \"showticklabels\": false, \"zeroline\": false}},\n",
       "                        {\"displayModeBar\": false, \"responsive\": true}\n",
       "                    ).then(function(){\n",
       "                            \n",
       "var gd = document.getElementById('ded9ae62-69fe-4531-b5e9-cd4fa3b21677');\n",
       "var x = new MutationObserver(function (mutations, observer) {{\n",
       "        var display = window.getComputedStyle(gd).display;\n",
       "        if (!display || display === 'none') {{\n",
       "            console.log([gd, 'removed!']);\n",
       "            Plotly.purge(gd);\n",
       "            observer.disconnect();\n",
       "        }}\n",
       "}});\n",
       "\n",
       "// Listen for the removal of the full notebook cells\n",
       "var notebookContainer = gd.closest('#notebook-container');\n",
       "if (notebookContainer) {{\n",
       "    x.observe(notebookContainer, {childList: true});\n",
       "}}\n",
       "\n",
       "// Listen for the clearing of the current output cell\n",
       "var outputEl = gd.closest('.output');\n",
       "if (outputEl) {{\n",
       "    x.observe(outputEl, {childList: true});\n",
       "}}\n",
       "\n",
       "                        })\n",
       "                };\n",
       "                });\n",
       "            </script>\n",
       "        </div>"
      ]
     },
     "metadata": {},
     "output_type": "display_data"
    }
   ],
   "source": [
    "percent_bar([list(round((df_diff['support.overall.t'][df_diff['dyad_type'] == 1].value_counts(normalize = True).sort_index() * 100), 1)),\n",
    "             list(round((df_diff['support.overall.p'][df_diff['dyad_type'] == 1].value_counts(normalize = True).sort_index() * 100), 1))],\n",
    "            [list(round((df_diff['support.overall.t'][df_diff['dyad_type'] == 2].value_counts(normalize = True).sort_index() * 100), 1)),\n",
    "             list(round((df_diff['support.overall.p'][df_diff['dyad_type'] == 2].value_counts(normalize = True).sort_index() * 100), 1))],\n",
    "            [list(round((df_diff['support.overall.t'][df_diff['dyad_type'] == 3].value_counts(normalize = True).sort_index() * 100), 1)),\n",
    "             list(round((df_diff['support.overall.p'][df_diff['dyad_type'] == 3].value_counts(normalize = True).sort_index() * 100), 1))],\n",
    "            'Overall, how much do you<br>think this person feels<br>supported by you?',\n",
    "            'Overall, how supported<br>do you feel by this<br>person?')"
   ]
  },
  {
   "cell_type": "code",
   "execution_count": 39,
   "metadata": {},
   "outputs": [
    {
     "data": {
      "application/vnd.plotly.v1+json": {
       "config": {
        "displayModeBar": false,
        "plotlyServerURL": "https://plotly.com"
       },
       "data": [
        {
         "hovertemplate": "<b>%{x}%</b><extra></extra>",
         "marker": {
          "color": "#FF6478"
         },
         "orientation": "h",
         "showlegend": false,
         "type": "bar",
         "x": [
          21.6
         ],
         "y": [
          "Overall, how invested do<br>you feel in your relationship<br>with this person?"
         ]
        },
        {
         "hovertemplate": "<b>%{x}%</b><extra></extra>",
         "marker": {
          "color": "#FF6478"
         },
         "name": "Not at all",
         "orientation": "h",
         "showlegend": true,
         "type": "bar",
         "x": [
          24.3
         ],
         "y": [
          "Overall, how invested do<br>you think this person feels in<br>their relationship with you?"
         ]
        },
        {
         "hovertemplate": "<b>%{x}%</b><extra></extra>",
         "marker": {
          "color": "#FF8477"
         },
         "orientation": "h",
         "showlegend": false,
         "type": "bar",
         "x": [
          10.6
         ],
         "y": [
          "Overall, how invested do<br>you feel in your relationship<br>with this person?"
         ]
        },
        {
         "hovertemplate": "<b>%{x}%</b><extra></extra>",
         "marker": {
          "color": "#FF8477"
         },
         "name": "Rarely",
         "orientation": "h",
         "showlegend": true,
         "type": "bar",
         "x": [
          10.4
         ],
         "y": [
          "Overall, how invested do<br>you think this person feels in<br>their relationship with you?"
         ]
        },
        {
         "hovertemplate": "<b>%{x}%</b><extra></extra>",
         "marker": {
          "color": "#FF9F77"
         },
         "orientation": "h",
         "showlegend": false,
         "type": "bar",
         "x": [
          10.8
         ],
         "y": [
          "Overall, how invested do<br>you feel in your relationship<br>with this person?"
         ]
        },
        {
         "hovertemplate": "<b>%{x}%</b><extra></extra>",
         "marker": {
          "color": "#FF9F77"
         },
         "name": "Occasionally",
         "orientation": "h",
         "showlegend": true,
         "type": "bar",
         "x": [
          9.2
         ],
         "y": [
          "Overall, how invested do<br>you think this person feels in<br>their relationship with you?"
         ]
        },
        {
         "hovertemplate": "<b>%{x}%</b><extra></extra>",
         "marker": {
          "color": "#FFB775"
         },
         "orientation": "h",
         "showlegend": false,
         "type": "bar",
         "x": [
          21
         ],
         "y": [
          "Overall, how invested do<br>you feel in your relationship<br>with this person?"
         ]
        },
        {
         "hovertemplate": "<b>%{x}%</b><extra></extra>",
         "marker": {
          "color": "#FFB775"
         },
         "name": "Sometimes",
         "orientation": "h",
         "showlegend": true,
         "type": "bar",
         "x": [
          18
         ],
         "y": [
          "Overall, how invested do<br>you think this person feels in<br>their relationship with you?"
         ]
        },
        {
         "hovertemplate": "<b>%{x}%</b><extra></extra>",
         "marker": {
          "color": "#BCF0C2"
         },
         "orientation": "h",
         "showlegend": false,
         "type": "bar",
         "x": [
          14.5
         ],
         "y": [
          "Overall, how invested do<br>you feel in your relationship<br>with this person?"
         ]
        },
        {
         "hovertemplate": "<b>%{x}%</b><extra></extra>",
         "marker": {
          "color": "#BCF0C2"
         },
         "name": "???",
         "orientation": "h",
         "showlegend": true,
         "type": "bar",
         "x": [
          16.9
         ],
         "y": [
          "Overall, how invested do<br>you think this person feels in<br>their relationship with you?"
         ]
        },
        {
         "hovertemplate": "<b>%{x}%</b><extra></extra>",
         "marker": {
          "color": "#8BE595"
         },
         "orientation": "h",
         "showlegend": false,
         "type": "bar",
         "x": [
          12.1
         ],
         "y": [
          "Overall, how invested do<br>you feel in your relationship<br>with this person?"
         ]
        },
        {
         "hovertemplate": "<b>%{x}%</b><extra></extra>",
         "marker": {
          "color": "#8BE595"
         },
         "name": "Often",
         "orientation": "h",
         "showlegend": true,
         "type": "bar",
         "x": [
          10.4
         ],
         "y": [
          "Overall, how invested do<br>you think this person feels in<br>their relationship with you?"
         ]
        },
        {
         "hovertemplate": "<b>%{x}%</b><extra></extra>",
         "marker": {
          "color": "#56DA65"
         },
         "orientation": "h",
         "showlegend": false,
         "type": "bar",
         "x": [
          9.5
         ],
         "y": [
          "Overall, how invested do<br>you feel in your relationship<br>with this person?"
         ]
        },
        {
         "hovertemplate": "<b>%{x}%</b><extra></extra>",
         "marker": {
          "color": "#56DA65"
         },
         "name": "A lot",
         "orientation": "h",
         "showlegend": true,
         "type": "bar",
         "x": [
          10.7
         ],
         "y": [
          "Overall, how invested do<br>you think this person feels in<br>their relationship with you?"
         ]
        },
        {
         "hovertemplate": "<b>%{x}%</b><extra></extra>",
         "marker": {
          "color": "#FF6478"
         },
         "orientation": "h",
         "showlegend": false,
         "type": "bar",
         "visible": false,
         "x": [
          7.1
         ],
         "y": [
          "Overall, how invested do<br>you feel in your relationship<br>with this person?"
         ]
        },
        {
         "hovertemplate": "<b>%{x}%</b><extra></extra>",
         "marker": {
          "color": "#FF6478"
         },
         "name": "Not at all",
         "orientation": "h",
         "showlegend": true,
         "type": "bar",
         "visible": false,
         "x": [
          7.8
         ],
         "y": [
          "Overall, how invested do<br>you think this person feels in<br>their relationship with you?"
         ]
        },
        {
         "hovertemplate": "<b>%{x}%</b><extra></extra>",
         "marker": {
          "color": "#FF8477"
         },
         "orientation": "h",
         "showlegend": false,
         "type": "bar",
         "visible": false,
         "x": [
          4.6
         ],
         "y": [
          "Overall, how invested do<br>you feel in your relationship<br>with this person?"
         ]
        },
        {
         "hovertemplate": "<b>%{x}%</b><extra></extra>",
         "marker": {
          "color": "#FF8477"
         },
         "name": "Rarely",
         "orientation": "h",
         "showlegend": true,
         "type": "bar",
         "visible": false,
         "x": [
          4.6
         ],
         "y": [
          "Overall, how invested do<br>you think this person feels in<br>their relationship with you?"
         ]
        },
        {
         "hovertemplate": "<b>%{x}%</b><extra></extra>",
         "marker": {
          "color": "#FF9F77"
         },
         "orientation": "h",
         "showlegend": false,
         "type": "bar",
         "visible": false,
         "x": [
          5.6
         ],
         "y": [
          "Overall, how invested do<br>you feel in your relationship<br>with this person?"
         ]
        },
        {
         "hovertemplate": "<b>%{x}%</b><extra></extra>",
         "marker": {
          "color": "#FF9F77"
         },
         "name": "Occasionally",
         "orientation": "h",
         "showlegend": true,
         "type": "bar",
         "visible": false,
         "x": [
          5.3
         ],
         "y": [
          "Overall, how invested do<br>you think this person feels in<br>their relationship with you?"
         ]
        },
        {
         "hovertemplate": "<b>%{x}%</b><extra></extra>",
         "marker": {
          "color": "#FFB775"
         },
         "orientation": "h",
         "showlegend": false,
         "type": "bar",
         "visible": false,
         "x": [
          14.2
         ],
         "y": [
          "Overall, how invested do<br>you feel in your relationship<br>with this person?"
         ]
        },
        {
         "hovertemplate": "<b>%{x}%</b><extra></extra>",
         "marker": {
          "color": "#FFB775"
         },
         "name": "Sometimes",
         "orientation": "h",
         "showlegend": true,
         "type": "bar",
         "visible": false,
         "x": [
          11.8
         ],
         "y": [
          "Overall, how invested do<br>you think this person feels in<br>their relationship with you?"
         ]
        },
        {
         "hovertemplate": "<b>%{x}%</b><extra></extra>",
         "marker": {
          "color": "#BCF0C2"
         },
         "orientation": "h",
         "showlegend": false,
         "type": "bar",
         "visible": false,
         "x": [
          16.6
         ],
         "y": [
          "Overall, how invested do<br>you feel in your relationship<br>with this person?"
         ]
        },
        {
         "hovertemplate": "<b>%{x}%</b><extra></extra>",
         "marker": {
          "color": "#BCF0C2"
         },
         "name": "???",
         "orientation": "h",
         "showlegend": true,
         "type": "bar",
         "visible": false,
         "x": [
          19.7
         ],
         "y": [
          "Overall, how invested do<br>you think this person feels in<br>their relationship with you?"
         ]
        },
        {
         "hovertemplate": "<b>%{x}%</b><extra></extra>",
         "marker": {
          "color": "#8BE595"
         },
         "orientation": "h",
         "showlegend": false,
         "type": "bar",
         "visible": false,
         "x": [
          20.3
         ],
         "y": [
          "Overall, how invested do<br>you feel in your relationship<br>with this person?"
         ]
        },
        {
         "hovertemplate": "<b>%{x}%</b><extra></extra>",
         "marker": {
          "color": "#8BE595"
         },
         "name": "Often",
         "orientation": "h",
         "showlegend": true,
         "type": "bar",
         "visible": false,
         "x": [
          20
         ],
         "y": [
          "Overall, how invested do<br>you think this person feels in<br>their relationship with you?"
         ]
        },
        {
         "hovertemplate": "<b>%{x}%</b><extra></extra>",
         "marker": {
          "color": "#56DA65"
         },
         "orientation": "h",
         "showlegend": false,
         "type": "bar",
         "visible": false,
         "x": [
          31.6
         ],
         "y": [
          "Overall, how invested do<br>you feel in your relationship<br>with this person?"
         ]
        },
        {
         "hovertemplate": "<b>%{x}%</b><extra></extra>",
         "marker": {
          "color": "#56DA65"
         },
         "name": "A lot",
         "orientation": "h",
         "showlegend": true,
         "type": "bar",
         "visible": false,
         "x": [
          30.8
         ],
         "y": [
          "Overall, how invested do<br>you think this person feels in<br>their relationship with you?"
         ]
        },
        {
         "hovertemplate": "<b>%{x}%</b><extra></extra>",
         "marker": {
          "color": "#FF6478"
         },
         "orientation": "h",
         "showlegend": false,
         "type": "bar",
         "visible": false,
         "x": [
          0.9
         ],
         "y": [
          "Overall, how invested do<br>you feel in your relationship<br>with this person?"
         ]
        },
        {
         "hovertemplate": "<b>%{x}%</b><extra></extra>",
         "marker": {
          "color": "#FF6478"
         },
         "name": "Not at all",
         "orientation": "h",
         "showlegend": true,
         "type": "bar",
         "visible": false,
         "x": [
          0.6
         ],
         "y": [
          "Overall, how invested do<br>you think this person feels in<br>their relationship with you?"
         ]
        },
        {
         "hovertemplate": "<b>%{x}%</b><extra></extra>",
         "marker": {
          "color": "#FF8477"
         },
         "orientation": "h",
         "showlegend": false,
         "type": "bar",
         "visible": false,
         "x": [
          0.9
         ],
         "y": [
          "Overall, how invested do<br>you feel in your relationship<br>with this person?"
         ]
        },
        {
         "hovertemplate": "<b>%{x}%</b><extra></extra>",
         "marker": {
          "color": "#FF8477"
         },
         "name": "Rarely",
         "orientation": "h",
         "showlegend": true,
         "type": "bar",
         "visible": false,
         "x": [
          1.9
         ],
         "y": [
          "Overall, how invested do<br>you think this person feels in<br>their relationship with you?"
         ]
        },
        {
         "hovertemplate": "<b>%{x}%</b><extra></extra>",
         "marker": {
          "color": "#FF9F77"
         },
         "orientation": "h",
         "showlegend": false,
         "type": "bar",
         "visible": false,
         "x": [
          3.4
         ],
         "y": [
          "Overall, how invested do<br>you feel in your relationship<br>with this person?"
         ]
        },
        {
         "hovertemplate": "<b>%{x}%</b><extra></extra>",
         "marker": {
          "color": "#FF9F77"
         },
         "name": "Occasionally",
         "orientation": "h",
         "showlegend": true,
         "type": "bar",
         "visible": false,
         "x": [
          1.9
         ],
         "y": [
          "Overall, how invested do<br>you think this person feels in<br>their relationship with you?"
         ]
        },
        {
         "hovertemplate": "<b>%{x}%</b><extra></extra>",
         "marker": {
          "color": "#FFB775"
         },
         "orientation": "h",
         "showlegend": false,
         "type": "bar",
         "visible": false,
         "x": [
          17.5
         ],
         "y": [
          "Overall, how invested do<br>you feel in your relationship<br>with this person?"
         ]
        },
        {
         "hovertemplate": "<b>%{x}%</b><extra></extra>",
         "marker": {
          "color": "#FFB775"
         },
         "name": "Sometimes",
         "orientation": "h",
         "showlegend": true,
         "type": "bar",
         "visible": false,
         "x": [
          19.8
         ],
         "y": [
          "Overall, how invested do<br>you think this person feels in<br>their relationship with you?"
         ]
        },
        {
         "hovertemplate": "<b>%{x}%</b><extra></extra>",
         "marker": {
          "color": "#BCF0C2"
         },
         "orientation": "h",
         "showlegend": false,
         "type": "bar",
         "visible": false,
         "x": [
          23.4
         ],
         "y": [
          "Overall, how invested do<br>you feel in your relationship<br>with this person?"
         ]
        },
        {
         "hovertemplate": "<b>%{x}%</b><extra></extra>",
         "marker": {
          "color": "#BCF0C2"
         },
         "name": "???",
         "orientation": "h",
         "showlegend": true,
         "type": "bar",
         "visible": false,
         "x": [
          25.5
         ],
         "y": [
          "Overall, how invested do<br>you think this person feels in<br>their relationship with you?"
         ]
        },
        {
         "hovertemplate": "<b>%{x}%</b><extra></extra>",
         "marker": {
          "color": "#8BE595"
         },
         "orientation": "h",
         "showlegend": false,
         "type": "bar",
         "visible": false,
         "x": [
          27.5
         ],
         "y": [
          "Overall, how invested do<br>you feel in your relationship<br>with this person?"
         ]
        },
        {
         "hovertemplate": "<b>%{x}%</b><extra></extra>",
         "marker": {
          "color": "#8BE595"
         },
         "name": "Often",
         "orientation": "h",
         "showlegend": true,
         "type": "bar",
         "visible": false,
         "x": [
          23
         ],
         "y": [
          "Overall, how invested do<br>you think this person feels in<br>their relationship with you?"
         ]
        },
        {
         "hovertemplate": "<b>%{x}%</b><extra></extra>",
         "marker": {
          "color": "#56DA65"
         },
         "orientation": "h",
         "showlegend": false,
         "type": "bar",
         "visible": false,
         "x": [
          26.2
         ],
         "y": [
          "Overall, how invested do<br>you feel in your relationship<br>with this person?"
         ]
        },
        {
         "hovertemplate": "<b>%{x}%</b><extra></extra>",
         "marker": {
          "color": "#56DA65"
         },
         "name": "A lot",
         "orientation": "h",
         "showlegend": true,
         "type": "bar",
         "visible": false,
         "x": [
          27.4
         ],
         "y": [
          "Overall, how invested do<br>you think this person feels in<br>their relationship with you?"
         ]
        }
       ],
       "layout": {
        "annotations": [
         {
          "align": "right",
          "font": {
           "color": "black",
           "size": 12
          },
          "showarrow": false,
          "text": "Overall, how invested do<br>you feel in your relationship<br>with this person?",
          "x": 0.14,
          "xanchor": "right",
          "xref": "paper",
          "y": "Overall, how invested do<br>you feel in your relationship<br>with this person?",
          "yref": "y"
         },
         {
          "font": {
           "color": "#595959",
           "size": 12
          },
          "showarrow": false,
          "text": "21.6%",
          "x": 10.8,
          "xref": "x",
          "y": "Overall, how invested do<br>you feel in your relationship<br>with this person?",
          "yref": "y"
         },
         {
          "font": {
           "color": "#595959",
           "size": 12
          },
          "showarrow": false,
          "text": "10.6%",
          "x": 26.900000000000002,
          "xref": "x",
          "y": "Overall, how invested do<br>you feel in your relationship<br>with this person?",
          "yref": "y"
         },
         {
          "font": {
           "color": "#595959",
           "size": 12
          },
          "showarrow": false,
          "text": "10.8%",
          "x": 37.6,
          "xref": "x",
          "y": "Overall, how invested do<br>you feel in your relationship<br>with this person?",
          "yref": "y"
         },
         {
          "font": {
           "color": "#595959",
           "size": 12
          },
          "showarrow": false,
          "text": "21.0%",
          "x": 53.5,
          "xref": "x",
          "y": "Overall, how invested do<br>you feel in your relationship<br>with this person?",
          "yref": "y"
         },
         {
          "font": {
           "color": "#595959",
           "size": 12
          },
          "showarrow": false,
          "text": "14.5%",
          "x": 71.25,
          "xref": "x",
          "y": "Overall, how invested do<br>you feel in your relationship<br>with this person?",
          "yref": "y"
         },
         {
          "font": {
           "color": "#595959",
           "size": 12
          },
          "showarrow": false,
          "text": "12.1%",
          "x": 84.55,
          "xref": "x",
          "y": "Overall, how invested do<br>you feel in your relationship<br>with this person?",
          "yref": "y"
         },
         {
          "font": {
           "color": "#595959",
           "size": 12
          },
          "showarrow": false,
          "text": "9.5%",
          "x": 95.35,
          "xref": "x",
          "y": "Overall, how invested do<br>you feel in your relationship<br>with this person?",
          "yref": "y"
         },
         {
          "align": "right",
          "font": {
           "color": "black",
           "size": 12
          },
          "showarrow": false,
          "text": "Overall, how invested do<br>you think this person feels in<br>their relationship with you?",
          "x": 0.14,
          "xanchor": "right",
          "xref": "paper",
          "y": "Overall, how invested do<br>you think this person feels in<br>their relationship with you?",
          "yref": "y"
         },
         {
          "font": {
           "color": "#595959",
           "size": 12
          },
          "showarrow": false,
          "text": "24.3%",
          "x": 12.15,
          "xref": "x",
          "y": "Overall, how invested do<br>you think this person feels in<br>their relationship with you?",
          "yref": "y"
         },
         {
          "font": {
           "color": "#595959",
           "size": 12
          },
          "showarrow": false,
          "text": "10.4%",
          "x": 29.5,
          "xref": "x",
          "y": "Overall, how invested do<br>you think this person feels in<br>their relationship with you?",
          "yref": "y"
         },
         {
          "font": {
           "color": "#595959",
           "size": 12
          },
          "showarrow": false,
          "text": "9.2%",
          "x": 39.300000000000004,
          "xref": "x",
          "y": "Overall, how invested do<br>you think this person feels in<br>their relationship with you?",
          "yref": "y"
         },
         {
          "font": {
           "color": "#595959",
           "size": 12
          },
          "showarrow": false,
          "text": "18.0%",
          "x": 52.900000000000006,
          "xref": "x",
          "y": "Overall, how invested do<br>you think this person feels in<br>their relationship with you?",
          "yref": "y"
         },
         {
          "font": {
           "color": "#595959",
           "size": 12
          },
          "showarrow": false,
          "text": "16.9%",
          "x": 70.35000000000001,
          "xref": "x",
          "y": "Overall, how invested do<br>you think this person feels in<br>their relationship with you?",
          "yref": "y"
         },
         {
          "font": {
           "color": "#595959",
           "size": 12
          },
          "showarrow": false,
          "text": "10.4%",
          "x": 84.00000000000001,
          "xref": "x",
          "y": "Overall, how invested do<br>you think this person feels in<br>their relationship with you?",
          "yref": "y"
         },
         {
          "font": {
           "color": "#595959",
           "size": 12
          },
          "showarrow": false,
          "text": "10.7%",
          "x": 94.55000000000001,
          "xref": "x",
          "y": "Overall, how invested do<br>you think this person feels in<br>their relationship with you?",
          "yref": "y"
         }
        ],
        "barmode": "stack",
        "font": {
         "color": "black",
         "size": 12
        },
        "legend": {
         "itemclick": false,
         "orientation": "h",
         "traceorder": "normal",
         "x": 0.94,
         "xanchor": "right",
         "y": 1.02,
         "yanchor": "bottom"
        },
        "margin": {
         "b": 80,
         "l": 120,
         "r": 10,
         "t": 140
        },
        "paper_bgcolor": "rgb(248, 248, 255)",
        "plot_bgcolor": "rgb(248, 248, 255)",
        "template": {
         "data": {
          "bar": [
           {
            "error_x": {
             "color": "#2a3f5f"
            },
            "error_y": {
             "color": "#2a3f5f"
            },
            "marker": {
             "line": {
              "color": "#E5ECF6",
              "width": 0.5
             }
            },
            "type": "bar"
           }
          ],
          "barpolar": [
           {
            "marker": {
             "line": {
              "color": "#E5ECF6",
              "width": 0.5
             }
            },
            "type": "barpolar"
           }
          ],
          "carpet": [
           {
            "aaxis": {
             "endlinecolor": "#2a3f5f",
             "gridcolor": "white",
             "linecolor": "white",
             "minorgridcolor": "white",
             "startlinecolor": "#2a3f5f"
            },
            "baxis": {
             "endlinecolor": "#2a3f5f",
             "gridcolor": "white",
             "linecolor": "white",
             "minorgridcolor": "white",
             "startlinecolor": "#2a3f5f"
            },
            "type": "carpet"
           }
          ],
          "choropleth": [
           {
            "colorbar": {
             "outlinewidth": 0,
             "ticks": ""
            },
            "type": "choropleth"
           }
          ],
          "contour": [
           {
            "colorbar": {
             "outlinewidth": 0,
             "ticks": ""
            },
            "colorscale": [
             [
              0,
              "#0d0887"
             ],
             [
              0.1111111111111111,
              "#46039f"
             ],
             [
              0.2222222222222222,
              "#7201a8"
             ],
             [
              0.3333333333333333,
              "#9c179e"
             ],
             [
              0.4444444444444444,
              "#bd3786"
             ],
             [
              0.5555555555555556,
              "#d8576b"
             ],
             [
              0.6666666666666666,
              "#ed7953"
             ],
             [
              0.7777777777777778,
              "#fb9f3a"
             ],
             [
              0.8888888888888888,
              "#fdca26"
             ],
             [
              1,
              "#f0f921"
             ]
            ],
            "type": "contour"
           }
          ],
          "contourcarpet": [
           {
            "colorbar": {
             "outlinewidth": 0,
             "ticks": ""
            },
            "type": "contourcarpet"
           }
          ],
          "heatmap": [
           {
            "colorbar": {
             "outlinewidth": 0,
             "ticks": ""
            },
            "colorscale": [
             [
              0,
              "#0d0887"
             ],
             [
              0.1111111111111111,
              "#46039f"
             ],
             [
              0.2222222222222222,
              "#7201a8"
             ],
             [
              0.3333333333333333,
              "#9c179e"
             ],
             [
              0.4444444444444444,
              "#bd3786"
             ],
             [
              0.5555555555555556,
              "#d8576b"
             ],
             [
              0.6666666666666666,
              "#ed7953"
             ],
             [
              0.7777777777777778,
              "#fb9f3a"
             ],
             [
              0.8888888888888888,
              "#fdca26"
             ],
             [
              1,
              "#f0f921"
             ]
            ],
            "type": "heatmap"
           }
          ],
          "heatmapgl": [
           {
            "colorbar": {
             "outlinewidth": 0,
             "ticks": ""
            },
            "colorscale": [
             [
              0,
              "#0d0887"
             ],
             [
              0.1111111111111111,
              "#46039f"
             ],
             [
              0.2222222222222222,
              "#7201a8"
             ],
             [
              0.3333333333333333,
              "#9c179e"
             ],
             [
              0.4444444444444444,
              "#bd3786"
             ],
             [
              0.5555555555555556,
              "#d8576b"
             ],
             [
              0.6666666666666666,
              "#ed7953"
             ],
             [
              0.7777777777777778,
              "#fb9f3a"
             ],
             [
              0.8888888888888888,
              "#fdca26"
             ],
             [
              1,
              "#f0f921"
             ]
            ],
            "type": "heatmapgl"
           }
          ],
          "histogram": [
           {
            "marker": {
             "colorbar": {
              "outlinewidth": 0,
              "ticks": ""
             }
            },
            "type": "histogram"
           }
          ],
          "histogram2d": [
           {
            "colorbar": {
             "outlinewidth": 0,
             "ticks": ""
            },
            "colorscale": [
             [
              0,
              "#0d0887"
             ],
             [
              0.1111111111111111,
              "#46039f"
             ],
             [
              0.2222222222222222,
              "#7201a8"
             ],
             [
              0.3333333333333333,
              "#9c179e"
             ],
             [
              0.4444444444444444,
              "#bd3786"
             ],
             [
              0.5555555555555556,
              "#d8576b"
             ],
             [
              0.6666666666666666,
              "#ed7953"
             ],
             [
              0.7777777777777778,
              "#fb9f3a"
             ],
             [
              0.8888888888888888,
              "#fdca26"
             ],
             [
              1,
              "#f0f921"
             ]
            ],
            "type": "histogram2d"
           }
          ],
          "histogram2dcontour": [
           {
            "colorbar": {
             "outlinewidth": 0,
             "ticks": ""
            },
            "colorscale": [
             [
              0,
              "#0d0887"
             ],
             [
              0.1111111111111111,
              "#46039f"
             ],
             [
              0.2222222222222222,
              "#7201a8"
             ],
             [
              0.3333333333333333,
              "#9c179e"
             ],
             [
              0.4444444444444444,
              "#bd3786"
             ],
             [
              0.5555555555555556,
              "#d8576b"
             ],
             [
              0.6666666666666666,
              "#ed7953"
             ],
             [
              0.7777777777777778,
              "#fb9f3a"
             ],
             [
              0.8888888888888888,
              "#fdca26"
             ],
             [
              1,
              "#f0f921"
             ]
            ],
            "type": "histogram2dcontour"
           }
          ],
          "mesh3d": [
           {
            "colorbar": {
             "outlinewidth": 0,
             "ticks": ""
            },
            "type": "mesh3d"
           }
          ],
          "parcoords": [
           {
            "line": {
             "colorbar": {
              "outlinewidth": 0,
              "ticks": ""
             }
            },
            "type": "parcoords"
           }
          ],
          "pie": [
           {
            "automargin": true,
            "type": "pie"
           }
          ],
          "scatter": [
           {
            "marker": {
             "colorbar": {
              "outlinewidth": 0,
              "ticks": ""
             }
            },
            "type": "scatter"
           }
          ],
          "scatter3d": [
           {
            "line": {
             "colorbar": {
              "outlinewidth": 0,
              "ticks": ""
             }
            },
            "marker": {
             "colorbar": {
              "outlinewidth": 0,
              "ticks": ""
             }
            },
            "type": "scatter3d"
           }
          ],
          "scattercarpet": [
           {
            "marker": {
             "colorbar": {
              "outlinewidth": 0,
              "ticks": ""
             }
            },
            "type": "scattercarpet"
           }
          ],
          "scattergeo": [
           {
            "marker": {
             "colorbar": {
              "outlinewidth": 0,
              "ticks": ""
             }
            },
            "type": "scattergeo"
           }
          ],
          "scattergl": [
           {
            "marker": {
             "colorbar": {
              "outlinewidth": 0,
              "ticks": ""
             }
            },
            "type": "scattergl"
           }
          ],
          "scattermapbox": [
           {
            "marker": {
             "colorbar": {
              "outlinewidth": 0,
              "ticks": ""
             }
            },
            "type": "scattermapbox"
           }
          ],
          "scatterpolar": [
           {
            "marker": {
             "colorbar": {
              "outlinewidth": 0,
              "ticks": ""
             }
            },
            "type": "scatterpolar"
           }
          ],
          "scatterpolargl": [
           {
            "marker": {
             "colorbar": {
              "outlinewidth": 0,
              "ticks": ""
             }
            },
            "type": "scatterpolargl"
           }
          ],
          "scatterternary": [
           {
            "marker": {
             "colorbar": {
              "outlinewidth": 0,
              "ticks": ""
             }
            },
            "type": "scatterternary"
           }
          ],
          "surface": [
           {
            "colorbar": {
             "outlinewidth": 0,
             "ticks": ""
            },
            "colorscale": [
             [
              0,
              "#0d0887"
             ],
             [
              0.1111111111111111,
              "#46039f"
             ],
             [
              0.2222222222222222,
              "#7201a8"
             ],
             [
              0.3333333333333333,
              "#9c179e"
             ],
             [
              0.4444444444444444,
              "#bd3786"
             ],
             [
              0.5555555555555556,
              "#d8576b"
             ],
             [
              0.6666666666666666,
              "#ed7953"
             ],
             [
              0.7777777777777778,
              "#fb9f3a"
             ],
             [
              0.8888888888888888,
              "#fdca26"
             ],
             [
              1,
              "#f0f921"
             ]
            ],
            "type": "surface"
           }
          ],
          "table": [
           {
            "cells": {
             "fill": {
              "color": "#EBF0F8"
             },
             "line": {
              "color": "white"
             }
            },
            "header": {
             "fill": {
              "color": "#C8D4E3"
             },
             "line": {
              "color": "white"
             }
            },
            "type": "table"
           }
          ]
         },
         "layout": {
          "annotationdefaults": {
           "arrowcolor": "#2a3f5f",
           "arrowhead": 0,
           "arrowwidth": 1
          },
          "coloraxis": {
           "colorbar": {
            "outlinewidth": 0,
            "ticks": ""
           }
          },
          "colorscale": {
           "diverging": [
            [
             0,
             "#8e0152"
            ],
            [
             0.1,
             "#c51b7d"
            ],
            [
             0.2,
             "#de77ae"
            ],
            [
             0.3,
             "#f1b6da"
            ],
            [
             0.4,
             "#fde0ef"
            ],
            [
             0.5,
             "#f7f7f7"
            ],
            [
             0.6,
             "#e6f5d0"
            ],
            [
             0.7,
             "#b8e186"
            ],
            [
             0.8,
             "#7fbc41"
            ],
            [
             0.9,
             "#4d9221"
            ],
            [
             1,
             "#276419"
            ]
           ],
           "sequential": [
            [
             0,
             "#0d0887"
            ],
            [
             0.1111111111111111,
             "#46039f"
            ],
            [
             0.2222222222222222,
             "#7201a8"
            ],
            [
             0.3333333333333333,
             "#9c179e"
            ],
            [
             0.4444444444444444,
             "#bd3786"
            ],
            [
             0.5555555555555556,
             "#d8576b"
            ],
            [
             0.6666666666666666,
             "#ed7953"
            ],
            [
             0.7777777777777778,
             "#fb9f3a"
            ],
            [
             0.8888888888888888,
             "#fdca26"
            ],
            [
             1,
             "#f0f921"
            ]
           ],
           "sequentialminus": [
            [
             0,
             "#0d0887"
            ],
            [
             0.1111111111111111,
             "#46039f"
            ],
            [
             0.2222222222222222,
             "#7201a8"
            ],
            [
             0.3333333333333333,
             "#9c179e"
            ],
            [
             0.4444444444444444,
             "#bd3786"
            ],
            [
             0.5555555555555556,
             "#d8576b"
            ],
            [
             0.6666666666666666,
             "#ed7953"
            ],
            [
             0.7777777777777778,
             "#fb9f3a"
            ],
            [
             0.8888888888888888,
             "#fdca26"
            ],
            [
             1,
             "#f0f921"
            ]
           ]
          },
          "colorway": [
           "#636efa",
           "#EF553B",
           "#00cc96",
           "#ab63fa",
           "#FFA15A",
           "#19d3f3",
           "#FF6692",
           "#B6E880",
           "#FF97FF",
           "#FECB52"
          ],
          "font": {
           "color": "#2a3f5f"
          },
          "geo": {
           "bgcolor": "white",
           "lakecolor": "white",
           "landcolor": "#E5ECF6",
           "showlakes": true,
           "showland": true,
           "subunitcolor": "white"
          },
          "hoverlabel": {
           "align": "left"
          },
          "hovermode": "closest",
          "mapbox": {
           "style": "light"
          },
          "paper_bgcolor": "white",
          "plot_bgcolor": "#E5ECF6",
          "polar": {
           "angularaxis": {
            "gridcolor": "white",
            "linecolor": "white",
            "ticks": ""
           },
           "bgcolor": "#E5ECF6",
           "radialaxis": {
            "gridcolor": "white",
            "linecolor": "white",
            "ticks": ""
           }
          },
          "scene": {
           "xaxis": {
            "backgroundcolor": "#E5ECF6",
            "gridcolor": "white",
            "gridwidth": 2,
            "linecolor": "white",
            "showbackground": true,
            "ticks": "",
            "zerolinecolor": "white"
           },
           "yaxis": {
            "backgroundcolor": "#E5ECF6",
            "gridcolor": "white",
            "gridwidth": 2,
            "linecolor": "white",
            "showbackground": true,
            "ticks": "",
            "zerolinecolor": "white"
           },
           "zaxis": {
            "backgroundcolor": "#E5ECF6",
            "gridcolor": "white",
            "gridwidth": 2,
            "linecolor": "white",
            "showbackground": true,
            "ticks": "",
            "zerolinecolor": "white"
           }
          },
          "shapedefaults": {
           "line": {
            "color": "#2a3f5f"
           }
          },
          "ternary": {
           "aaxis": {
            "gridcolor": "white",
            "linecolor": "white",
            "ticks": ""
           },
           "baxis": {
            "gridcolor": "white",
            "linecolor": "white",
            "ticks": ""
           },
           "bgcolor": "#E5ECF6",
           "caxis": {
            "gridcolor": "white",
            "linecolor": "white",
            "ticks": ""
           }
          },
          "title": {
           "x": 0.05
          },
          "xaxis": {
           "automargin": true,
           "gridcolor": "white",
           "linecolor": "white",
           "ticks": "",
           "title": {
            "standoff": 15
           },
           "zerolinecolor": "white",
           "zerolinewidth": 2
          },
          "yaxis": {
           "automargin": true,
           "gridcolor": "white",
           "linecolor": "white",
           "ticks": "",
           "title": {
            "standoff": 15
           },
           "zerolinecolor": "white",
           "zerolinewidth": 2
          }
         }
        },
        "title": {
         "text": "Formal",
         "x": 0.95,
         "y": 0.88
        },
        "updatemenus": [
         {
          "bgcolor": "#c9c7c7",
          "buttons": [
           {
            "args": [
             {
              "visible": [
               true,
               true,
               true,
               true,
               true,
               true,
               true,
               true,
               true,
               true,
               true,
               true,
               true,
               true,
               false,
               false,
               false,
               false,
               false,
               false,
               false,
               false,
               false,
               false,
               false,
               false,
               false,
               false,
               false,
               false,
               false,
               false,
               false,
               false,
               false,
               false,
               false,
               false,
               false,
               false,
               false,
               false
              ]
             },
             {
              "annotations": [
               {
                "align": "right",
                "font": {
                 "color": "black",
                 "size": 12
                },
                "showarrow": false,
                "text": "Overall, how invested do<br>you feel in your relationship<br>with this person?",
                "x": 0.14,
                "xanchor": "right",
                "xref": "paper",
                "y": "Overall, how invested do<br>you feel in your relationship<br>with this person?",
                "yref": "y"
               },
               {
                "font": {
                 "color": "#595959",
                 "size": 12
                },
                "showarrow": false,
                "text": "21.6%",
                "x": 10.8,
                "xref": "x",
                "y": "Overall, how invested do<br>you feel in your relationship<br>with this person?",
                "yref": "y"
               },
               {
                "font": {
                 "color": "#595959",
                 "size": 12
                },
                "showarrow": false,
                "text": "10.6%",
                "x": 26.900000000000002,
                "xref": "x",
                "y": "Overall, how invested do<br>you feel in your relationship<br>with this person?",
                "yref": "y"
               },
               {
                "font": {
                 "color": "#595959",
                 "size": 12
                },
                "showarrow": false,
                "text": "10.8%",
                "x": 37.6,
                "xref": "x",
                "y": "Overall, how invested do<br>you feel in your relationship<br>with this person?",
                "yref": "y"
               },
               {
                "font": {
                 "color": "#595959",
                 "size": 12
                },
                "showarrow": false,
                "text": "21.0%",
                "x": 53.5,
                "xref": "x",
                "y": "Overall, how invested do<br>you feel in your relationship<br>with this person?",
                "yref": "y"
               },
               {
                "font": {
                 "color": "#595959",
                 "size": 12
                },
                "showarrow": false,
                "text": "14.5%",
                "x": 71.25,
                "xref": "x",
                "y": "Overall, how invested do<br>you feel in your relationship<br>with this person?",
                "yref": "y"
               },
               {
                "font": {
                 "color": "#595959",
                 "size": 12
                },
                "showarrow": false,
                "text": "12.1%",
                "x": 84.55,
                "xref": "x",
                "y": "Overall, how invested do<br>you feel in your relationship<br>with this person?",
                "yref": "y"
               },
               {
                "font": {
                 "color": "#595959",
                 "size": 12
                },
                "showarrow": false,
                "text": "9.5%",
                "x": 95.35,
                "xref": "x",
                "y": "Overall, how invested do<br>you feel in your relationship<br>with this person?",
                "yref": "y"
               },
               {
                "align": "right",
                "font": {
                 "color": "black",
                 "size": 12
                },
                "showarrow": false,
                "text": "Overall, how invested do<br>you think this person feels in<br>their relationship with you?",
                "x": 0.14,
                "xanchor": "right",
                "xref": "paper",
                "y": "Overall, how invested do<br>you think this person feels in<br>their relationship with you?",
                "yref": "y"
               },
               {
                "font": {
                 "color": "#595959",
                 "size": 12
                },
                "showarrow": false,
                "text": "24.3%",
                "x": 12.15,
                "xref": "x",
                "y": "Overall, how invested do<br>you think this person feels in<br>their relationship with you?",
                "yref": "y"
               },
               {
                "font": {
                 "color": "#595959",
                 "size": 12
                },
                "showarrow": false,
                "text": "10.4%",
                "x": 29.5,
                "xref": "x",
                "y": "Overall, how invested do<br>you think this person feels in<br>their relationship with you?",
                "yref": "y"
               },
               {
                "font": {
                 "color": "#595959",
                 "size": 12
                },
                "showarrow": false,
                "text": "9.2%",
                "x": 39.300000000000004,
                "xref": "x",
                "y": "Overall, how invested do<br>you think this person feels in<br>their relationship with you?",
                "yref": "y"
               },
               {
                "font": {
                 "color": "#595959",
                 "size": 12
                },
                "showarrow": false,
                "text": "18.0%",
                "x": 52.900000000000006,
                "xref": "x",
                "y": "Overall, how invested do<br>you think this person feels in<br>their relationship with you?",
                "yref": "y"
               },
               {
                "font": {
                 "color": "#595959",
                 "size": 12
                },
                "showarrow": false,
                "text": "16.9%",
                "x": 70.35000000000001,
                "xref": "x",
                "y": "Overall, how invested do<br>you think this person feels in<br>their relationship with you?",
                "yref": "y"
               },
               {
                "font": {
                 "color": "#595959",
                 "size": 12
                },
                "showarrow": false,
                "text": "10.4%",
                "x": 84.00000000000001,
                "xref": "x",
                "y": "Overall, how invested do<br>you think this person feels in<br>their relationship with you?",
                "yref": "y"
               },
               {
                "font": {
                 "color": "#595959",
                 "size": 12
                },
                "showarrow": false,
                "text": "10.7%",
                "x": 94.55000000000001,
                "xref": "x",
                "y": "Overall, how invested do<br>you think this person feels in<br>their relationship with you?",
                "yref": "y"
               }
              ],
              "title": "Formal"
             }
            ],
            "label": "Formal",
            "method": "update"
           },
           {
            "args": [
             {
              "visible": [
               false,
               false,
               false,
               false,
               false,
               false,
               false,
               false,
               false,
               false,
               false,
               false,
               false,
               false,
               true,
               true,
               true,
               true,
               true,
               true,
               true,
               true,
               true,
               true,
               true,
               true,
               true,
               true,
               false,
               false,
               false,
               false,
               false,
               false,
               false,
               false,
               false,
               false,
               false,
               false,
               false,
               false
              ]
             },
             {
              "annotations": [
               {
                "align": "right",
                "font": {
                 "color": "black",
                 "size": 12
                },
                "showarrow": false,
                "text": "Overall, how invested do<br>you feel in your relationship<br>with this person?",
                "x": 0.14,
                "xanchor": "right",
                "xref": "paper",
                "y": "Overall, how invested do<br>you feel in your relationship<br>with this person?",
                "yref": "y"
               },
               {
                "font": {
                 "color": "#595959",
                 "size": 12
                },
                "showarrow": false,
                "text": "7.1%",
                "x": 3.55,
                "xref": "x",
                "y": "Overall, how invested do<br>you feel in your relationship<br>with this person?",
                "yref": "y"
               },
               {
                "font": {
                 "color": "#595959",
                 "size": 12
                },
                "showarrow": false,
                "text": "5.6%",
                "x": 14.5,
                "xref": "x",
                "y": "Overall, how invested do<br>you feel in your relationship<br>with this person?",
                "yref": "y"
               },
               {
                "font": {
                 "color": "#595959",
                 "size": 12
                },
                "showarrow": false,
                "text": "14.2%",
                "x": 24.4,
                "xref": "x",
                "y": "Overall, how invested do<br>you feel in your relationship<br>with this person?",
                "yref": "y"
               },
               {
                "font": {
                 "color": "#595959",
                 "size": 12
                },
                "showarrow": false,
                "text": "16.6%",
                "x": 39.8,
                "xref": "x",
                "y": "Overall, how invested do<br>you feel in your relationship<br>with this person?",
                "yref": "y"
               },
               {
                "font": {
                 "color": "#595959",
                 "size": 12
                },
                "showarrow": false,
                "text": "20.3%",
                "x": 58.24999999999999,
                "xref": "x",
                "y": "Overall, how invested do<br>you feel in your relationship<br>with this person?",
                "yref": "y"
               },
               {
                "font": {
                 "color": "#595959",
                 "size": 12
                },
                "showarrow": false,
                "text": "31.6%",
                "x": 84.19999999999999,
                "xref": "x",
                "y": "Overall, how invested do<br>you feel in your relationship<br>with this person?",
                "yref": "y"
               },
               {
                "align": "right",
                "font": {
                 "color": "black",
                 "size": 12
                },
                "showarrow": false,
                "text": "Overall, how invested do<br>you think this person feels in<br>their relationship with you?",
                "x": 0.14,
                "xanchor": "right",
                "xref": "paper",
                "y": "Overall, how invested do<br>you think this person feels in<br>their relationship with you?",
                "yref": "y"
               },
               {
                "font": {
                 "color": "#595959",
                 "size": 12
                },
                "showarrow": false,
                "text": "7.8%",
                "x": 3.9,
                "xref": "x",
                "y": "Overall, how invested do<br>you think this person feels in<br>their relationship with you?",
                "yref": "y"
               },
               {
                "font": {
                 "color": "#595959",
                 "size": 12
                },
                "showarrow": false,
                "text": "5.3%",
                "x": 15.049999999999999,
                "xref": "x",
                "y": "Overall, how invested do<br>you think this person feels in<br>their relationship with you?",
                "yref": "y"
               },
               {
                "font": {
                 "color": "#595959",
                 "size": 12
                },
                "showarrow": false,
                "text": "11.8%",
                "x": 23.6,
                "xref": "x",
                "y": "Overall, how invested do<br>you think this person feels in<br>their relationship with you?",
                "yref": "y"
               },
               {
                "font": {
                 "color": "#595959",
                 "size": 12
                },
                "showarrow": false,
                "text": "19.7%",
                "x": 39.35,
                "xref": "x",
                "y": "Overall, how invested do<br>you think this person feels in<br>their relationship with you?",
                "yref": "y"
               },
               {
                "font": {
                 "color": "#595959",
                 "size": 12
                },
                "showarrow": false,
                "text": "20.0%",
                "x": 59.2,
                "xref": "x",
                "y": "Overall, how invested do<br>you think this person feels in<br>their relationship with you?",
                "yref": "y"
               },
               {
                "font": {
                 "color": "#595959",
                 "size": 12
                },
                "showarrow": false,
                "text": "30.8%",
                "x": 84.60000000000001,
                "xref": "x",
                "y": "Overall, how invested do<br>you think this person feels in<br>their relationship with you?",
                "yref": "y"
               }
              ],
              "title": "Informal"
             }
            ],
            "label": "Informal",
            "method": "update"
           },
           {
            "args": [
             {
              "visible": [
               false,
               false,
               false,
               false,
               false,
               false,
               false,
               false,
               false,
               false,
               false,
               false,
               false,
               false,
               false,
               false,
               false,
               false,
               false,
               false,
               false,
               false,
               false,
               false,
               false,
               false,
               false,
               false,
               true,
               true,
               true,
               true,
               true,
               true,
               true,
               true,
               true,
               true,
               true,
               true,
               true,
               true
              ]
             },
             {
              "annotations": [
               {
                "align": "right",
                "font": {
                 "color": "black",
                 "size": 12
                },
                "showarrow": false,
                "text": "Overall, how invested do<br>you feel in your relationship<br>with this person?",
                "x": 0.14,
                "xanchor": "right",
                "xref": "paper",
                "y": "Overall, how invested do<br>you feel in your relationship<br>with this person?",
                "yref": "y"
               },
               {
                "font": {
                 "color": "#595959",
                 "size": 12
                },
                "showarrow": false,
                "text": "17.5%",
                "x": 13.95,
                "xref": "x",
                "y": "Overall, how invested do<br>you feel in your relationship<br>with this person?",
                "yref": "y"
               },
               {
                "font": {
                 "color": "#595959",
                 "size": 12
                },
                "showarrow": false,
                "text": "23.4%",
                "x": 34.4,
                "xref": "x",
                "y": "Overall, how invested do<br>you feel in your relationship<br>with this person?",
                "yref": "y"
               },
               {
                "font": {
                 "color": "#595959",
                 "size": 12
                },
                "showarrow": false,
                "text": "27.5%",
                "x": 59.849999999999994,
                "xref": "x",
                "y": "Overall, how invested do<br>you feel in your relationship<br>with this person?",
                "yref": "y"
               },
               {
                "font": {
                 "color": "#595959",
                 "size": 12
                },
                "showarrow": false,
                "text": "26.2%",
                "x": 86.69999999999999,
                "xref": "x",
                "y": "Overall, how invested do<br>you feel in your relationship<br>with this person?",
                "yref": "y"
               },
               {
                "align": "right",
                "font": {
                 "color": "black",
                 "size": 12
                },
                "showarrow": false,
                "text": "Overall, how invested do<br>you think this person feels in<br>their relationship with you?",
                "x": 0.14,
                "xanchor": "right",
                "xref": "paper",
                "y": "Overall, how invested do<br>you think this person feels in<br>their relationship with you?",
                "yref": "y"
               },
               {
                "font": {
                 "color": "#595959",
                 "size": 12
                },
                "showarrow": false,
                "text": "19.8%",
                "x": 14.3,
                "xref": "x",
                "y": "Overall, how invested do<br>you think this person feels in<br>their relationship with you?",
                "yref": "y"
               },
               {
                "font": {
                 "color": "#595959",
                 "size": 12
                },
                "showarrow": false,
                "text": "25.5%",
                "x": 36.95,
                "xref": "x",
                "y": "Overall, how invested do<br>you think this person feels in<br>their relationship with you?",
                "yref": "y"
               },
               {
                "font": {
                 "color": "#595959",
                 "size": 12
                },
                "showarrow": false,
                "text": "23.0%",
                "x": 61.2,
                "xref": "x",
                "y": "Overall, how invested do<br>you think this person feels in<br>their relationship with you?",
                "yref": "y"
               },
               {
                "font": {
                 "color": "#595959",
                 "size": 12
                },
                "showarrow": false,
                "text": "27.4%",
                "x": 86.4,
                "xref": "x",
                "y": "Overall, how invested do<br>you think this person feels in<br>their relationship with you?",
                "yref": "y"
               }
              ],
              "title": "Friend"
             }
            ],
            "label": "Friend",
            "method": "update"
           }
          ],
          "direction": "right",
          "showactive": true,
          "type": "buttons",
          "x": 0.684,
          "y": 1.3
         }
        ],
        "xaxis": {
         "domain": [
          0.15,
          1
         ],
         "showgrid": false,
         "showline": false,
         "showticklabels": false,
         "zeroline": false
        },
        "yaxis": {
         "showgrid": false,
         "showline": false,
         "showticklabels": false,
         "zeroline": false
        }
       }
      },
      "text/html": [
       "<div>\n",
       "        \n",
       "        \n",
       "            <div id=\"df1f20cc-699b-4caa-a1a5-0a4173895d19\" class=\"plotly-graph-div\" style=\"height:525px; width:100%;\"></div>\n",
       "            <script type=\"text/javascript\">\n",
       "                require([\"plotly\"], function(Plotly) {\n",
       "                    window.PLOTLYENV=window.PLOTLYENV || {};\n",
       "                    \n",
       "                if (document.getElementById(\"df1f20cc-699b-4caa-a1a5-0a4173895d19\")) {\n",
       "                    Plotly.newPlot(\n",
       "                        'df1f20cc-699b-4caa-a1a5-0a4173895d19',\n",
       "                        [{\"hovertemplate\": \"<b>%{x}%</b><extra></extra>\", \"marker\": {\"color\": \"#FF6478\"}, \"orientation\": \"h\", \"showlegend\": false, \"type\": \"bar\", \"x\": [21.6], \"y\": [\"Overall, how invested do<br>you feel in your relationship<br>with this person?\"]}, {\"hovertemplate\": \"<b>%{x}%</b><extra></extra>\", \"marker\": {\"color\": \"#FF6478\"}, \"name\": \"Not at all\", \"orientation\": \"h\", \"showlegend\": true, \"type\": \"bar\", \"x\": [24.3], \"y\": [\"Overall, how invested do<br>you think this person feels in<br>their relationship with you?\"]}, {\"hovertemplate\": \"<b>%{x}%</b><extra></extra>\", \"marker\": {\"color\": \"#FF8477\"}, \"orientation\": \"h\", \"showlegend\": false, \"type\": \"bar\", \"x\": [10.6], \"y\": [\"Overall, how invested do<br>you feel in your relationship<br>with this person?\"]}, {\"hovertemplate\": \"<b>%{x}%</b><extra></extra>\", \"marker\": {\"color\": \"#FF8477\"}, \"name\": \"Rarely\", \"orientation\": \"h\", \"showlegend\": true, \"type\": \"bar\", \"x\": [10.4], \"y\": [\"Overall, how invested do<br>you think this person feels in<br>their relationship with you?\"]}, {\"hovertemplate\": \"<b>%{x}%</b><extra></extra>\", \"marker\": {\"color\": \"#FF9F77\"}, \"orientation\": \"h\", \"showlegend\": false, \"type\": \"bar\", \"x\": [10.8], \"y\": [\"Overall, how invested do<br>you feel in your relationship<br>with this person?\"]}, {\"hovertemplate\": \"<b>%{x}%</b><extra></extra>\", \"marker\": {\"color\": \"#FF9F77\"}, \"name\": \"Occasionally\", \"orientation\": \"h\", \"showlegend\": true, \"type\": \"bar\", \"x\": [9.2], \"y\": [\"Overall, how invested do<br>you think this person feels in<br>their relationship with you?\"]}, {\"hovertemplate\": \"<b>%{x}%</b><extra></extra>\", \"marker\": {\"color\": \"#FFB775\"}, \"orientation\": \"h\", \"showlegend\": false, \"type\": \"bar\", \"x\": [21.0], \"y\": [\"Overall, how invested do<br>you feel in your relationship<br>with this person?\"]}, {\"hovertemplate\": \"<b>%{x}%</b><extra></extra>\", \"marker\": {\"color\": \"#FFB775\"}, \"name\": \"Sometimes\", \"orientation\": \"h\", \"showlegend\": true, \"type\": \"bar\", \"x\": [18.0], \"y\": [\"Overall, how invested do<br>you think this person feels in<br>their relationship with you?\"]}, {\"hovertemplate\": \"<b>%{x}%</b><extra></extra>\", \"marker\": {\"color\": \"#BCF0C2\"}, \"orientation\": \"h\", \"showlegend\": false, \"type\": \"bar\", \"x\": [14.5], \"y\": [\"Overall, how invested do<br>you feel in your relationship<br>with this person?\"]}, {\"hovertemplate\": \"<b>%{x}%</b><extra></extra>\", \"marker\": {\"color\": \"#BCF0C2\"}, \"name\": \"???\", \"orientation\": \"h\", \"showlegend\": true, \"type\": \"bar\", \"x\": [16.9], \"y\": [\"Overall, how invested do<br>you think this person feels in<br>their relationship with you?\"]}, {\"hovertemplate\": \"<b>%{x}%</b><extra></extra>\", \"marker\": {\"color\": \"#8BE595\"}, \"orientation\": \"h\", \"showlegend\": false, \"type\": \"bar\", \"x\": [12.1], \"y\": [\"Overall, how invested do<br>you feel in your relationship<br>with this person?\"]}, {\"hovertemplate\": \"<b>%{x}%</b><extra></extra>\", \"marker\": {\"color\": \"#8BE595\"}, \"name\": \"Often\", \"orientation\": \"h\", \"showlegend\": true, \"type\": \"bar\", \"x\": [10.4], \"y\": [\"Overall, how invested do<br>you think this person feels in<br>their relationship with you?\"]}, {\"hovertemplate\": \"<b>%{x}%</b><extra></extra>\", \"marker\": {\"color\": \"#56DA65\"}, \"orientation\": \"h\", \"showlegend\": false, \"type\": \"bar\", \"x\": [9.5], \"y\": [\"Overall, how invested do<br>you feel in your relationship<br>with this person?\"]}, {\"hovertemplate\": \"<b>%{x}%</b><extra></extra>\", \"marker\": {\"color\": \"#56DA65\"}, \"name\": \"A lot\", \"orientation\": \"h\", \"showlegend\": true, \"type\": \"bar\", \"x\": [10.7], \"y\": [\"Overall, how invested do<br>you think this person feels in<br>their relationship with you?\"]}, {\"hovertemplate\": \"<b>%{x}%</b><extra></extra>\", \"marker\": {\"color\": \"#FF6478\"}, \"orientation\": \"h\", \"showlegend\": false, \"type\": \"bar\", \"visible\": false, \"x\": [7.1], \"y\": [\"Overall, how invested do<br>you feel in your relationship<br>with this person?\"]}, {\"hovertemplate\": \"<b>%{x}%</b><extra></extra>\", \"marker\": {\"color\": \"#FF6478\"}, \"name\": \"Not at all\", \"orientation\": \"h\", \"showlegend\": true, \"type\": \"bar\", \"visible\": false, \"x\": [7.8], \"y\": [\"Overall, how invested do<br>you think this person feels in<br>their relationship with you?\"]}, {\"hovertemplate\": \"<b>%{x}%</b><extra></extra>\", \"marker\": {\"color\": \"#FF8477\"}, \"orientation\": \"h\", \"showlegend\": false, \"type\": \"bar\", \"visible\": false, \"x\": [4.6], \"y\": [\"Overall, how invested do<br>you feel in your relationship<br>with this person?\"]}, {\"hovertemplate\": \"<b>%{x}%</b><extra></extra>\", \"marker\": {\"color\": \"#FF8477\"}, \"name\": \"Rarely\", \"orientation\": \"h\", \"showlegend\": true, \"type\": \"bar\", \"visible\": false, \"x\": [4.6], \"y\": [\"Overall, how invested do<br>you think this person feels in<br>their relationship with you?\"]}, {\"hovertemplate\": \"<b>%{x}%</b><extra></extra>\", \"marker\": {\"color\": \"#FF9F77\"}, \"orientation\": \"h\", \"showlegend\": false, \"type\": \"bar\", \"visible\": false, \"x\": [5.6], \"y\": [\"Overall, how invested do<br>you feel in your relationship<br>with this person?\"]}, {\"hovertemplate\": \"<b>%{x}%</b><extra></extra>\", \"marker\": {\"color\": \"#FF9F77\"}, \"name\": \"Occasionally\", \"orientation\": \"h\", \"showlegend\": true, \"type\": \"bar\", \"visible\": false, \"x\": [5.3], \"y\": [\"Overall, how invested do<br>you think this person feels in<br>their relationship with you?\"]}, {\"hovertemplate\": \"<b>%{x}%</b><extra></extra>\", \"marker\": {\"color\": \"#FFB775\"}, \"orientation\": \"h\", \"showlegend\": false, \"type\": \"bar\", \"visible\": false, \"x\": [14.2], \"y\": [\"Overall, how invested do<br>you feel in your relationship<br>with this person?\"]}, {\"hovertemplate\": \"<b>%{x}%</b><extra></extra>\", \"marker\": {\"color\": \"#FFB775\"}, \"name\": \"Sometimes\", \"orientation\": \"h\", \"showlegend\": true, \"type\": \"bar\", \"visible\": false, \"x\": [11.8], \"y\": [\"Overall, how invested do<br>you think this person feels in<br>their relationship with you?\"]}, {\"hovertemplate\": \"<b>%{x}%</b><extra></extra>\", \"marker\": {\"color\": \"#BCF0C2\"}, \"orientation\": \"h\", \"showlegend\": false, \"type\": \"bar\", \"visible\": false, \"x\": [16.6], \"y\": [\"Overall, how invested do<br>you feel in your relationship<br>with this person?\"]}, {\"hovertemplate\": \"<b>%{x}%</b><extra></extra>\", \"marker\": {\"color\": \"#BCF0C2\"}, \"name\": \"???\", \"orientation\": \"h\", \"showlegend\": true, \"type\": \"bar\", \"visible\": false, \"x\": [19.7], \"y\": [\"Overall, how invested do<br>you think this person feels in<br>their relationship with you?\"]}, {\"hovertemplate\": \"<b>%{x}%</b><extra></extra>\", \"marker\": {\"color\": \"#8BE595\"}, \"orientation\": \"h\", \"showlegend\": false, \"type\": \"bar\", \"visible\": false, \"x\": [20.3], \"y\": [\"Overall, how invested do<br>you feel in your relationship<br>with this person?\"]}, {\"hovertemplate\": \"<b>%{x}%</b><extra></extra>\", \"marker\": {\"color\": \"#8BE595\"}, \"name\": \"Often\", \"orientation\": \"h\", \"showlegend\": true, \"type\": \"bar\", \"visible\": false, \"x\": [20.0], \"y\": [\"Overall, how invested do<br>you think this person feels in<br>their relationship with you?\"]}, {\"hovertemplate\": \"<b>%{x}%</b><extra></extra>\", \"marker\": {\"color\": \"#56DA65\"}, \"orientation\": \"h\", \"showlegend\": false, \"type\": \"bar\", \"visible\": false, \"x\": [31.6], \"y\": [\"Overall, how invested do<br>you feel in your relationship<br>with this person?\"]}, {\"hovertemplate\": \"<b>%{x}%</b><extra></extra>\", \"marker\": {\"color\": \"#56DA65\"}, \"name\": \"A lot\", \"orientation\": \"h\", \"showlegend\": true, \"type\": \"bar\", \"visible\": false, \"x\": [30.8], \"y\": [\"Overall, how invested do<br>you think this person feels in<br>their relationship with you?\"]}, {\"hovertemplate\": \"<b>%{x}%</b><extra></extra>\", \"marker\": {\"color\": \"#FF6478\"}, \"orientation\": \"h\", \"showlegend\": false, \"type\": \"bar\", \"visible\": false, \"x\": [0.9], \"y\": [\"Overall, how invested do<br>you feel in your relationship<br>with this person?\"]}, {\"hovertemplate\": \"<b>%{x}%</b><extra></extra>\", \"marker\": {\"color\": \"#FF6478\"}, \"name\": \"Not at all\", \"orientation\": \"h\", \"showlegend\": true, \"type\": \"bar\", \"visible\": false, \"x\": [0.6], \"y\": [\"Overall, how invested do<br>you think this person feels in<br>their relationship with you?\"]}, {\"hovertemplate\": \"<b>%{x}%</b><extra></extra>\", \"marker\": {\"color\": \"#FF8477\"}, \"orientation\": \"h\", \"showlegend\": false, \"type\": \"bar\", \"visible\": false, \"x\": [0.9], \"y\": [\"Overall, how invested do<br>you feel in your relationship<br>with this person?\"]}, {\"hovertemplate\": \"<b>%{x}%</b><extra></extra>\", \"marker\": {\"color\": \"#FF8477\"}, \"name\": \"Rarely\", \"orientation\": \"h\", \"showlegend\": true, \"type\": \"bar\", \"visible\": false, \"x\": [1.9], \"y\": [\"Overall, how invested do<br>you think this person feels in<br>their relationship with you?\"]}, {\"hovertemplate\": \"<b>%{x}%</b><extra></extra>\", \"marker\": {\"color\": \"#FF9F77\"}, \"orientation\": \"h\", \"showlegend\": false, \"type\": \"bar\", \"visible\": false, \"x\": [3.4], \"y\": [\"Overall, how invested do<br>you feel in your relationship<br>with this person?\"]}, {\"hovertemplate\": \"<b>%{x}%</b><extra></extra>\", \"marker\": {\"color\": \"#FF9F77\"}, \"name\": \"Occasionally\", \"orientation\": \"h\", \"showlegend\": true, \"type\": \"bar\", \"visible\": false, \"x\": [1.9], \"y\": [\"Overall, how invested do<br>you think this person feels in<br>their relationship with you?\"]}, {\"hovertemplate\": \"<b>%{x}%</b><extra></extra>\", \"marker\": {\"color\": \"#FFB775\"}, \"orientation\": \"h\", \"showlegend\": false, \"type\": \"bar\", \"visible\": false, \"x\": [17.5], \"y\": [\"Overall, how invested do<br>you feel in your relationship<br>with this person?\"]}, {\"hovertemplate\": \"<b>%{x}%</b><extra></extra>\", \"marker\": {\"color\": \"#FFB775\"}, \"name\": \"Sometimes\", \"orientation\": \"h\", \"showlegend\": true, \"type\": \"bar\", \"visible\": false, \"x\": [19.8], \"y\": [\"Overall, how invested do<br>you think this person feels in<br>their relationship with you?\"]}, {\"hovertemplate\": \"<b>%{x}%</b><extra></extra>\", \"marker\": {\"color\": \"#BCF0C2\"}, \"orientation\": \"h\", \"showlegend\": false, \"type\": \"bar\", \"visible\": false, \"x\": [23.4], \"y\": [\"Overall, how invested do<br>you feel in your relationship<br>with this person?\"]}, {\"hovertemplate\": \"<b>%{x}%</b><extra></extra>\", \"marker\": {\"color\": \"#BCF0C2\"}, \"name\": \"???\", \"orientation\": \"h\", \"showlegend\": true, \"type\": \"bar\", \"visible\": false, \"x\": [25.5], \"y\": [\"Overall, how invested do<br>you think this person feels in<br>their relationship with you?\"]}, {\"hovertemplate\": \"<b>%{x}%</b><extra></extra>\", \"marker\": {\"color\": \"#8BE595\"}, \"orientation\": \"h\", \"showlegend\": false, \"type\": \"bar\", \"visible\": false, \"x\": [27.5], \"y\": [\"Overall, how invested do<br>you feel in your relationship<br>with this person?\"]}, {\"hovertemplate\": \"<b>%{x}%</b><extra></extra>\", \"marker\": {\"color\": \"#8BE595\"}, \"name\": \"Often\", \"orientation\": \"h\", \"showlegend\": true, \"type\": \"bar\", \"visible\": false, \"x\": [23.0], \"y\": [\"Overall, how invested do<br>you think this person feels in<br>their relationship with you?\"]}, {\"hovertemplate\": \"<b>%{x}%</b><extra></extra>\", \"marker\": {\"color\": \"#56DA65\"}, \"orientation\": \"h\", \"showlegend\": false, \"type\": \"bar\", \"visible\": false, \"x\": [26.2], \"y\": [\"Overall, how invested do<br>you feel in your relationship<br>with this person?\"]}, {\"hovertemplate\": \"<b>%{x}%</b><extra></extra>\", \"marker\": {\"color\": \"#56DA65\"}, \"name\": \"A lot\", \"orientation\": \"h\", \"showlegend\": true, \"type\": \"bar\", \"visible\": false, \"x\": [27.4], \"y\": [\"Overall, how invested do<br>you think this person feels in<br>their relationship with you?\"]}],\n",
       "                        {\"annotations\": [{\"align\": \"right\", \"font\": {\"color\": \"black\", \"size\": 12}, \"showarrow\": false, \"text\": \"Overall, how invested do<br>you feel in your relationship<br>with this person?\", \"x\": 0.14, \"xanchor\": \"right\", \"xref\": \"paper\", \"y\": \"Overall, how invested do<br>you feel in your relationship<br>with this person?\", \"yref\": \"y\"}, {\"font\": {\"color\": \"#595959\", \"size\": 12}, \"showarrow\": false, \"text\": \"21.6%\", \"x\": 10.8, \"xref\": \"x\", \"y\": \"Overall, how invested do<br>you feel in your relationship<br>with this person?\", \"yref\": \"y\"}, {\"font\": {\"color\": \"#595959\", \"size\": 12}, \"showarrow\": false, \"text\": \"10.6%\", \"x\": 26.900000000000002, \"xref\": \"x\", \"y\": \"Overall, how invested do<br>you feel in your relationship<br>with this person?\", \"yref\": \"y\"}, {\"font\": {\"color\": \"#595959\", \"size\": 12}, \"showarrow\": false, \"text\": \"10.8%\", \"x\": 37.6, \"xref\": \"x\", \"y\": \"Overall, how invested do<br>you feel in your relationship<br>with this person?\", \"yref\": \"y\"}, {\"font\": {\"color\": \"#595959\", \"size\": 12}, \"showarrow\": false, \"text\": \"21.0%\", \"x\": 53.5, \"xref\": \"x\", \"y\": \"Overall, how invested do<br>you feel in your relationship<br>with this person?\", \"yref\": \"y\"}, {\"font\": {\"color\": \"#595959\", \"size\": 12}, \"showarrow\": false, \"text\": \"14.5%\", \"x\": 71.25, \"xref\": \"x\", \"y\": \"Overall, how invested do<br>you feel in your relationship<br>with this person?\", \"yref\": \"y\"}, {\"font\": {\"color\": \"#595959\", \"size\": 12}, \"showarrow\": false, \"text\": \"12.1%\", \"x\": 84.55, \"xref\": \"x\", \"y\": \"Overall, how invested do<br>you feel in your relationship<br>with this person?\", \"yref\": \"y\"}, {\"font\": {\"color\": \"#595959\", \"size\": 12}, \"showarrow\": false, \"text\": \"9.5%\", \"x\": 95.35, \"xref\": \"x\", \"y\": \"Overall, how invested do<br>you feel in your relationship<br>with this person?\", \"yref\": \"y\"}, {\"align\": \"right\", \"font\": {\"color\": \"black\", \"size\": 12}, \"showarrow\": false, \"text\": \"Overall, how invested do<br>you think this person feels in<br>their relationship with you?\", \"x\": 0.14, \"xanchor\": \"right\", \"xref\": \"paper\", \"y\": \"Overall, how invested do<br>you think this person feels in<br>their relationship with you?\", \"yref\": \"y\"}, {\"font\": {\"color\": \"#595959\", \"size\": 12}, \"showarrow\": false, \"text\": \"24.3%\", \"x\": 12.15, \"xref\": \"x\", \"y\": \"Overall, how invested do<br>you think this person feels in<br>their relationship with you?\", \"yref\": \"y\"}, {\"font\": {\"color\": \"#595959\", \"size\": 12}, \"showarrow\": false, \"text\": \"10.4%\", \"x\": 29.5, \"xref\": \"x\", \"y\": \"Overall, how invested do<br>you think this person feels in<br>their relationship with you?\", \"yref\": \"y\"}, {\"font\": {\"color\": \"#595959\", \"size\": 12}, \"showarrow\": false, \"text\": \"9.2%\", \"x\": 39.300000000000004, \"xref\": \"x\", \"y\": \"Overall, how invested do<br>you think this person feels in<br>their relationship with you?\", \"yref\": \"y\"}, {\"font\": {\"color\": \"#595959\", \"size\": 12}, \"showarrow\": false, \"text\": \"18.0%\", \"x\": 52.900000000000006, \"xref\": \"x\", \"y\": \"Overall, how invested do<br>you think this person feels in<br>their relationship with you?\", \"yref\": \"y\"}, {\"font\": {\"color\": \"#595959\", \"size\": 12}, \"showarrow\": false, \"text\": \"16.9%\", \"x\": 70.35000000000001, \"xref\": \"x\", \"y\": \"Overall, how invested do<br>you think this person feels in<br>their relationship with you?\", \"yref\": \"y\"}, {\"font\": {\"color\": \"#595959\", \"size\": 12}, \"showarrow\": false, \"text\": \"10.4%\", \"x\": 84.00000000000001, \"xref\": \"x\", \"y\": \"Overall, how invested do<br>you think this person feels in<br>their relationship with you?\", \"yref\": \"y\"}, {\"font\": {\"color\": \"#595959\", \"size\": 12}, \"showarrow\": false, \"text\": \"10.7%\", \"x\": 94.55000000000001, \"xref\": \"x\", \"y\": \"Overall, how invested do<br>you think this person feels in<br>their relationship with you?\", \"yref\": \"y\"}], \"barmode\": \"stack\", \"font\": {\"color\": \"black\", \"size\": 12}, \"legend\": {\"itemclick\": false, \"orientation\": \"h\", \"traceorder\": \"normal\", \"x\": 0.94, \"xanchor\": \"right\", \"y\": 1.02, \"yanchor\": \"bottom\"}, \"margin\": {\"b\": 80, \"l\": 120, \"r\": 10, \"t\": 140}, \"paper_bgcolor\": \"rgb(248, 248, 255)\", \"plot_bgcolor\": \"rgb(248, 248, 255)\", \"template\": {\"data\": {\"bar\": [{\"error_x\": {\"color\": \"#2a3f5f\"}, \"error_y\": {\"color\": \"#2a3f5f\"}, \"marker\": {\"line\": {\"color\": \"#E5ECF6\", \"width\": 0.5}}, \"type\": \"bar\"}], \"barpolar\": [{\"marker\": {\"line\": {\"color\": \"#E5ECF6\", \"width\": 0.5}}, \"type\": \"barpolar\"}], \"carpet\": [{\"aaxis\": {\"endlinecolor\": \"#2a3f5f\", \"gridcolor\": \"white\", \"linecolor\": \"white\", \"minorgridcolor\": \"white\", \"startlinecolor\": \"#2a3f5f\"}, \"baxis\": {\"endlinecolor\": \"#2a3f5f\", \"gridcolor\": \"white\", \"linecolor\": \"white\", \"minorgridcolor\": \"white\", \"startlinecolor\": \"#2a3f5f\"}, \"type\": \"carpet\"}], \"choropleth\": [{\"colorbar\": {\"outlinewidth\": 0, \"ticks\": \"\"}, \"type\": \"choropleth\"}], \"contour\": [{\"colorbar\": {\"outlinewidth\": 0, \"ticks\": \"\"}, \"colorscale\": [[0.0, \"#0d0887\"], [0.1111111111111111, \"#46039f\"], [0.2222222222222222, \"#7201a8\"], [0.3333333333333333, \"#9c179e\"], [0.4444444444444444, \"#bd3786\"], [0.5555555555555556, \"#d8576b\"], [0.6666666666666666, \"#ed7953\"], [0.7777777777777778, \"#fb9f3a\"], [0.8888888888888888, \"#fdca26\"], [1.0, \"#f0f921\"]], \"type\": \"contour\"}], \"contourcarpet\": [{\"colorbar\": {\"outlinewidth\": 0, \"ticks\": \"\"}, \"type\": \"contourcarpet\"}], \"heatmap\": [{\"colorbar\": {\"outlinewidth\": 0, \"ticks\": \"\"}, \"colorscale\": [[0.0, \"#0d0887\"], [0.1111111111111111, \"#46039f\"], [0.2222222222222222, \"#7201a8\"], [0.3333333333333333, \"#9c179e\"], [0.4444444444444444, \"#bd3786\"], [0.5555555555555556, \"#d8576b\"], [0.6666666666666666, \"#ed7953\"], [0.7777777777777778, \"#fb9f3a\"], [0.8888888888888888, \"#fdca26\"], [1.0, \"#f0f921\"]], \"type\": \"heatmap\"}], \"heatmapgl\": [{\"colorbar\": {\"outlinewidth\": 0, \"ticks\": \"\"}, \"colorscale\": [[0.0, \"#0d0887\"], [0.1111111111111111, \"#46039f\"], [0.2222222222222222, \"#7201a8\"], [0.3333333333333333, \"#9c179e\"], [0.4444444444444444, \"#bd3786\"], [0.5555555555555556, \"#d8576b\"], [0.6666666666666666, \"#ed7953\"], [0.7777777777777778, \"#fb9f3a\"], [0.8888888888888888, \"#fdca26\"], [1.0, \"#f0f921\"]], \"type\": \"heatmapgl\"}], \"histogram\": [{\"marker\": {\"colorbar\": {\"outlinewidth\": 0, \"ticks\": \"\"}}, \"type\": \"histogram\"}], \"histogram2d\": [{\"colorbar\": {\"outlinewidth\": 0, \"ticks\": \"\"}, \"colorscale\": [[0.0, \"#0d0887\"], [0.1111111111111111, \"#46039f\"], [0.2222222222222222, \"#7201a8\"], [0.3333333333333333, \"#9c179e\"], [0.4444444444444444, \"#bd3786\"], [0.5555555555555556, \"#d8576b\"], [0.6666666666666666, \"#ed7953\"], [0.7777777777777778, \"#fb9f3a\"], [0.8888888888888888, \"#fdca26\"], [1.0, \"#f0f921\"]], \"type\": \"histogram2d\"}], \"histogram2dcontour\": [{\"colorbar\": {\"outlinewidth\": 0, \"ticks\": \"\"}, \"colorscale\": [[0.0, \"#0d0887\"], [0.1111111111111111, \"#46039f\"], [0.2222222222222222, \"#7201a8\"], [0.3333333333333333, \"#9c179e\"], [0.4444444444444444, \"#bd3786\"], [0.5555555555555556, \"#d8576b\"], [0.6666666666666666, \"#ed7953\"], [0.7777777777777778, \"#fb9f3a\"], [0.8888888888888888, \"#fdca26\"], [1.0, \"#f0f921\"]], \"type\": \"histogram2dcontour\"}], \"mesh3d\": [{\"colorbar\": {\"outlinewidth\": 0, \"ticks\": \"\"}, \"type\": \"mesh3d\"}], \"parcoords\": [{\"line\": {\"colorbar\": {\"outlinewidth\": 0, \"ticks\": \"\"}}, \"type\": \"parcoords\"}], \"pie\": [{\"automargin\": true, \"type\": \"pie\"}], \"scatter\": [{\"marker\": {\"colorbar\": {\"outlinewidth\": 0, \"ticks\": \"\"}}, \"type\": \"scatter\"}], \"scatter3d\": [{\"line\": {\"colorbar\": {\"outlinewidth\": 0, \"ticks\": \"\"}}, \"marker\": {\"colorbar\": {\"outlinewidth\": 0, \"ticks\": \"\"}}, \"type\": \"scatter3d\"}], \"scattercarpet\": [{\"marker\": {\"colorbar\": {\"outlinewidth\": 0, \"ticks\": \"\"}}, \"type\": \"scattercarpet\"}], \"scattergeo\": [{\"marker\": {\"colorbar\": {\"outlinewidth\": 0, \"ticks\": \"\"}}, \"type\": \"scattergeo\"}], \"scattergl\": [{\"marker\": {\"colorbar\": {\"outlinewidth\": 0, \"ticks\": \"\"}}, \"type\": \"scattergl\"}], \"scattermapbox\": [{\"marker\": {\"colorbar\": {\"outlinewidth\": 0, \"ticks\": \"\"}}, \"type\": \"scattermapbox\"}], \"scatterpolar\": [{\"marker\": {\"colorbar\": {\"outlinewidth\": 0, \"ticks\": \"\"}}, \"type\": \"scatterpolar\"}], \"scatterpolargl\": [{\"marker\": {\"colorbar\": {\"outlinewidth\": 0, \"ticks\": \"\"}}, \"type\": \"scatterpolargl\"}], \"scatterternary\": [{\"marker\": {\"colorbar\": {\"outlinewidth\": 0, \"ticks\": \"\"}}, \"type\": \"scatterternary\"}], \"surface\": [{\"colorbar\": {\"outlinewidth\": 0, \"ticks\": \"\"}, \"colorscale\": [[0.0, \"#0d0887\"], [0.1111111111111111, \"#46039f\"], [0.2222222222222222, \"#7201a8\"], [0.3333333333333333, \"#9c179e\"], [0.4444444444444444, \"#bd3786\"], [0.5555555555555556, \"#d8576b\"], [0.6666666666666666, \"#ed7953\"], [0.7777777777777778, \"#fb9f3a\"], [0.8888888888888888, \"#fdca26\"], [1.0, \"#f0f921\"]], \"type\": \"surface\"}], \"table\": [{\"cells\": {\"fill\": {\"color\": \"#EBF0F8\"}, \"line\": {\"color\": \"white\"}}, \"header\": {\"fill\": {\"color\": \"#C8D4E3\"}, \"line\": {\"color\": \"white\"}}, \"type\": \"table\"}]}, \"layout\": {\"annotationdefaults\": {\"arrowcolor\": \"#2a3f5f\", \"arrowhead\": 0, \"arrowwidth\": 1}, \"coloraxis\": {\"colorbar\": {\"outlinewidth\": 0, \"ticks\": \"\"}}, \"colorscale\": {\"diverging\": [[0, \"#8e0152\"], [0.1, \"#c51b7d\"], [0.2, \"#de77ae\"], [0.3, \"#f1b6da\"], [0.4, \"#fde0ef\"], [0.5, \"#f7f7f7\"], [0.6, \"#e6f5d0\"], [0.7, \"#b8e186\"], [0.8, \"#7fbc41\"], [0.9, \"#4d9221\"], [1, \"#276419\"]], \"sequential\": [[0.0, \"#0d0887\"], [0.1111111111111111, \"#46039f\"], [0.2222222222222222, \"#7201a8\"], [0.3333333333333333, \"#9c179e\"], [0.4444444444444444, \"#bd3786\"], [0.5555555555555556, \"#d8576b\"], [0.6666666666666666, \"#ed7953\"], [0.7777777777777778, \"#fb9f3a\"], [0.8888888888888888, \"#fdca26\"], [1.0, \"#f0f921\"]], \"sequentialminus\": [[0.0, \"#0d0887\"], [0.1111111111111111, \"#46039f\"], [0.2222222222222222, \"#7201a8\"], [0.3333333333333333, \"#9c179e\"], [0.4444444444444444, \"#bd3786\"], [0.5555555555555556, \"#d8576b\"], [0.6666666666666666, \"#ed7953\"], [0.7777777777777778, \"#fb9f3a\"], [0.8888888888888888, \"#fdca26\"], [1.0, \"#f0f921\"]]}, \"colorway\": [\"#636efa\", \"#EF553B\", \"#00cc96\", \"#ab63fa\", \"#FFA15A\", \"#19d3f3\", \"#FF6692\", \"#B6E880\", \"#FF97FF\", \"#FECB52\"], \"font\": {\"color\": \"#2a3f5f\"}, \"geo\": {\"bgcolor\": \"white\", \"lakecolor\": \"white\", \"landcolor\": \"#E5ECF6\", \"showlakes\": true, \"showland\": true, \"subunitcolor\": \"white\"}, \"hoverlabel\": {\"align\": \"left\"}, \"hovermode\": \"closest\", \"mapbox\": {\"style\": \"light\"}, \"paper_bgcolor\": \"white\", \"plot_bgcolor\": \"#E5ECF6\", \"polar\": {\"angularaxis\": {\"gridcolor\": \"white\", \"linecolor\": \"white\", \"ticks\": \"\"}, \"bgcolor\": \"#E5ECF6\", \"radialaxis\": {\"gridcolor\": \"white\", \"linecolor\": \"white\", \"ticks\": \"\"}}, \"scene\": {\"xaxis\": {\"backgroundcolor\": \"#E5ECF6\", \"gridcolor\": \"white\", \"gridwidth\": 2, \"linecolor\": \"white\", \"showbackground\": true, \"ticks\": \"\", \"zerolinecolor\": \"white\"}, \"yaxis\": {\"backgroundcolor\": \"#E5ECF6\", \"gridcolor\": \"white\", \"gridwidth\": 2, \"linecolor\": \"white\", \"showbackground\": true, \"ticks\": \"\", \"zerolinecolor\": \"white\"}, \"zaxis\": {\"backgroundcolor\": \"#E5ECF6\", \"gridcolor\": \"white\", \"gridwidth\": 2, \"linecolor\": \"white\", \"showbackground\": true, \"ticks\": \"\", \"zerolinecolor\": \"white\"}}, \"shapedefaults\": {\"line\": {\"color\": \"#2a3f5f\"}}, \"ternary\": {\"aaxis\": {\"gridcolor\": \"white\", \"linecolor\": \"white\", \"ticks\": \"\"}, \"baxis\": {\"gridcolor\": \"white\", \"linecolor\": \"white\", \"ticks\": \"\"}, \"bgcolor\": \"#E5ECF6\", \"caxis\": {\"gridcolor\": \"white\", \"linecolor\": \"white\", \"ticks\": \"\"}}, \"title\": {\"x\": 0.05}, \"xaxis\": {\"automargin\": true, \"gridcolor\": \"white\", \"linecolor\": \"white\", \"ticks\": \"\", \"title\": {\"standoff\": 15}, \"zerolinecolor\": \"white\", \"zerolinewidth\": 2}, \"yaxis\": {\"automargin\": true, \"gridcolor\": \"white\", \"linecolor\": \"white\", \"ticks\": \"\", \"title\": {\"standoff\": 15}, \"zerolinecolor\": \"white\", \"zerolinewidth\": 2}}}, \"title\": {\"text\": \"Formal\", \"x\": 0.95, \"y\": 0.88}, \"updatemenus\": [{\"bgcolor\": \"#c9c7c7\", \"buttons\": [{\"args\": [{\"visible\": [true, true, true, true, true, true, true, true, true, true, true, true, true, true, false, false, false, false, false, false, false, false, false, false, false, false, false, false, false, false, false, false, false, false, false, false, false, false, false, false, false, false]}, {\"annotations\": [{\"align\": \"right\", \"font\": {\"color\": \"black\", \"size\": 12}, \"showarrow\": false, \"text\": \"Overall, how invested do<br>you feel in your relationship<br>with this person?\", \"x\": 0.14, \"xanchor\": \"right\", \"xref\": \"paper\", \"y\": \"Overall, how invested do<br>you feel in your relationship<br>with this person?\", \"yref\": \"y\"}, {\"font\": {\"color\": \"#595959\", \"size\": 12}, \"showarrow\": false, \"text\": \"21.6%\", \"x\": 10.8, \"xref\": \"x\", \"y\": \"Overall, how invested do<br>you feel in your relationship<br>with this person?\", \"yref\": \"y\"}, {\"font\": {\"color\": \"#595959\", \"size\": 12}, \"showarrow\": false, \"text\": \"10.6%\", \"x\": 26.900000000000002, \"xref\": \"x\", \"y\": \"Overall, how invested do<br>you feel in your relationship<br>with this person?\", \"yref\": \"y\"}, {\"font\": {\"color\": \"#595959\", \"size\": 12}, \"showarrow\": false, \"text\": \"10.8%\", \"x\": 37.6, \"xref\": \"x\", \"y\": \"Overall, how invested do<br>you feel in your relationship<br>with this person?\", \"yref\": \"y\"}, {\"font\": {\"color\": \"#595959\", \"size\": 12}, \"showarrow\": false, \"text\": \"21.0%\", \"x\": 53.5, \"xref\": \"x\", \"y\": \"Overall, how invested do<br>you feel in your relationship<br>with this person?\", \"yref\": \"y\"}, {\"font\": {\"color\": \"#595959\", \"size\": 12}, \"showarrow\": false, \"text\": \"14.5%\", \"x\": 71.25, \"xref\": \"x\", \"y\": \"Overall, how invested do<br>you feel in your relationship<br>with this person?\", \"yref\": \"y\"}, {\"font\": {\"color\": \"#595959\", \"size\": 12}, \"showarrow\": false, \"text\": \"12.1%\", \"x\": 84.55, \"xref\": \"x\", \"y\": \"Overall, how invested do<br>you feel in your relationship<br>with this person?\", \"yref\": \"y\"}, {\"font\": {\"color\": \"#595959\", \"size\": 12}, \"showarrow\": false, \"text\": \"9.5%\", \"x\": 95.35, \"xref\": \"x\", \"y\": \"Overall, how invested do<br>you feel in your relationship<br>with this person?\", \"yref\": \"y\"}, {\"align\": \"right\", \"font\": {\"color\": \"black\", \"size\": 12}, \"showarrow\": false, \"text\": \"Overall, how invested do<br>you think this person feels in<br>their relationship with you?\", \"x\": 0.14, \"xanchor\": \"right\", \"xref\": \"paper\", \"y\": \"Overall, how invested do<br>you think this person feels in<br>their relationship with you?\", \"yref\": \"y\"}, {\"font\": {\"color\": \"#595959\", \"size\": 12}, \"showarrow\": false, \"text\": \"24.3%\", \"x\": 12.15, \"xref\": \"x\", \"y\": \"Overall, how invested do<br>you think this person feels in<br>their relationship with you?\", \"yref\": \"y\"}, {\"font\": {\"color\": \"#595959\", \"size\": 12}, \"showarrow\": false, \"text\": \"10.4%\", \"x\": 29.5, \"xref\": \"x\", \"y\": \"Overall, how invested do<br>you think this person feels in<br>their relationship with you?\", \"yref\": \"y\"}, {\"font\": {\"color\": \"#595959\", \"size\": 12}, \"showarrow\": false, \"text\": \"9.2%\", \"x\": 39.300000000000004, \"xref\": \"x\", \"y\": \"Overall, how invested do<br>you think this person feels in<br>their relationship with you?\", \"yref\": \"y\"}, {\"font\": {\"color\": \"#595959\", \"size\": 12}, \"showarrow\": false, \"text\": \"18.0%\", \"x\": 52.900000000000006, \"xref\": \"x\", \"y\": \"Overall, how invested do<br>you think this person feels in<br>their relationship with you?\", \"yref\": \"y\"}, {\"font\": {\"color\": \"#595959\", \"size\": 12}, \"showarrow\": false, \"text\": \"16.9%\", \"x\": 70.35000000000001, \"xref\": \"x\", \"y\": \"Overall, how invested do<br>you think this person feels in<br>their relationship with you?\", \"yref\": \"y\"}, {\"font\": {\"color\": \"#595959\", \"size\": 12}, \"showarrow\": false, \"text\": \"10.4%\", \"x\": 84.00000000000001, \"xref\": \"x\", \"y\": \"Overall, how invested do<br>you think this person feels in<br>their relationship with you?\", \"yref\": \"y\"}, {\"font\": {\"color\": \"#595959\", \"size\": 12}, \"showarrow\": false, \"text\": \"10.7%\", \"x\": 94.55000000000001, \"xref\": \"x\", \"y\": \"Overall, how invested do<br>you think this person feels in<br>their relationship with you?\", \"yref\": \"y\"}], \"title\": \"Formal\"}], \"label\": \"Formal\", \"method\": \"update\"}, {\"args\": [{\"visible\": [false, false, false, false, false, false, false, false, false, false, false, false, false, false, true, true, true, true, true, true, true, true, true, true, true, true, true, true, false, false, false, false, false, false, false, false, false, false, false, false, false, false]}, {\"annotations\": [{\"align\": \"right\", \"font\": {\"color\": \"black\", \"size\": 12}, \"showarrow\": false, \"text\": \"Overall, how invested do<br>you feel in your relationship<br>with this person?\", \"x\": 0.14, \"xanchor\": \"right\", \"xref\": \"paper\", \"y\": \"Overall, how invested do<br>you feel in your relationship<br>with this person?\", \"yref\": \"y\"}, {\"font\": {\"color\": \"#595959\", \"size\": 12}, \"showarrow\": false, \"text\": \"7.1%\", \"x\": 3.55, \"xref\": \"x\", \"y\": \"Overall, how invested do<br>you feel in your relationship<br>with this person?\", \"yref\": \"y\"}, {\"font\": {\"color\": \"#595959\", \"size\": 12}, \"showarrow\": false, \"text\": \"5.6%\", \"x\": 14.5, \"xref\": \"x\", \"y\": \"Overall, how invested do<br>you feel in your relationship<br>with this person?\", \"yref\": \"y\"}, {\"font\": {\"color\": \"#595959\", \"size\": 12}, \"showarrow\": false, \"text\": \"14.2%\", \"x\": 24.4, \"xref\": \"x\", \"y\": \"Overall, how invested do<br>you feel in your relationship<br>with this person?\", \"yref\": \"y\"}, {\"font\": {\"color\": \"#595959\", \"size\": 12}, \"showarrow\": false, \"text\": \"16.6%\", \"x\": 39.8, \"xref\": \"x\", \"y\": \"Overall, how invested do<br>you feel in your relationship<br>with this person?\", \"yref\": \"y\"}, {\"font\": {\"color\": \"#595959\", \"size\": 12}, \"showarrow\": false, \"text\": \"20.3%\", \"x\": 58.24999999999999, \"xref\": \"x\", \"y\": \"Overall, how invested do<br>you feel in your relationship<br>with this person?\", \"yref\": \"y\"}, {\"font\": {\"color\": \"#595959\", \"size\": 12}, \"showarrow\": false, \"text\": \"31.6%\", \"x\": 84.19999999999999, \"xref\": \"x\", \"y\": \"Overall, how invested do<br>you feel in your relationship<br>with this person?\", \"yref\": \"y\"}, {\"align\": \"right\", \"font\": {\"color\": \"black\", \"size\": 12}, \"showarrow\": false, \"text\": \"Overall, how invested do<br>you think this person feels in<br>their relationship with you?\", \"x\": 0.14, \"xanchor\": \"right\", \"xref\": \"paper\", \"y\": \"Overall, how invested do<br>you think this person feels in<br>their relationship with you?\", \"yref\": \"y\"}, {\"font\": {\"color\": \"#595959\", \"size\": 12}, \"showarrow\": false, \"text\": \"7.8%\", \"x\": 3.9, \"xref\": \"x\", \"y\": \"Overall, how invested do<br>you think this person feels in<br>their relationship with you?\", \"yref\": \"y\"}, {\"font\": {\"color\": \"#595959\", \"size\": 12}, \"showarrow\": false, \"text\": \"5.3%\", \"x\": 15.049999999999999, \"xref\": \"x\", \"y\": \"Overall, how invested do<br>you think this person feels in<br>their relationship with you?\", \"yref\": \"y\"}, {\"font\": {\"color\": \"#595959\", \"size\": 12}, \"showarrow\": false, \"text\": \"11.8%\", \"x\": 23.6, \"xref\": \"x\", \"y\": \"Overall, how invested do<br>you think this person feels in<br>their relationship with you?\", \"yref\": \"y\"}, {\"font\": {\"color\": \"#595959\", \"size\": 12}, \"showarrow\": false, \"text\": \"19.7%\", \"x\": 39.35, \"xref\": \"x\", \"y\": \"Overall, how invested do<br>you think this person feels in<br>their relationship with you?\", \"yref\": \"y\"}, {\"font\": {\"color\": \"#595959\", \"size\": 12}, \"showarrow\": false, \"text\": \"20.0%\", \"x\": 59.2, \"xref\": \"x\", \"y\": \"Overall, how invested do<br>you think this person feels in<br>their relationship with you?\", \"yref\": \"y\"}, {\"font\": {\"color\": \"#595959\", \"size\": 12}, \"showarrow\": false, \"text\": \"30.8%\", \"x\": 84.60000000000001, \"xref\": \"x\", \"y\": \"Overall, how invested do<br>you think this person feels in<br>their relationship with you?\", \"yref\": \"y\"}], \"title\": \"Informal\"}], \"label\": \"Informal\", \"method\": \"update\"}, {\"args\": [{\"visible\": [false, false, false, false, false, false, false, false, false, false, false, false, false, false, false, false, false, false, false, false, false, false, false, false, false, false, false, false, true, true, true, true, true, true, true, true, true, true, true, true, true, true]}, {\"annotations\": [{\"align\": \"right\", \"font\": {\"color\": \"black\", \"size\": 12}, \"showarrow\": false, \"text\": \"Overall, how invested do<br>you feel in your relationship<br>with this person?\", \"x\": 0.14, \"xanchor\": \"right\", \"xref\": \"paper\", \"y\": \"Overall, how invested do<br>you feel in your relationship<br>with this person?\", \"yref\": \"y\"}, {\"font\": {\"color\": \"#595959\", \"size\": 12}, \"showarrow\": false, \"text\": \"17.5%\", \"x\": 13.95, \"xref\": \"x\", \"y\": \"Overall, how invested do<br>you feel in your relationship<br>with this person?\", \"yref\": \"y\"}, {\"font\": {\"color\": \"#595959\", \"size\": 12}, \"showarrow\": false, \"text\": \"23.4%\", \"x\": 34.4, \"xref\": \"x\", \"y\": \"Overall, how invested do<br>you feel in your relationship<br>with this person?\", \"yref\": \"y\"}, {\"font\": {\"color\": \"#595959\", \"size\": 12}, \"showarrow\": false, \"text\": \"27.5%\", \"x\": 59.849999999999994, \"xref\": \"x\", \"y\": \"Overall, how invested do<br>you feel in your relationship<br>with this person?\", \"yref\": \"y\"}, {\"font\": {\"color\": \"#595959\", \"size\": 12}, \"showarrow\": false, \"text\": \"26.2%\", \"x\": 86.69999999999999, \"xref\": \"x\", \"y\": \"Overall, how invested do<br>you feel in your relationship<br>with this person?\", \"yref\": \"y\"}, {\"align\": \"right\", \"font\": {\"color\": \"black\", \"size\": 12}, \"showarrow\": false, \"text\": \"Overall, how invested do<br>you think this person feels in<br>their relationship with you?\", \"x\": 0.14, \"xanchor\": \"right\", \"xref\": \"paper\", \"y\": \"Overall, how invested do<br>you think this person feels in<br>their relationship with you?\", \"yref\": \"y\"}, {\"font\": {\"color\": \"#595959\", \"size\": 12}, \"showarrow\": false, \"text\": \"19.8%\", \"x\": 14.3, \"xref\": \"x\", \"y\": \"Overall, how invested do<br>you think this person feels in<br>their relationship with you?\", \"yref\": \"y\"}, {\"font\": {\"color\": \"#595959\", \"size\": 12}, \"showarrow\": false, \"text\": \"25.5%\", \"x\": 36.95, \"xref\": \"x\", \"y\": \"Overall, how invested do<br>you think this person feels in<br>their relationship with you?\", \"yref\": \"y\"}, {\"font\": {\"color\": \"#595959\", \"size\": 12}, \"showarrow\": false, \"text\": \"23.0%\", \"x\": 61.2, \"xref\": \"x\", \"y\": \"Overall, how invested do<br>you think this person feels in<br>their relationship with you?\", \"yref\": \"y\"}, {\"font\": {\"color\": \"#595959\", \"size\": 12}, \"showarrow\": false, \"text\": \"27.4%\", \"x\": 86.4, \"xref\": \"x\", \"y\": \"Overall, how invested do<br>you think this person feels in<br>their relationship with you?\", \"yref\": \"y\"}], \"title\": \"Friend\"}], \"label\": \"Friend\", \"method\": \"update\"}], \"direction\": \"right\", \"showactive\": true, \"type\": \"buttons\", \"x\": 0.684, \"y\": 1.3}], \"xaxis\": {\"domain\": [0.15, 1], \"showgrid\": false, \"showline\": false, \"showticklabels\": false, \"zeroline\": false}, \"yaxis\": {\"showgrid\": false, \"showline\": false, \"showticklabels\": false, \"zeroline\": false}},\n",
       "                        {\"displayModeBar\": false, \"responsive\": true}\n",
       "                    ).then(function(){\n",
       "                            \n",
       "var gd = document.getElementById('df1f20cc-699b-4caa-a1a5-0a4173895d19');\n",
       "var x = new MutationObserver(function (mutations, observer) {{\n",
       "        var display = window.getComputedStyle(gd).display;\n",
       "        if (!display || display === 'none') {{\n",
       "            console.log([gd, 'removed!']);\n",
       "            Plotly.purge(gd);\n",
       "            observer.disconnect();\n",
       "        }}\n",
       "}});\n",
       "\n",
       "// Listen for the removal of the full notebook cells\n",
       "var notebookContainer = gd.closest('#notebook-container');\n",
       "if (notebookContainer) {{\n",
       "    x.observe(notebookContainer, {childList: true});\n",
       "}}\n",
       "\n",
       "// Listen for the clearing of the current output cell\n",
       "var outputEl = gd.closest('.output');\n",
       "if (outputEl) {{\n",
       "    x.observe(outputEl, {childList: true});\n",
       "}}\n",
       "\n",
       "                        })\n",
       "                };\n",
       "                });\n",
       "            </script>\n",
       "        </div>"
      ]
     },
     "metadata": {},
     "output_type": "display_data"
    }
   ],
   "source": [
    "percent_bar([list(round((df_diff['invest.overall.t'][df_diff['dyad_type'] == 1].value_counts(normalize = True).sort_index() * 100), 1)),\n",
    "             list(round((df_diff['invest.overall.p'][df_diff['dyad_type'] == 1].value_counts(normalize = True).sort_index() * 100), 1))],\n",
    "            [list(round((df_diff['invest.overall.t'][df_diff['dyad_type'] == 2].value_counts(normalize = True).sort_index() * 100), 1)),\n",
    "             list(round((df_diff['invest.overall.p'][df_diff['dyad_type'] == 2].value_counts(normalize = True).sort_index() * 100), 1))],\n",
    "            [list(round((df_diff['invest.overall.t'][df_diff['dyad_type'] == 3].value_counts(normalize = True).sort_index() * 100), 1)),\n",
    "             list(round((df_diff['invest.overall.p'][df_diff['dyad_type'] == 3].value_counts(normalize = True).sort_index() * 100), 1))],\n",
    "            'Overall, how invested do<br>you feel in your relationship<br>with this person?',\n",
    "            'Overall, how invested do<br>you think this person feels in<br>their relationship with you?')"
   ]
  },
  {
   "cell_type": "code",
   "execution_count": 41,
   "metadata": {
    "scrolled": false
   },
   "outputs": [
    {
     "data": {
      "application/vnd.plotly.v1+json": {
       "config": {
        "displayModeBar": false,
        "plotlyServerURL": "https://plotly.com"
       },
       "data": [
        {
         "hovertemplate": "<b>%{x}%</b><extra></extra>",
         "marker": {
          "color": "#FF6478"
         },
         "orientation": "h",
         "showlegend": false,
         "type": "bar",
         "x": [
          24.2
         ],
         "y": [
          "Overall, how<br>close do you think<br>this person feels<br>to you?"
         ]
        },
        {
         "hovertemplate": "<b>%{x}%</b><extra></extra>",
         "marker": {
          "color": "#FF6478"
         },
         "name": "Not at all",
         "orientation": "h",
         "showlegend": true,
         "type": "bar",
         "x": [
          22.4
         ],
         "y": [
          "Overall, how<br>close do you feel<br>to this person?"
         ]
        },
        {
         "hovertemplate": "<b>%{x}%</b><extra></extra>",
         "marker": {
          "color": "#FF8477"
         },
         "orientation": "h",
         "showlegend": false,
         "type": "bar",
         "x": [
          14.3
         ],
         "y": [
          "Overall, how<br>close do you think<br>this person feels<br>to you?"
         ]
        },
        {
         "hovertemplate": "<b>%{x}%</b><extra></extra>",
         "marker": {
          "color": "#FF8477"
         },
         "name": "Rarely",
         "orientation": "h",
         "showlegend": true,
         "type": "bar",
         "x": [
          10.6
         ],
         "y": [
          "Overall, how<br>close do you feel<br>to this person?"
         ]
        },
        {
         "hovertemplate": "<b>%{x}%</b><extra></extra>",
         "marker": {
          "color": "#FF9F77"
         },
         "orientation": "h",
         "showlegend": false,
         "type": "bar",
         "x": [
          12
         ],
         "y": [
          "Overall, how<br>close do you think<br>this person feels<br>to you?"
         ]
        },
        {
         "hovertemplate": "<b>%{x}%</b><extra></extra>",
         "marker": {
          "color": "#FF9F77"
         },
         "name": "Occasionally",
         "orientation": "h",
         "showlegend": true,
         "type": "bar",
         "x": [
          8.5
         ],
         "y": [
          "Overall, how<br>close do you feel<br>to this person?"
         ]
        },
        {
         "hovertemplate": "<b>%{x}%</b><extra></extra>",
         "marker": {
          "color": "#FFB775"
         },
         "orientation": "h",
         "showlegend": false,
         "type": "bar",
         "x": [
          20.2
         ],
         "y": [
          "Overall, how<br>close do you think<br>this person feels<br>to you?"
         ]
        },
        {
         "hovertemplate": "<b>%{x}%</b><extra></extra>",
         "marker": {
          "color": "#FFB775"
         },
         "name": "Sometimes",
         "orientation": "h",
         "showlegend": true,
         "type": "bar",
         "x": [
          20.7
         ],
         "y": [
          "Overall, how<br>close do you feel<br>to this person?"
         ]
        },
        {
         "hovertemplate": "<b>%{x}%</b><extra></extra>",
         "marker": {
          "color": "#BCF0C2"
         },
         "orientation": "h",
         "showlegend": false,
         "type": "bar",
         "x": [
          10.7
         ],
         "y": [
          "Overall, how<br>close do you think<br>this person feels<br>to you?"
         ]
        },
        {
         "hovertemplate": "<b>%{x}%</b><extra></extra>",
         "marker": {
          "color": "#BCF0C2"
         },
         "name": "???",
         "orientation": "h",
         "showlegend": true,
         "type": "bar",
         "x": [
          13.7
         ],
         "y": [
          "Overall, how<br>close do you feel<br>to this person?"
         ]
        },
        {
         "hovertemplate": "<b>%{x}%</b><extra></extra>",
         "marker": {
          "color": "#8BE595"
         },
         "orientation": "h",
         "showlegend": false,
         "type": "bar",
         "x": [
          8
         ],
         "y": [
          "Overall, how<br>close do you think<br>this person feels<br>to you?"
         ]
        },
        {
         "hovertemplate": "<b>%{x}%</b><extra></extra>",
         "marker": {
          "color": "#8BE595"
         },
         "name": "Often",
         "orientation": "h",
         "showlegend": true,
         "type": "bar",
         "x": [
          11.6
         ],
         "y": [
          "Overall, how<br>close do you feel<br>to this person?"
         ]
        },
        {
         "hovertemplate": "<b>%{x}%</b><extra></extra>",
         "marker": {
          "color": "#56DA65"
         },
         "orientation": "h",
         "showlegend": false,
         "type": "bar",
         "x": [
          10.7
         ],
         "y": [
          "Overall, how<br>close do you think<br>this person feels<br>to you?"
         ]
        },
        {
         "hovertemplate": "<b>%{x}%</b><extra></extra>",
         "marker": {
          "color": "#56DA65"
         },
         "name": "A lot",
         "orientation": "h",
         "showlegend": true,
         "type": "bar",
         "x": [
          12.5
         ],
         "y": [
          "Overall, how<br>close do you feel<br>to this person?"
         ]
        },
        {
         "hovertemplate": "<b>%{x}%</b><extra></extra>",
         "marker": {
          "color": "#FF6478"
         },
         "orientation": "h",
         "showlegend": false,
         "type": "bar",
         "visible": false,
         "x": [
          7.3
         ],
         "y": [
          "Overall, how<br>close do you think<br>this person feels<br>to you?"
         ]
        },
        {
         "hovertemplate": "<b>%{x}%</b><extra></extra>",
         "marker": {
          "color": "#FF6478"
         },
         "name": "Not at all",
         "orientation": "h",
         "showlegend": true,
         "type": "bar",
         "visible": false,
         "x": [
          9.3
         ],
         "y": [
          "Overall, how<br>close do you feel<br>to this person?"
         ]
        },
        {
         "hovertemplate": "<b>%{x}%</b><extra></extra>",
         "marker": {
          "color": "#FF8477"
         },
         "orientation": "h",
         "showlegend": false,
         "type": "bar",
         "visible": false,
         "x": [
          4.5
         ],
         "y": [
          "Overall, how<br>close do you think<br>this person feels<br>to you?"
         ]
        },
        {
         "hovertemplate": "<b>%{x}%</b><extra></extra>",
         "marker": {
          "color": "#FF8477"
         },
         "name": "Rarely",
         "orientation": "h",
         "showlegend": true,
         "type": "bar",
         "visible": false,
         "x": [
          4.6
         ],
         "y": [
          "Overall, how<br>close do you feel<br>to this person?"
         ]
        },
        {
         "hovertemplate": "<b>%{x}%</b><extra></extra>",
         "marker": {
          "color": "#FF9F77"
         },
         "orientation": "h",
         "showlegend": false,
         "type": "bar",
         "visible": false,
         "x": [
          4.3
         ],
         "y": [
          "Overall, how<br>close do you think<br>this person feels<br>to you?"
         ]
        },
        {
         "hovertemplate": "<b>%{x}%</b><extra></extra>",
         "marker": {
          "color": "#FF9F77"
         },
         "name": "Occasionally",
         "orientation": "h",
         "showlegend": true,
         "type": "bar",
         "visible": false,
         "x": [
          4.9
         ],
         "y": [
          "Overall, how<br>close do you feel<br>to this person?"
         ]
        },
        {
         "hovertemplate": "<b>%{x}%</b><extra></extra>",
         "marker": {
          "color": "#FFB775"
         },
         "orientation": "h",
         "showlegend": false,
         "type": "bar",
         "visible": false,
         "x": [
          11.3
         ],
         "y": [
          "Overall, how<br>close do you think<br>this person feels<br>to you?"
         ]
        },
        {
         "hovertemplate": "<b>%{x}%</b><extra></extra>",
         "marker": {
          "color": "#FFB775"
         },
         "name": "Sometimes",
         "orientation": "h",
         "showlegend": true,
         "type": "bar",
         "visible": false,
         "x": [
          8.8
         ],
         "y": [
          "Overall, how<br>close do you feel<br>to this person?"
         ]
        },
        {
         "hovertemplate": "<b>%{x}%</b><extra></extra>",
         "marker": {
          "color": "#BCF0C2"
         },
         "orientation": "h",
         "showlegend": false,
         "type": "bar",
         "visible": false,
         "x": [
          13.8
         ],
         "y": [
          "Overall, how<br>close do you think<br>this person feels<br>to you?"
         ]
        },
        {
         "hovertemplate": "<b>%{x}%</b><extra></extra>",
         "marker": {
          "color": "#BCF0C2"
         },
         "name": "???",
         "orientation": "h",
         "showlegend": true,
         "type": "bar",
         "visible": false,
         "x": [
          12.5
         ],
         "y": [
          "Overall, how<br>close do you feel<br>to this person?"
         ]
        },
        {
         "hovertemplate": "<b>%{x}%</b><extra></extra>",
         "marker": {
          "color": "#8BE595"
         },
         "orientation": "h",
         "showlegend": false,
         "type": "bar",
         "visible": false,
         "x": [
          24.7
         ],
         "y": [
          "Overall, how<br>close do you think<br>this person feels<br>to you?"
         ]
        },
        {
         "hovertemplate": "<b>%{x}%</b><extra></extra>",
         "marker": {
          "color": "#8BE595"
         },
         "name": "Often",
         "orientation": "h",
         "showlegend": true,
         "type": "bar",
         "visible": false,
         "x": [
          25.3
         ],
         "y": [
          "Overall, how<br>close do you feel<br>to this person?"
         ]
        },
        {
         "hovertemplate": "<b>%{x}%</b><extra></extra>",
         "marker": {
          "color": "#56DA65"
         },
         "orientation": "h",
         "showlegend": false,
         "type": "bar",
         "visible": false,
         "x": [
          34.2
         ],
         "y": [
          "Overall, how<br>close do you think<br>this person feels<br>to you?"
         ]
        },
        {
         "hovertemplate": "<b>%{x}%</b><extra></extra>",
         "marker": {
          "color": "#56DA65"
         },
         "name": "A lot",
         "orientation": "h",
         "showlegend": true,
         "type": "bar",
         "visible": false,
         "x": [
          34.5
         ],
         "y": [
          "Overall, how<br>close do you feel<br>to this person?"
         ]
        },
        {
         "hovertemplate": "<b>%{x}%</b><extra></extra>",
         "marker": {
          "color": "#FF6478"
         },
         "orientation": "h",
         "showlegend": false,
         "type": "bar",
         "visible": false,
         "x": [
          0.6
         ],
         "y": [
          "Overall, how<br>close do you think<br>this person feels<br>to you?"
         ]
        },
        {
         "hovertemplate": "<b>%{x}%</b><extra></extra>",
         "marker": {
          "color": "#FF6478"
         },
         "name": "Not at all",
         "orientation": "h",
         "showlegend": true,
         "type": "bar",
         "visible": false,
         "x": [
          0.3
         ],
         "y": [
          "Overall, how<br>close do you feel<br>to this person?"
         ]
        },
        {
         "hovertemplate": "<b>%{x}%</b><extra></extra>",
         "marker": {
          "color": "#FF8477"
         },
         "orientation": "h",
         "showlegend": false,
         "type": "bar",
         "visible": false,
         "x": [
          0
         ],
         "y": [
          "Overall, how<br>close do you think<br>this person feels<br>to you?"
         ]
        },
        {
         "hovertemplate": "<b>%{x}%</b><extra></extra>",
         "marker": {
          "color": "#FF8477"
         },
         "name": "Rarely",
         "orientation": "h",
         "showlegend": true,
         "type": "bar",
         "visible": false,
         "x": [
          0.3
         ],
         "y": [
          "Overall, how<br>close do you feel<br>to this person?"
         ]
        },
        {
         "hovertemplate": "<b>%{x}%</b><extra></extra>",
         "marker": {
          "color": "#FF9F77"
         },
         "orientation": "h",
         "showlegend": false,
         "type": "bar",
         "visible": false,
         "x": [
          1.9
         ],
         "y": [
          "Overall, how<br>close do you think<br>this person feels<br>to you?"
         ]
        },
        {
         "hovertemplate": "<b>%{x}%</b><extra></extra>",
         "marker": {
          "color": "#FF9F77"
         },
         "name": "Occasionally",
         "orientation": "h",
         "showlegend": true,
         "type": "bar",
         "visible": false,
         "x": [
          2.2
         ],
         "y": [
          "Overall, how<br>close do you feel<br>to this person?"
         ]
        },
        {
         "hovertemplate": "<b>%{x}%</b><extra></extra>",
         "marker": {
          "color": "#FFB775"
         },
         "orientation": "h",
         "showlegend": false,
         "type": "bar",
         "visible": false,
         "x": [
          7.5
         ],
         "y": [
          "Overall, how<br>close do you think<br>this person feels<br>to you?"
         ]
        },
        {
         "hovertemplate": "<b>%{x}%</b><extra></extra>",
         "marker": {
          "color": "#FFB775"
         },
         "name": "Sometimes",
         "orientation": "h",
         "showlegend": true,
         "type": "bar",
         "visible": false,
         "x": [
          7.6
         ],
         "y": [
          "Overall, how<br>close do you feel<br>to this person?"
         ]
        },
        {
         "hovertemplate": "<b>%{x}%</b><extra></extra>",
         "marker": {
          "color": "#BCF0C2"
         },
         "orientation": "h",
         "showlegend": false,
         "type": "bar",
         "visible": false,
         "x": [
          18.6
         ],
         "y": [
          "Overall, how<br>close do you think<br>this person feels<br>to you?"
         ]
        },
        {
         "hovertemplate": "<b>%{x}%</b><extra></extra>",
         "marker": {
          "color": "#BCF0C2"
         },
         "name": "???",
         "orientation": "h",
         "showlegend": true,
         "type": "bar",
         "visible": false,
         "x": [
          17.1
         ],
         "y": [
          "Overall, how<br>close do you feel<br>to this person?"
         ]
        },
        {
         "hovertemplate": "<b>%{x}%</b><extra></extra>",
         "marker": {
          "color": "#8BE595"
         },
         "orientation": "h",
         "showlegend": false,
         "type": "bar",
         "visible": false,
         "x": [
          31.8
         ],
         "y": [
          "Overall, how<br>close do you think<br>this person feels<br>to you?"
         ]
        },
        {
         "hovertemplate": "<b>%{x}%</b><extra></extra>",
         "marker": {
          "color": "#8BE595"
         },
         "name": "Often",
         "orientation": "h",
         "showlegend": true,
         "type": "bar",
         "visible": false,
         "x": [
          32.6
         ],
         "y": [
          "Overall, how<br>close do you feel<br>to this person?"
         ]
        },
        {
         "hovertemplate": "<b>%{x}%</b><extra></extra>",
         "marker": {
          "color": "#56DA65"
         },
         "orientation": "h",
         "showlegend": false,
         "type": "bar",
         "visible": false,
         "x": [
          39.6
         ],
         "y": [
          "Overall, how<br>close do you think<br>this person feels<br>to you?"
         ]
        },
        {
         "hovertemplate": "<b>%{x}%</b><extra></extra>",
         "marker": {
          "color": "#56DA65"
         },
         "name": "A lot",
         "orientation": "h",
         "showlegend": true,
         "type": "bar",
         "visible": false,
         "x": [
          39.9
         ],
         "y": [
          "Overall, how<br>close do you feel<br>to this person?"
         ]
        }
       ],
       "layout": {
        "annotations": [
         {
          "align": "right",
          "font": {
           "color": "black",
           "size": 12
          },
          "showarrow": false,
          "text": "Overall, how<br>close do you think<br>this person feels<br>to you?",
          "x": 0.14,
          "xanchor": "right",
          "xref": "paper",
          "y": "Overall, how<br>close do you think<br>this person feels<br>to you?",
          "yref": "y"
         },
         {
          "font": {
           "color": "#595959",
           "size": 12
          },
          "showarrow": false,
          "text": "24.2%",
          "x": 12.1,
          "xref": "x",
          "y": "Overall, how<br>close do you think<br>this person feels<br>to you?",
          "yref": "y"
         },
         {
          "font": {
           "color": "#595959",
           "size": 12
          },
          "showarrow": false,
          "text": "14.3%",
          "x": 31.35,
          "xref": "x",
          "y": "Overall, how<br>close do you think<br>this person feels<br>to you?",
          "yref": "y"
         },
         {
          "font": {
           "color": "#595959",
           "size": 12
          },
          "showarrow": false,
          "text": "12.0%",
          "x": 44.5,
          "xref": "x",
          "y": "Overall, how<br>close do you think<br>this person feels<br>to you?",
          "yref": "y"
         },
         {
          "font": {
           "color": "#595959",
           "size": 12
          },
          "showarrow": false,
          "text": "20.2%",
          "x": 60.6,
          "xref": "x",
          "y": "Overall, how<br>close do you think<br>this person feels<br>to you?",
          "yref": "y"
         },
         {
          "font": {
           "color": "#595959",
           "size": 12
          },
          "showarrow": false,
          "text": "10.7%",
          "x": 76.05,
          "xref": "x",
          "y": "Overall, how<br>close do you think<br>this person feels<br>to you?",
          "yref": "y"
         },
         {
          "font": {
           "color": "#595959",
           "size": 12
          },
          "showarrow": false,
          "text": "8.0%",
          "x": 85.4,
          "xref": "x",
          "y": "Overall, how<br>close do you think<br>this person feels<br>to you?",
          "yref": "y"
         },
         {
          "font": {
           "color": "#595959",
           "size": 12
          },
          "showarrow": false,
          "text": "10.7%",
          "x": 94.75,
          "xref": "x",
          "y": "Overall, how<br>close do you think<br>this person feels<br>to you?",
          "yref": "y"
         },
         {
          "align": "right",
          "font": {
           "color": "black",
           "size": 12
          },
          "showarrow": false,
          "text": "Overall, how<br>close do you feel<br>to this person?",
          "x": 0.14,
          "xanchor": "right",
          "xref": "paper",
          "y": "Overall, how<br>close do you feel<br>to this person?",
          "yref": "y"
         },
         {
          "font": {
           "color": "#595959",
           "size": 12
          },
          "showarrow": false,
          "text": "22.4%",
          "x": 11.2,
          "xref": "x",
          "y": "Overall, how<br>close do you feel<br>to this person?",
          "yref": "y"
         },
         {
          "font": {
           "color": "#595959",
           "size": 12
          },
          "showarrow": false,
          "text": "10.6%",
          "x": 27.7,
          "xref": "x",
          "y": "Overall, how<br>close do you feel<br>to this person?",
          "yref": "y"
         },
         {
          "font": {
           "color": "#595959",
           "size": 12
          },
          "showarrow": false,
          "text": "8.5%",
          "x": 37.25,
          "xref": "x",
          "y": "Overall, how<br>close do you feel<br>to this person?",
          "yref": "y"
         },
         {
          "font": {
           "color": "#595959",
           "size": 12
          },
          "showarrow": false,
          "text": "20.7%",
          "x": 51.85,
          "xref": "x",
          "y": "Overall, how<br>close do you feel<br>to this person?",
          "yref": "y"
         },
         {
          "font": {
           "color": "#595959",
           "size": 12
          },
          "showarrow": false,
          "text": "13.7%",
          "x": 69.05,
          "xref": "x",
          "y": "Overall, how<br>close do you feel<br>to this person?",
          "yref": "y"
         },
         {
          "font": {
           "color": "#595959",
           "size": 12
          },
          "showarrow": false,
          "text": "11.6%",
          "x": 81.7,
          "xref": "x",
          "y": "Overall, how<br>close do you feel<br>to this person?",
          "yref": "y"
         },
         {
          "font": {
           "color": "#595959",
           "size": 12
          },
          "showarrow": false,
          "text": "12.5%",
          "x": 93.75,
          "xref": "x",
          "y": "Overall, how<br>close do you feel<br>to this person?",
          "yref": "y"
         }
        ],
        "barmode": "stack",
        "font": {
         "color": "black",
         "size": 12
        },
        "legend": {
         "itemclick": false,
         "orientation": "h",
         "traceorder": "normal",
         "x": 0.94,
         "xanchor": "right",
         "y": 1.02,
         "yanchor": "bottom"
        },
        "margin": {
         "b": 80,
         "l": 120,
         "r": 10,
         "t": 140
        },
        "paper_bgcolor": "rgb(248, 248, 255)",
        "plot_bgcolor": "rgb(248, 248, 255)",
        "template": {
         "data": {
          "bar": [
           {
            "error_x": {
             "color": "#2a3f5f"
            },
            "error_y": {
             "color": "#2a3f5f"
            },
            "marker": {
             "line": {
              "color": "#E5ECF6",
              "width": 0.5
             }
            },
            "type": "bar"
           }
          ],
          "barpolar": [
           {
            "marker": {
             "line": {
              "color": "#E5ECF6",
              "width": 0.5
             }
            },
            "type": "barpolar"
           }
          ],
          "carpet": [
           {
            "aaxis": {
             "endlinecolor": "#2a3f5f",
             "gridcolor": "white",
             "linecolor": "white",
             "minorgridcolor": "white",
             "startlinecolor": "#2a3f5f"
            },
            "baxis": {
             "endlinecolor": "#2a3f5f",
             "gridcolor": "white",
             "linecolor": "white",
             "minorgridcolor": "white",
             "startlinecolor": "#2a3f5f"
            },
            "type": "carpet"
           }
          ],
          "choropleth": [
           {
            "colorbar": {
             "outlinewidth": 0,
             "ticks": ""
            },
            "type": "choropleth"
           }
          ],
          "contour": [
           {
            "colorbar": {
             "outlinewidth": 0,
             "ticks": ""
            },
            "colorscale": [
             [
              0,
              "#0d0887"
             ],
             [
              0.1111111111111111,
              "#46039f"
             ],
             [
              0.2222222222222222,
              "#7201a8"
             ],
             [
              0.3333333333333333,
              "#9c179e"
             ],
             [
              0.4444444444444444,
              "#bd3786"
             ],
             [
              0.5555555555555556,
              "#d8576b"
             ],
             [
              0.6666666666666666,
              "#ed7953"
             ],
             [
              0.7777777777777778,
              "#fb9f3a"
             ],
             [
              0.8888888888888888,
              "#fdca26"
             ],
             [
              1,
              "#f0f921"
             ]
            ],
            "type": "contour"
           }
          ],
          "contourcarpet": [
           {
            "colorbar": {
             "outlinewidth": 0,
             "ticks": ""
            },
            "type": "contourcarpet"
           }
          ],
          "heatmap": [
           {
            "colorbar": {
             "outlinewidth": 0,
             "ticks": ""
            },
            "colorscale": [
             [
              0,
              "#0d0887"
             ],
             [
              0.1111111111111111,
              "#46039f"
             ],
             [
              0.2222222222222222,
              "#7201a8"
             ],
             [
              0.3333333333333333,
              "#9c179e"
             ],
             [
              0.4444444444444444,
              "#bd3786"
             ],
             [
              0.5555555555555556,
              "#d8576b"
             ],
             [
              0.6666666666666666,
              "#ed7953"
             ],
             [
              0.7777777777777778,
              "#fb9f3a"
             ],
             [
              0.8888888888888888,
              "#fdca26"
             ],
             [
              1,
              "#f0f921"
             ]
            ],
            "type": "heatmap"
           }
          ],
          "heatmapgl": [
           {
            "colorbar": {
             "outlinewidth": 0,
             "ticks": ""
            },
            "colorscale": [
             [
              0,
              "#0d0887"
             ],
             [
              0.1111111111111111,
              "#46039f"
             ],
             [
              0.2222222222222222,
              "#7201a8"
             ],
             [
              0.3333333333333333,
              "#9c179e"
             ],
             [
              0.4444444444444444,
              "#bd3786"
             ],
             [
              0.5555555555555556,
              "#d8576b"
             ],
             [
              0.6666666666666666,
              "#ed7953"
             ],
             [
              0.7777777777777778,
              "#fb9f3a"
             ],
             [
              0.8888888888888888,
              "#fdca26"
             ],
             [
              1,
              "#f0f921"
             ]
            ],
            "type": "heatmapgl"
           }
          ],
          "histogram": [
           {
            "marker": {
             "colorbar": {
              "outlinewidth": 0,
              "ticks": ""
             }
            },
            "type": "histogram"
           }
          ],
          "histogram2d": [
           {
            "colorbar": {
             "outlinewidth": 0,
             "ticks": ""
            },
            "colorscale": [
             [
              0,
              "#0d0887"
             ],
             [
              0.1111111111111111,
              "#46039f"
             ],
             [
              0.2222222222222222,
              "#7201a8"
             ],
             [
              0.3333333333333333,
              "#9c179e"
             ],
             [
              0.4444444444444444,
              "#bd3786"
             ],
             [
              0.5555555555555556,
              "#d8576b"
             ],
             [
              0.6666666666666666,
              "#ed7953"
             ],
             [
              0.7777777777777778,
              "#fb9f3a"
             ],
             [
              0.8888888888888888,
              "#fdca26"
             ],
             [
              1,
              "#f0f921"
             ]
            ],
            "type": "histogram2d"
           }
          ],
          "histogram2dcontour": [
           {
            "colorbar": {
             "outlinewidth": 0,
             "ticks": ""
            },
            "colorscale": [
             [
              0,
              "#0d0887"
             ],
             [
              0.1111111111111111,
              "#46039f"
             ],
             [
              0.2222222222222222,
              "#7201a8"
             ],
             [
              0.3333333333333333,
              "#9c179e"
             ],
             [
              0.4444444444444444,
              "#bd3786"
             ],
             [
              0.5555555555555556,
              "#d8576b"
             ],
             [
              0.6666666666666666,
              "#ed7953"
             ],
             [
              0.7777777777777778,
              "#fb9f3a"
             ],
             [
              0.8888888888888888,
              "#fdca26"
             ],
             [
              1,
              "#f0f921"
             ]
            ],
            "type": "histogram2dcontour"
           }
          ],
          "mesh3d": [
           {
            "colorbar": {
             "outlinewidth": 0,
             "ticks": ""
            },
            "type": "mesh3d"
           }
          ],
          "parcoords": [
           {
            "line": {
             "colorbar": {
              "outlinewidth": 0,
              "ticks": ""
             }
            },
            "type": "parcoords"
           }
          ],
          "pie": [
           {
            "automargin": true,
            "type": "pie"
           }
          ],
          "scatter": [
           {
            "marker": {
             "colorbar": {
              "outlinewidth": 0,
              "ticks": ""
             }
            },
            "type": "scatter"
           }
          ],
          "scatter3d": [
           {
            "line": {
             "colorbar": {
              "outlinewidth": 0,
              "ticks": ""
             }
            },
            "marker": {
             "colorbar": {
              "outlinewidth": 0,
              "ticks": ""
             }
            },
            "type": "scatter3d"
           }
          ],
          "scattercarpet": [
           {
            "marker": {
             "colorbar": {
              "outlinewidth": 0,
              "ticks": ""
             }
            },
            "type": "scattercarpet"
           }
          ],
          "scattergeo": [
           {
            "marker": {
             "colorbar": {
              "outlinewidth": 0,
              "ticks": ""
             }
            },
            "type": "scattergeo"
           }
          ],
          "scattergl": [
           {
            "marker": {
             "colorbar": {
              "outlinewidth": 0,
              "ticks": ""
             }
            },
            "type": "scattergl"
           }
          ],
          "scattermapbox": [
           {
            "marker": {
             "colorbar": {
              "outlinewidth": 0,
              "ticks": ""
             }
            },
            "type": "scattermapbox"
           }
          ],
          "scatterpolar": [
           {
            "marker": {
             "colorbar": {
              "outlinewidth": 0,
              "ticks": ""
             }
            },
            "type": "scatterpolar"
           }
          ],
          "scatterpolargl": [
           {
            "marker": {
             "colorbar": {
              "outlinewidth": 0,
              "ticks": ""
             }
            },
            "type": "scatterpolargl"
           }
          ],
          "scatterternary": [
           {
            "marker": {
             "colorbar": {
              "outlinewidth": 0,
              "ticks": ""
             }
            },
            "type": "scatterternary"
           }
          ],
          "surface": [
           {
            "colorbar": {
             "outlinewidth": 0,
             "ticks": ""
            },
            "colorscale": [
             [
              0,
              "#0d0887"
             ],
             [
              0.1111111111111111,
              "#46039f"
             ],
             [
              0.2222222222222222,
              "#7201a8"
             ],
             [
              0.3333333333333333,
              "#9c179e"
             ],
             [
              0.4444444444444444,
              "#bd3786"
             ],
             [
              0.5555555555555556,
              "#d8576b"
             ],
             [
              0.6666666666666666,
              "#ed7953"
             ],
             [
              0.7777777777777778,
              "#fb9f3a"
             ],
             [
              0.8888888888888888,
              "#fdca26"
             ],
             [
              1,
              "#f0f921"
             ]
            ],
            "type": "surface"
           }
          ],
          "table": [
           {
            "cells": {
             "fill": {
              "color": "#EBF0F8"
             },
             "line": {
              "color": "white"
             }
            },
            "header": {
             "fill": {
              "color": "#C8D4E3"
             },
             "line": {
              "color": "white"
             }
            },
            "type": "table"
           }
          ]
         },
         "layout": {
          "annotationdefaults": {
           "arrowcolor": "#2a3f5f",
           "arrowhead": 0,
           "arrowwidth": 1
          },
          "coloraxis": {
           "colorbar": {
            "outlinewidth": 0,
            "ticks": ""
           }
          },
          "colorscale": {
           "diverging": [
            [
             0,
             "#8e0152"
            ],
            [
             0.1,
             "#c51b7d"
            ],
            [
             0.2,
             "#de77ae"
            ],
            [
             0.3,
             "#f1b6da"
            ],
            [
             0.4,
             "#fde0ef"
            ],
            [
             0.5,
             "#f7f7f7"
            ],
            [
             0.6,
             "#e6f5d0"
            ],
            [
             0.7,
             "#b8e186"
            ],
            [
             0.8,
             "#7fbc41"
            ],
            [
             0.9,
             "#4d9221"
            ],
            [
             1,
             "#276419"
            ]
           ],
           "sequential": [
            [
             0,
             "#0d0887"
            ],
            [
             0.1111111111111111,
             "#46039f"
            ],
            [
             0.2222222222222222,
             "#7201a8"
            ],
            [
             0.3333333333333333,
             "#9c179e"
            ],
            [
             0.4444444444444444,
             "#bd3786"
            ],
            [
             0.5555555555555556,
             "#d8576b"
            ],
            [
             0.6666666666666666,
             "#ed7953"
            ],
            [
             0.7777777777777778,
             "#fb9f3a"
            ],
            [
             0.8888888888888888,
             "#fdca26"
            ],
            [
             1,
             "#f0f921"
            ]
           ],
           "sequentialminus": [
            [
             0,
             "#0d0887"
            ],
            [
             0.1111111111111111,
             "#46039f"
            ],
            [
             0.2222222222222222,
             "#7201a8"
            ],
            [
             0.3333333333333333,
             "#9c179e"
            ],
            [
             0.4444444444444444,
             "#bd3786"
            ],
            [
             0.5555555555555556,
             "#d8576b"
            ],
            [
             0.6666666666666666,
             "#ed7953"
            ],
            [
             0.7777777777777778,
             "#fb9f3a"
            ],
            [
             0.8888888888888888,
             "#fdca26"
            ],
            [
             1,
             "#f0f921"
            ]
           ]
          },
          "colorway": [
           "#636efa",
           "#EF553B",
           "#00cc96",
           "#ab63fa",
           "#FFA15A",
           "#19d3f3",
           "#FF6692",
           "#B6E880",
           "#FF97FF",
           "#FECB52"
          ],
          "font": {
           "color": "#2a3f5f"
          },
          "geo": {
           "bgcolor": "white",
           "lakecolor": "white",
           "landcolor": "#E5ECF6",
           "showlakes": true,
           "showland": true,
           "subunitcolor": "white"
          },
          "hoverlabel": {
           "align": "left"
          },
          "hovermode": "closest",
          "mapbox": {
           "style": "light"
          },
          "paper_bgcolor": "white",
          "plot_bgcolor": "#E5ECF6",
          "polar": {
           "angularaxis": {
            "gridcolor": "white",
            "linecolor": "white",
            "ticks": ""
           },
           "bgcolor": "#E5ECF6",
           "radialaxis": {
            "gridcolor": "white",
            "linecolor": "white",
            "ticks": ""
           }
          },
          "scene": {
           "xaxis": {
            "backgroundcolor": "#E5ECF6",
            "gridcolor": "white",
            "gridwidth": 2,
            "linecolor": "white",
            "showbackground": true,
            "ticks": "",
            "zerolinecolor": "white"
           },
           "yaxis": {
            "backgroundcolor": "#E5ECF6",
            "gridcolor": "white",
            "gridwidth": 2,
            "linecolor": "white",
            "showbackground": true,
            "ticks": "",
            "zerolinecolor": "white"
           },
           "zaxis": {
            "backgroundcolor": "#E5ECF6",
            "gridcolor": "white",
            "gridwidth": 2,
            "linecolor": "white",
            "showbackground": true,
            "ticks": "",
            "zerolinecolor": "white"
           }
          },
          "shapedefaults": {
           "line": {
            "color": "#2a3f5f"
           }
          },
          "ternary": {
           "aaxis": {
            "gridcolor": "white",
            "linecolor": "white",
            "ticks": ""
           },
           "baxis": {
            "gridcolor": "white",
            "linecolor": "white",
            "ticks": ""
           },
           "bgcolor": "#E5ECF6",
           "caxis": {
            "gridcolor": "white",
            "linecolor": "white",
            "ticks": ""
           }
          },
          "title": {
           "x": 0.05
          },
          "xaxis": {
           "automargin": true,
           "gridcolor": "white",
           "linecolor": "white",
           "ticks": "",
           "title": {
            "standoff": 15
           },
           "zerolinecolor": "white",
           "zerolinewidth": 2
          },
          "yaxis": {
           "automargin": true,
           "gridcolor": "white",
           "linecolor": "white",
           "ticks": "",
           "title": {
            "standoff": 15
           },
           "zerolinecolor": "white",
           "zerolinewidth": 2
          }
         }
        },
        "title": {
         "text": "Formal",
         "x": 0.95,
         "y": 0.88
        },
        "updatemenus": [
         {
          "bgcolor": "#c9c7c7",
          "buttons": [
           {
            "args": [
             {
              "visible": [
               true,
               true,
               true,
               true,
               true,
               true,
               true,
               true,
               true,
               true,
               true,
               true,
               true,
               true,
               false,
               false,
               false,
               false,
               false,
               false,
               false,
               false,
               false,
               false,
               false,
               false,
               false,
               false,
               false,
               false,
               false,
               false,
               false,
               false,
               false,
               false,
               false,
               false,
               false,
               false,
               false,
               false
              ]
             },
             {
              "annotations": [
               {
                "align": "right",
                "font": {
                 "color": "black",
                 "size": 12
                },
                "showarrow": false,
                "text": "Overall, how<br>close do you think<br>this person feels<br>to you?",
                "x": 0.14,
                "xanchor": "right",
                "xref": "paper",
                "y": "Overall, how<br>close do you think<br>this person feels<br>to you?",
                "yref": "y"
               },
               {
                "font": {
                 "color": "#595959",
                 "size": 12
                },
                "showarrow": false,
                "text": "24.2%",
                "x": 12.1,
                "xref": "x",
                "y": "Overall, how<br>close do you think<br>this person feels<br>to you?",
                "yref": "y"
               },
               {
                "font": {
                 "color": "#595959",
                 "size": 12
                },
                "showarrow": false,
                "text": "14.3%",
                "x": 31.35,
                "xref": "x",
                "y": "Overall, how<br>close do you think<br>this person feels<br>to you?",
                "yref": "y"
               },
               {
                "font": {
                 "color": "#595959",
                 "size": 12
                },
                "showarrow": false,
                "text": "12.0%",
                "x": 44.5,
                "xref": "x",
                "y": "Overall, how<br>close do you think<br>this person feels<br>to you?",
                "yref": "y"
               },
               {
                "font": {
                 "color": "#595959",
                 "size": 12
                },
                "showarrow": false,
                "text": "20.2%",
                "x": 60.6,
                "xref": "x",
                "y": "Overall, how<br>close do you think<br>this person feels<br>to you?",
                "yref": "y"
               },
               {
                "font": {
                 "color": "#595959",
                 "size": 12
                },
                "showarrow": false,
                "text": "10.7%",
                "x": 76.05,
                "xref": "x",
                "y": "Overall, how<br>close do you think<br>this person feels<br>to you?",
                "yref": "y"
               },
               {
                "font": {
                 "color": "#595959",
                 "size": 12
                },
                "showarrow": false,
                "text": "8.0%",
                "x": 85.4,
                "xref": "x",
                "y": "Overall, how<br>close do you think<br>this person feels<br>to you?",
                "yref": "y"
               },
               {
                "font": {
                 "color": "#595959",
                 "size": 12
                },
                "showarrow": false,
                "text": "10.7%",
                "x": 94.75,
                "xref": "x",
                "y": "Overall, how<br>close do you think<br>this person feels<br>to you?",
                "yref": "y"
               },
               {
                "align": "right",
                "font": {
                 "color": "black",
                 "size": 12
                },
                "showarrow": false,
                "text": "Overall, how<br>close do you feel<br>to this person?",
                "x": 0.14,
                "xanchor": "right",
                "xref": "paper",
                "y": "Overall, how<br>close do you feel<br>to this person?",
                "yref": "y"
               },
               {
                "font": {
                 "color": "#595959",
                 "size": 12
                },
                "showarrow": false,
                "text": "22.4%",
                "x": 11.2,
                "xref": "x",
                "y": "Overall, how<br>close do you feel<br>to this person?",
                "yref": "y"
               },
               {
                "font": {
                 "color": "#595959",
                 "size": 12
                },
                "showarrow": false,
                "text": "10.6%",
                "x": 27.7,
                "xref": "x",
                "y": "Overall, how<br>close do you feel<br>to this person?",
                "yref": "y"
               },
               {
                "font": {
                 "color": "#595959",
                 "size": 12
                },
                "showarrow": false,
                "text": "8.5%",
                "x": 37.25,
                "xref": "x",
                "y": "Overall, how<br>close do you feel<br>to this person?",
                "yref": "y"
               },
               {
                "font": {
                 "color": "#595959",
                 "size": 12
                },
                "showarrow": false,
                "text": "20.7%",
                "x": 51.85,
                "xref": "x",
                "y": "Overall, how<br>close do you feel<br>to this person?",
                "yref": "y"
               },
               {
                "font": {
                 "color": "#595959",
                 "size": 12
                },
                "showarrow": false,
                "text": "13.7%",
                "x": 69.05,
                "xref": "x",
                "y": "Overall, how<br>close do you feel<br>to this person?",
                "yref": "y"
               },
               {
                "font": {
                 "color": "#595959",
                 "size": 12
                },
                "showarrow": false,
                "text": "11.6%",
                "x": 81.7,
                "xref": "x",
                "y": "Overall, how<br>close do you feel<br>to this person?",
                "yref": "y"
               },
               {
                "font": {
                 "color": "#595959",
                 "size": 12
                },
                "showarrow": false,
                "text": "12.5%",
                "x": 93.75,
                "xref": "x",
                "y": "Overall, how<br>close do you feel<br>to this person?",
                "yref": "y"
               }
              ],
              "title": "Formal"
             }
            ],
            "label": "Formal",
            "method": "update"
           },
           {
            "args": [
             {
              "visible": [
               false,
               false,
               false,
               false,
               false,
               false,
               false,
               false,
               false,
               false,
               false,
               false,
               false,
               false,
               true,
               true,
               true,
               true,
               true,
               true,
               true,
               true,
               true,
               true,
               true,
               true,
               true,
               true,
               false,
               false,
               false,
               false,
               false,
               false,
               false,
               false,
               false,
               false,
               false,
               false,
               false,
               false
              ]
             },
             {
              "annotations": [
               {
                "align": "right",
                "font": {
                 "color": "black",
                 "size": 12
                },
                "showarrow": false,
                "text": "Overall, how<br>close do you think<br>this person feels<br>to you?",
                "x": 0.14,
                "xanchor": "right",
                "xref": "paper",
                "y": "Overall, how<br>close do you think<br>this person feels<br>to you?",
                "yref": "y"
               },
               {
                "font": {
                 "color": "#595959",
                 "size": 12
                },
                "showarrow": false,
                "text": "7.3%",
                "x": 3.65,
                "xref": "x",
                "y": "Overall, how<br>close do you think<br>this person feels<br>to you?",
                "yref": "y"
               },
               {
                "font": {
                 "color": "#595959",
                 "size": 12
                },
                "showarrow": false,
                "text": "11.3%",
                "x": 21.75,
                "xref": "x",
                "y": "Overall, how<br>close do you think<br>this person feels<br>to you?",
                "yref": "y"
               },
               {
                "font": {
                 "color": "#595959",
                 "size": 12
                },
                "showarrow": false,
                "text": "13.8%",
                "x": 34.300000000000004,
                "xref": "x",
                "y": "Overall, how<br>close do you think<br>this person feels<br>to you?",
                "yref": "y"
               },
               {
                "font": {
                 "color": "#595959",
                 "size": 12
                },
                "showarrow": false,
                "text": "24.7%",
                "x": 53.550000000000004,
                "xref": "x",
                "y": "Overall, how<br>close do you think<br>this person feels<br>to you?",
                "yref": "y"
               },
               {
                "font": {
                 "color": "#595959",
                 "size": 12
                },
                "showarrow": false,
                "text": "34.2%",
                "x": 83,
                "xref": "x",
                "y": "Overall, how<br>close do you think<br>this person feels<br>to you?",
                "yref": "y"
               },
               {
                "align": "right",
                "font": {
                 "color": "black",
                 "size": 12
                },
                "showarrow": false,
                "text": "Overall, how<br>close do you feel<br>to this person?",
                "x": 0.14,
                "xanchor": "right",
                "xref": "paper",
                "y": "Overall, how<br>close do you feel<br>to this person?",
                "yref": "y"
               },
               {
                "font": {
                 "color": "#595959",
                 "size": 12
                },
                "showarrow": false,
                "text": "9.3%",
                "x": 4.65,
                "xref": "x",
                "y": "Overall, how<br>close do you feel<br>to this person?",
                "yref": "y"
               },
               {
                "font": {
                 "color": "#595959",
                 "size": 12
                },
                "showarrow": false,
                "text": "8.8%",
                "x": 23.200000000000003,
                "xref": "x",
                "y": "Overall, how<br>close do you feel<br>to this person?",
                "yref": "y"
               },
               {
                "font": {
                 "color": "#595959",
                 "size": 12
                },
                "showarrow": false,
                "text": "12.5%",
                "x": 33.85,
                "xref": "x",
                "y": "Overall, how<br>close do you feel<br>to this person?",
                "yref": "y"
               },
               {
                "font": {
                 "color": "#595959",
                 "size": 12
                },
                "showarrow": false,
                "text": "25.3%",
                "x": 52.75,
                "xref": "x",
                "y": "Overall, how<br>close do you feel<br>to this person?",
                "yref": "y"
               },
               {
                "font": {
                 "color": "#595959",
                 "size": 12
                },
                "showarrow": false,
                "text": "34.5%",
                "x": 82.65,
                "xref": "x",
                "y": "Overall, how<br>close do you feel<br>to this person?",
                "yref": "y"
               }
              ],
              "title": "Informal"
             }
            ],
            "label": "Informal",
            "method": "update"
           },
           {
            "args": [
             {
              "visible": [
               false,
               false,
               false,
               false,
               false,
               false,
               false,
               false,
               false,
               false,
               false,
               false,
               false,
               false,
               false,
               false,
               false,
               false,
               false,
               false,
               false,
               false,
               false,
               false,
               false,
               false,
               false,
               false,
               true,
               true,
               true,
               true,
               true,
               true,
               true,
               true,
               true,
               true,
               true,
               true,
               true,
               true
              ]
             },
             {
              "annotations": [
               {
                "align": "right",
                "font": {
                 "color": "black",
                 "size": 12
                },
                "showarrow": false,
                "text": "Overall, how<br>close do you think<br>this person feels<br>to you?",
                "x": 0.14,
                "xanchor": "right",
                "xref": "paper",
                "y": "Overall, how<br>close do you think<br>this person feels<br>to you?",
                "yref": "y"
               },
               {
                "font": {
                 "color": "#595959",
                 "size": 12
                },
                "showarrow": false,
                "text": "7.5%",
                "x": 6.25,
                "xref": "x",
                "y": "Overall, how<br>close do you think<br>this person feels<br>to you?",
                "yref": "y"
               },
               {
                "font": {
                 "color": "#595959",
                 "size": 12
                },
                "showarrow": false,
                "text": "18.6%",
                "x": 19.3,
                "xref": "x",
                "y": "Overall, how<br>close do you think<br>this person feels<br>to you?",
                "yref": "y"
               },
               {
                "font": {
                 "color": "#595959",
                 "size": 12
                },
                "showarrow": false,
                "text": "31.8%",
                "x": 44.5,
                "xref": "x",
                "y": "Overall, how<br>close do you think<br>this person feels<br>to you?",
                "yref": "y"
               },
               {
                "font": {
                 "color": "#595959",
                 "size": 12
                },
                "showarrow": false,
                "text": "39.6%",
                "x": 80.2,
                "xref": "x",
                "y": "Overall, how<br>close do you think<br>this person feels<br>to you?",
                "yref": "y"
               },
               {
                "align": "right",
                "font": {
                 "color": "black",
                 "size": 12
                },
                "showarrow": false,
                "text": "Overall, how<br>close do you feel<br>to this person?",
                "x": 0.14,
                "xanchor": "right",
                "xref": "paper",
                "y": "Overall, how<br>close do you feel<br>to this person?",
                "yref": "y"
               },
               {
                "font": {
                 "color": "#595959",
                 "size": 12
                },
                "showarrow": false,
                "text": "7.6%",
                "x": 6.6,
                "xref": "x",
                "y": "Overall, how<br>close do you feel<br>to this person?",
                "yref": "y"
               },
               {
                "font": {
                 "color": "#595959",
                 "size": 12
                },
                "showarrow": false,
                "text": "17.1%",
                "x": 18.950000000000003,
                "xref": "x",
                "y": "Overall, how<br>close do you feel<br>to this person?",
                "yref": "y"
               },
               {
                "font": {
                 "color": "#595959",
                 "size": 12
                },
                "showarrow": false,
                "text": "32.6%",
                "x": 43.8,
                "xref": "x",
                "y": "Overall, how<br>close do you feel<br>to this person?",
                "yref": "y"
               },
               {
                "font": {
                 "color": "#595959",
                 "size": 12
                },
                "showarrow": false,
                "text": "39.9%",
                "x": 80.05,
                "xref": "x",
                "y": "Overall, how<br>close do you feel<br>to this person?",
                "yref": "y"
               }
              ],
              "title": "Friend"
             }
            ],
            "label": "Friend",
            "method": "update"
           }
          ],
          "direction": "right",
          "showactive": true,
          "type": "buttons",
          "x": 0.684,
          "y": 1.3
         }
        ],
        "xaxis": {
         "domain": [
          0.15,
          1
         ],
         "showgrid": false,
         "showline": false,
         "showticklabels": false,
         "zeroline": false
        },
        "yaxis": {
         "showgrid": false,
         "showline": false,
         "showticklabels": false,
         "zeroline": false
        }
       }
      },
      "text/html": [
       "<div>\n",
       "        \n",
       "        \n",
       "            <div id=\"1aed9344-1910-4cdb-8a9e-4c6b85c0e4d2\" class=\"plotly-graph-div\" style=\"height:525px; width:100%;\"></div>\n",
       "            <script type=\"text/javascript\">\n",
       "                require([\"plotly\"], function(Plotly) {\n",
       "                    window.PLOTLYENV=window.PLOTLYENV || {};\n",
       "                    \n",
       "                if (document.getElementById(\"1aed9344-1910-4cdb-8a9e-4c6b85c0e4d2\")) {\n",
       "                    Plotly.newPlot(\n",
       "                        '1aed9344-1910-4cdb-8a9e-4c6b85c0e4d2',\n",
       "                        [{\"hovertemplate\": \"<b>%{x}%</b><extra></extra>\", \"marker\": {\"color\": \"#FF6478\"}, \"orientation\": \"h\", \"showlegend\": false, \"type\": \"bar\", \"x\": [24.2], \"y\": [\"Overall, how<br>close do you think<br>this person feels<br>to you?\"]}, {\"hovertemplate\": \"<b>%{x}%</b><extra></extra>\", \"marker\": {\"color\": \"#FF6478\"}, \"name\": \"Not at all\", \"orientation\": \"h\", \"showlegend\": true, \"type\": \"bar\", \"x\": [22.4], \"y\": [\"Overall, how<br>close do you feel<br>to this person?\"]}, {\"hovertemplate\": \"<b>%{x}%</b><extra></extra>\", \"marker\": {\"color\": \"#FF8477\"}, \"orientation\": \"h\", \"showlegend\": false, \"type\": \"bar\", \"x\": [14.3], \"y\": [\"Overall, how<br>close do you think<br>this person feels<br>to you?\"]}, {\"hovertemplate\": \"<b>%{x}%</b><extra></extra>\", \"marker\": {\"color\": \"#FF8477\"}, \"name\": \"Rarely\", \"orientation\": \"h\", \"showlegend\": true, \"type\": \"bar\", \"x\": [10.6], \"y\": [\"Overall, how<br>close do you feel<br>to this person?\"]}, {\"hovertemplate\": \"<b>%{x}%</b><extra></extra>\", \"marker\": {\"color\": \"#FF9F77\"}, \"orientation\": \"h\", \"showlegend\": false, \"type\": \"bar\", \"x\": [12.0], \"y\": [\"Overall, how<br>close do you think<br>this person feels<br>to you?\"]}, {\"hovertemplate\": \"<b>%{x}%</b><extra></extra>\", \"marker\": {\"color\": \"#FF9F77\"}, \"name\": \"Occasionally\", \"orientation\": \"h\", \"showlegend\": true, \"type\": \"bar\", \"x\": [8.5], \"y\": [\"Overall, how<br>close do you feel<br>to this person?\"]}, {\"hovertemplate\": \"<b>%{x}%</b><extra></extra>\", \"marker\": {\"color\": \"#FFB775\"}, \"orientation\": \"h\", \"showlegend\": false, \"type\": \"bar\", \"x\": [20.2], \"y\": [\"Overall, how<br>close do you think<br>this person feels<br>to you?\"]}, {\"hovertemplate\": \"<b>%{x}%</b><extra></extra>\", \"marker\": {\"color\": \"#FFB775\"}, \"name\": \"Sometimes\", \"orientation\": \"h\", \"showlegend\": true, \"type\": \"bar\", \"x\": [20.7], \"y\": [\"Overall, how<br>close do you feel<br>to this person?\"]}, {\"hovertemplate\": \"<b>%{x}%</b><extra></extra>\", \"marker\": {\"color\": \"#BCF0C2\"}, \"orientation\": \"h\", \"showlegend\": false, \"type\": \"bar\", \"x\": [10.7], \"y\": [\"Overall, how<br>close do you think<br>this person feels<br>to you?\"]}, {\"hovertemplate\": \"<b>%{x}%</b><extra></extra>\", \"marker\": {\"color\": \"#BCF0C2\"}, \"name\": \"???\", \"orientation\": \"h\", \"showlegend\": true, \"type\": \"bar\", \"x\": [13.7], \"y\": [\"Overall, how<br>close do you feel<br>to this person?\"]}, {\"hovertemplate\": \"<b>%{x}%</b><extra></extra>\", \"marker\": {\"color\": \"#8BE595\"}, \"orientation\": \"h\", \"showlegend\": false, \"type\": \"bar\", \"x\": [8.0], \"y\": [\"Overall, how<br>close do you think<br>this person feels<br>to you?\"]}, {\"hovertemplate\": \"<b>%{x}%</b><extra></extra>\", \"marker\": {\"color\": \"#8BE595\"}, \"name\": \"Often\", \"orientation\": \"h\", \"showlegend\": true, \"type\": \"bar\", \"x\": [11.6], \"y\": [\"Overall, how<br>close do you feel<br>to this person?\"]}, {\"hovertemplate\": \"<b>%{x}%</b><extra></extra>\", \"marker\": {\"color\": \"#56DA65\"}, \"orientation\": \"h\", \"showlegend\": false, \"type\": \"bar\", \"x\": [10.7], \"y\": [\"Overall, how<br>close do you think<br>this person feels<br>to you?\"]}, {\"hovertemplate\": \"<b>%{x}%</b><extra></extra>\", \"marker\": {\"color\": \"#56DA65\"}, \"name\": \"A lot\", \"orientation\": \"h\", \"showlegend\": true, \"type\": \"bar\", \"x\": [12.5], \"y\": [\"Overall, how<br>close do you feel<br>to this person?\"]}, {\"hovertemplate\": \"<b>%{x}%</b><extra></extra>\", \"marker\": {\"color\": \"#FF6478\"}, \"orientation\": \"h\", \"showlegend\": false, \"type\": \"bar\", \"visible\": false, \"x\": [7.3], \"y\": [\"Overall, how<br>close do you think<br>this person feels<br>to you?\"]}, {\"hovertemplate\": \"<b>%{x}%</b><extra></extra>\", \"marker\": {\"color\": \"#FF6478\"}, \"name\": \"Not at all\", \"orientation\": \"h\", \"showlegend\": true, \"type\": \"bar\", \"visible\": false, \"x\": [9.3], \"y\": [\"Overall, how<br>close do you feel<br>to this person?\"]}, {\"hovertemplate\": \"<b>%{x}%</b><extra></extra>\", \"marker\": {\"color\": \"#FF8477\"}, \"orientation\": \"h\", \"showlegend\": false, \"type\": \"bar\", \"visible\": false, \"x\": [4.5], \"y\": [\"Overall, how<br>close do you think<br>this person feels<br>to you?\"]}, {\"hovertemplate\": \"<b>%{x}%</b><extra></extra>\", \"marker\": {\"color\": \"#FF8477\"}, \"name\": \"Rarely\", \"orientation\": \"h\", \"showlegend\": true, \"type\": \"bar\", \"visible\": false, \"x\": [4.6], \"y\": [\"Overall, how<br>close do you feel<br>to this person?\"]}, {\"hovertemplate\": \"<b>%{x}%</b><extra></extra>\", \"marker\": {\"color\": \"#FF9F77\"}, \"orientation\": \"h\", \"showlegend\": false, \"type\": \"bar\", \"visible\": false, \"x\": [4.3], \"y\": [\"Overall, how<br>close do you think<br>this person feels<br>to you?\"]}, {\"hovertemplate\": \"<b>%{x}%</b><extra></extra>\", \"marker\": {\"color\": \"#FF9F77\"}, \"name\": \"Occasionally\", \"orientation\": \"h\", \"showlegend\": true, \"type\": \"bar\", \"visible\": false, \"x\": [4.9], \"y\": [\"Overall, how<br>close do you feel<br>to this person?\"]}, {\"hovertemplate\": \"<b>%{x}%</b><extra></extra>\", \"marker\": {\"color\": \"#FFB775\"}, \"orientation\": \"h\", \"showlegend\": false, \"type\": \"bar\", \"visible\": false, \"x\": [11.3], \"y\": [\"Overall, how<br>close do you think<br>this person feels<br>to you?\"]}, {\"hovertemplate\": \"<b>%{x}%</b><extra></extra>\", \"marker\": {\"color\": \"#FFB775\"}, \"name\": \"Sometimes\", \"orientation\": \"h\", \"showlegend\": true, \"type\": \"bar\", \"visible\": false, \"x\": [8.8], \"y\": [\"Overall, how<br>close do you feel<br>to this person?\"]}, {\"hovertemplate\": \"<b>%{x}%</b><extra></extra>\", \"marker\": {\"color\": \"#BCF0C2\"}, \"orientation\": \"h\", \"showlegend\": false, \"type\": \"bar\", \"visible\": false, \"x\": [13.8], \"y\": [\"Overall, how<br>close do you think<br>this person feels<br>to you?\"]}, {\"hovertemplate\": \"<b>%{x}%</b><extra></extra>\", \"marker\": {\"color\": \"#BCF0C2\"}, \"name\": \"???\", \"orientation\": \"h\", \"showlegend\": true, \"type\": \"bar\", \"visible\": false, \"x\": [12.5], \"y\": [\"Overall, how<br>close do you feel<br>to this person?\"]}, {\"hovertemplate\": \"<b>%{x}%</b><extra></extra>\", \"marker\": {\"color\": \"#8BE595\"}, \"orientation\": \"h\", \"showlegend\": false, \"type\": \"bar\", \"visible\": false, \"x\": [24.7], \"y\": [\"Overall, how<br>close do you think<br>this person feels<br>to you?\"]}, {\"hovertemplate\": \"<b>%{x}%</b><extra></extra>\", \"marker\": {\"color\": \"#8BE595\"}, \"name\": \"Often\", \"orientation\": \"h\", \"showlegend\": true, \"type\": \"bar\", \"visible\": false, \"x\": [25.3], \"y\": [\"Overall, how<br>close do you feel<br>to this person?\"]}, {\"hovertemplate\": \"<b>%{x}%</b><extra></extra>\", \"marker\": {\"color\": \"#56DA65\"}, \"orientation\": \"h\", \"showlegend\": false, \"type\": \"bar\", \"visible\": false, \"x\": [34.2], \"y\": [\"Overall, how<br>close do you think<br>this person feels<br>to you?\"]}, {\"hovertemplate\": \"<b>%{x}%</b><extra></extra>\", \"marker\": {\"color\": \"#56DA65\"}, \"name\": \"A lot\", \"orientation\": \"h\", \"showlegend\": true, \"type\": \"bar\", \"visible\": false, \"x\": [34.5], \"y\": [\"Overall, how<br>close do you feel<br>to this person?\"]}, {\"hovertemplate\": \"<b>%{x}%</b><extra></extra>\", \"marker\": {\"color\": \"#FF6478\"}, \"orientation\": \"h\", \"showlegend\": false, \"type\": \"bar\", \"visible\": false, \"x\": [0.6], \"y\": [\"Overall, how<br>close do you think<br>this person feels<br>to you?\"]}, {\"hovertemplate\": \"<b>%{x}%</b><extra></extra>\", \"marker\": {\"color\": \"#FF6478\"}, \"name\": \"Not at all\", \"orientation\": \"h\", \"showlegend\": true, \"type\": \"bar\", \"visible\": false, \"x\": [0.3], \"y\": [\"Overall, how<br>close do you feel<br>to this person?\"]}, {\"hovertemplate\": \"<b>%{x}%</b><extra></extra>\", \"marker\": {\"color\": \"#FF8477\"}, \"orientation\": \"h\", \"showlegend\": false, \"type\": \"bar\", \"visible\": false, \"x\": [0], \"y\": [\"Overall, how<br>close do you think<br>this person feels<br>to you?\"]}, {\"hovertemplate\": \"<b>%{x}%</b><extra></extra>\", \"marker\": {\"color\": \"#FF8477\"}, \"name\": \"Rarely\", \"orientation\": \"h\", \"showlegend\": true, \"type\": \"bar\", \"visible\": false, \"x\": [0.3], \"y\": [\"Overall, how<br>close do you feel<br>to this person?\"]}, {\"hovertemplate\": \"<b>%{x}%</b><extra></extra>\", \"marker\": {\"color\": \"#FF9F77\"}, \"orientation\": \"h\", \"showlegend\": false, \"type\": \"bar\", \"visible\": false, \"x\": [1.9], \"y\": [\"Overall, how<br>close do you think<br>this person feels<br>to you?\"]}, {\"hovertemplate\": \"<b>%{x}%</b><extra></extra>\", \"marker\": {\"color\": \"#FF9F77\"}, \"name\": \"Occasionally\", \"orientation\": \"h\", \"showlegend\": true, \"type\": \"bar\", \"visible\": false, \"x\": [2.2], \"y\": [\"Overall, how<br>close do you feel<br>to this person?\"]}, {\"hovertemplate\": \"<b>%{x}%</b><extra></extra>\", \"marker\": {\"color\": \"#FFB775\"}, \"orientation\": \"h\", \"showlegend\": false, \"type\": \"bar\", \"visible\": false, \"x\": [7.5], \"y\": [\"Overall, how<br>close do you think<br>this person feels<br>to you?\"]}, {\"hovertemplate\": \"<b>%{x}%</b><extra></extra>\", \"marker\": {\"color\": \"#FFB775\"}, \"name\": \"Sometimes\", \"orientation\": \"h\", \"showlegend\": true, \"type\": \"bar\", \"visible\": false, \"x\": [7.6], \"y\": [\"Overall, how<br>close do you feel<br>to this person?\"]}, {\"hovertemplate\": \"<b>%{x}%</b><extra></extra>\", \"marker\": {\"color\": \"#BCF0C2\"}, \"orientation\": \"h\", \"showlegend\": false, \"type\": \"bar\", \"visible\": false, \"x\": [18.6], \"y\": [\"Overall, how<br>close do you think<br>this person feels<br>to you?\"]}, {\"hovertemplate\": \"<b>%{x}%</b><extra></extra>\", \"marker\": {\"color\": \"#BCF0C2\"}, \"name\": \"???\", \"orientation\": \"h\", \"showlegend\": true, \"type\": \"bar\", \"visible\": false, \"x\": [17.1], \"y\": [\"Overall, how<br>close do you feel<br>to this person?\"]}, {\"hovertemplate\": \"<b>%{x}%</b><extra></extra>\", \"marker\": {\"color\": \"#8BE595\"}, \"orientation\": \"h\", \"showlegend\": false, \"type\": \"bar\", \"visible\": false, \"x\": [31.8], \"y\": [\"Overall, how<br>close do you think<br>this person feels<br>to you?\"]}, {\"hovertemplate\": \"<b>%{x}%</b><extra></extra>\", \"marker\": {\"color\": \"#8BE595\"}, \"name\": \"Often\", \"orientation\": \"h\", \"showlegend\": true, \"type\": \"bar\", \"visible\": false, \"x\": [32.6], \"y\": [\"Overall, how<br>close do you feel<br>to this person?\"]}, {\"hovertemplate\": \"<b>%{x}%</b><extra></extra>\", \"marker\": {\"color\": \"#56DA65\"}, \"orientation\": \"h\", \"showlegend\": false, \"type\": \"bar\", \"visible\": false, \"x\": [39.6], \"y\": [\"Overall, how<br>close do you think<br>this person feels<br>to you?\"]}, {\"hovertemplate\": \"<b>%{x}%</b><extra></extra>\", \"marker\": {\"color\": \"#56DA65\"}, \"name\": \"A lot\", \"orientation\": \"h\", \"showlegend\": true, \"type\": \"bar\", \"visible\": false, \"x\": [39.9], \"y\": [\"Overall, how<br>close do you feel<br>to this person?\"]}],\n",
       "                        {\"annotations\": [{\"align\": \"right\", \"font\": {\"color\": \"black\", \"size\": 12}, \"showarrow\": false, \"text\": \"Overall, how<br>close do you think<br>this person feels<br>to you?\", \"x\": 0.14, \"xanchor\": \"right\", \"xref\": \"paper\", \"y\": \"Overall, how<br>close do you think<br>this person feels<br>to you?\", \"yref\": \"y\"}, {\"font\": {\"color\": \"#595959\", \"size\": 12}, \"showarrow\": false, \"text\": \"24.2%\", \"x\": 12.1, \"xref\": \"x\", \"y\": \"Overall, how<br>close do you think<br>this person feels<br>to you?\", \"yref\": \"y\"}, {\"font\": {\"color\": \"#595959\", \"size\": 12}, \"showarrow\": false, \"text\": \"14.3%\", \"x\": 31.35, \"xref\": \"x\", \"y\": \"Overall, how<br>close do you think<br>this person feels<br>to you?\", \"yref\": \"y\"}, {\"font\": {\"color\": \"#595959\", \"size\": 12}, \"showarrow\": false, \"text\": \"12.0%\", \"x\": 44.5, \"xref\": \"x\", \"y\": \"Overall, how<br>close do you think<br>this person feels<br>to you?\", \"yref\": \"y\"}, {\"font\": {\"color\": \"#595959\", \"size\": 12}, \"showarrow\": false, \"text\": \"20.2%\", \"x\": 60.6, \"xref\": \"x\", \"y\": \"Overall, how<br>close do you think<br>this person feels<br>to you?\", \"yref\": \"y\"}, {\"font\": {\"color\": \"#595959\", \"size\": 12}, \"showarrow\": false, \"text\": \"10.7%\", \"x\": 76.05, \"xref\": \"x\", \"y\": \"Overall, how<br>close do you think<br>this person feels<br>to you?\", \"yref\": \"y\"}, {\"font\": {\"color\": \"#595959\", \"size\": 12}, \"showarrow\": false, \"text\": \"8.0%\", \"x\": 85.4, \"xref\": \"x\", \"y\": \"Overall, how<br>close do you think<br>this person feels<br>to you?\", \"yref\": \"y\"}, {\"font\": {\"color\": \"#595959\", \"size\": 12}, \"showarrow\": false, \"text\": \"10.7%\", \"x\": 94.75, \"xref\": \"x\", \"y\": \"Overall, how<br>close do you think<br>this person feels<br>to you?\", \"yref\": \"y\"}, {\"align\": \"right\", \"font\": {\"color\": \"black\", \"size\": 12}, \"showarrow\": false, \"text\": \"Overall, how<br>close do you feel<br>to this person?\", \"x\": 0.14, \"xanchor\": \"right\", \"xref\": \"paper\", \"y\": \"Overall, how<br>close do you feel<br>to this person?\", \"yref\": \"y\"}, {\"font\": {\"color\": \"#595959\", \"size\": 12}, \"showarrow\": false, \"text\": \"22.4%\", \"x\": 11.2, \"xref\": \"x\", \"y\": \"Overall, how<br>close do you feel<br>to this person?\", \"yref\": \"y\"}, {\"font\": {\"color\": \"#595959\", \"size\": 12}, \"showarrow\": false, \"text\": \"10.6%\", \"x\": 27.7, \"xref\": \"x\", \"y\": \"Overall, how<br>close do you feel<br>to this person?\", \"yref\": \"y\"}, {\"font\": {\"color\": \"#595959\", \"size\": 12}, \"showarrow\": false, \"text\": \"8.5%\", \"x\": 37.25, \"xref\": \"x\", \"y\": \"Overall, how<br>close do you feel<br>to this person?\", \"yref\": \"y\"}, {\"font\": {\"color\": \"#595959\", \"size\": 12}, \"showarrow\": false, \"text\": \"20.7%\", \"x\": 51.85, \"xref\": \"x\", \"y\": \"Overall, how<br>close do you feel<br>to this person?\", \"yref\": \"y\"}, {\"font\": {\"color\": \"#595959\", \"size\": 12}, \"showarrow\": false, \"text\": \"13.7%\", \"x\": 69.05, \"xref\": \"x\", \"y\": \"Overall, how<br>close do you feel<br>to this person?\", \"yref\": \"y\"}, {\"font\": {\"color\": \"#595959\", \"size\": 12}, \"showarrow\": false, \"text\": \"11.6%\", \"x\": 81.7, \"xref\": \"x\", \"y\": \"Overall, how<br>close do you feel<br>to this person?\", \"yref\": \"y\"}, {\"font\": {\"color\": \"#595959\", \"size\": 12}, \"showarrow\": false, \"text\": \"12.5%\", \"x\": 93.75, \"xref\": \"x\", \"y\": \"Overall, how<br>close do you feel<br>to this person?\", \"yref\": \"y\"}], \"barmode\": \"stack\", \"font\": {\"color\": \"black\", \"size\": 12}, \"legend\": {\"itemclick\": false, \"orientation\": \"h\", \"traceorder\": \"normal\", \"x\": 0.94, \"xanchor\": \"right\", \"y\": 1.02, \"yanchor\": \"bottom\"}, \"margin\": {\"b\": 80, \"l\": 120, \"r\": 10, \"t\": 140}, \"paper_bgcolor\": \"rgb(248, 248, 255)\", \"plot_bgcolor\": \"rgb(248, 248, 255)\", \"template\": {\"data\": {\"bar\": [{\"error_x\": {\"color\": \"#2a3f5f\"}, \"error_y\": {\"color\": \"#2a3f5f\"}, \"marker\": {\"line\": {\"color\": \"#E5ECF6\", \"width\": 0.5}}, \"type\": \"bar\"}], \"barpolar\": [{\"marker\": {\"line\": {\"color\": \"#E5ECF6\", \"width\": 0.5}}, \"type\": \"barpolar\"}], \"carpet\": [{\"aaxis\": {\"endlinecolor\": \"#2a3f5f\", \"gridcolor\": \"white\", \"linecolor\": \"white\", \"minorgridcolor\": \"white\", \"startlinecolor\": \"#2a3f5f\"}, \"baxis\": {\"endlinecolor\": \"#2a3f5f\", \"gridcolor\": \"white\", \"linecolor\": \"white\", \"minorgridcolor\": \"white\", \"startlinecolor\": \"#2a3f5f\"}, \"type\": \"carpet\"}], \"choropleth\": [{\"colorbar\": {\"outlinewidth\": 0, \"ticks\": \"\"}, \"type\": \"choropleth\"}], \"contour\": [{\"colorbar\": {\"outlinewidth\": 0, \"ticks\": \"\"}, \"colorscale\": [[0.0, \"#0d0887\"], [0.1111111111111111, \"#46039f\"], [0.2222222222222222, \"#7201a8\"], [0.3333333333333333, \"#9c179e\"], [0.4444444444444444, \"#bd3786\"], [0.5555555555555556, \"#d8576b\"], [0.6666666666666666, \"#ed7953\"], [0.7777777777777778, \"#fb9f3a\"], [0.8888888888888888, \"#fdca26\"], [1.0, \"#f0f921\"]], \"type\": \"contour\"}], \"contourcarpet\": [{\"colorbar\": {\"outlinewidth\": 0, \"ticks\": \"\"}, \"type\": \"contourcarpet\"}], \"heatmap\": [{\"colorbar\": {\"outlinewidth\": 0, \"ticks\": \"\"}, \"colorscale\": [[0.0, \"#0d0887\"], [0.1111111111111111, \"#46039f\"], [0.2222222222222222, \"#7201a8\"], [0.3333333333333333, \"#9c179e\"], [0.4444444444444444, \"#bd3786\"], [0.5555555555555556, \"#d8576b\"], [0.6666666666666666, \"#ed7953\"], [0.7777777777777778, \"#fb9f3a\"], [0.8888888888888888, \"#fdca26\"], [1.0, \"#f0f921\"]], \"type\": \"heatmap\"}], \"heatmapgl\": [{\"colorbar\": {\"outlinewidth\": 0, \"ticks\": \"\"}, \"colorscale\": [[0.0, \"#0d0887\"], [0.1111111111111111, \"#46039f\"], [0.2222222222222222, \"#7201a8\"], [0.3333333333333333, \"#9c179e\"], [0.4444444444444444, \"#bd3786\"], [0.5555555555555556, \"#d8576b\"], [0.6666666666666666, \"#ed7953\"], [0.7777777777777778, \"#fb9f3a\"], [0.8888888888888888, \"#fdca26\"], [1.0, \"#f0f921\"]], \"type\": \"heatmapgl\"}], \"histogram\": [{\"marker\": {\"colorbar\": {\"outlinewidth\": 0, \"ticks\": \"\"}}, \"type\": \"histogram\"}], \"histogram2d\": [{\"colorbar\": {\"outlinewidth\": 0, \"ticks\": \"\"}, \"colorscale\": [[0.0, \"#0d0887\"], [0.1111111111111111, \"#46039f\"], [0.2222222222222222, \"#7201a8\"], [0.3333333333333333, \"#9c179e\"], [0.4444444444444444, \"#bd3786\"], [0.5555555555555556, \"#d8576b\"], [0.6666666666666666, \"#ed7953\"], [0.7777777777777778, \"#fb9f3a\"], [0.8888888888888888, \"#fdca26\"], [1.0, \"#f0f921\"]], \"type\": \"histogram2d\"}], \"histogram2dcontour\": [{\"colorbar\": {\"outlinewidth\": 0, \"ticks\": \"\"}, \"colorscale\": [[0.0, \"#0d0887\"], [0.1111111111111111, \"#46039f\"], [0.2222222222222222, \"#7201a8\"], [0.3333333333333333, \"#9c179e\"], [0.4444444444444444, \"#bd3786\"], [0.5555555555555556, \"#d8576b\"], [0.6666666666666666, \"#ed7953\"], [0.7777777777777778, \"#fb9f3a\"], [0.8888888888888888, \"#fdca26\"], [1.0, \"#f0f921\"]], \"type\": \"histogram2dcontour\"}], \"mesh3d\": [{\"colorbar\": {\"outlinewidth\": 0, \"ticks\": \"\"}, \"type\": \"mesh3d\"}], \"parcoords\": [{\"line\": {\"colorbar\": {\"outlinewidth\": 0, \"ticks\": \"\"}}, \"type\": \"parcoords\"}], \"pie\": [{\"automargin\": true, \"type\": \"pie\"}], \"scatter\": [{\"marker\": {\"colorbar\": {\"outlinewidth\": 0, \"ticks\": \"\"}}, \"type\": \"scatter\"}], \"scatter3d\": [{\"line\": {\"colorbar\": {\"outlinewidth\": 0, \"ticks\": \"\"}}, \"marker\": {\"colorbar\": {\"outlinewidth\": 0, \"ticks\": \"\"}}, \"type\": \"scatter3d\"}], \"scattercarpet\": [{\"marker\": {\"colorbar\": {\"outlinewidth\": 0, \"ticks\": \"\"}}, \"type\": \"scattercarpet\"}], \"scattergeo\": [{\"marker\": {\"colorbar\": {\"outlinewidth\": 0, \"ticks\": \"\"}}, \"type\": \"scattergeo\"}], \"scattergl\": [{\"marker\": {\"colorbar\": {\"outlinewidth\": 0, \"ticks\": \"\"}}, \"type\": \"scattergl\"}], \"scattermapbox\": [{\"marker\": {\"colorbar\": {\"outlinewidth\": 0, \"ticks\": \"\"}}, \"type\": \"scattermapbox\"}], \"scatterpolar\": [{\"marker\": {\"colorbar\": {\"outlinewidth\": 0, \"ticks\": \"\"}}, \"type\": \"scatterpolar\"}], \"scatterpolargl\": [{\"marker\": {\"colorbar\": {\"outlinewidth\": 0, \"ticks\": \"\"}}, \"type\": \"scatterpolargl\"}], \"scatterternary\": [{\"marker\": {\"colorbar\": {\"outlinewidth\": 0, \"ticks\": \"\"}}, \"type\": \"scatterternary\"}], \"surface\": [{\"colorbar\": {\"outlinewidth\": 0, \"ticks\": \"\"}, \"colorscale\": [[0.0, \"#0d0887\"], [0.1111111111111111, \"#46039f\"], [0.2222222222222222, \"#7201a8\"], [0.3333333333333333, \"#9c179e\"], [0.4444444444444444, \"#bd3786\"], [0.5555555555555556, \"#d8576b\"], [0.6666666666666666, \"#ed7953\"], [0.7777777777777778, \"#fb9f3a\"], [0.8888888888888888, \"#fdca26\"], [1.0, \"#f0f921\"]], \"type\": \"surface\"}], \"table\": [{\"cells\": {\"fill\": {\"color\": \"#EBF0F8\"}, \"line\": {\"color\": \"white\"}}, \"header\": {\"fill\": {\"color\": \"#C8D4E3\"}, \"line\": {\"color\": \"white\"}}, \"type\": \"table\"}]}, \"layout\": {\"annotationdefaults\": {\"arrowcolor\": \"#2a3f5f\", \"arrowhead\": 0, \"arrowwidth\": 1}, \"coloraxis\": {\"colorbar\": {\"outlinewidth\": 0, \"ticks\": \"\"}}, \"colorscale\": {\"diverging\": [[0, \"#8e0152\"], [0.1, \"#c51b7d\"], [0.2, \"#de77ae\"], [0.3, \"#f1b6da\"], [0.4, \"#fde0ef\"], [0.5, \"#f7f7f7\"], [0.6, \"#e6f5d0\"], [0.7, \"#b8e186\"], [0.8, \"#7fbc41\"], [0.9, \"#4d9221\"], [1, \"#276419\"]], \"sequential\": [[0.0, \"#0d0887\"], [0.1111111111111111, \"#46039f\"], [0.2222222222222222, \"#7201a8\"], [0.3333333333333333, \"#9c179e\"], [0.4444444444444444, \"#bd3786\"], [0.5555555555555556, \"#d8576b\"], [0.6666666666666666, \"#ed7953\"], [0.7777777777777778, \"#fb9f3a\"], [0.8888888888888888, \"#fdca26\"], [1.0, \"#f0f921\"]], \"sequentialminus\": [[0.0, \"#0d0887\"], [0.1111111111111111, \"#46039f\"], [0.2222222222222222, \"#7201a8\"], [0.3333333333333333, \"#9c179e\"], [0.4444444444444444, \"#bd3786\"], [0.5555555555555556, \"#d8576b\"], [0.6666666666666666, \"#ed7953\"], [0.7777777777777778, \"#fb9f3a\"], [0.8888888888888888, \"#fdca26\"], [1.0, \"#f0f921\"]]}, \"colorway\": [\"#636efa\", \"#EF553B\", \"#00cc96\", \"#ab63fa\", \"#FFA15A\", \"#19d3f3\", \"#FF6692\", \"#B6E880\", \"#FF97FF\", \"#FECB52\"], \"font\": {\"color\": \"#2a3f5f\"}, \"geo\": {\"bgcolor\": \"white\", \"lakecolor\": \"white\", \"landcolor\": \"#E5ECF6\", \"showlakes\": true, \"showland\": true, \"subunitcolor\": \"white\"}, \"hoverlabel\": {\"align\": \"left\"}, \"hovermode\": \"closest\", \"mapbox\": {\"style\": \"light\"}, \"paper_bgcolor\": \"white\", \"plot_bgcolor\": \"#E5ECF6\", \"polar\": {\"angularaxis\": {\"gridcolor\": \"white\", \"linecolor\": \"white\", \"ticks\": \"\"}, \"bgcolor\": \"#E5ECF6\", \"radialaxis\": {\"gridcolor\": \"white\", \"linecolor\": \"white\", \"ticks\": \"\"}}, \"scene\": {\"xaxis\": {\"backgroundcolor\": \"#E5ECF6\", \"gridcolor\": \"white\", \"gridwidth\": 2, \"linecolor\": \"white\", \"showbackground\": true, \"ticks\": \"\", \"zerolinecolor\": \"white\"}, \"yaxis\": {\"backgroundcolor\": \"#E5ECF6\", \"gridcolor\": \"white\", \"gridwidth\": 2, \"linecolor\": \"white\", \"showbackground\": true, \"ticks\": \"\", \"zerolinecolor\": \"white\"}, \"zaxis\": {\"backgroundcolor\": \"#E5ECF6\", \"gridcolor\": \"white\", \"gridwidth\": 2, \"linecolor\": \"white\", \"showbackground\": true, \"ticks\": \"\", \"zerolinecolor\": \"white\"}}, \"shapedefaults\": {\"line\": {\"color\": \"#2a3f5f\"}}, \"ternary\": {\"aaxis\": {\"gridcolor\": \"white\", \"linecolor\": \"white\", \"ticks\": \"\"}, \"baxis\": {\"gridcolor\": \"white\", \"linecolor\": \"white\", \"ticks\": \"\"}, \"bgcolor\": \"#E5ECF6\", \"caxis\": {\"gridcolor\": \"white\", \"linecolor\": \"white\", \"ticks\": \"\"}}, \"title\": {\"x\": 0.05}, \"xaxis\": {\"automargin\": true, \"gridcolor\": \"white\", \"linecolor\": \"white\", \"ticks\": \"\", \"title\": {\"standoff\": 15}, \"zerolinecolor\": \"white\", \"zerolinewidth\": 2}, \"yaxis\": {\"automargin\": true, \"gridcolor\": \"white\", \"linecolor\": \"white\", \"ticks\": \"\", \"title\": {\"standoff\": 15}, \"zerolinecolor\": \"white\", \"zerolinewidth\": 2}}}, \"title\": {\"text\": \"Formal\", \"x\": 0.95, \"y\": 0.88}, \"updatemenus\": [{\"bgcolor\": \"#c9c7c7\", \"buttons\": [{\"args\": [{\"visible\": [true, true, true, true, true, true, true, true, true, true, true, true, true, true, false, false, false, false, false, false, false, false, false, false, false, false, false, false, false, false, false, false, false, false, false, false, false, false, false, false, false, false]}, {\"annotations\": [{\"align\": \"right\", \"font\": {\"color\": \"black\", \"size\": 12}, \"showarrow\": false, \"text\": \"Overall, how<br>close do you think<br>this person feels<br>to you?\", \"x\": 0.14, \"xanchor\": \"right\", \"xref\": \"paper\", \"y\": \"Overall, how<br>close do you think<br>this person feels<br>to you?\", \"yref\": \"y\"}, {\"font\": {\"color\": \"#595959\", \"size\": 12}, \"showarrow\": false, \"text\": \"24.2%\", \"x\": 12.1, \"xref\": \"x\", \"y\": \"Overall, how<br>close do you think<br>this person feels<br>to you?\", \"yref\": \"y\"}, {\"font\": {\"color\": \"#595959\", \"size\": 12}, \"showarrow\": false, \"text\": \"14.3%\", \"x\": 31.35, \"xref\": \"x\", \"y\": \"Overall, how<br>close do you think<br>this person feels<br>to you?\", \"yref\": \"y\"}, {\"font\": {\"color\": \"#595959\", \"size\": 12}, \"showarrow\": false, \"text\": \"12.0%\", \"x\": 44.5, \"xref\": \"x\", \"y\": \"Overall, how<br>close do you think<br>this person feels<br>to you?\", \"yref\": \"y\"}, {\"font\": {\"color\": \"#595959\", \"size\": 12}, \"showarrow\": false, \"text\": \"20.2%\", \"x\": 60.6, \"xref\": \"x\", \"y\": \"Overall, how<br>close do you think<br>this person feels<br>to you?\", \"yref\": \"y\"}, {\"font\": {\"color\": \"#595959\", \"size\": 12}, \"showarrow\": false, \"text\": \"10.7%\", \"x\": 76.05, \"xref\": \"x\", \"y\": \"Overall, how<br>close do you think<br>this person feels<br>to you?\", \"yref\": \"y\"}, {\"font\": {\"color\": \"#595959\", \"size\": 12}, \"showarrow\": false, \"text\": \"8.0%\", \"x\": 85.4, \"xref\": \"x\", \"y\": \"Overall, how<br>close do you think<br>this person feels<br>to you?\", \"yref\": \"y\"}, {\"font\": {\"color\": \"#595959\", \"size\": 12}, \"showarrow\": false, \"text\": \"10.7%\", \"x\": 94.75, \"xref\": \"x\", \"y\": \"Overall, how<br>close do you think<br>this person feels<br>to you?\", \"yref\": \"y\"}, {\"align\": \"right\", \"font\": {\"color\": \"black\", \"size\": 12}, \"showarrow\": false, \"text\": \"Overall, how<br>close do you feel<br>to this person?\", \"x\": 0.14, \"xanchor\": \"right\", \"xref\": \"paper\", \"y\": \"Overall, how<br>close do you feel<br>to this person?\", \"yref\": \"y\"}, {\"font\": {\"color\": \"#595959\", \"size\": 12}, \"showarrow\": false, \"text\": \"22.4%\", \"x\": 11.2, \"xref\": \"x\", \"y\": \"Overall, how<br>close do you feel<br>to this person?\", \"yref\": \"y\"}, {\"font\": {\"color\": \"#595959\", \"size\": 12}, \"showarrow\": false, \"text\": \"10.6%\", \"x\": 27.7, \"xref\": \"x\", \"y\": \"Overall, how<br>close do you feel<br>to this person?\", \"yref\": \"y\"}, {\"font\": {\"color\": \"#595959\", \"size\": 12}, \"showarrow\": false, \"text\": \"8.5%\", \"x\": 37.25, \"xref\": \"x\", \"y\": \"Overall, how<br>close do you feel<br>to this person?\", \"yref\": \"y\"}, {\"font\": {\"color\": \"#595959\", \"size\": 12}, \"showarrow\": false, \"text\": \"20.7%\", \"x\": 51.85, \"xref\": \"x\", \"y\": \"Overall, how<br>close do you feel<br>to this person?\", \"yref\": \"y\"}, {\"font\": {\"color\": \"#595959\", \"size\": 12}, \"showarrow\": false, \"text\": \"13.7%\", \"x\": 69.05, \"xref\": \"x\", \"y\": \"Overall, how<br>close do you feel<br>to this person?\", \"yref\": \"y\"}, {\"font\": {\"color\": \"#595959\", \"size\": 12}, \"showarrow\": false, \"text\": \"11.6%\", \"x\": 81.7, \"xref\": \"x\", \"y\": \"Overall, how<br>close do you feel<br>to this person?\", \"yref\": \"y\"}, {\"font\": {\"color\": \"#595959\", \"size\": 12}, \"showarrow\": false, \"text\": \"12.5%\", \"x\": 93.75, \"xref\": \"x\", \"y\": \"Overall, how<br>close do you feel<br>to this person?\", \"yref\": \"y\"}], \"title\": \"Formal\"}], \"label\": \"Formal\", \"method\": \"update\"}, {\"args\": [{\"visible\": [false, false, false, false, false, false, false, false, false, false, false, false, false, false, true, true, true, true, true, true, true, true, true, true, true, true, true, true, false, false, false, false, false, false, false, false, false, false, false, false, false, false]}, {\"annotations\": [{\"align\": \"right\", \"font\": {\"color\": \"black\", \"size\": 12}, \"showarrow\": false, \"text\": \"Overall, how<br>close do you think<br>this person feels<br>to you?\", \"x\": 0.14, \"xanchor\": \"right\", \"xref\": \"paper\", \"y\": \"Overall, how<br>close do you think<br>this person feels<br>to you?\", \"yref\": \"y\"}, {\"font\": {\"color\": \"#595959\", \"size\": 12}, \"showarrow\": false, \"text\": \"7.3%\", \"x\": 3.65, \"xref\": \"x\", \"y\": \"Overall, how<br>close do you think<br>this person feels<br>to you?\", \"yref\": \"y\"}, {\"font\": {\"color\": \"#595959\", \"size\": 12}, \"showarrow\": false, \"text\": \"11.3%\", \"x\": 21.75, \"xref\": \"x\", \"y\": \"Overall, how<br>close do you think<br>this person feels<br>to you?\", \"yref\": \"y\"}, {\"font\": {\"color\": \"#595959\", \"size\": 12}, \"showarrow\": false, \"text\": \"13.8%\", \"x\": 34.300000000000004, \"xref\": \"x\", \"y\": \"Overall, how<br>close do you think<br>this person feels<br>to you?\", \"yref\": \"y\"}, {\"font\": {\"color\": \"#595959\", \"size\": 12}, \"showarrow\": false, \"text\": \"24.7%\", \"x\": 53.550000000000004, \"xref\": \"x\", \"y\": \"Overall, how<br>close do you think<br>this person feels<br>to you?\", \"yref\": \"y\"}, {\"font\": {\"color\": \"#595959\", \"size\": 12}, \"showarrow\": false, \"text\": \"34.2%\", \"x\": 83.0, \"xref\": \"x\", \"y\": \"Overall, how<br>close do you think<br>this person feels<br>to you?\", \"yref\": \"y\"}, {\"align\": \"right\", \"font\": {\"color\": \"black\", \"size\": 12}, \"showarrow\": false, \"text\": \"Overall, how<br>close do you feel<br>to this person?\", \"x\": 0.14, \"xanchor\": \"right\", \"xref\": \"paper\", \"y\": \"Overall, how<br>close do you feel<br>to this person?\", \"yref\": \"y\"}, {\"font\": {\"color\": \"#595959\", \"size\": 12}, \"showarrow\": false, \"text\": \"9.3%\", \"x\": 4.65, \"xref\": \"x\", \"y\": \"Overall, how<br>close do you feel<br>to this person?\", \"yref\": \"y\"}, {\"font\": {\"color\": \"#595959\", \"size\": 12}, \"showarrow\": false, \"text\": \"8.8%\", \"x\": 23.200000000000003, \"xref\": \"x\", \"y\": \"Overall, how<br>close do you feel<br>to this person?\", \"yref\": \"y\"}, {\"font\": {\"color\": \"#595959\", \"size\": 12}, \"showarrow\": false, \"text\": \"12.5%\", \"x\": 33.85, \"xref\": \"x\", \"y\": \"Overall, how<br>close do you feel<br>to this person?\", \"yref\": \"y\"}, {\"font\": {\"color\": \"#595959\", \"size\": 12}, \"showarrow\": false, \"text\": \"25.3%\", \"x\": 52.75, \"xref\": \"x\", \"y\": \"Overall, how<br>close do you feel<br>to this person?\", \"yref\": \"y\"}, {\"font\": {\"color\": \"#595959\", \"size\": 12}, \"showarrow\": false, \"text\": \"34.5%\", \"x\": 82.65, \"xref\": \"x\", \"y\": \"Overall, how<br>close do you feel<br>to this person?\", \"yref\": \"y\"}], \"title\": \"Informal\"}], \"label\": \"Informal\", \"method\": \"update\"}, {\"args\": [{\"visible\": [false, false, false, false, false, false, false, false, false, false, false, false, false, false, false, false, false, false, false, false, false, false, false, false, false, false, false, false, true, true, true, true, true, true, true, true, true, true, true, true, true, true]}, {\"annotations\": [{\"align\": \"right\", \"font\": {\"color\": \"black\", \"size\": 12}, \"showarrow\": false, \"text\": \"Overall, how<br>close do you think<br>this person feels<br>to you?\", \"x\": 0.14, \"xanchor\": \"right\", \"xref\": \"paper\", \"y\": \"Overall, how<br>close do you think<br>this person feels<br>to you?\", \"yref\": \"y\"}, {\"font\": {\"color\": \"#595959\", \"size\": 12}, \"showarrow\": false, \"text\": \"7.5%\", \"x\": 6.25, \"xref\": \"x\", \"y\": \"Overall, how<br>close do you think<br>this person feels<br>to you?\", \"yref\": \"y\"}, {\"font\": {\"color\": \"#595959\", \"size\": 12}, \"showarrow\": false, \"text\": \"18.6%\", \"x\": 19.3, \"xref\": \"x\", \"y\": \"Overall, how<br>close do you think<br>this person feels<br>to you?\", \"yref\": \"y\"}, {\"font\": {\"color\": \"#595959\", \"size\": 12}, \"showarrow\": false, \"text\": \"31.8%\", \"x\": 44.5, \"xref\": \"x\", \"y\": \"Overall, how<br>close do you think<br>this person feels<br>to you?\", \"yref\": \"y\"}, {\"font\": {\"color\": \"#595959\", \"size\": 12}, \"showarrow\": false, \"text\": \"39.6%\", \"x\": 80.2, \"xref\": \"x\", \"y\": \"Overall, how<br>close do you think<br>this person feels<br>to you?\", \"yref\": \"y\"}, {\"align\": \"right\", \"font\": {\"color\": \"black\", \"size\": 12}, \"showarrow\": false, \"text\": \"Overall, how<br>close do you feel<br>to this person?\", \"x\": 0.14, \"xanchor\": \"right\", \"xref\": \"paper\", \"y\": \"Overall, how<br>close do you feel<br>to this person?\", \"yref\": \"y\"}, {\"font\": {\"color\": \"#595959\", \"size\": 12}, \"showarrow\": false, \"text\": \"7.6%\", \"x\": 6.6, \"xref\": \"x\", \"y\": \"Overall, how<br>close do you feel<br>to this person?\", \"yref\": \"y\"}, {\"font\": {\"color\": \"#595959\", \"size\": 12}, \"showarrow\": false, \"text\": \"17.1%\", \"x\": 18.950000000000003, \"xref\": \"x\", \"y\": \"Overall, how<br>close do you feel<br>to this person?\", \"yref\": \"y\"}, {\"font\": {\"color\": \"#595959\", \"size\": 12}, \"showarrow\": false, \"text\": \"32.6%\", \"x\": 43.8, \"xref\": \"x\", \"y\": \"Overall, how<br>close do you feel<br>to this person?\", \"yref\": \"y\"}, {\"font\": {\"color\": \"#595959\", \"size\": 12}, \"showarrow\": false, \"text\": \"39.9%\", \"x\": 80.05, \"xref\": \"x\", \"y\": \"Overall, how<br>close do you feel<br>to this person?\", \"yref\": \"y\"}], \"title\": \"Friend\"}], \"label\": \"Friend\", \"method\": \"update\"}], \"direction\": \"right\", \"showactive\": true, \"type\": \"buttons\", \"x\": 0.684, \"y\": 1.3}], \"xaxis\": {\"domain\": [0.15, 1], \"showgrid\": false, \"showline\": false, \"showticklabels\": false, \"zeroline\": false}, \"yaxis\": {\"showgrid\": false, \"showline\": false, \"showticklabels\": false, \"zeroline\": false}},\n",
       "                        {\"displayModeBar\": false, \"responsive\": true}\n",
       "                    ).then(function(){\n",
       "                            \n",
       "var gd = document.getElementById('1aed9344-1910-4cdb-8a9e-4c6b85c0e4d2');\n",
       "var x = new MutationObserver(function (mutations, observer) {{\n",
       "        var display = window.getComputedStyle(gd).display;\n",
       "        if (!display || display === 'none') {{\n",
       "            console.log([gd, 'removed!']);\n",
       "            Plotly.purge(gd);\n",
       "            observer.disconnect();\n",
       "        }}\n",
       "}});\n",
       "\n",
       "// Listen for the removal of the full notebook cells\n",
       "var notebookContainer = gd.closest('#notebook-container');\n",
       "if (notebookContainer) {{\n",
       "    x.observe(notebookContainer, {childList: true});\n",
       "}}\n",
       "\n",
       "// Listen for the clearing of the current output cell\n",
       "var outputEl = gd.closest('.output');\n",
       "if (outputEl) {{\n",
       "    x.observe(outputEl, {childList: true});\n",
       "}}\n",
       "\n",
       "                        })\n",
       "                };\n",
       "                });\n",
       "            </script>\n",
       "        </div>"
      ]
     },
     "metadata": {},
     "output_type": "display_data"
    }
   ],
   "source": [
    "##### INTIMACY GRAPH #####\n",
    "\n",
    "'''\n",
    "None of the subjects that reported on a Friend selected a 2 for\n",
    "one of the questions, so it messes up the graph. This code below fixes that\n",
    "'''\n",
    "\n",
    "\n",
    "data1 = [list(round((df_diff['int.overall.close.t'][df_diff['dyad_type'] == 1].value_counts(normalize = True).sort_index() * 100), 1)),\n",
    "list(round((df_diff['int.overall.close.p'][df_diff['dyad_type'] == 1].value_counts(normalize = True).sort_index() * 100), 1))]\n",
    "\n",
    "data2 = [list(round((df_diff['int.overall.close.t'][df_diff['dyad_type'] == 2].value_counts(normalize = True).sort_index() * 100), 1)),\n",
    "list(round((df_diff['int.overall.close.p'][df_diff['dyad_type'] == 2].value_counts(normalize = True).sort_index() * 100), 1))]\n",
    "\n",
    "data3 = [list(round((df_diff['int.overall.close.t'][df_diff['dyad_type'] == 3].value_counts(normalize = True).sort_index() * 100), 1)),\n",
    "list(round((df_diff['int.overall.close.p'][df_diff['dyad_type'] == 3].value_counts(normalize = True).sort_index() * 100), 1))]\n",
    "\n",
    "question1 = 'Overall, how<br>close do you think<br>this person feels<br>to you?'\n",
    "\n",
    "question2 = 'Overall, how<br>close do you feel<br>to this person?'\n",
    "\n",
    "questions = [question1, question2]\n",
    "\n",
    "for i in range(1,8):\n",
    "    if (df_diff['int.overall.close.t'][df_diff['dyad_type'] == 3] == i).sum() == 0:\n",
    "        data3[0].insert(i - 1, 0)\n",
    "    if (df_diff['int.overall.close.p'][df_diff['dyad_type'] == 3] == i).sum() == 0:\n",
    "        data3[1].insert(i - 1, 0)\n",
    "    else:\n",
    "        pass\n",
    "\n",
    "top_labels = ['Not at all', 'Rarely', 'Occasionally', 'Sometimes', '???', 'Often', 'A lot']\n",
    "\n",
    "color_list = ['#FF6478',\n",
    "              '#FF8477',\n",
    "              '#FF9F77',\n",
    "              '#FFB775',\n",
    "              '#BCF0C2',\n",
    "              '#8BE595',\n",
    "              '#56DA65']\n",
    "\n",
    "fig = go.Figure()\n",
    "\n",
    "for i in range(0, len(data1[0])):\n",
    "    for xd, yd in zip(data1, questions):\n",
    "        if yd == question1:\n",
    "            fig.add_trace(go.Bar(\n",
    "            x = [xd[i]],\n",
    "            y = [yd],\n",
    "            orientation = 'h',\n",
    "            marker_color = color_list[i],\n",
    "            hovertemplate = \"<b>%{x}%</b>\" + \"<extra></extra>\",\n",
    "            showlegend = False))\n",
    "        else:\n",
    "            fig.add_trace(go.Bar(\n",
    "            x = [xd[i]],\n",
    "            y = [yd],\n",
    "            name = top_labels[i],\n",
    "            orientation = 'h',\n",
    "            marker_color = color_list[i],\n",
    "            hovertemplate = \"<b>%{x}%</b>\" + \"<extra></extra>\",\n",
    "            showlegend = True))\n",
    "\n",
    "for i in range(0, len(data2[0])):\n",
    "    for xd, yd in zip(data2, questions):\n",
    "        if yd == question1:\n",
    "            fig.add_trace(go.Bar(\n",
    "            x = [xd[i]],\n",
    "            y = [yd],\n",
    "            orientation = 'h',\n",
    "            marker_color = color_list[i],\n",
    "            hovertemplate = \"<b>%{x}%</b>\" + \"<extra></extra>\",\n",
    "            visible = False,\n",
    "            showlegend = False))\n",
    "        else:\n",
    "            fig.add_trace(go.Bar(\n",
    "            x = [xd[i]],\n",
    "            y = [yd],\n",
    "            name = top_labels[i],\n",
    "            orientation = 'h',\n",
    "            marker_color = color_list[i],\n",
    "            hovertemplate = \"<b>%{x}%</b>\" + \"<extra></extra>\",\n",
    "            visible = False,\n",
    "            showlegend = True))\n",
    "\n",
    "\n",
    "for i in range(0, len(data3[0])):\n",
    "    for xd, yd in zip(data3, questions):\n",
    "        if yd == question1:\n",
    "            fig.add_trace(go.Bar(\n",
    "            x = [xd[i]],\n",
    "            y = [yd],\n",
    "            orientation = 'h',\n",
    "            marker_color = color_list[i],\n",
    "            hovertemplate = \"<b>%{x}%</b>\" + \"<extra></extra>\",\n",
    "            visible = False,\n",
    "            showlegend = False))\n",
    "        else:\n",
    "            fig.add_trace(go.Bar(\n",
    "            x = [xd[i]],\n",
    "            y = [yd],\n",
    "            name = top_labels[i],\n",
    "            orientation = 'h',\n",
    "            marker_color = color_list[i],\n",
    "            hovertemplate = \"<b>%{x}%</b>\" + \"<extra></extra>\",\n",
    "            visible = False,\n",
    "            showlegend = True))\n",
    "\n",
    "fig.update_layout(\n",
    "    xaxis = dict(\n",
    "        showgrid = False,\n",
    "        showline = False,\n",
    "        showticklabels = False,\n",
    "        zeroline = False,\n",
    "        domain = [0.15, 1]\n",
    "    ),\n",
    "    yaxis = dict(\n",
    "        showgrid = False,\n",
    "        showline = False,\n",
    "        showticklabels = False,\n",
    "        zeroline = False,\n",
    "    ),\n",
    "    barmode ='stack',\n",
    "    title = dict(text = 'Formal', \n",
    "             y = 0.88,\n",
    "             x = 0.95\n",
    "                ),\n",
    "    paper_bgcolor = 'rgb(248, 248, 255)',\n",
    "    plot_bgcolor = 'rgb(248, 248, 255)',\n",
    "    margin = dict(l = 120, r = 10, t = 140, b = 80),\n",
    "    font = dict(color = 'black', size = 12),\n",
    "    legend = dict(orientation = 'h',\n",
    "                  yanchor = 'bottom',\n",
    "                  y = 1.02,\n",
    "                  xanchor = 'right',\n",
    "                  x = 0.94,\n",
    "                  traceorder = 'normal',\n",
    "                  itemclick = False\n",
    "                 )\n",
    ")       \n",
    "\n",
    "#annotations formal\n",
    "annotations1 = []\n",
    "\n",
    "for yd, xd in zip(questions, data1):\n",
    "    # labeling the y-axis\n",
    "    annotations1.append(dict(xref = 'paper', yref = 'y',\n",
    "                            x = 0.14, y = yd,\n",
    "                            xanchor = 'right',\n",
    "                            text = str(yd),\n",
    "                            font = dict(size = 12,\n",
    "                                      color = 'black'),\n",
    "                            showarrow = False, align = 'right'))\n",
    "    # labeling the first percentage of each bar (x_axis)\n",
    "    if xd[0] > 5:\n",
    "        annotations1.append(dict(xref = 'x', yref = 'y',\n",
    "                                x = xd[0] / 2, y=yd,\n",
    "                                text = str(xd[0]) + '%',\n",
    "                                font = dict(size = 12,\n",
    "                                          color = '#595959'),\n",
    "                                showarrow = False))\n",
    "    space = xd[0]\n",
    "\n",
    "    for i in range(1, 7):\n",
    "        try:\n",
    "            if xd[i] > 5:\n",
    "                # labeling the rest of percentages for each bar (x_axis)\n",
    "                annotations1.append(dict(xref = 'x', yref = 'y',\n",
    "                                    x = space + (xd[i]/2), y = yd,\n",
    "                                    text = str(xd[i]) + '%',\n",
    "                                    font = dict(size = 12,\n",
    "                                              color = '#595959'),\n",
    "                                    showarrow = False))\n",
    "        except:\n",
    "            pass\n",
    "        space += xd[i]\n",
    "\n",
    "#annotations informal\n",
    "annotations2 = []\n",
    "\n",
    "for yd, xd in zip(questions, data2):\n",
    "    # labeling the y-axis\n",
    "    annotations2.append(dict(xref = 'paper', yref = 'y',\n",
    "                            x = 0.14, y = yd,\n",
    "                            xanchor = 'right',\n",
    "                            text = str(yd),\n",
    "                            font = dict(size = 12,\n",
    "                                      color = 'black'),\n",
    "                            showarrow = False, align = 'right'))\n",
    "    # labeling the first percentage of each bar (x_axis)\n",
    "    if xd[0] > 5:\n",
    "        annotations2.append(dict(xref = 'x', yref = 'y',\n",
    "                                x = xd[0] / 2, y=yd,\n",
    "                                text = str(xd[0]) + '%',\n",
    "                                font = dict(size = 12,\n",
    "                                          color = '#595959'),\n",
    "                                showarrow = False))\n",
    "\n",
    "    space = xd[0]\n",
    "\n",
    "    for i in range(1, 7):\n",
    "        try:\n",
    "            if xd[i] > 5:\n",
    "                # labeling the rest of percentages for each bar (x_axis)\n",
    "                annotations2.append(dict(xref = 'x', yref = 'y',\n",
    "                                    x = space + (xd[i]/2), y = yd,\n",
    "                                    text = str(xd[i]) + '%',\n",
    "                                    font = dict(size = 12,\n",
    "                                              color = '#595959'),\n",
    "                                    showarrow = False))\n",
    "        except:\n",
    "            pass\n",
    "        space += xd[i]\n",
    "\n",
    "#annotations friend\n",
    "annotations3 = []\n",
    "\n",
    "for yd, xd in zip(questions, data3):\n",
    "    # labeling the y-axis\n",
    "    annotations3.append(dict(xref = 'paper', yref = 'y',\n",
    "                            x = 0.14, y = yd,\n",
    "                            xanchor = 'right',\n",
    "                            text = str(yd),\n",
    "                            font = dict(size = 12,\n",
    "                                      color = 'black'),\n",
    "                            showarrow = False, align = 'right'))\n",
    "    # labeling the first percentage of each bar (x_axis)\n",
    "    if xd[0] > 5:\n",
    "        annotations3.append(dict(xref = 'x', yref = 'y',\n",
    "                                x = xd[0] / 2, y=yd,\n",
    "                                text = str(xd[0]) + '%',\n",
    "                                font = dict(size = 12,\n",
    "                                          color = 'blue'),\n",
    "                                showarrow = False))\n",
    "    space = xd[0]\n",
    "\n",
    "    for i in range(1, 7):\n",
    "        try:\n",
    "            if xd[i] > 5:\n",
    "                # labeling the rest of percentages for each bar (x_axis)\n",
    "                annotations3.append(dict(xref = 'x', yref = 'y',\n",
    "                                    x = space + (xd[i]/2), y = yd,\n",
    "                                    text = str(xd[i]) + '%',\n",
    "                                    font = dict(size = 12,\n",
    "                                              color = '#595959'),\n",
    "                                    showarrow = False))\n",
    "        except:\n",
    "            pass\n",
    "        try:\n",
    "            space += xd[i]\n",
    "        except:\n",
    "            pass\n",
    "\n",
    "fig.update_layout(annotations = annotations1)\n",
    "\n",
    "##### Buttons #####\n",
    "\n",
    "fig.update_layout(\n",
    "updatemenus =[\n",
    "    go.layout.Updatemenu(\n",
    "        type = 'buttons',\n",
    "        direction = 'right',\n",
    "        bgcolor = '#c9c7c7',\n",
    "        showactive = True,\n",
    "        x = 0.684,\n",
    "        y = 1.3,\n",
    "        buttons = list([\n",
    "            dict(label = 'Formal',\n",
    "                 method = 'update',\n",
    "                 args = [{'visible': [True, True, True, True, True, True, True, True, True, True, True, True, True, True, False, False, False, False, False, False, False, False, False, False, False, False, False, False, False, False, False, False, False, False, False, False, False, False, False, False, False, False]},\n",
    "                         {'title': 'Formal',\n",
    "                          'annotations': annotations1}\n",
    "                        ]),\n",
    "            dict(label = 'Informal',\n",
    "                 method = 'update',\n",
    "                 args = [{'visible': [False, False, False, False, False, False, False, False, False, False, False, False, False, False, True, True, True, True, True, True, True, True, True, True, True, True, True, True, False, False, False, False, False, False, False, False, False, False, False, False, False, False]},\n",
    "                         {'title': 'Informal',\n",
    "                          'annotations': annotations2}\n",
    "                        ]),\n",
    "            dict(label = 'Friend',\n",
    "                 method = 'update',\n",
    "                 args = [{'visible': [False, False, False, False, False, False, False, False, False, False, False, False, False, False, False, False, False, False, False, False, False, False, False, False, False, False, False, False, True, True, True, True, True, True, True, True, True, True, True, True, True, True]},\n",
    "                         {'title': 'Friend',\n",
    "                          'annotations': annotations3}\n",
    "                        ])\n",
    "        ]),\n",
    "    )\n",
    "])\n",
    "\n",
    "config = {'displayModeBar': False}\n",
    "\n",
    "fig.show(config = config)"
   ]
  },
  {
   "cell_type": "code",
   "execution_count": 43,
   "metadata": {},
   "outputs": [],
   "source": [
    "##### VERTICAL STACK #####\n",
    "\n",
    "def vertical_stack_percent_bar(var, title):\n",
    "    data1 = [list(round((df_diff[var][df_diff['dyad_type'] == 3].value_counts(normalize = True).sort_index() * 100), 1)),\n",
    "             list(round((df_diff[var][df_diff['dyad_type'] == 2].value_counts(normalize = True).sort_index() * 100), 1)),\n",
    "             list(round((df_diff[var][df_diff['dyad_type'] == 1].value_counts(normalize = True).sort_index() * 100), 1))]\n",
    "\n",
    "    dyad_labels = ['Friend', 'Informal', 'Formal']\n",
    "\n",
    "    top_labels = ['Not at all', 'Rarely', 'Occasionally', 'Sometimes', '???', 'Often', 'A lot']\n",
    "\n",
    "    color_list = ['#FF6478',\n",
    "                  '#FF8477',\n",
    "                  '#FF9F77',\n",
    "                  '#FFB775',\n",
    "                  '#BCF0C2',\n",
    "                  '#8BE595',\n",
    "                  '#56DA65']\n",
    "\n",
    "    fig = go.Figure()\n",
    "\n",
    "    for i in range(0, len(data1[0])):\n",
    "        for xd, yd in zip(data1, dyad_labels):\n",
    "            if xd == list(round((df_diff[var][df_diff['dyad_type'] == 1].value_counts(normalize = True).sort_index() * 100), 1)):\n",
    "                fig.add_trace(go.Bar(\n",
    "                x = [xd[i]],\n",
    "                y = [yd],\n",
    "                orientation = 'h',\n",
    "                name = top_labels[i],\n",
    "                marker_color = color_list[i],\n",
    "                hovertemplate = \"<b>%{x}%</b>\" + \"<extra></extra>\",\n",
    "                showlegend = True))\n",
    "            else:\n",
    "                fig.add_trace(go.Bar(\n",
    "                x = [xd[i]],\n",
    "                y = [yd],\n",
    "                orientation = 'h',\n",
    "                marker_color = color_list[i],\n",
    "                hovertemplate = \"<b>%{x}%</b>\" + \"<extra></extra>\",\n",
    "                showlegend = False))\n",
    "\n",
    "\n",
    "    fig.update_layout(\n",
    "        xaxis = dict(\n",
    "            showgrid = False,\n",
    "            showline = False,\n",
    "            showticklabels = False,\n",
    "            zeroline = False,\n",
    "            domain = [0.15, 1]\n",
    "        ),\n",
    "        yaxis = dict(\n",
    "            showgrid = False,\n",
    "            showline = False,\n",
    "            showticklabels = False,\n",
    "            zeroline = False,\n",
    "        ),\n",
    "        barmode ='stack',\n",
    "        title = dict(text = title, \n",
    "                 y = 0.88,\n",
    "                 x = 0.955\n",
    "                    ),\n",
    "        paper_bgcolor = 'rgb(248, 248, 255)',\n",
    "        plot_bgcolor = 'rgb(248, 248, 255)',\n",
    "        margin = dict(l = 120, r = 10, t = 140, b = 80),\n",
    "        font = dict(color = 'black', size = 12),\n",
    "        legend = dict(orientation = 'h',\n",
    "                      yanchor = 'bottom',\n",
    "                      y = 1.02,\n",
    "                      xanchor = 'right',\n",
    "                      x = 0.94,\n",
    "                      traceorder = 'normal',\n",
    "                      itemclick = False\n",
    "                     )\n",
    "    )       \n",
    "\n",
    "    #annotations formal\n",
    "    annotations1 = []\n",
    "\n",
    "    for yd, xd in zip(dyad_labels, data1):\n",
    "        # labeling the y-axis\n",
    "        annotations1.append(dict(xref = 'paper', yref = 'y',\n",
    "                                x = 0.14, y = yd,\n",
    "                                xanchor = 'right',\n",
    "                                text = str(yd),\n",
    "                                font = dict(size = 12,\n",
    "                                          color = 'black'),\n",
    "                                showarrow = False, align = 'right'))\n",
    "        # labeling the first percentage of each bar (x_axis)\n",
    "        if xd[0] > 7:\n",
    "            annotations1.append(dict(xref = 'x', yref = 'y',\n",
    "                                    x = xd[0] / 2, y=yd,\n",
    "                                    text = str(xd[0]) + '%',\n",
    "                                    font = dict(size = 12,\n",
    "                                              color = '#595959'),\n",
    "                                    showarrow = False))\n",
    "        space = xd[0]\n",
    "\n",
    "        for i in range(1, 7):\n",
    "            try:\n",
    "                if xd[i] > 7:\n",
    "                    # labeling the rest of percentages for each bar (x_axis)\n",
    "                    annotations1.append(dict(xref = 'x', yref = 'y',\n",
    "                                        x = space + (xd[i]/2), y = yd,\n",
    "                                        text = str(xd[i]) + '%',\n",
    "                                        font = dict(size = 12,\n",
    "                                                  color = '#595959'),\n",
    "                                        showarrow = False))\n",
    "            except:\n",
    "                pass\n",
    "            space += xd[i]\n",
    "\n",
    "\n",
    "    fig.update_layout(annotations = annotations1)\n",
    "\n",
    "    config = {'displayModeBar': False}\n",
    "\n",
    "    fig.show(config = config)"
   ]
  },
  {
   "cell_type": "code",
   "execution_count": 44,
   "metadata": {},
   "outputs": [
    {
     "data": {
      "application/vnd.plotly.v1+json": {
       "config": {
        "displayModeBar": false,
        "plotlyServerURL": "https://plotly.com"
       },
       "data": [
        {
         "hovertemplate": "<b>%{x}%</b><extra></extra>",
         "marker": {
          "color": "#FF6478"
         },
         "orientation": "h",
         "showlegend": false,
         "type": "bar",
         "x": [
          0.3
         ],
         "y": [
          "Friend"
         ]
        },
        {
         "hovertemplate": "<b>%{x}%</b><extra></extra>",
         "marker": {
          "color": "#FF6478"
         },
         "orientation": "h",
         "showlegend": false,
         "type": "bar",
         "x": [
          5.6
         ],
         "y": [
          "Informal"
         ]
        },
        {
         "hovertemplate": "<b>%{x}%</b><extra></extra>",
         "marker": {
          "color": "#FF6478"
         },
         "name": "Not at all",
         "orientation": "h",
         "showlegend": true,
         "type": "bar",
         "x": [
          5.9
         ],
         "y": [
          "Formal"
         ]
        },
        {
         "hovertemplate": "<b>%{x}%</b><extra></extra>",
         "marker": {
          "color": "#FF8477"
         },
         "orientation": "h",
         "showlegend": false,
         "type": "bar",
         "x": [
          1.6
         ],
         "y": [
          "Friend"
         ]
        },
        {
         "hovertemplate": "<b>%{x}%</b><extra></extra>",
         "marker": {
          "color": "#FF8477"
         },
         "orientation": "h",
         "showlegend": false,
         "type": "bar",
         "x": [
          4.1
         ],
         "y": [
          "Informal"
         ]
        },
        {
         "hovertemplate": "<b>%{x}%</b><extra></extra>",
         "marker": {
          "color": "#FF8477"
         },
         "name": "Rarely",
         "orientation": "h",
         "showlegend": true,
         "type": "bar",
         "x": [
          4.7
         ],
         "y": [
          "Formal"
         ]
        },
        {
         "hovertemplate": "<b>%{x}%</b><extra></extra>",
         "marker": {
          "color": "#FF9F77"
         },
         "orientation": "h",
         "showlegend": false,
         "type": "bar",
         "x": [
          1.3
         ],
         "y": [
          "Friend"
         ]
        },
        {
         "hovertemplate": "<b>%{x}%</b><extra></extra>",
         "marker": {
          "color": "#FF9F77"
         },
         "orientation": "h",
         "showlegend": false,
         "type": "bar",
         "x": [
          5.1
         ],
         "y": [
          "Informal"
         ]
        },
        {
         "hovertemplate": "<b>%{x}%</b><extra></extra>",
         "marker": {
          "color": "#FF9F77"
         },
         "name": "Occasionally",
         "orientation": "h",
         "showlegend": true,
         "type": "bar",
         "x": [
          3.5
         ],
         "y": [
          "Formal"
         ]
        },
        {
         "hovertemplate": "<b>%{x}%</b><extra></extra>",
         "marker": {
          "color": "#FFB775"
         },
         "orientation": "h",
         "showlegend": false,
         "type": "bar",
         "x": [
          11.7
         ],
         "y": [
          "Friend"
         ]
        },
        {
         "hovertemplate": "<b>%{x}%</b><extra></extra>",
         "marker": {
          "color": "#FFB775"
         },
         "orientation": "h",
         "showlegend": false,
         "type": "bar",
         "x": [
          13.1
         ],
         "y": [
          "Informal"
         ]
        },
        {
         "hovertemplate": "<b>%{x}%</b><extra></extra>",
         "marker": {
          "color": "#FFB775"
         },
         "name": "Sometimes",
         "orientation": "h",
         "showlegend": true,
         "type": "bar",
         "x": [
          10.5
         ],
         "y": [
          "Formal"
         ]
        },
        {
         "hovertemplate": "<b>%{x}%</b><extra></extra>",
         "marker": {
          "color": "#BCF0C2"
         },
         "orientation": "h",
         "showlegend": false,
         "type": "bar",
         "x": [
          18.9
         ],
         "y": [
          "Friend"
         ]
        },
        {
         "hovertemplate": "<b>%{x}%</b><extra></extra>",
         "marker": {
          "color": "#BCF0C2"
         },
         "orientation": "h",
         "showlegend": false,
         "type": "bar",
         "x": [
          16.4
         ],
         "y": [
          "Informal"
         ]
        },
        {
         "hovertemplate": "<b>%{x}%</b><extra></extra>",
         "marker": {
          "color": "#BCF0C2"
         },
         "name": "???",
         "orientation": "h",
         "showlegend": true,
         "type": "bar",
         "x": [
          18.2
         ],
         "y": [
          "Formal"
         ]
        },
        {
         "hovertemplate": "<b>%{x}%</b><extra></extra>",
         "marker": {
          "color": "#8BE595"
         },
         "orientation": "h",
         "showlegend": false,
         "type": "bar",
         "x": [
          28.1
         ],
         "y": [
          "Friend"
         ]
        },
        {
         "hovertemplate": "<b>%{x}%</b><extra></extra>",
         "marker": {
          "color": "#8BE595"
         },
         "orientation": "h",
         "showlegend": false,
         "type": "bar",
         "x": [
          21.8
         ],
         "y": [
          "Informal"
         ]
        },
        {
         "hovertemplate": "<b>%{x}%</b><extra></extra>",
         "marker": {
          "color": "#8BE595"
         },
         "name": "Often",
         "orientation": "h",
         "showlegend": true,
         "type": "bar",
         "x": [
          25.1
         ],
         "y": [
          "Formal"
         ]
        },
        {
         "hovertemplate": "<b>%{x}%</b><extra></extra>",
         "marker": {
          "color": "#56DA65"
         },
         "orientation": "h",
         "showlegend": false,
         "type": "bar",
         "x": [
          38.2
         ],
         "y": [
          "Friend"
         ]
        },
        {
         "hovertemplate": "<b>%{x}%</b><extra></extra>",
         "marker": {
          "color": "#56DA65"
         },
         "orientation": "h",
         "showlegend": false,
         "type": "bar",
         "x": [
          34
         ],
         "y": [
          "Informal"
         ]
        },
        {
         "hovertemplate": "<b>%{x}%</b><extra></extra>",
         "marker": {
          "color": "#56DA65"
         },
         "name": "A lot",
         "orientation": "h",
         "showlegend": true,
         "type": "bar",
         "x": [
          32.3
         ],
         "y": [
          "Formal"
         ]
        }
       ],
       "layout": {
        "annotations": [
         {
          "align": "right",
          "font": {
           "color": "black",
           "size": 12
          },
          "showarrow": false,
          "text": "Friend",
          "x": 0.14,
          "xanchor": "right",
          "xref": "paper",
          "y": "Friend",
          "yref": "y"
         },
         {
          "font": {
           "color": "#595959",
           "size": 12
          },
          "showarrow": false,
          "text": "11.7%",
          "x": 9.05,
          "xref": "x",
          "y": "Friend",
          "yref": "y"
         },
         {
          "font": {
           "color": "#595959",
           "size": 12
          },
          "showarrow": false,
          "text": "18.9%",
          "x": 24.349999999999998,
          "xref": "x",
          "y": "Friend",
          "yref": "y"
         },
         {
          "font": {
           "color": "#595959",
           "size": 12
          },
          "showarrow": false,
          "text": "28.1%",
          "x": 47.849999999999994,
          "xref": "x",
          "y": "Friend",
          "yref": "y"
         },
         {
          "font": {
           "color": "#595959",
           "size": 12
          },
          "showarrow": false,
          "text": "38.2%",
          "x": 81,
          "xref": "x",
          "y": "Friend",
          "yref": "y"
         },
         {
          "align": "right",
          "font": {
           "color": "black",
           "size": 12
          },
          "showarrow": false,
          "text": "Informal",
          "x": 0.14,
          "xanchor": "right",
          "xref": "paper",
          "y": "Informal",
          "yref": "y"
         },
         {
          "font": {
           "color": "#595959",
           "size": 12
          },
          "showarrow": false,
          "text": "13.1%",
          "x": 21.349999999999998,
          "xref": "x",
          "y": "Informal",
          "yref": "y"
         },
         {
          "font": {
           "color": "#595959",
           "size": 12
          },
          "showarrow": false,
          "text": "16.4%",
          "x": 36.099999999999994,
          "xref": "x",
          "y": "Informal",
          "yref": "y"
         },
         {
          "font": {
           "color": "#595959",
           "size": 12
          },
          "showarrow": false,
          "text": "21.8%",
          "x": 55.199999999999996,
          "xref": "x",
          "y": "Informal",
          "yref": "y"
         },
         {
          "font": {
           "color": "#595959",
           "size": 12
          },
          "showarrow": false,
          "text": "34.0%",
          "x": 83.1,
          "xref": "x",
          "y": "Informal",
          "yref": "y"
         },
         {
          "align": "right",
          "font": {
           "color": "black",
           "size": 12
          },
          "showarrow": false,
          "text": "Formal",
          "x": 0.14,
          "xanchor": "right",
          "xref": "paper",
          "y": "Formal",
          "yref": "y"
         },
         {
          "font": {
           "color": "#595959",
           "size": 12
          },
          "showarrow": false,
          "text": "10.5%",
          "x": 19.35,
          "xref": "x",
          "y": "Formal",
          "yref": "y"
         },
         {
          "font": {
           "color": "#595959",
           "size": 12
          },
          "showarrow": false,
          "text": "18.2%",
          "x": 33.7,
          "xref": "x",
          "y": "Formal",
          "yref": "y"
         },
         {
          "font": {
           "color": "#595959",
           "size": 12
          },
          "showarrow": false,
          "text": "25.1%",
          "x": 55.349999999999994,
          "xref": "x",
          "y": "Formal",
          "yref": "y"
         },
         {
          "font": {
           "color": "#595959",
           "size": 12
          },
          "showarrow": false,
          "text": "32.3%",
          "x": 84.05000000000001,
          "xref": "x",
          "y": "Formal",
          "yref": "y"
         }
        ],
        "barmode": "stack",
        "font": {
         "color": "black",
         "size": 12
        },
        "legend": {
         "itemclick": false,
         "orientation": "h",
         "traceorder": "normal",
         "x": 0.94,
         "xanchor": "right",
         "y": 1.02,
         "yanchor": "bottom"
        },
        "margin": {
         "b": 80,
         "l": 120,
         "r": 10,
         "t": 140
        },
        "paper_bgcolor": "rgb(248, 248, 255)",
        "plot_bgcolor": "rgb(248, 248, 255)",
        "template": {
         "data": {
          "bar": [
           {
            "error_x": {
             "color": "#2a3f5f"
            },
            "error_y": {
             "color": "#2a3f5f"
            },
            "marker": {
             "line": {
              "color": "#E5ECF6",
              "width": 0.5
             }
            },
            "type": "bar"
           }
          ],
          "barpolar": [
           {
            "marker": {
             "line": {
              "color": "#E5ECF6",
              "width": 0.5
             }
            },
            "type": "barpolar"
           }
          ],
          "carpet": [
           {
            "aaxis": {
             "endlinecolor": "#2a3f5f",
             "gridcolor": "white",
             "linecolor": "white",
             "minorgridcolor": "white",
             "startlinecolor": "#2a3f5f"
            },
            "baxis": {
             "endlinecolor": "#2a3f5f",
             "gridcolor": "white",
             "linecolor": "white",
             "minorgridcolor": "white",
             "startlinecolor": "#2a3f5f"
            },
            "type": "carpet"
           }
          ],
          "choropleth": [
           {
            "colorbar": {
             "outlinewidth": 0,
             "ticks": ""
            },
            "type": "choropleth"
           }
          ],
          "contour": [
           {
            "colorbar": {
             "outlinewidth": 0,
             "ticks": ""
            },
            "colorscale": [
             [
              0,
              "#0d0887"
             ],
             [
              0.1111111111111111,
              "#46039f"
             ],
             [
              0.2222222222222222,
              "#7201a8"
             ],
             [
              0.3333333333333333,
              "#9c179e"
             ],
             [
              0.4444444444444444,
              "#bd3786"
             ],
             [
              0.5555555555555556,
              "#d8576b"
             ],
             [
              0.6666666666666666,
              "#ed7953"
             ],
             [
              0.7777777777777778,
              "#fb9f3a"
             ],
             [
              0.8888888888888888,
              "#fdca26"
             ],
             [
              1,
              "#f0f921"
             ]
            ],
            "type": "contour"
           }
          ],
          "contourcarpet": [
           {
            "colorbar": {
             "outlinewidth": 0,
             "ticks": ""
            },
            "type": "contourcarpet"
           }
          ],
          "heatmap": [
           {
            "colorbar": {
             "outlinewidth": 0,
             "ticks": ""
            },
            "colorscale": [
             [
              0,
              "#0d0887"
             ],
             [
              0.1111111111111111,
              "#46039f"
             ],
             [
              0.2222222222222222,
              "#7201a8"
             ],
             [
              0.3333333333333333,
              "#9c179e"
             ],
             [
              0.4444444444444444,
              "#bd3786"
             ],
             [
              0.5555555555555556,
              "#d8576b"
             ],
             [
              0.6666666666666666,
              "#ed7953"
             ],
             [
              0.7777777777777778,
              "#fb9f3a"
             ],
             [
              0.8888888888888888,
              "#fdca26"
             ],
             [
              1,
              "#f0f921"
             ]
            ],
            "type": "heatmap"
           }
          ],
          "heatmapgl": [
           {
            "colorbar": {
             "outlinewidth": 0,
             "ticks": ""
            },
            "colorscale": [
             [
              0,
              "#0d0887"
             ],
             [
              0.1111111111111111,
              "#46039f"
             ],
             [
              0.2222222222222222,
              "#7201a8"
             ],
             [
              0.3333333333333333,
              "#9c179e"
             ],
             [
              0.4444444444444444,
              "#bd3786"
             ],
             [
              0.5555555555555556,
              "#d8576b"
             ],
             [
              0.6666666666666666,
              "#ed7953"
             ],
             [
              0.7777777777777778,
              "#fb9f3a"
             ],
             [
              0.8888888888888888,
              "#fdca26"
             ],
             [
              1,
              "#f0f921"
             ]
            ],
            "type": "heatmapgl"
           }
          ],
          "histogram": [
           {
            "marker": {
             "colorbar": {
              "outlinewidth": 0,
              "ticks": ""
             }
            },
            "type": "histogram"
           }
          ],
          "histogram2d": [
           {
            "colorbar": {
             "outlinewidth": 0,
             "ticks": ""
            },
            "colorscale": [
             [
              0,
              "#0d0887"
             ],
             [
              0.1111111111111111,
              "#46039f"
             ],
             [
              0.2222222222222222,
              "#7201a8"
             ],
             [
              0.3333333333333333,
              "#9c179e"
             ],
             [
              0.4444444444444444,
              "#bd3786"
             ],
             [
              0.5555555555555556,
              "#d8576b"
             ],
             [
              0.6666666666666666,
              "#ed7953"
             ],
             [
              0.7777777777777778,
              "#fb9f3a"
             ],
             [
              0.8888888888888888,
              "#fdca26"
             ],
             [
              1,
              "#f0f921"
             ]
            ],
            "type": "histogram2d"
           }
          ],
          "histogram2dcontour": [
           {
            "colorbar": {
             "outlinewidth": 0,
             "ticks": ""
            },
            "colorscale": [
             [
              0,
              "#0d0887"
             ],
             [
              0.1111111111111111,
              "#46039f"
             ],
             [
              0.2222222222222222,
              "#7201a8"
             ],
             [
              0.3333333333333333,
              "#9c179e"
             ],
             [
              0.4444444444444444,
              "#bd3786"
             ],
             [
              0.5555555555555556,
              "#d8576b"
             ],
             [
              0.6666666666666666,
              "#ed7953"
             ],
             [
              0.7777777777777778,
              "#fb9f3a"
             ],
             [
              0.8888888888888888,
              "#fdca26"
             ],
             [
              1,
              "#f0f921"
             ]
            ],
            "type": "histogram2dcontour"
           }
          ],
          "mesh3d": [
           {
            "colorbar": {
             "outlinewidth": 0,
             "ticks": ""
            },
            "type": "mesh3d"
           }
          ],
          "parcoords": [
           {
            "line": {
             "colorbar": {
              "outlinewidth": 0,
              "ticks": ""
             }
            },
            "type": "parcoords"
           }
          ],
          "pie": [
           {
            "automargin": true,
            "type": "pie"
           }
          ],
          "scatter": [
           {
            "marker": {
             "colorbar": {
              "outlinewidth": 0,
              "ticks": ""
             }
            },
            "type": "scatter"
           }
          ],
          "scatter3d": [
           {
            "line": {
             "colorbar": {
              "outlinewidth": 0,
              "ticks": ""
             }
            },
            "marker": {
             "colorbar": {
              "outlinewidth": 0,
              "ticks": ""
             }
            },
            "type": "scatter3d"
           }
          ],
          "scattercarpet": [
           {
            "marker": {
             "colorbar": {
              "outlinewidth": 0,
              "ticks": ""
             }
            },
            "type": "scattercarpet"
           }
          ],
          "scattergeo": [
           {
            "marker": {
             "colorbar": {
              "outlinewidth": 0,
              "ticks": ""
             }
            },
            "type": "scattergeo"
           }
          ],
          "scattergl": [
           {
            "marker": {
             "colorbar": {
              "outlinewidth": 0,
              "ticks": ""
             }
            },
            "type": "scattergl"
           }
          ],
          "scattermapbox": [
           {
            "marker": {
             "colorbar": {
              "outlinewidth": 0,
              "ticks": ""
             }
            },
            "type": "scattermapbox"
           }
          ],
          "scatterpolar": [
           {
            "marker": {
             "colorbar": {
              "outlinewidth": 0,
              "ticks": ""
             }
            },
            "type": "scatterpolar"
           }
          ],
          "scatterpolargl": [
           {
            "marker": {
             "colorbar": {
              "outlinewidth": 0,
              "ticks": ""
             }
            },
            "type": "scatterpolargl"
           }
          ],
          "scatterternary": [
           {
            "marker": {
             "colorbar": {
              "outlinewidth": 0,
              "ticks": ""
             }
            },
            "type": "scatterternary"
           }
          ],
          "surface": [
           {
            "colorbar": {
             "outlinewidth": 0,
             "ticks": ""
            },
            "colorscale": [
             [
              0,
              "#0d0887"
             ],
             [
              0.1111111111111111,
              "#46039f"
             ],
             [
              0.2222222222222222,
              "#7201a8"
             ],
             [
              0.3333333333333333,
              "#9c179e"
             ],
             [
              0.4444444444444444,
              "#bd3786"
             ],
             [
              0.5555555555555556,
              "#d8576b"
             ],
             [
              0.6666666666666666,
              "#ed7953"
             ],
             [
              0.7777777777777778,
              "#fb9f3a"
             ],
             [
              0.8888888888888888,
              "#fdca26"
             ],
             [
              1,
              "#f0f921"
             ]
            ],
            "type": "surface"
           }
          ],
          "table": [
           {
            "cells": {
             "fill": {
              "color": "#EBF0F8"
             },
             "line": {
              "color": "white"
             }
            },
            "header": {
             "fill": {
              "color": "#C8D4E3"
             },
             "line": {
              "color": "white"
             }
            },
            "type": "table"
           }
          ]
         },
         "layout": {
          "annotationdefaults": {
           "arrowcolor": "#2a3f5f",
           "arrowhead": 0,
           "arrowwidth": 1
          },
          "coloraxis": {
           "colorbar": {
            "outlinewidth": 0,
            "ticks": ""
           }
          },
          "colorscale": {
           "diverging": [
            [
             0,
             "#8e0152"
            ],
            [
             0.1,
             "#c51b7d"
            ],
            [
             0.2,
             "#de77ae"
            ],
            [
             0.3,
             "#f1b6da"
            ],
            [
             0.4,
             "#fde0ef"
            ],
            [
             0.5,
             "#f7f7f7"
            ],
            [
             0.6,
             "#e6f5d0"
            ],
            [
             0.7,
             "#b8e186"
            ],
            [
             0.8,
             "#7fbc41"
            ],
            [
             0.9,
             "#4d9221"
            ],
            [
             1,
             "#276419"
            ]
           ],
           "sequential": [
            [
             0,
             "#0d0887"
            ],
            [
             0.1111111111111111,
             "#46039f"
            ],
            [
             0.2222222222222222,
             "#7201a8"
            ],
            [
             0.3333333333333333,
             "#9c179e"
            ],
            [
             0.4444444444444444,
             "#bd3786"
            ],
            [
             0.5555555555555556,
             "#d8576b"
            ],
            [
             0.6666666666666666,
             "#ed7953"
            ],
            [
             0.7777777777777778,
             "#fb9f3a"
            ],
            [
             0.8888888888888888,
             "#fdca26"
            ],
            [
             1,
             "#f0f921"
            ]
           ],
           "sequentialminus": [
            [
             0,
             "#0d0887"
            ],
            [
             0.1111111111111111,
             "#46039f"
            ],
            [
             0.2222222222222222,
             "#7201a8"
            ],
            [
             0.3333333333333333,
             "#9c179e"
            ],
            [
             0.4444444444444444,
             "#bd3786"
            ],
            [
             0.5555555555555556,
             "#d8576b"
            ],
            [
             0.6666666666666666,
             "#ed7953"
            ],
            [
             0.7777777777777778,
             "#fb9f3a"
            ],
            [
             0.8888888888888888,
             "#fdca26"
            ],
            [
             1,
             "#f0f921"
            ]
           ]
          },
          "colorway": [
           "#636efa",
           "#EF553B",
           "#00cc96",
           "#ab63fa",
           "#FFA15A",
           "#19d3f3",
           "#FF6692",
           "#B6E880",
           "#FF97FF",
           "#FECB52"
          ],
          "font": {
           "color": "#2a3f5f"
          },
          "geo": {
           "bgcolor": "white",
           "lakecolor": "white",
           "landcolor": "#E5ECF6",
           "showlakes": true,
           "showland": true,
           "subunitcolor": "white"
          },
          "hoverlabel": {
           "align": "left"
          },
          "hovermode": "closest",
          "mapbox": {
           "style": "light"
          },
          "paper_bgcolor": "white",
          "plot_bgcolor": "#E5ECF6",
          "polar": {
           "angularaxis": {
            "gridcolor": "white",
            "linecolor": "white",
            "ticks": ""
           },
           "bgcolor": "#E5ECF6",
           "radialaxis": {
            "gridcolor": "white",
            "linecolor": "white",
            "ticks": ""
           }
          },
          "scene": {
           "xaxis": {
            "backgroundcolor": "#E5ECF6",
            "gridcolor": "white",
            "gridwidth": 2,
            "linecolor": "white",
            "showbackground": true,
            "ticks": "",
            "zerolinecolor": "white"
           },
           "yaxis": {
            "backgroundcolor": "#E5ECF6",
            "gridcolor": "white",
            "gridwidth": 2,
            "linecolor": "white",
            "showbackground": true,
            "ticks": "",
            "zerolinecolor": "white"
           },
           "zaxis": {
            "backgroundcolor": "#E5ECF6",
            "gridcolor": "white",
            "gridwidth": 2,
            "linecolor": "white",
            "showbackground": true,
            "ticks": "",
            "zerolinecolor": "white"
           }
          },
          "shapedefaults": {
           "line": {
            "color": "#2a3f5f"
           }
          },
          "ternary": {
           "aaxis": {
            "gridcolor": "white",
            "linecolor": "white",
            "ticks": ""
           },
           "baxis": {
            "gridcolor": "white",
            "linecolor": "white",
            "ticks": ""
           },
           "bgcolor": "#E5ECF6",
           "caxis": {
            "gridcolor": "white",
            "linecolor": "white",
            "ticks": ""
           }
          },
          "title": {
           "x": 0.05
          },
          "xaxis": {
           "automargin": true,
           "gridcolor": "white",
           "linecolor": "white",
           "ticks": "",
           "title": {
            "standoff": 15
           },
           "zerolinecolor": "white",
           "zerolinewidth": 2
          },
          "yaxis": {
           "automargin": true,
           "gridcolor": "white",
           "linecolor": "white",
           "ticks": "",
           "title": {
            "standoff": 15
           },
           "zerolinecolor": "white",
           "zerolinewidth": 2
          }
         }
        },
        "title": {
         "text": "How much can you open up to this person about your personal experiences?",
         "x": 0.955,
         "y": 0.88
        },
        "xaxis": {
         "domain": [
          0.15,
          1
         ],
         "showgrid": false,
         "showline": false,
         "showticklabels": false,
         "zeroline": false
        },
        "yaxis": {
         "showgrid": false,
         "showline": false,
         "showticklabels": false,
         "zeroline": false
        }
       }
      },
      "text/html": [
       "<div>\n",
       "        \n",
       "        \n",
       "            <div id=\"e407e80c-ac22-45d4-9d5e-a477e74539f6\" class=\"plotly-graph-div\" style=\"height:525px; width:100%;\"></div>\n",
       "            <script type=\"text/javascript\">\n",
       "                require([\"plotly\"], function(Plotly) {\n",
       "                    window.PLOTLYENV=window.PLOTLYENV || {};\n",
       "                    \n",
       "                if (document.getElementById(\"e407e80c-ac22-45d4-9d5e-a477e74539f6\")) {\n",
       "                    Plotly.newPlot(\n",
       "                        'e407e80c-ac22-45d4-9d5e-a477e74539f6',\n",
       "                        [{\"hovertemplate\": \"<b>%{x}%</b><extra></extra>\", \"marker\": {\"color\": \"#FF6478\"}, \"orientation\": \"h\", \"showlegend\": false, \"type\": \"bar\", \"x\": [0.3], \"y\": [\"Friend\"]}, {\"hovertemplate\": \"<b>%{x}%</b><extra></extra>\", \"marker\": {\"color\": \"#FF6478\"}, \"orientation\": \"h\", \"showlegend\": false, \"type\": \"bar\", \"x\": [5.6], \"y\": [\"Informal\"]}, {\"hovertemplate\": \"<b>%{x}%</b><extra></extra>\", \"marker\": {\"color\": \"#FF6478\"}, \"name\": \"Not at all\", \"orientation\": \"h\", \"showlegend\": true, \"type\": \"bar\", \"x\": [5.9], \"y\": [\"Formal\"]}, {\"hovertemplate\": \"<b>%{x}%</b><extra></extra>\", \"marker\": {\"color\": \"#FF8477\"}, \"orientation\": \"h\", \"showlegend\": false, \"type\": \"bar\", \"x\": [1.6], \"y\": [\"Friend\"]}, {\"hovertemplate\": \"<b>%{x}%</b><extra></extra>\", \"marker\": {\"color\": \"#FF8477\"}, \"orientation\": \"h\", \"showlegend\": false, \"type\": \"bar\", \"x\": [4.1], \"y\": [\"Informal\"]}, {\"hovertemplate\": \"<b>%{x}%</b><extra></extra>\", \"marker\": {\"color\": \"#FF8477\"}, \"name\": \"Rarely\", \"orientation\": \"h\", \"showlegend\": true, \"type\": \"bar\", \"x\": [4.7], \"y\": [\"Formal\"]}, {\"hovertemplate\": \"<b>%{x}%</b><extra></extra>\", \"marker\": {\"color\": \"#FF9F77\"}, \"orientation\": \"h\", \"showlegend\": false, \"type\": \"bar\", \"x\": [1.3], \"y\": [\"Friend\"]}, {\"hovertemplate\": \"<b>%{x}%</b><extra></extra>\", \"marker\": {\"color\": \"#FF9F77\"}, \"orientation\": \"h\", \"showlegend\": false, \"type\": \"bar\", \"x\": [5.1], \"y\": [\"Informal\"]}, {\"hovertemplate\": \"<b>%{x}%</b><extra></extra>\", \"marker\": {\"color\": \"#FF9F77\"}, \"name\": \"Occasionally\", \"orientation\": \"h\", \"showlegend\": true, \"type\": \"bar\", \"x\": [3.5], \"y\": [\"Formal\"]}, {\"hovertemplate\": \"<b>%{x}%</b><extra></extra>\", \"marker\": {\"color\": \"#FFB775\"}, \"orientation\": \"h\", \"showlegend\": false, \"type\": \"bar\", \"x\": [11.7], \"y\": [\"Friend\"]}, {\"hovertemplate\": \"<b>%{x}%</b><extra></extra>\", \"marker\": {\"color\": \"#FFB775\"}, \"orientation\": \"h\", \"showlegend\": false, \"type\": \"bar\", \"x\": [13.1], \"y\": [\"Informal\"]}, {\"hovertemplate\": \"<b>%{x}%</b><extra></extra>\", \"marker\": {\"color\": \"#FFB775\"}, \"name\": \"Sometimes\", \"orientation\": \"h\", \"showlegend\": true, \"type\": \"bar\", \"x\": [10.5], \"y\": [\"Formal\"]}, {\"hovertemplate\": \"<b>%{x}%</b><extra></extra>\", \"marker\": {\"color\": \"#BCF0C2\"}, \"orientation\": \"h\", \"showlegend\": false, \"type\": \"bar\", \"x\": [18.9], \"y\": [\"Friend\"]}, {\"hovertemplate\": \"<b>%{x}%</b><extra></extra>\", \"marker\": {\"color\": \"#BCF0C2\"}, \"orientation\": \"h\", \"showlegend\": false, \"type\": \"bar\", \"x\": [16.4], \"y\": [\"Informal\"]}, {\"hovertemplate\": \"<b>%{x}%</b><extra></extra>\", \"marker\": {\"color\": \"#BCF0C2\"}, \"name\": \"???\", \"orientation\": \"h\", \"showlegend\": true, \"type\": \"bar\", \"x\": [18.2], \"y\": [\"Formal\"]}, {\"hovertemplate\": \"<b>%{x}%</b><extra></extra>\", \"marker\": {\"color\": \"#8BE595\"}, \"orientation\": \"h\", \"showlegend\": false, \"type\": \"bar\", \"x\": [28.1], \"y\": [\"Friend\"]}, {\"hovertemplate\": \"<b>%{x}%</b><extra></extra>\", \"marker\": {\"color\": \"#8BE595\"}, \"orientation\": \"h\", \"showlegend\": false, \"type\": \"bar\", \"x\": [21.8], \"y\": [\"Informal\"]}, {\"hovertemplate\": \"<b>%{x}%</b><extra></extra>\", \"marker\": {\"color\": \"#8BE595\"}, \"name\": \"Often\", \"orientation\": \"h\", \"showlegend\": true, \"type\": \"bar\", \"x\": [25.1], \"y\": [\"Formal\"]}, {\"hovertemplate\": \"<b>%{x}%</b><extra></extra>\", \"marker\": {\"color\": \"#56DA65\"}, \"orientation\": \"h\", \"showlegend\": false, \"type\": \"bar\", \"x\": [38.2], \"y\": [\"Friend\"]}, {\"hovertemplate\": \"<b>%{x}%</b><extra></extra>\", \"marker\": {\"color\": \"#56DA65\"}, \"orientation\": \"h\", \"showlegend\": false, \"type\": \"bar\", \"x\": [34.0], \"y\": [\"Informal\"]}, {\"hovertemplate\": \"<b>%{x}%</b><extra></extra>\", \"marker\": {\"color\": \"#56DA65\"}, \"name\": \"A lot\", \"orientation\": \"h\", \"showlegend\": true, \"type\": \"bar\", \"x\": [32.3], \"y\": [\"Formal\"]}],\n",
       "                        {\"annotations\": [{\"align\": \"right\", \"font\": {\"color\": \"black\", \"size\": 12}, \"showarrow\": false, \"text\": \"Friend\", \"x\": 0.14, \"xanchor\": \"right\", \"xref\": \"paper\", \"y\": \"Friend\", \"yref\": \"y\"}, {\"font\": {\"color\": \"#595959\", \"size\": 12}, \"showarrow\": false, \"text\": \"11.7%\", \"x\": 9.05, \"xref\": \"x\", \"y\": \"Friend\", \"yref\": \"y\"}, {\"font\": {\"color\": \"#595959\", \"size\": 12}, \"showarrow\": false, \"text\": \"18.9%\", \"x\": 24.349999999999998, \"xref\": \"x\", \"y\": \"Friend\", \"yref\": \"y\"}, {\"font\": {\"color\": \"#595959\", \"size\": 12}, \"showarrow\": false, \"text\": \"28.1%\", \"x\": 47.849999999999994, \"xref\": \"x\", \"y\": \"Friend\", \"yref\": \"y\"}, {\"font\": {\"color\": \"#595959\", \"size\": 12}, \"showarrow\": false, \"text\": \"38.2%\", \"x\": 81.0, \"xref\": \"x\", \"y\": \"Friend\", \"yref\": \"y\"}, {\"align\": \"right\", \"font\": {\"color\": \"black\", \"size\": 12}, \"showarrow\": false, \"text\": \"Informal\", \"x\": 0.14, \"xanchor\": \"right\", \"xref\": \"paper\", \"y\": \"Informal\", \"yref\": \"y\"}, {\"font\": {\"color\": \"#595959\", \"size\": 12}, \"showarrow\": false, \"text\": \"13.1%\", \"x\": 21.349999999999998, \"xref\": \"x\", \"y\": \"Informal\", \"yref\": \"y\"}, {\"font\": {\"color\": \"#595959\", \"size\": 12}, \"showarrow\": false, \"text\": \"16.4%\", \"x\": 36.099999999999994, \"xref\": \"x\", \"y\": \"Informal\", \"yref\": \"y\"}, {\"font\": {\"color\": \"#595959\", \"size\": 12}, \"showarrow\": false, \"text\": \"21.8%\", \"x\": 55.199999999999996, \"xref\": \"x\", \"y\": \"Informal\", \"yref\": \"y\"}, {\"font\": {\"color\": \"#595959\", \"size\": 12}, \"showarrow\": false, \"text\": \"34.0%\", \"x\": 83.1, \"xref\": \"x\", \"y\": \"Informal\", \"yref\": \"y\"}, {\"align\": \"right\", \"font\": {\"color\": \"black\", \"size\": 12}, \"showarrow\": false, \"text\": \"Formal\", \"x\": 0.14, \"xanchor\": \"right\", \"xref\": \"paper\", \"y\": \"Formal\", \"yref\": \"y\"}, {\"font\": {\"color\": \"#595959\", \"size\": 12}, \"showarrow\": false, \"text\": \"10.5%\", \"x\": 19.35, \"xref\": \"x\", \"y\": \"Formal\", \"yref\": \"y\"}, {\"font\": {\"color\": \"#595959\", \"size\": 12}, \"showarrow\": false, \"text\": \"18.2%\", \"x\": 33.7, \"xref\": \"x\", \"y\": \"Formal\", \"yref\": \"y\"}, {\"font\": {\"color\": \"#595959\", \"size\": 12}, \"showarrow\": false, \"text\": \"25.1%\", \"x\": 55.349999999999994, \"xref\": \"x\", \"y\": \"Formal\", \"yref\": \"y\"}, {\"font\": {\"color\": \"#595959\", \"size\": 12}, \"showarrow\": false, \"text\": \"32.3%\", \"x\": 84.05000000000001, \"xref\": \"x\", \"y\": \"Formal\", \"yref\": \"y\"}], \"barmode\": \"stack\", \"font\": {\"color\": \"black\", \"size\": 12}, \"legend\": {\"itemclick\": false, \"orientation\": \"h\", \"traceorder\": \"normal\", \"x\": 0.94, \"xanchor\": \"right\", \"y\": 1.02, \"yanchor\": \"bottom\"}, \"margin\": {\"b\": 80, \"l\": 120, \"r\": 10, \"t\": 140}, \"paper_bgcolor\": \"rgb(248, 248, 255)\", \"plot_bgcolor\": \"rgb(248, 248, 255)\", \"template\": {\"data\": {\"bar\": [{\"error_x\": {\"color\": \"#2a3f5f\"}, \"error_y\": {\"color\": \"#2a3f5f\"}, \"marker\": {\"line\": {\"color\": \"#E5ECF6\", \"width\": 0.5}}, \"type\": \"bar\"}], \"barpolar\": [{\"marker\": {\"line\": {\"color\": \"#E5ECF6\", \"width\": 0.5}}, \"type\": \"barpolar\"}], \"carpet\": [{\"aaxis\": {\"endlinecolor\": \"#2a3f5f\", \"gridcolor\": \"white\", \"linecolor\": \"white\", \"minorgridcolor\": \"white\", \"startlinecolor\": \"#2a3f5f\"}, \"baxis\": {\"endlinecolor\": \"#2a3f5f\", \"gridcolor\": \"white\", \"linecolor\": \"white\", \"minorgridcolor\": \"white\", \"startlinecolor\": \"#2a3f5f\"}, \"type\": \"carpet\"}], \"choropleth\": [{\"colorbar\": {\"outlinewidth\": 0, \"ticks\": \"\"}, \"type\": \"choropleth\"}], \"contour\": [{\"colorbar\": {\"outlinewidth\": 0, \"ticks\": \"\"}, \"colorscale\": [[0.0, \"#0d0887\"], [0.1111111111111111, \"#46039f\"], [0.2222222222222222, \"#7201a8\"], [0.3333333333333333, \"#9c179e\"], [0.4444444444444444, \"#bd3786\"], [0.5555555555555556, \"#d8576b\"], [0.6666666666666666, \"#ed7953\"], [0.7777777777777778, \"#fb9f3a\"], [0.8888888888888888, \"#fdca26\"], [1.0, \"#f0f921\"]], \"type\": \"contour\"}], \"contourcarpet\": [{\"colorbar\": {\"outlinewidth\": 0, \"ticks\": \"\"}, \"type\": \"contourcarpet\"}], \"heatmap\": [{\"colorbar\": {\"outlinewidth\": 0, \"ticks\": \"\"}, \"colorscale\": [[0.0, \"#0d0887\"], [0.1111111111111111, \"#46039f\"], [0.2222222222222222, \"#7201a8\"], [0.3333333333333333, \"#9c179e\"], [0.4444444444444444, \"#bd3786\"], [0.5555555555555556, \"#d8576b\"], [0.6666666666666666, \"#ed7953\"], [0.7777777777777778, \"#fb9f3a\"], [0.8888888888888888, \"#fdca26\"], [1.0, \"#f0f921\"]], \"type\": \"heatmap\"}], \"heatmapgl\": [{\"colorbar\": {\"outlinewidth\": 0, \"ticks\": \"\"}, \"colorscale\": [[0.0, \"#0d0887\"], [0.1111111111111111, \"#46039f\"], [0.2222222222222222, \"#7201a8\"], [0.3333333333333333, \"#9c179e\"], [0.4444444444444444, \"#bd3786\"], [0.5555555555555556, \"#d8576b\"], [0.6666666666666666, \"#ed7953\"], [0.7777777777777778, \"#fb9f3a\"], [0.8888888888888888, \"#fdca26\"], [1.0, \"#f0f921\"]], \"type\": \"heatmapgl\"}], \"histogram\": [{\"marker\": {\"colorbar\": {\"outlinewidth\": 0, \"ticks\": \"\"}}, \"type\": \"histogram\"}], \"histogram2d\": [{\"colorbar\": {\"outlinewidth\": 0, \"ticks\": \"\"}, \"colorscale\": [[0.0, \"#0d0887\"], [0.1111111111111111, \"#46039f\"], [0.2222222222222222, \"#7201a8\"], [0.3333333333333333, \"#9c179e\"], [0.4444444444444444, \"#bd3786\"], [0.5555555555555556, \"#d8576b\"], [0.6666666666666666, \"#ed7953\"], [0.7777777777777778, \"#fb9f3a\"], [0.8888888888888888, \"#fdca26\"], [1.0, \"#f0f921\"]], \"type\": \"histogram2d\"}], \"histogram2dcontour\": [{\"colorbar\": {\"outlinewidth\": 0, \"ticks\": \"\"}, \"colorscale\": [[0.0, \"#0d0887\"], [0.1111111111111111, \"#46039f\"], [0.2222222222222222, \"#7201a8\"], [0.3333333333333333, \"#9c179e\"], [0.4444444444444444, \"#bd3786\"], [0.5555555555555556, \"#d8576b\"], [0.6666666666666666, \"#ed7953\"], [0.7777777777777778, \"#fb9f3a\"], [0.8888888888888888, \"#fdca26\"], [1.0, \"#f0f921\"]], \"type\": \"histogram2dcontour\"}], \"mesh3d\": [{\"colorbar\": {\"outlinewidth\": 0, \"ticks\": \"\"}, \"type\": \"mesh3d\"}], \"parcoords\": [{\"line\": {\"colorbar\": {\"outlinewidth\": 0, \"ticks\": \"\"}}, \"type\": \"parcoords\"}], \"pie\": [{\"automargin\": true, \"type\": \"pie\"}], \"scatter\": [{\"marker\": {\"colorbar\": {\"outlinewidth\": 0, \"ticks\": \"\"}}, \"type\": \"scatter\"}], \"scatter3d\": [{\"line\": {\"colorbar\": {\"outlinewidth\": 0, \"ticks\": \"\"}}, \"marker\": {\"colorbar\": {\"outlinewidth\": 0, \"ticks\": \"\"}}, \"type\": \"scatter3d\"}], \"scattercarpet\": [{\"marker\": {\"colorbar\": {\"outlinewidth\": 0, \"ticks\": \"\"}}, \"type\": \"scattercarpet\"}], \"scattergeo\": [{\"marker\": {\"colorbar\": {\"outlinewidth\": 0, \"ticks\": \"\"}}, \"type\": \"scattergeo\"}], \"scattergl\": [{\"marker\": {\"colorbar\": {\"outlinewidth\": 0, \"ticks\": \"\"}}, \"type\": \"scattergl\"}], \"scattermapbox\": [{\"marker\": {\"colorbar\": {\"outlinewidth\": 0, \"ticks\": \"\"}}, \"type\": \"scattermapbox\"}], \"scatterpolar\": [{\"marker\": {\"colorbar\": {\"outlinewidth\": 0, \"ticks\": \"\"}}, \"type\": \"scatterpolar\"}], \"scatterpolargl\": [{\"marker\": {\"colorbar\": {\"outlinewidth\": 0, \"ticks\": \"\"}}, \"type\": \"scatterpolargl\"}], \"scatterternary\": [{\"marker\": {\"colorbar\": {\"outlinewidth\": 0, \"ticks\": \"\"}}, \"type\": \"scatterternary\"}], \"surface\": [{\"colorbar\": {\"outlinewidth\": 0, \"ticks\": \"\"}, \"colorscale\": [[0.0, \"#0d0887\"], [0.1111111111111111, \"#46039f\"], [0.2222222222222222, \"#7201a8\"], [0.3333333333333333, \"#9c179e\"], [0.4444444444444444, \"#bd3786\"], [0.5555555555555556, \"#d8576b\"], [0.6666666666666666, \"#ed7953\"], [0.7777777777777778, \"#fb9f3a\"], [0.8888888888888888, \"#fdca26\"], [1.0, \"#f0f921\"]], \"type\": \"surface\"}], \"table\": [{\"cells\": {\"fill\": {\"color\": \"#EBF0F8\"}, \"line\": {\"color\": \"white\"}}, \"header\": {\"fill\": {\"color\": \"#C8D4E3\"}, \"line\": {\"color\": \"white\"}}, \"type\": \"table\"}]}, \"layout\": {\"annotationdefaults\": {\"arrowcolor\": \"#2a3f5f\", \"arrowhead\": 0, \"arrowwidth\": 1}, \"coloraxis\": {\"colorbar\": {\"outlinewidth\": 0, \"ticks\": \"\"}}, \"colorscale\": {\"diverging\": [[0, \"#8e0152\"], [0.1, \"#c51b7d\"], [0.2, \"#de77ae\"], [0.3, \"#f1b6da\"], [0.4, \"#fde0ef\"], [0.5, \"#f7f7f7\"], [0.6, \"#e6f5d0\"], [0.7, \"#b8e186\"], [0.8, \"#7fbc41\"], [0.9, \"#4d9221\"], [1, \"#276419\"]], \"sequential\": [[0.0, \"#0d0887\"], [0.1111111111111111, \"#46039f\"], [0.2222222222222222, \"#7201a8\"], [0.3333333333333333, \"#9c179e\"], [0.4444444444444444, \"#bd3786\"], [0.5555555555555556, \"#d8576b\"], [0.6666666666666666, \"#ed7953\"], [0.7777777777777778, \"#fb9f3a\"], [0.8888888888888888, \"#fdca26\"], [1.0, \"#f0f921\"]], \"sequentialminus\": [[0.0, \"#0d0887\"], [0.1111111111111111, \"#46039f\"], [0.2222222222222222, \"#7201a8\"], [0.3333333333333333, \"#9c179e\"], [0.4444444444444444, \"#bd3786\"], [0.5555555555555556, \"#d8576b\"], [0.6666666666666666, \"#ed7953\"], [0.7777777777777778, \"#fb9f3a\"], [0.8888888888888888, \"#fdca26\"], [1.0, \"#f0f921\"]]}, \"colorway\": [\"#636efa\", \"#EF553B\", \"#00cc96\", \"#ab63fa\", \"#FFA15A\", \"#19d3f3\", \"#FF6692\", \"#B6E880\", \"#FF97FF\", \"#FECB52\"], \"font\": {\"color\": \"#2a3f5f\"}, \"geo\": {\"bgcolor\": \"white\", \"lakecolor\": \"white\", \"landcolor\": \"#E5ECF6\", \"showlakes\": true, \"showland\": true, \"subunitcolor\": \"white\"}, \"hoverlabel\": {\"align\": \"left\"}, \"hovermode\": \"closest\", \"mapbox\": {\"style\": \"light\"}, \"paper_bgcolor\": \"white\", \"plot_bgcolor\": \"#E5ECF6\", \"polar\": {\"angularaxis\": {\"gridcolor\": \"white\", \"linecolor\": \"white\", \"ticks\": \"\"}, \"bgcolor\": \"#E5ECF6\", \"radialaxis\": {\"gridcolor\": \"white\", \"linecolor\": \"white\", \"ticks\": \"\"}}, \"scene\": {\"xaxis\": {\"backgroundcolor\": \"#E5ECF6\", \"gridcolor\": \"white\", \"gridwidth\": 2, \"linecolor\": \"white\", \"showbackground\": true, \"ticks\": \"\", \"zerolinecolor\": \"white\"}, \"yaxis\": {\"backgroundcolor\": \"#E5ECF6\", \"gridcolor\": \"white\", \"gridwidth\": 2, \"linecolor\": \"white\", \"showbackground\": true, \"ticks\": \"\", \"zerolinecolor\": \"white\"}, \"zaxis\": {\"backgroundcolor\": \"#E5ECF6\", \"gridcolor\": \"white\", \"gridwidth\": 2, \"linecolor\": \"white\", \"showbackground\": true, \"ticks\": \"\", \"zerolinecolor\": \"white\"}}, \"shapedefaults\": {\"line\": {\"color\": \"#2a3f5f\"}}, \"ternary\": {\"aaxis\": {\"gridcolor\": \"white\", \"linecolor\": \"white\", \"ticks\": \"\"}, \"baxis\": {\"gridcolor\": \"white\", \"linecolor\": \"white\", \"ticks\": \"\"}, \"bgcolor\": \"#E5ECF6\", \"caxis\": {\"gridcolor\": \"white\", \"linecolor\": \"white\", \"ticks\": \"\"}}, \"title\": {\"x\": 0.05}, \"xaxis\": {\"automargin\": true, \"gridcolor\": \"white\", \"linecolor\": \"white\", \"ticks\": \"\", \"title\": {\"standoff\": 15}, \"zerolinecolor\": \"white\", \"zerolinewidth\": 2}, \"yaxis\": {\"automargin\": true, \"gridcolor\": \"white\", \"linecolor\": \"white\", \"ticks\": \"\", \"title\": {\"standoff\": 15}, \"zerolinecolor\": \"white\", \"zerolinewidth\": 2}}}, \"title\": {\"text\": \"How much can you open up to this person about your personal experiences?\", \"x\": 0.955, \"y\": 0.88}, \"xaxis\": {\"domain\": [0.15, 1], \"showgrid\": false, \"showline\": false, \"showticklabels\": false, \"zeroline\": false}, \"yaxis\": {\"showgrid\": false, \"showline\": false, \"showticklabels\": false, \"zeroline\": false}},\n",
       "                        {\"displayModeBar\": false, \"responsive\": true}\n",
       "                    ).then(function(){\n",
       "                            \n",
       "var gd = document.getElementById('e407e80c-ac22-45d4-9d5e-a477e74539f6');\n",
       "var x = new MutationObserver(function (mutations, observer) {{\n",
       "        var display = window.getComputedStyle(gd).display;\n",
       "        if (!display || display === 'none') {{\n",
       "            console.log([gd, 'removed!']);\n",
       "            Plotly.purge(gd);\n",
       "            observer.disconnect();\n",
       "        }}\n",
       "}});\n",
       "\n",
       "// Listen for the removal of the full notebook cells\n",
       "var notebookContainer = gd.closest('#notebook-container');\n",
       "if (notebookContainer) {{\n",
       "    x.observe(notebookContainer, {childList: true});\n",
       "}}\n",
       "\n",
       "// Listen for the clearing of the current output cell\n",
       "var outputEl = gd.closest('.output');\n",
       "if (outputEl) {{\n",
       "    x.observe(outputEl, {childList: true});\n",
       "}}\n",
       "\n",
       "                        })\n",
       "                };\n",
       "                });\n",
       "            </script>\n",
       "        </div>"
      ]
     },
     "metadata": {},
     "output_type": "display_data"
    }
   ],
   "source": [
    "vertical_stack_percent_bar('disclose.open.p', 'How much can you open up to this person about your personal experiences?')"
   ]
  },
  {
   "cell_type": "code",
   "execution_count": 45,
   "metadata": {},
   "outputs": [
    {
     "data": {
      "application/vnd.plotly.v1+json": {
       "config": {
        "displayModeBar": false,
        "plotlyServerURL": "https://plotly.com"
       },
       "data": [
        {
         "hovertemplate": "<b>%{x}%</b><extra></extra>",
         "marker": {
          "color": "#FF6478"
         },
         "orientation": "h",
         "showlegend": false,
         "type": "bar",
         "x": [
          0.6
         ],
         "y": [
          "Friend"
         ]
        },
        {
         "hovertemplate": "<b>%{x}%</b><extra></extra>",
         "marker": {
          "color": "#FF6478"
         },
         "orientation": "h",
         "showlegend": false,
         "type": "bar",
         "x": [
          5.3
         ],
         "y": [
          "Informal"
         ]
        },
        {
         "hovertemplate": "<b>%{x}%</b><extra></extra>",
         "marker": {
          "color": "#FF6478"
         },
         "name": "Not at all",
         "orientation": "h",
         "showlegend": true,
         "type": "bar",
         "x": [
          31.8
         ],
         "y": [
          "Formal"
         ]
        },
        {
         "hovertemplate": "<b>%{x}%</b><extra></extra>",
         "marker": {
          "color": "#FF8477"
         },
         "orientation": "h",
         "showlegend": false,
         "type": "bar",
         "x": [
          1.3
         ],
         "y": [
          "Friend"
         ]
        },
        {
         "hovertemplate": "<b>%{x}%</b><extra></extra>",
         "marker": {
          "color": "#FF8477"
         },
         "orientation": "h",
         "showlegend": false,
         "type": "bar",
         "x": [
          6
         ],
         "y": [
          "Informal"
         ]
        },
        {
         "hovertemplate": "<b>%{x}%</b><extra></extra>",
         "marker": {
          "color": "#FF8477"
         },
         "name": "Rarely",
         "orientation": "h",
         "showlegend": true,
         "type": "bar",
         "x": [
          13.3
         ],
         "y": [
          "Formal"
         ]
        },
        {
         "hovertemplate": "<b>%{x}%</b><extra></extra>",
         "marker": {
          "color": "#FF9F77"
         },
         "orientation": "h",
         "showlegend": false,
         "type": "bar",
         "x": [
          2.5
         ],
         "y": [
          "Friend"
         ]
        },
        {
         "hovertemplate": "<b>%{x}%</b><extra></extra>",
         "marker": {
          "color": "#FF9F77"
         },
         "orientation": "h",
         "showlegend": false,
         "type": "bar",
         "x": [
          5.5
         ],
         "y": [
          "Informal"
         ]
        },
        {
         "hovertemplate": "<b>%{x}%</b><extra></extra>",
         "marker": {
          "color": "#FF9F77"
         },
         "name": "Occasionally",
         "orientation": "h",
         "showlegend": true,
         "type": "bar",
         "x": [
          10.3
         ],
         "y": [
          "Formal"
         ]
        },
        {
         "hovertemplate": "<b>%{x}%</b><extra></extra>",
         "marker": {
          "color": "#FFB775"
         },
         "orientation": "h",
         "showlegend": false,
         "type": "bar",
         "x": [
          14.5
         ],
         "y": [
          "Friend"
         ]
        },
        {
         "hovertemplate": "<b>%{x}%</b><extra></extra>",
         "marker": {
          "color": "#FFB775"
         },
         "orientation": "h",
         "showlegend": false,
         "type": "bar",
         "x": [
          16.7
         ],
         "y": [
          "Informal"
         ]
        },
        {
         "hovertemplate": "<b>%{x}%</b><extra></extra>",
         "marker": {
          "color": "#FFB775"
         },
         "name": "Sometimes",
         "orientation": "h",
         "showlegend": true,
         "type": "bar",
         "x": [
          17.1
         ],
         "y": [
          "Formal"
         ]
        },
        {
         "hovertemplate": "<b>%{x}%</b><extra></extra>",
         "marker": {
          "color": "#BCF0C2"
         },
         "orientation": "h",
         "showlegend": false,
         "type": "bar",
         "x": [
          17.4
         ],
         "y": [
          "Friend"
         ]
        },
        {
         "hovertemplate": "<b>%{x}%</b><extra></extra>",
         "marker": {
          "color": "#BCF0C2"
         },
         "orientation": "h",
         "showlegend": false,
         "type": "bar",
         "x": [
          18.5
         ],
         "y": [
          "Informal"
         ]
        },
        {
         "hovertemplate": "<b>%{x}%</b><extra></extra>",
         "marker": {
          "color": "#BCF0C2"
         },
         "name": "???",
         "orientation": "h",
         "showlegend": true,
         "type": "bar",
         "x": [
          11
         ],
         "y": [
          "Formal"
         ]
        },
        {
         "hovertemplate": "<b>%{x}%</b><extra></extra>",
         "marker": {
          "color": "#8BE595"
         },
         "orientation": "h",
         "showlegend": false,
         "type": "bar",
         "x": [
          25.9
         ],
         "y": [
          "Friend"
         ]
        },
        {
         "hovertemplate": "<b>%{x}%</b><extra></extra>",
         "marker": {
          "color": "#8BE595"
         },
         "orientation": "h",
         "showlegend": false,
         "type": "bar",
         "x": [
          23.4
         ],
         "y": [
          "Informal"
         ]
        },
        {
         "hovertemplate": "<b>%{x}%</b><extra></extra>",
         "marker": {
          "color": "#8BE595"
         },
         "name": "Often",
         "orientation": "h",
         "showlegend": true,
         "type": "bar",
         "x": [
          9.9
         ],
         "y": [
          "Formal"
         ]
        },
        {
         "hovertemplate": "<b>%{x}%</b><extra></extra>",
         "marker": {
          "color": "#56DA65"
         },
         "orientation": "h",
         "showlegend": false,
         "type": "bar",
         "x": [
          37.9
         ],
         "y": [
          "Friend"
         ]
        },
        {
         "hovertemplate": "<b>%{x}%</b><extra></extra>",
         "marker": {
          "color": "#56DA65"
         },
         "orientation": "h",
         "showlegend": false,
         "type": "bar",
         "x": [
          24.6
         ],
         "y": [
          "Informal"
         ]
        },
        {
         "hovertemplate": "<b>%{x}%</b><extra></extra>",
         "marker": {
          "color": "#56DA65"
         },
         "name": "A lot",
         "orientation": "h",
         "showlegend": true,
         "type": "bar",
         "x": [
          6.7
         ],
         "y": [
          "Formal"
         ]
        }
       ],
       "layout": {
        "annotations": [
         {
          "align": "right",
          "font": {
           "color": "black",
           "size": 12
          },
          "showarrow": false,
          "text": "Friend",
          "x": 0.14,
          "xanchor": "right",
          "xref": "paper",
          "y": "Friend",
          "yref": "y"
         },
         {
          "font": {
           "color": "#595959",
           "size": 12
          },
          "showarrow": false,
          "text": "14.5%",
          "x": 11.65,
          "xref": "x",
          "y": "Friend",
          "yref": "y"
         },
         {
          "font": {
           "color": "#595959",
           "size": 12
          },
          "showarrow": false,
          "text": "17.4%",
          "x": 27.599999999999998,
          "xref": "x",
          "y": "Friend",
          "yref": "y"
         },
         {
          "font": {
           "color": "#595959",
           "size": 12
          },
          "showarrow": false,
          "text": "25.9%",
          "x": 49.25,
          "xref": "x",
          "y": "Friend",
          "yref": "y"
         },
         {
          "font": {
           "color": "#595959",
           "size": 12
          },
          "showarrow": false,
          "text": "37.9%",
          "x": 81.14999999999999,
          "xref": "x",
          "y": "Friend",
          "yref": "y"
         },
         {
          "align": "right",
          "font": {
           "color": "black",
           "size": 12
          },
          "showarrow": false,
          "text": "Informal",
          "x": 0.14,
          "xanchor": "right",
          "xref": "paper",
          "y": "Informal",
          "yref": "y"
         },
         {
          "font": {
           "color": "#595959",
           "size": 12
          },
          "showarrow": false,
          "text": "16.7%",
          "x": 25.15,
          "xref": "x",
          "y": "Informal",
          "yref": "y"
         },
         {
          "font": {
           "color": "#595959",
           "size": 12
          },
          "showarrow": false,
          "text": "18.5%",
          "x": 42.75,
          "xref": "x",
          "y": "Informal",
          "yref": "y"
         },
         {
          "font": {
           "color": "#595959",
           "size": 12
          },
          "showarrow": false,
          "text": "23.4%",
          "x": 63.7,
          "xref": "x",
          "y": "Informal",
          "yref": "y"
         },
         {
          "font": {
           "color": "#595959",
           "size": 12
          },
          "showarrow": false,
          "text": "24.6%",
          "x": 87.7,
          "xref": "x",
          "y": "Informal",
          "yref": "y"
         },
         {
          "align": "right",
          "font": {
           "color": "black",
           "size": 12
          },
          "showarrow": false,
          "text": "Formal",
          "x": 0.14,
          "xanchor": "right",
          "xref": "paper",
          "y": "Formal",
          "yref": "y"
         },
         {
          "font": {
           "color": "#595959",
           "size": 12
          },
          "showarrow": false,
          "text": "31.8%",
          "x": 15.9,
          "xref": "x",
          "y": "Formal",
          "yref": "y"
         },
         {
          "font": {
           "color": "#595959",
           "size": 12
          },
          "showarrow": false,
          "text": "13.3%",
          "x": 38.45,
          "xref": "x",
          "y": "Formal",
          "yref": "y"
         },
         {
          "font": {
           "color": "#595959",
           "size": 12
          },
          "showarrow": false,
          "text": "10.3%",
          "x": 50.25,
          "xref": "x",
          "y": "Formal",
          "yref": "y"
         },
         {
          "font": {
           "color": "#595959",
           "size": 12
          },
          "showarrow": false,
          "text": "17.1%",
          "x": 63.95,
          "xref": "x",
          "y": "Formal",
          "yref": "y"
         },
         {
          "font": {
           "color": "#595959",
           "size": 12
          },
          "showarrow": false,
          "text": "11.0%",
          "x": 78,
          "xref": "x",
          "y": "Formal",
          "yref": "y"
         },
         {
          "font": {
           "color": "#595959",
           "size": 12
          },
          "showarrow": false,
          "text": "9.9%",
          "x": 88.45,
          "xref": "x",
          "y": "Formal",
          "yref": "y"
         }
        ],
        "barmode": "stack",
        "font": {
         "color": "black",
         "size": 12
        },
        "legend": {
         "itemclick": false,
         "orientation": "h",
         "traceorder": "normal",
         "x": 0.94,
         "xanchor": "right",
         "y": 1.02,
         "yanchor": "bottom"
        },
        "margin": {
         "b": 80,
         "l": 120,
         "r": 10,
         "t": 140
        },
        "paper_bgcolor": "rgb(248, 248, 255)",
        "plot_bgcolor": "rgb(248, 248, 255)",
        "template": {
         "data": {
          "bar": [
           {
            "error_x": {
             "color": "#2a3f5f"
            },
            "error_y": {
             "color": "#2a3f5f"
            },
            "marker": {
             "line": {
              "color": "#E5ECF6",
              "width": 0.5
             }
            },
            "type": "bar"
           }
          ],
          "barpolar": [
           {
            "marker": {
             "line": {
              "color": "#E5ECF6",
              "width": 0.5
             }
            },
            "type": "barpolar"
           }
          ],
          "carpet": [
           {
            "aaxis": {
             "endlinecolor": "#2a3f5f",
             "gridcolor": "white",
             "linecolor": "white",
             "minorgridcolor": "white",
             "startlinecolor": "#2a3f5f"
            },
            "baxis": {
             "endlinecolor": "#2a3f5f",
             "gridcolor": "white",
             "linecolor": "white",
             "minorgridcolor": "white",
             "startlinecolor": "#2a3f5f"
            },
            "type": "carpet"
           }
          ],
          "choropleth": [
           {
            "colorbar": {
             "outlinewidth": 0,
             "ticks": ""
            },
            "type": "choropleth"
           }
          ],
          "contour": [
           {
            "colorbar": {
             "outlinewidth": 0,
             "ticks": ""
            },
            "colorscale": [
             [
              0,
              "#0d0887"
             ],
             [
              0.1111111111111111,
              "#46039f"
             ],
             [
              0.2222222222222222,
              "#7201a8"
             ],
             [
              0.3333333333333333,
              "#9c179e"
             ],
             [
              0.4444444444444444,
              "#bd3786"
             ],
             [
              0.5555555555555556,
              "#d8576b"
             ],
             [
              0.6666666666666666,
              "#ed7953"
             ],
             [
              0.7777777777777778,
              "#fb9f3a"
             ],
             [
              0.8888888888888888,
              "#fdca26"
             ],
             [
              1,
              "#f0f921"
             ]
            ],
            "type": "contour"
           }
          ],
          "contourcarpet": [
           {
            "colorbar": {
             "outlinewidth": 0,
             "ticks": ""
            },
            "type": "contourcarpet"
           }
          ],
          "heatmap": [
           {
            "colorbar": {
             "outlinewidth": 0,
             "ticks": ""
            },
            "colorscale": [
             [
              0,
              "#0d0887"
             ],
             [
              0.1111111111111111,
              "#46039f"
             ],
             [
              0.2222222222222222,
              "#7201a8"
             ],
             [
              0.3333333333333333,
              "#9c179e"
             ],
             [
              0.4444444444444444,
              "#bd3786"
             ],
             [
              0.5555555555555556,
              "#d8576b"
             ],
             [
              0.6666666666666666,
              "#ed7953"
             ],
             [
              0.7777777777777778,
              "#fb9f3a"
             ],
             [
              0.8888888888888888,
              "#fdca26"
             ],
             [
              1,
              "#f0f921"
             ]
            ],
            "type": "heatmap"
           }
          ],
          "heatmapgl": [
           {
            "colorbar": {
             "outlinewidth": 0,
             "ticks": ""
            },
            "colorscale": [
             [
              0,
              "#0d0887"
             ],
             [
              0.1111111111111111,
              "#46039f"
             ],
             [
              0.2222222222222222,
              "#7201a8"
             ],
             [
              0.3333333333333333,
              "#9c179e"
             ],
             [
              0.4444444444444444,
              "#bd3786"
             ],
             [
              0.5555555555555556,
              "#d8576b"
             ],
             [
              0.6666666666666666,
              "#ed7953"
             ],
             [
              0.7777777777777778,
              "#fb9f3a"
             ],
             [
              0.8888888888888888,
              "#fdca26"
             ],
             [
              1,
              "#f0f921"
             ]
            ],
            "type": "heatmapgl"
           }
          ],
          "histogram": [
           {
            "marker": {
             "colorbar": {
              "outlinewidth": 0,
              "ticks": ""
             }
            },
            "type": "histogram"
           }
          ],
          "histogram2d": [
           {
            "colorbar": {
             "outlinewidth": 0,
             "ticks": ""
            },
            "colorscale": [
             [
              0,
              "#0d0887"
             ],
             [
              0.1111111111111111,
              "#46039f"
             ],
             [
              0.2222222222222222,
              "#7201a8"
             ],
             [
              0.3333333333333333,
              "#9c179e"
             ],
             [
              0.4444444444444444,
              "#bd3786"
             ],
             [
              0.5555555555555556,
              "#d8576b"
             ],
             [
              0.6666666666666666,
              "#ed7953"
             ],
             [
              0.7777777777777778,
              "#fb9f3a"
             ],
             [
              0.8888888888888888,
              "#fdca26"
             ],
             [
              1,
              "#f0f921"
             ]
            ],
            "type": "histogram2d"
           }
          ],
          "histogram2dcontour": [
           {
            "colorbar": {
             "outlinewidth": 0,
             "ticks": ""
            },
            "colorscale": [
             [
              0,
              "#0d0887"
             ],
             [
              0.1111111111111111,
              "#46039f"
             ],
             [
              0.2222222222222222,
              "#7201a8"
             ],
             [
              0.3333333333333333,
              "#9c179e"
             ],
             [
              0.4444444444444444,
              "#bd3786"
             ],
             [
              0.5555555555555556,
              "#d8576b"
             ],
             [
              0.6666666666666666,
              "#ed7953"
             ],
             [
              0.7777777777777778,
              "#fb9f3a"
             ],
             [
              0.8888888888888888,
              "#fdca26"
             ],
             [
              1,
              "#f0f921"
             ]
            ],
            "type": "histogram2dcontour"
           }
          ],
          "mesh3d": [
           {
            "colorbar": {
             "outlinewidth": 0,
             "ticks": ""
            },
            "type": "mesh3d"
           }
          ],
          "parcoords": [
           {
            "line": {
             "colorbar": {
              "outlinewidth": 0,
              "ticks": ""
             }
            },
            "type": "parcoords"
           }
          ],
          "pie": [
           {
            "automargin": true,
            "type": "pie"
           }
          ],
          "scatter": [
           {
            "marker": {
             "colorbar": {
              "outlinewidth": 0,
              "ticks": ""
             }
            },
            "type": "scatter"
           }
          ],
          "scatter3d": [
           {
            "line": {
             "colorbar": {
              "outlinewidth": 0,
              "ticks": ""
             }
            },
            "marker": {
             "colorbar": {
              "outlinewidth": 0,
              "ticks": ""
             }
            },
            "type": "scatter3d"
           }
          ],
          "scattercarpet": [
           {
            "marker": {
             "colorbar": {
              "outlinewidth": 0,
              "ticks": ""
             }
            },
            "type": "scattercarpet"
           }
          ],
          "scattergeo": [
           {
            "marker": {
             "colorbar": {
              "outlinewidth": 0,
              "ticks": ""
             }
            },
            "type": "scattergeo"
           }
          ],
          "scattergl": [
           {
            "marker": {
             "colorbar": {
              "outlinewidth": 0,
              "ticks": ""
             }
            },
            "type": "scattergl"
           }
          ],
          "scattermapbox": [
           {
            "marker": {
             "colorbar": {
              "outlinewidth": 0,
              "ticks": ""
             }
            },
            "type": "scattermapbox"
           }
          ],
          "scatterpolar": [
           {
            "marker": {
             "colorbar": {
              "outlinewidth": 0,
              "ticks": ""
             }
            },
            "type": "scatterpolar"
           }
          ],
          "scatterpolargl": [
           {
            "marker": {
             "colorbar": {
              "outlinewidth": 0,
              "ticks": ""
             }
            },
            "type": "scatterpolargl"
           }
          ],
          "scatterternary": [
           {
            "marker": {
             "colorbar": {
              "outlinewidth": 0,
              "ticks": ""
             }
            },
            "type": "scatterternary"
           }
          ],
          "surface": [
           {
            "colorbar": {
             "outlinewidth": 0,
             "ticks": ""
            },
            "colorscale": [
             [
              0,
              "#0d0887"
             ],
             [
              0.1111111111111111,
              "#46039f"
             ],
             [
              0.2222222222222222,
              "#7201a8"
             ],
             [
              0.3333333333333333,
              "#9c179e"
             ],
             [
              0.4444444444444444,
              "#bd3786"
             ],
             [
              0.5555555555555556,
              "#d8576b"
             ],
             [
              0.6666666666666666,
              "#ed7953"
             ],
             [
              0.7777777777777778,
              "#fb9f3a"
             ],
             [
              0.8888888888888888,
              "#fdca26"
             ],
             [
              1,
              "#f0f921"
             ]
            ],
            "type": "surface"
           }
          ],
          "table": [
           {
            "cells": {
             "fill": {
              "color": "#EBF0F8"
             },
             "line": {
              "color": "white"
             }
            },
            "header": {
             "fill": {
              "color": "#C8D4E3"
             },
             "line": {
              "color": "white"
             }
            },
            "type": "table"
           }
          ]
         },
         "layout": {
          "annotationdefaults": {
           "arrowcolor": "#2a3f5f",
           "arrowhead": 0,
           "arrowwidth": 1
          },
          "coloraxis": {
           "colorbar": {
            "outlinewidth": 0,
            "ticks": ""
           }
          },
          "colorscale": {
           "diverging": [
            [
             0,
             "#8e0152"
            ],
            [
             0.1,
             "#c51b7d"
            ],
            [
             0.2,
             "#de77ae"
            ],
            [
             0.3,
             "#f1b6da"
            ],
            [
             0.4,
             "#fde0ef"
            ],
            [
             0.5,
             "#f7f7f7"
            ],
            [
             0.6,
             "#e6f5d0"
            ],
            [
             0.7,
             "#b8e186"
            ],
            [
             0.8,
             "#7fbc41"
            ],
            [
             0.9,
             "#4d9221"
            ],
            [
             1,
             "#276419"
            ]
           ],
           "sequential": [
            [
             0,
             "#0d0887"
            ],
            [
             0.1111111111111111,
             "#46039f"
            ],
            [
             0.2222222222222222,
             "#7201a8"
            ],
            [
             0.3333333333333333,
             "#9c179e"
            ],
            [
             0.4444444444444444,
             "#bd3786"
            ],
            [
             0.5555555555555556,
             "#d8576b"
            ],
            [
             0.6666666666666666,
             "#ed7953"
            ],
            [
             0.7777777777777778,
             "#fb9f3a"
            ],
            [
             0.8888888888888888,
             "#fdca26"
            ],
            [
             1,
             "#f0f921"
            ]
           ],
           "sequentialminus": [
            [
             0,
             "#0d0887"
            ],
            [
             0.1111111111111111,
             "#46039f"
            ],
            [
             0.2222222222222222,
             "#7201a8"
            ],
            [
             0.3333333333333333,
             "#9c179e"
            ],
            [
             0.4444444444444444,
             "#bd3786"
            ],
            [
             0.5555555555555556,
             "#d8576b"
            ],
            [
             0.6666666666666666,
             "#ed7953"
            ],
            [
             0.7777777777777778,
             "#fb9f3a"
            ],
            [
             0.8888888888888888,
             "#fdca26"
            ],
            [
             1,
             "#f0f921"
            ]
           ]
          },
          "colorway": [
           "#636efa",
           "#EF553B",
           "#00cc96",
           "#ab63fa",
           "#FFA15A",
           "#19d3f3",
           "#FF6692",
           "#B6E880",
           "#FF97FF",
           "#FECB52"
          ],
          "font": {
           "color": "#2a3f5f"
          },
          "geo": {
           "bgcolor": "white",
           "lakecolor": "white",
           "landcolor": "#E5ECF6",
           "showlakes": true,
           "showland": true,
           "subunitcolor": "white"
          },
          "hoverlabel": {
           "align": "left"
          },
          "hovermode": "closest",
          "mapbox": {
           "style": "light"
          },
          "paper_bgcolor": "white",
          "plot_bgcolor": "#E5ECF6",
          "polar": {
           "angularaxis": {
            "gridcolor": "white",
            "linecolor": "white",
            "ticks": ""
           },
           "bgcolor": "#E5ECF6",
           "radialaxis": {
            "gridcolor": "white",
            "linecolor": "white",
            "ticks": ""
           }
          },
          "scene": {
           "xaxis": {
            "backgroundcolor": "#E5ECF6",
            "gridcolor": "white",
            "gridwidth": 2,
            "linecolor": "white",
            "showbackground": true,
            "ticks": "",
            "zerolinecolor": "white"
           },
           "yaxis": {
            "backgroundcolor": "#E5ECF6",
            "gridcolor": "white",
            "gridwidth": 2,
            "linecolor": "white",
            "showbackground": true,
            "ticks": "",
            "zerolinecolor": "white"
           },
           "zaxis": {
            "backgroundcolor": "#E5ECF6",
            "gridcolor": "white",
            "gridwidth": 2,
            "linecolor": "white",
            "showbackground": true,
            "ticks": "",
            "zerolinecolor": "white"
           }
          },
          "shapedefaults": {
           "line": {
            "color": "#2a3f5f"
           }
          },
          "ternary": {
           "aaxis": {
            "gridcolor": "white",
            "linecolor": "white",
            "ticks": ""
           },
           "baxis": {
            "gridcolor": "white",
            "linecolor": "white",
            "ticks": ""
           },
           "bgcolor": "#E5ECF6",
           "caxis": {
            "gridcolor": "white",
            "linecolor": "white",
            "ticks": ""
           }
          },
          "title": {
           "x": 0.05
          },
          "xaxis": {
           "automargin": true,
           "gridcolor": "white",
           "linecolor": "white",
           "ticks": "",
           "title": {
            "standoff": 15
           },
           "zerolinecolor": "white",
           "zerolinewidth": 2
          },
          "yaxis": {
           "automargin": true,
           "gridcolor": "white",
           "linecolor": "white",
           "ticks": "",
           "title": {
            "standoff": 15
           },
           "zerolinecolor": "white",
           "zerolinewidth": 2
          }
         }
        },
        "title": {
         "text": "How much does this person open up to you about their personal experiences?",
         "x": 0.955,
         "y": 0.88
        },
        "xaxis": {
         "domain": [
          0.15,
          1
         ],
         "showgrid": false,
         "showline": false,
         "showticklabels": false,
         "zeroline": false
        },
        "yaxis": {
         "showgrid": false,
         "showline": false,
         "showticklabels": false,
         "zeroline": false
        }
       }
      },
      "text/html": [
       "<div>\n",
       "        \n",
       "        \n",
       "            <div id=\"2523fb11-946f-469e-801f-8e62c776f344\" class=\"plotly-graph-div\" style=\"height:525px; width:100%;\"></div>\n",
       "            <script type=\"text/javascript\">\n",
       "                require([\"plotly\"], function(Plotly) {\n",
       "                    window.PLOTLYENV=window.PLOTLYENV || {};\n",
       "                    \n",
       "                if (document.getElementById(\"2523fb11-946f-469e-801f-8e62c776f344\")) {\n",
       "                    Plotly.newPlot(\n",
       "                        '2523fb11-946f-469e-801f-8e62c776f344',\n",
       "                        [{\"hovertemplate\": \"<b>%{x}%</b><extra></extra>\", \"marker\": {\"color\": \"#FF6478\"}, \"orientation\": \"h\", \"showlegend\": false, \"type\": \"bar\", \"x\": [0.6], \"y\": [\"Friend\"]}, {\"hovertemplate\": \"<b>%{x}%</b><extra></extra>\", \"marker\": {\"color\": \"#FF6478\"}, \"orientation\": \"h\", \"showlegend\": false, \"type\": \"bar\", \"x\": [5.3], \"y\": [\"Informal\"]}, {\"hovertemplate\": \"<b>%{x}%</b><extra></extra>\", \"marker\": {\"color\": \"#FF6478\"}, \"name\": \"Not at all\", \"orientation\": \"h\", \"showlegend\": true, \"type\": \"bar\", \"x\": [31.8], \"y\": [\"Formal\"]}, {\"hovertemplate\": \"<b>%{x}%</b><extra></extra>\", \"marker\": {\"color\": \"#FF8477\"}, \"orientation\": \"h\", \"showlegend\": false, \"type\": \"bar\", \"x\": [1.3], \"y\": [\"Friend\"]}, {\"hovertemplate\": \"<b>%{x}%</b><extra></extra>\", \"marker\": {\"color\": \"#FF8477\"}, \"orientation\": \"h\", \"showlegend\": false, \"type\": \"bar\", \"x\": [6.0], \"y\": [\"Informal\"]}, {\"hovertemplate\": \"<b>%{x}%</b><extra></extra>\", \"marker\": {\"color\": \"#FF8477\"}, \"name\": \"Rarely\", \"orientation\": \"h\", \"showlegend\": true, \"type\": \"bar\", \"x\": [13.3], \"y\": [\"Formal\"]}, {\"hovertemplate\": \"<b>%{x}%</b><extra></extra>\", \"marker\": {\"color\": \"#FF9F77\"}, \"orientation\": \"h\", \"showlegend\": false, \"type\": \"bar\", \"x\": [2.5], \"y\": [\"Friend\"]}, {\"hovertemplate\": \"<b>%{x}%</b><extra></extra>\", \"marker\": {\"color\": \"#FF9F77\"}, \"orientation\": \"h\", \"showlegend\": false, \"type\": \"bar\", \"x\": [5.5], \"y\": [\"Informal\"]}, {\"hovertemplate\": \"<b>%{x}%</b><extra></extra>\", \"marker\": {\"color\": \"#FF9F77\"}, \"name\": \"Occasionally\", \"orientation\": \"h\", \"showlegend\": true, \"type\": \"bar\", \"x\": [10.3], \"y\": [\"Formal\"]}, {\"hovertemplate\": \"<b>%{x}%</b><extra></extra>\", \"marker\": {\"color\": \"#FFB775\"}, \"orientation\": \"h\", \"showlegend\": false, \"type\": \"bar\", \"x\": [14.5], \"y\": [\"Friend\"]}, {\"hovertemplate\": \"<b>%{x}%</b><extra></extra>\", \"marker\": {\"color\": \"#FFB775\"}, \"orientation\": \"h\", \"showlegend\": false, \"type\": \"bar\", \"x\": [16.7], \"y\": [\"Informal\"]}, {\"hovertemplate\": \"<b>%{x}%</b><extra></extra>\", \"marker\": {\"color\": \"#FFB775\"}, \"name\": \"Sometimes\", \"orientation\": \"h\", \"showlegend\": true, \"type\": \"bar\", \"x\": [17.1], \"y\": [\"Formal\"]}, {\"hovertemplate\": \"<b>%{x}%</b><extra></extra>\", \"marker\": {\"color\": \"#BCF0C2\"}, \"orientation\": \"h\", \"showlegend\": false, \"type\": \"bar\", \"x\": [17.4], \"y\": [\"Friend\"]}, {\"hovertemplate\": \"<b>%{x}%</b><extra></extra>\", \"marker\": {\"color\": \"#BCF0C2\"}, \"orientation\": \"h\", \"showlegend\": false, \"type\": \"bar\", \"x\": [18.5], \"y\": [\"Informal\"]}, {\"hovertemplate\": \"<b>%{x}%</b><extra></extra>\", \"marker\": {\"color\": \"#BCF0C2\"}, \"name\": \"???\", \"orientation\": \"h\", \"showlegend\": true, \"type\": \"bar\", \"x\": [11.0], \"y\": [\"Formal\"]}, {\"hovertemplate\": \"<b>%{x}%</b><extra></extra>\", \"marker\": {\"color\": \"#8BE595\"}, \"orientation\": \"h\", \"showlegend\": false, \"type\": \"bar\", \"x\": [25.9], \"y\": [\"Friend\"]}, {\"hovertemplate\": \"<b>%{x}%</b><extra></extra>\", \"marker\": {\"color\": \"#8BE595\"}, \"orientation\": \"h\", \"showlegend\": false, \"type\": \"bar\", \"x\": [23.4], \"y\": [\"Informal\"]}, {\"hovertemplate\": \"<b>%{x}%</b><extra></extra>\", \"marker\": {\"color\": \"#8BE595\"}, \"name\": \"Often\", \"orientation\": \"h\", \"showlegend\": true, \"type\": \"bar\", \"x\": [9.9], \"y\": [\"Formal\"]}, {\"hovertemplate\": \"<b>%{x}%</b><extra></extra>\", \"marker\": {\"color\": \"#56DA65\"}, \"orientation\": \"h\", \"showlegend\": false, \"type\": \"bar\", \"x\": [37.9], \"y\": [\"Friend\"]}, {\"hovertemplate\": \"<b>%{x}%</b><extra></extra>\", \"marker\": {\"color\": \"#56DA65\"}, \"orientation\": \"h\", \"showlegend\": false, \"type\": \"bar\", \"x\": [24.6], \"y\": [\"Informal\"]}, {\"hovertemplate\": \"<b>%{x}%</b><extra></extra>\", \"marker\": {\"color\": \"#56DA65\"}, \"name\": \"A lot\", \"orientation\": \"h\", \"showlegend\": true, \"type\": \"bar\", \"x\": [6.7], \"y\": [\"Formal\"]}],\n",
       "                        {\"annotations\": [{\"align\": \"right\", \"font\": {\"color\": \"black\", \"size\": 12}, \"showarrow\": false, \"text\": \"Friend\", \"x\": 0.14, \"xanchor\": \"right\", \"xref\": \"paper\", \"y\": \"Friend\", \"yref\": \"y\"}, {\"font\": {\"color\": \"#595959\", \"size\": 12}, \"showarrow\": false, \"text\": \"14.5%\", \"x\": 11.65, \"xref\": \"x\", \"y\": \"Friend\", \"yref\": \"y\"}, {\"font\": {\"color\": \"#595959\", \"size\": 12}, \"showarrow\": false, \"text\": \"17.4%\", \"x\": 27.599999999999998, \"xref\": \"x\", \"y\": \"Friend\", \"yref\": \"y\"}, {\"font\": {\"color\": \"#595959\", \"size\": 12}, \"showarrow\": false, \"text\": \"25.9%\", \"x\": 49.25, \"xref\": \"x\", \"y\": \"Friend\", \"yref\": \"y\"}, {\"font\": {\"color\": \"#595959\", \"size\": 12}, \"showarrow\": false, \"text\": \"37.9%\", \"x\": 81.14999999999999, \"xref\": \"x\", \"y\": \"Friend\", \"yref\": \"y\"}, {\"align\": \"right\", \"font\": {\"color\": \"black\", \"size\": 12}, \"showarrow\": false, \"text\": \"Informal\", \"x\": 0.14, \"xanchor\": \"right\", \"xref\": \"paper\", \"y\": \"Informal\", \"yref\": \"y\"}, {\"font\": {\"color\": \"#595959\", \"size\": 12}, \"showarrow\": false, \"text\": \"16.7%\", \"x\": 25.15, \"xref\": \"x\", \"y\": \"Informal\", \"yref\": \"y\"}, {\"font\": {\"color\": \"#595959\", \"size\": 12}, \"showarrow\": false, \"text\": \"18.5%\", \"x\": 42.75, \"xref\": \"x\", \"y\": \"Informal\", \"yref\": \"y\"}, {\"font\": {\"color\": \"#595959\", \"size\": 12}, \"showarrow\": false, \"text\": \"23.4%\", \"x\": 63.7, \"xref\": \"x\", \"y\": \"Informal\", \"yref\": \"y\"}, {\"font\": {\"color\": \"#595959\", \"size\": 12}, \"showarrow\": false, \"text\": \"24.6%\", \"x\": 87.7, \"xref\": \"x\", \"y\": \"Informal\", \"yref\": \"y\"}, {\"align\": \"right\", \"font\": {\"color\": \"black\", \"size\": 12}, \"showarrow\": false, \"text\": \"Formal\", \"x\": 0.14, \"xanchor\": \"right\", \"xref\": \"paper\", \"y\": \"Formal\", \"yref\": \"y\"}, {\"font\": {\"color\": \"#595959\", \"size\": 12}, \"showarrow\": false, \"text\": \"31.8%\", \"x\": 15.9, \"xref\": \"x\", \"y\": \"Formal\", \"yref\": \"y\"}, {\"font\": {\"color\": \"#595959\", \"size\": 12}, \"showarrow\": false, \"text\": \"13.3%\", \"x\": 38.45, \"xref\": \"x\", \"y\": \"Formal\", \"yref\": \"y\"}, {\"font\": {\"color\": \"#595959\", \"size\": 12}, \"showarrow\": false, \"text\": \"10.3%\", \"x\": 50.25, \"xref\": \"x\", \"y\": \"Formal\", \"yref\": \"y\"}, {\"font\": {\"color\": \"#595959\", \"size\": 12}, \"showarrow\": false, \"text\": \"17.1%\", \"x\": 63.95, \"xref\": \"x\", \"y\": \"Formal\", \"yref\": \"y\"}, {\"font\": {\"color\": \"#595959\", \"size\": 12}, \"showarrow\": false, \"text\": \"11.0%\", \"x\": 78.0, \"xref\": \"x\", \"y\": \"Formal\", \"yref\": \"y\"}, {\"font\": {\"color\": \"#595959\", \"size\": 12}, \"showarrow\": false, \"text\": \"9.9%\", \"x\": 88.45, \"xref\": \"x\", \"y\": \"Formal\", \"yref\": \"y\"}], \"barmode\": \"stack\", \"font\": {\"color\": \"black\", \"size\": 12}, \"legend\": {\"itemclick\": false, \"orientation\": \"h\", \"traceorder\": \"normal\", \"x\": 0.94, \"xanchor\": \"right\", \"y\": 1.02, \"yanchor\": \"bottom\"}, \"margin\": {\"b\": 80, \"l\": 120, \"r\": 10, \"t\": 140}, \"paper_bgcolor\": \"rgb(248, 248, 255)\", \"plot_bgcolor\": \"rgb(248, 248, 255)\", \"template\": {\"data\": {\"bar\": [{\"error_x\": {\"color\": \"#2a3f5f\"}, \"error_y\": {\"color\": \"#2a3f5f\"}, \"marker\": {\"line\": {\"color\": \"#E5ECF6\", \"width\": 0.5}}, \"type\": \"bar\"}], \"barpolar\": [{\"marker\": {\"line\": {\"color\": \"#E5ECF6\", \"width\": 0.5}}, \"type\": \"barpolar\"}], \"carpet\": [{\"aaxis\": {\"endlinecolor\": \"#2a3f5f\", \"gridcolor\": \"white\", \"linecolor\": \"white\", \"minorgridcolor\": \"white\", \"startlinecolor\": \"#2a3f5f\"}, \"baxis\": {\"endlinecolor\": \"#2a3f5f\", \"gridcolor\": \"white\", \"linecolor\": \"white\", \"minorgridcolor\": \"white\", \"startlinecolor\": \"#2a3f5f\"}, \"type\": \"carpet\"}], \"choropleth\": [{\"colorbar\": {\"outlinewidth\": 0, \"ticks\": \"\"}, \"type\": \"choropleth\"}], \"contour\": [{\"colorbar\": {\"outlinewidth\": 0, \"ticks\": \"\"}, \"colorscale\": [[0.0, \"#0d0887\"], [0.1111111111111111, \"#46039f\"], [0.2222222222222222, \"#7201a8\"], [0.3333333333333333, \"#9c179e\"], [0.4444444444444444, \"#bd3786\"], [0.5555555555555556, \"#d8576b\"], [0.6666666666666666, \"#ed7953\"], [0.7777777777777778, \"#fb9f3a\"], [0.8888888888888888, \"#fdca26\"], [1.0, \"#f0f921\"]], \"type\": \"contour\"}], \"contourcarpet\": [{\"colorbar\": {\"outlinewidth\": 0, \"ticks\": \"\"}, \"type\": \"contourcarpet\"}], \"heatmap\": [{\"colorbar\": {\"outlinewidth\": 0, \"ticks\": \"\"}, \"colorscale\": [[0.0, \"#0d0887\"], [0.1111111111111111, \"#46039f\"], [0.2222222222222222, \"#7201a8\"], [0.3333333333333333, \"#9c179e\"], [0.4444444444444444, \"#bd3786\"], [0.5555555555555556, \"#d8576b\"], [0.6666666666666666, \"#ed7953\"], [0.7777777777777778, \"#fb9f3a\"], [0.8888888888888888, \"#fdca26\"], [1.0, \"#f0f921\"]], \"type\": \"heatmap\"}], \"heatmapgl\": [{\"colorbar\": {\"outlinewidth\": 0, \"ticks\": \"\"}, \"colorscale\": [[0.0, \"#0d0887\"], [0.1111111111111111, \"#46039f\"], [0.2222222222222222, \"#7201a8\"], [0.3333333333333333, \"#9c179e\"], [0.4444444444444444, \"#bd3786\"], [0.5555555555555556, \"#d8576b\"], [0.6666666666666666, \"#ed7953\"], [0.7777777777777778, \"#fb9f3a\"], [0.8888888888888888, \"#fdca26\"], [1.0, \"#f0f921\"]], \"type\": \"heatmapgl\"}], \"histogram\": [{\"marker\": {\"colorbar\": {\"outlinewidth\": 0, \"ticks\": \"\"}}, \"type\": \"histogram\"}], \"histogram2d\": [{\"colorbar\": {\"outlinewidth\": 0, \"ticks\": \"\"}, \"colorscale\": [[0.0, \"#0d0887\"], [0.1111111111111111, \"#46039f\"], [0.2222222222222222, \"#7201a8\"], [0.3333333333333333, \"#9c179e\"], [0.4444444444444444, \"#bd3786\"], [0.5555555555555556, \"#d8576b\"], [0.6666666666666666, \"#ed7953\"], [0.7777777777777778, \"#fb9f3a\"], [0.8888888888888888, \"#fdca26\"], [1.0, \"#f0f921\"]], \"type\": \"histogram2d\"}], \"histogram2dcontour\": [{\"colorbar\": {\"outlinewidth\": 0, \"ticks\": \"\"}, \"colorscale\": [[0.0, \"#0d0887\"], [0.1111111111111111, \"#46039f\"], [0.2222222222222222, \"#7201a8\"], [0.3333333333333333, \"#9c179e\"], [0.4444444444444444, \"#bd3786\"], [0.5555555555555556, \"#d8576b\"], [0.6666666666666666, \"#ed7953\"], [0.7777777777777778, \"#fb9f3a\"], [0.8888888888888888, \"#fdca26\"], [1.0, \"#f0f921\"]], \"type\": \"histogram2dcontour\"}], \"mesh3d\": [{\"colorbar\": {\"outlinewidth\": 0, \"ticks\": \"\"}, \"type\": \"mesh3d\"}], \"parcoords\": [{\"line\": {\"colorbar\": {\"outlinewidth\": 0, \"ticks\": \"\"}}, \"type\": \"parcoords\"}], \"pie\": [{\"automargin\": true, \"type\": \"pie\"}], \"scatter\": [{\"marker\": {\"colorbar\": {\"outlinewidth\": 0, \"ticks\": \"\"}}, \"type\": \"scatter\"}], \"scatter3d\": [{\"line\": {\"colorbar\": {\"outlinewidth\": 0, \"ticks\": \"\"}}, \"marker\": {\"colorbar\": {\"outlinewidth\": 0, \"ticks\": \"\"}}, \"type\": \"scatter3d\"}], \"scattercarpet\": [{\"marker\": {\"colorbar\": {\"outlinewidth\": 0, \"ticks\": \"\"}}, \"type\": \"scattercarpet\"}], \"scattergeo\": [{\"marker\": {\"colorbar\": {\"outlinewidth\": 0, \"ticks\": \"\"}}, \"type\": \"scattergeo\"}], \"scattergl\": [{\"marker\": {\"colorbar\": {\"outlinewidth\": 0, \"ticks\": \"\"}}, \"type\": \"scattergl\"}], \"scattermapbox\": [{\"marker\": {\"colorbar\": {\"outlinewidth\": 0, \"ticks\": \"\"}}, \"type\": \"scattermapbox\"}], \"scatterpolar\": [{\"marker\": {\"colorbar\": {\"outlinewidth\": 0, \"ticks\": \"\"}}, \"type\": \"scatterpolar\"}], \"scatterpolargl\": [{\"marker\": {\"colorbar\": {\"outlinewidth\": 0, \"ticks\": \"\"}}, \"type\": \"scatterpolargl\"}], \"scatterternary\": [{\"marker\": {\"colorbar\": {\"outlinewidth\": 0, \"ticks\": \"\"}}, \"type\": \"scatterternary\"}], \"surface\": [{\"colorbar\": {\"outlinewidth\": 0, \"ticks\": \"\"}, \"colorscale\": [[0.0, \"#0d0887\"], [0.1111111111111111, \"#46039f\"], [0.2222222222222222, \"#7201a8\"], [0.3333333333333333, \"#9c179e\"], [0.4444444444444444, \"#bd3786\"], [0.5555555555555556, \"#d8576b\"], [0.6666666666666666, \"#ed7953\"], [0.7777777777777778, \"#fb9f3a\"], [0.8888888888888888, \"#fdca26\"], [1.0, \"#f0f921\"]], \"type\": \"surface\"}], \"table\": [{\"cells\": {\"fill\": {\"color\": \"#EBF0F8\"}, \"line\": {\"color\": \"white\"}}, \"header\": {\"fill\": {\"color\": \"#C8D4E3\"}, \"line\": {\"color\": \"white\"}}, \"type\": \"table\"}]}, \"layout\": {\"annotationdefaults\": {\"arrowcolor\": \"#2a3f5f\", \"arrowhead\": 0, \"arrowwidth\": 1}, \"coloraxis\": {\"colorbar\": {\"outlinewidth\": 0, \"ticks\": \"\"}}, \"colorscale\": {\"diverging\": [[0, \"#8e0152\"], [0.1, \"#c51b7d\"], [0.2, \"#de77ae\"], [0.3, \"#f1b6da\"], [0.4, \"#fde0ef\"], [0.5, \"#f7f7f7\"], [0.6, \"#e6f5d0\"], [0.7, \"#b8e186\"], [0.8, \"#7fbc41\"], [0.9, \"#4d9221\"], [1, \"#276419\"]], \"sequential\": [[0.0, \"#0d0887\"], [0.1111111111111111, \"#46039f\"], [0.2222222222222222, \"#7201a8\"], [0.3333333333333333, \"#9c179e\"], [0.4444444444444444, \"#bd3786\"], [0.5555555555555556, \"#d8576b\"], [0.6666666666666666, \"#ed7953\"], [0.7777777777777778, \"#fb9f3a\"], [0.8888888888888888, \"#fdca26\"], [1.0, \"#f0f921\"]], \"sequentialminus\": [[0.0, \"#0d0887\"], [0.1111111111111111, \"#46039f\"], [0.2222222222222222, \"#7201a8\"], [0.3333333333333333, \"#9c179e\"], [0.4444444444444444, \"#bd3786\"], [0.5555555555555556, \"#d8576b\"], [0.6666666666666666, \"#ed7953\"], [0.7777777777777778, \"#fb9f3a\"], [0.8888888888888888, \"#fdca26\"], [1.0, \"#f0f921\"]]}, \"colorway\": [\"#636efa\", \"#EF553B\", \"#00cc96\", \"#ab63fa\", \"#FFA15A\", \"#19d3f3\", \"#FF6692\", \"#B6E880\", \"#FF97FF\", \"#FECB52\"], \"font\": {\"color\": \"#2a3f5f\"}, \"geo\": {\"bgcolor\": \"white\", \"lakecolor\": \"white\", \"landcolor\": \"#E5ECF6\", \"showlakes\": true, \"showland\": true, \"subunitcolor\": \"white\"}, \"hoverlabel\": {\"align\": \"left\"}, \"hovermode\": \"closest\", \"mapbox\": {\"style\": \"light\"}, \"paper_bgcolor\": \"white\", \"plot_bgcolor\": \"#E5ECF6\", \"polar\": {\"angularaxis\": {\"gridcolor\": \"white\", \"linecolor\": \"white\", \"ticks\": \"\"}, \"bgcolor\": \"#E5ECF6\", \"radialaxis\": {\"gridcolor\": \"white\", \"linecolor\": \"white\", \"ticks\": \"\"}}, \"scene\": {\"xaxis\": {\"backgroundcolor\": \"#E5ECF6\", \"gridcolor\": \"white\", \"gridwidth\": 2, \"linecolor\": \"white\", \"showbackground\": true, \"ticks\": \"\", \"zerolinecolor\": \"white\"}, \"yaxis\": {\"backgroundcolor\": \"#E5ECF6\", \"gridcolor\": \"white\", \"gridwidth\": 2, \"linecolor\": \"white\", \"showbackground\": true, \"ticks\": \"\", \"zerolinecolor\": \"white\"}, \"zaxis\": {\"backgroundcolor\": \"#E5ECF6\", \"gridcolor\": \"white\", \"gridwidth\": 2, \"linecolor\": \"white\", \"showbackground\": true, \"ticks\": \"\", \"zerolinecolor\": \"white\"}}, \"shapedefaults\": {\"line\": {\"color\": \"#2a3f5f\"}}, \"ternary\": {\"aaxis\": {\"gridcolor\": \"white\", \"linecolor\": \"white\", \"ticks\": \"\"}, \"baxis\": {\"gridcolor\": \"white\", \"linecolor\": \"white\", \"ticks\": \"\"}, \"bgcolor\": \"#E5ECF6\", \"caxis\": {\"gridcolor\": \"white\", \"linecolor\": \"white\", \"ticks\": \"\"}}, \"title\": {\"x\": 0.05}, \"xaxis\": {\"automargin\": true, \"gridcolor\": \"white\", \"linecolor\": \"white\", \"ticks\": \"\", \"title\": {\"standoff\": 15}, \"zerolinecolor\": \"white\", \"zerolinewidth\": 2}, \"yaxis\": {\"automargin\": true, \"gridcolor\": \"white\", \"linecolor\": \"white\", \"ticks\": \"\", \"title\": {\"standoff\": 15}, \"zerolinecolor\": \"white\", \"zerolinewidth\": 2}}}, \"title\": {\"text\": \"How much does this person open up to you about their personal experiences?\", \"x\": 0.955, \"y\": 0.88}, \"xaxis\": {\"domain\": [0.15, 1], \"showgrid\": false, \"showline\": false, \"showticklabels\": false, \"zeroline\": false}, \"yaxis\": {\"showgrid\": false, \"showline\": false, \"showticklabels\": false, \"zeroline\": false}},\n",
       "                        {\"displayModeBar\": false, \"responsive\": true}\n",
       "                    ).then(function(){\n",
       "                            \n",
       "var gd = document.getElementById('2523fb11-946f-469e-801f-8e62c776f344');\n",
       "var x = new MutationObserver(function (mutations, observer) {{\n",
       "        var display = window.getComputedStyle(gd).display;\n",
       "        if (!display || display === 'none') {{\n",
       "            console.log([gd, 'removed!']);\n",
       "            Plotly.purge(gd);\n",
       "            observer.disconnect();\n",
       "        }}\n",
       "}});\n",
       "\n",
       "// Listen for the removal of the full notebook cells\n",
       "var notebookContainer = gd.closest('#notebook-container');\n",
       "if (notebookContainer) {{\n",
       "    x.observe(notebookContainer, {childList: true});\n",
       "}}\n",
       "\n",
       "// Listen for the clearing of the current output cell\n",
       "var outputEl = gd.closest('.output');\n",
       "if (outputEl) {{\n",
       "    x.observe(outputEl, {childList: true});\n",
       "}}\n",
       "\n",
       "                        })\n",
       "                };\n",
       "                });\n",
       "            </script>\n",
       "        </div>"
      ]
     },
     "metadata": {},
     "output_type": "display_data"
    }
   ],
   "source": [
    "vertical_stack_percent_bar('disclose.open.t','How much does this person open up to you about their personal experiences?')"
   ]
  },
  {
   "cell_type": "code",
   "execution_count": 46,
   "metadata": {},
   "outputs": [
    {
     "data": {
      "application/vnd.plotly.v1+json": {
       "config": {
        "displayModeBar": false,
        "plotlyServerURL": "https://plotly.com"
       },
       "data": [
        {
         "hovertemplate": "<b>%{x}%</b><extra></extra>",
         "marker": {
          "color": "#FF6478"
         },
         "orientation": "h",
         "showlegend": false,
         "type": "bar",
         "x": [
          0.3
         ],
         "y": [
          "Friend"
         ]
        },
        {
         "hovertemplate": "<b>%{x}%</b><extra></extra>",
         "marker": {
          "color": "#FF6478"
         },
         "orientation": "h",
         "showlegend": false,
         "type": "bar",
         "x": [
          7.1
         ],
         "y": [
          "Informal"
         ]
        },
        {
         "hovertemplate": "<b>%{x}%</b><extra></extra>",
         "marker": {
          "color": "#FF6478"
         },
         "name": "Not at all",
         "orientation": "h",
         "showlegend": true,
         "type": "bar",
         "x": [
          11.5
         ],
         "y": [
          "Formal"
         ]
        },
        {
         "hovertemplate": "<b>%{x}%</b><extra></extra>",
         "marker": {
          "color": "#FF8477"
         },
         "orientation": "h",
         "showlegend": false,
         "type": "bar",
         "x": [
          1.3
         ],
         "y": [
          "Friend"
         ]
        },
        {
         "hovertemplate": "<b>%{x}%</b><extra></extra>",
         "marker": {
          "color": "#FF8477"
         },
         "orientation": "h",
         "showlegend": false,
         "type": "bar",
         "x": [
          3.3
         ],
         "y": [
          "Informal"
         ]
        },
        {
         "hovertemplate": "<b>%{x}%</b><extra></extra>",
         "marker": {
          "color": "#FF8477"
         },
         "name": "Rarely",
         "orientation": "h",
         "showlegend": true,
         "type": "bar",
         "x": [
          4.8
         ],
         "y": [
          "Formal"
         ]
        },
        {
         "hovertemplate": "<b>%{x}%</b><extra></extra>",
         "marker": {
          "color": "#FF9F77"
         },
         "orientation": "h",
         "showlegend": false,
         "type": "bar",
         "x": [
          2.5
         ],
         "y": [
          "Friend"
         ]
        },
        {
         "hovertemplate": "<b>%{x}%</b><extra></extra>",
         "marker": {
          "color": "#FF9F77"
         },
         "orientation": "h",
         "showlegend": false,
         "type": "bar",
         "x": [
          5.6
         ],
         "y": [
          "Informal"
         ]
        },
        {
         "hovertemplate": "<b>%{x}%</b><extra></extra>",
         "marker": {
          "color": "#FF9F77"
         },
         "name": "Occasionally",
         "orientation": "h",
         "showlegend": true,
         "type": "bar",
         "x": [
          4.2
         ],
         "y": [
          "Formal"
         ]
        },
        {
         "hovertemplate": "<b>%{x}%</b><extra></extra>",
         "marker": {
          "color": "#FFB775"
         },
         "orientation": "h",
         "showlegend": false,
         "type": "bar",
         "x": [
          11.4
         ],
         "y": [
          "Friend"
         ]
        },
        {
         "hovertemplate": "<b>%{x}%</b><extra></extra>",
         "marker": {
          "color": "#FFB775"
         },
         "orientation": "h",
         "showlegend": false,
         "type": "bar",
         "x": [
          9.6
         ],
         "y": [
          "Informal"
         ]
        },
        {
         "hovertemplate": "<b>%{x}%</b><extra></extra>",
         "marker": {
          "color": "#FFB775"
         },
         "name": "Sometimes",
         "orientation": "h",
         "showlegend": true,
         "type": "bar",
         "x": [
          12.6
         ],
         "y": [
          "Formal"
         ]
        },
        {
         "hovertemplate": "<b>%{x}%</b><extra></extra>",
         "marker": {
          "color": "#BCF0C2"
         },
         "orientation": "h",
         "showlegend": false,
         "type": "bar",
         "x": [
          16.7
         ],
         "y": [
          "Friend"
         ]
        },
        {
         "hovertemplate": "<b>%{x}%</b><extra></extra>",
         "marker": {
          "color": "#BCF0C2"
         },
         "orientation": "h",
         "showlegend": false,
         "type": "bar",
         "x": [
          13.8
         ],
         "y": [
          "Informal"
         ]
        },
        {
         "hovertemplate": "<b>%{x}%</b><extra></extra>",
         "marker": {
          "color": "#BCF0C2"
         },
         "name": "???",
         "orientation": "h",
         "showlegend": true,
         "type": "bar",
         "x": [
          16.9
         ],
         "y": [
          "Formal"
         ]
        },
        {
         "hovertemplate": "<b>%{x}%</b><extra></extra>",
         "marker": {
          "color": "#8BE595"
         },
         "orientation": "h",
         "showlegend": false,
         "type": "bar",
         "x": [
          33.4
         ],
         "y": [
          "Friend"
         ]
        },
        {
         "hovertemplate": "<b>%{x}%</b><extra></extra>",
         "marker": {
          "color": "#8BE595"
         },
         "orientation": "h",
         "showlegend": false,
         "type": "bar",
         "x": [
          21.5
         ],
         "y": [
          "Informal"
         ]
        },
        {
         "hovertemplate": "<b>%{x}%</b><extra></extra>",
         "marker": {
          "color": "#8BE595"
         },
         "name": "Often",
         "orientation": "h",
         "showlegend": true,
         "type": "bar",
         "x": [
          22.4
         ],
         "y": [
          "Formal"
         ]
        },
        {
         "hovertemplate": "<b>%{x}%</b><extra></extra>",
         "marker": {
          "color": "#56DA65"
         },
         "orientation": "h",
         "showlegend": false,
         "type": "bar",
         "x": [
          34.4
         ],
         "y": [
          "Friend"
         ]
        },
        {
         "hovertemplate": "<b>%{x}%</b><extra></extra>",
         "marker": {
          "color": "#56DA65"
         },
         "orientation": "h",
         "showlegend": false,
         "type": "bar",
         "x": [
          39.1
         ],
         "y": [
          "Informal"
         ]
        },
        {
         "hovertemplate": "<b>%{x}%</b><extra></extra>",
         "marker": {
          "color": "#56DA65"
         },
         "name": "A lot",
         "orientation": "h",
         "showlegend": true,
         "type": "bar",
         "x": [
          27.5
         ],
         "y": [
          "Formal"
         ]
        }
       ],
       "layout": {
        "annotations": [
         {
          "align": "right",
          "font": {
           "color": "black",
           "size": 12
          },
          "showarrow": false,
          "text": "Friend",
          "x": 0.14,
          "xanchor": "right",
          "xref": "paper",
          "y": "Friend",
          "yref": "y"
         },
         {
          "font": {
           "color": "#595959",
           "size": 12
          },
          "showarrow": false,
          "text": "11.4%",
          "x": 9.8,
          "xref": "x",
          "y": "Friend",
          "yref": "y"
         },
         {
          "font": {
           "color": "#595959",
           "size": 12
          },
          "showarrow": false,
          "text": "16.7%",
          "x": 23.85,
          "xref": "x",
          "y": "Friend",
          "yref": "y"
         },
         {
          "font": {
           "color": "#595959",
           "size": 12
          },
          "showarrow": false,
          "text": "33.4%",
          "x": 48.900000000000006,
          "xref": "x",
          "y": "Friend",
          "yref": "y"
         },
         {
          "font": {
           "color": "#595959",
           "size": 12
          },
          "showarrow": false,
          "text": "34.4%",
          "x": 82.8,
          "xref": "x",
          "y": "Friend",
          "yref": "y"
         },
         {
          "align": "right",
          "font": {
           "color": "black",
           "size": 12
          },
          "showarrow": false,
          "text": "Informal",
          "x": 0.14,
          "xanchor": "right",
          "xref": "paper",
          "y": "Informal",
          "yref": "y"
         },
         {
          "font": {
           "color": "#595959",
           "size": 12
          },
          "showarrow": false,
          "text": "7.1%",
          "x": 3.55,
          "xref": "x",
          "y": "Informal",
          "yref": "y"
         },
         {
          "font": {
           "color": "#595959",
           "size": 12
          },
          "showarrow": false,
          "text": "9.6%",
          "x": 20.799999999999997,
          "xref": "x",
          "y": "Informal",
          "yref": "y"
         },
         {
          "font": {
           "color": "#595959",
           "size": 12
          },
          "showarrow": false,
          "text": "13.8%",
          "x": 32.5,
          "xref": "x",
          "y": "Informal",
          "yref": "y"
         },
         {
          "font": {
           "color": "#595959",
           "size": 12
          },
          "showarrow": false,
          "text": "21.5%",
          "x": 50.15,
          "xref": "x",
          "y": "Informal",
          "yref": "y"
         },
         {
          "font": {
           "color": "#595959",
           "size": 12
          },
          "showarrow": false,
          "text": "39.1%",
          "x": 80.45,
          "xref": "x",
          "y": "Informal",
          "yref": "y"
         },
         {
          "align": "right",
          "font": {
           "color": "black",
           "size": 12
          },
          "showarrow": false,
          "text": "Formal",
          "x": 0.14,
          "xanchor": "right",
          "xref": "paper",
          "y": "Formal",
          "yref": "y"
         },
         {
          "font": {
           "color": "#595959",
           "size": 12
          },
          "showarrow": false,
          "text": "11.5%",
          "x": 5.75,
          "xref": "x",
          "y": "Formal",
          "yref": "y"
         },
         {
          "font": {
           "color": "#595959",
           "size": 12
          },
          "showarrow": false,
          "text": "12.6%",
          "x": 26.8,
          "xref": "x",
          "y": "Formal",
          "yref": "y"
         },
         {
          "font": {
           "color": "#595959",
           "size": 12
          },
          "showarrow": false,
          "text": "16.9%",
          "x": 41.55,
          "xref": "x",
          "y": "Formal",
          "yref": "y"
         },
         {
          "font": {
           "color": "#595959",
           "size": 12
          },
          "showarrow": false,
          "text": "22.4%",
          "x": 61.2,
          "xref": "x",
          "y": "Formal",
          "yref": "y"
         },
         {
          "font": {
           "color": "#595959",
           "size": 12
          },
          "showarrow": false,
          "text": "27.5%",
          "x": 86.15,
          "xref": "x",
          "y": "Formal",
          "yref": "y"
         }
        ],
        "barmode": "stack",
        "font": {
         "color": "black",
         "size": 12
        },
        "legend": {
         "itemclick": false,
         "orientation": "h",
         "traceorder": "normal",
         "x": 0.94,
         "xanchor": "right",
         "y": 1.02,
         "yanchor": "bottom"
        },
        "margin": {
         "b": 80,
         "l": 120,
         "r": 10,
         "t": 140
        },
        "paper_bgcolor": "rgb(248, 248, 255)",
        "plot_bgcolor": "rgb(248, 248, 255)",
        "template": {
         "data": {
          "bar": [
           {
            "error_x": {
             "color": "#2a3f5f"
            },
            "error_y": {
             "color": "#2a3f5f"
            },
            "marker": {
             "line": {
              "color": "#E5ECF6",
              "width": 0.5
             }
            },
            "type": "bar"
           }
          ],
          "barpolar": [
           {
            "marker": {
             "line": {
              "color": "#E5ECF6",
              "width": 0.5
             }
            },
            "type": "barpolar"
           }
          ],
          "carpet": [
           {
            "aaxis": {
             "endlinecolor": "#2a3f5f",
             "gridcolor": "white",
             "linecolor": "white",
             "minorgridcolor": "white",
             "startlinecolor": "#2a3f5f"
            },
            "baxis": {
             "endlinecolor": "#2a3f5f",
             "gridcolor": "white",
             "linecolor": "white",
             "minorgridcolor": "white",
             "startlinecolor": "#2a3f5f"
            },
            "type": "carpet"
           }
          ],
          "choropleth": [
           {
            "colorbar": {
             "outlinewidth": 0,
             "ticks": ""
            },
            "type": "choropleth"
           }
          ],
          "contour": [
           {
            "colorbar": {
             "outlinewidth": 0,
             "ticks": ""
            },
            "colorscale": [
             [
              0,
              "#0d0887"
             ],
             [
              0.1111111111111111,
              "#46039f"
             ],
             [
              0.2222222222222222,
              "#7201a8"
             ],
             [
              0.3333333333333333,
              "#9c179e"
             ],
             [
              0.4444444444444444,
              "#bd3786"
             ],
             [
              0.5555555555555556,
              "#d8576b"
             ],
             [
              0.6666666666666666,
              "#ed7953"
             ],
             [
              0.7777777777777778,
              "#fb9f3a"
             ],
             [
              0.8888888888888888,
              "#fdca26"
             ],
             [
              1,
              "#f0f921"
             ]
            ],
            "type": "contour"
           }
          ],
          "contourcarpet": [
           {
            "colorbar": {
             "outlinewidth": 0,
             "ticks": ""
            },
            "type": "contourcarpet"
           }
          ],
          "heatmap": [
           {
            "colorbar": {
             "outlinewidth": 0,
             "ticks": ""
            },
            "colorscale": [
             [
              0,
              "#0d0887"
             ],
             [
              0.1111111111111111,
              "#46039f"
             ],
             [
              0.2222222222222222,
              "#7201a8"
             ],
             [
              0.3333333333333333,
              "#9c179e"
             ],
             [
              0.4444444444444444,
              "#bd3786"
             ],
             [
              0.5555555555555556,
              "#d8576b"
             ],
             [
              0.6666666666666666,
              "#ed7953"
             ],
             [
              0.7777777777777778,
              "#fb9f3a"
             ],
             [
              0.8888888888888888,
              "#fdca26"
             ],
             [
              1,
              "#f0f921"
             ]
            ],
            "type": "heatmap"
           }
          ],
          "heatmapgl": [
           {
            "colorbar": {
             "outlinewidth": 0,
             "ticks": ""
            },
            "colorscale": [
             [
              0,
              "#0d0887"
             ],
             [
              0.1111111111111111,
              "#46039f"
             ],
             [
              0.2222222222222222,
              "#7201a8"
             ],
             [
              0.3333333333333333,
              "#9c179e"
             ],
             [
              0.4444444444444444,
              "#bd3786"
             ],
             [
              0.5555555555555556,
              "#d8576b"
             ],
             [
              0.6666666666666666,
              "#ed7953"
             ],
             [
              0.7777777777777778,
              "#fb9f3a"
             ],
             [
              0.8888888888888888,
              "#fdca26"
             ],
             [
              1,
              "#f0f921"
             ]
            ],
            "type": "heatmapgl"
           }
          ],
          "histogram": [
           {
            "marker": {
             "colorbar": {
              "outlinewidth": 0,
              "ticks": ""
             }
            },
            "type": "histogram"
           }
          ],
          "histogram2d": [
           {
            "colorbar": {
             "outlinewidth": 0,
             "ticks": ""
            },
            "colorscale": [
             [
              0,
              "#0d0887"
             ],
             [
              0.1111111111111111,
              "#46039f"
             ],
             [
              0.2222222222222222,
              "#7201a8"
             ],
             [
              0.3333333333333333,
              "#9c179e"
             ],
             [
              0.4444444444444444,
              "#bd3786"
             ],
             [
              0.5555555555555556,
              "#d8576b"
             ],
             [
              0.6666666666666666,
              "#ed7953"
             ],
             [
              0.7777777777777778,
              "#fb9f3a"
             ],
             [
              0.8888888888888888,
              "#fdca26"
             ],
             [
              1,
              "#f0f921"
             ]
            ],
            "type": "histogram2d"
           }
          ],
          "histogram2dcontour": [
           {
            "colorbar": {
             "outlinewidth": 0,
             "ticks": ""
            },
            "colorscale": [
             [
              0,
              "#0d0887"
             ],
             [
              0.1111111111111111,
              "#46039f"
             ],
             [
              0.2222222222222222,
              "#7201a8"
             ],
             [
              0.3333333333333333,
              "#9c179e"
             ],
             [
              0.4444444444444444,
              "#bd3786"
             ],
             [
              0.5555555555555556,
              "#d8576b"
             ],
             [
              0.6666666666666666,
              "#ed7953"
             ],
             [
              0.7777777777777778,
              "#fb9f3a"
             ],
             [
              0.8888888888888888,
              "#fdca26"
             ],
             [
              1,
              "#f0f921"
             ]
            ],
            "type": "histogram2dcontour"
           }
          ],
          "mesh3d": [
           {
            "colorbar": {
             "outlinewidth": 0,
             "ticks": ""
            },
            "type": "mesh3d"
           }
          ],
          "parcoords": [
           {
            "line": {
             "colorbar": {
              "outlinewidth": 0,
              "ticks": ""
             }
            },
            "type": "parcoords"
           }
          ],
          "pie": [
           {
            "automargin": true,
            "type": "pie"
           }
          ],
          "scatter": [
           {
            "marker": {
             "colorbar": {
              "outlinewidth": 0,
              "ticks": ""
             }
            },
            "type": "scatter"
           }
          ],
          "scatter3d": [
           {
            "line": {
             "colorbar": {
              "outlinewidth": 0,
              "ticks": ""
             }
            },
            "marker": {
             "colorbar": {
              "outlinewidth": 0,
              "ticks": ""
             }
            },
            "type": "scatter3d"
           }
          ],
          "scattercarpet": [
           {
            "marker": {
             "colorbar": {
              "outlinewidth": 0,
              "ticks": ""
             }
            },
            "type": "scattercarpet"
           }
          ],
          "scattergeo": [
           {
            "marker": {
             "colorbar": {
              "outlinewidth": 0,
              "ticks": ""
             }
            },
            "type": "scattergeo"
           }
          ],
          "scattergl": [
           {
            "marker": {
             "colorbar": {
              "outlinewidth": 0,
              "ticks": ""
             }
            },
            "type": "scattergl"
           }
          ],
          "scattermapbox": [
           {
            "marker": {
             "colorbar": {
              "outlinewidth": 0,
              "ticks": ""
             }
            },
            "type": "scattermapbox"
           }
          ],
          "scatterpolar": [
           {
            "marker": {
             "colorbar": {
              "outlinewidth": 0,
              "ticks": ""
             }
            },
            "type": "scatterpolar"
           }
          ],
          "scatterpolargl": [
           {
            "marker": {
             "colorbar": {
              "outlinewidth": 0,
              "ticks": ""
             }
            },
            "type": "scatterpolargl"
           }
          ],
          "scatterternary": [
           {
            "marker": {
             "colorbar": {
              "outlinewidth": 0,
              "ticks": ""
             }
            },
            "type": "scatterternary"
           }
          ],
          "surface": [
           {
            "colorbar": {
             "outlinewidth": 0,
             "ticks": ""
            },
            "colorscale": [
             [
              0,
              "#0d0887"
             ],
             [
              0.1111111111111111,
              "#46039f"
             ],
             [
              0.2222222222222222,
              "#7201a8"
             ],
             [
              0.3333333333333333,
              "#9c179e"
             ],
             [
              0.4444444444444444,
              "#bd3786"
             ],
             [
              0.5555555555555556,
              "#d8576b"
             ],
             [
              0.6666666666666666,
              "#ed7953"
             ],
             [
              0.7777777777777778,
              "#fb9f3a"
             ],
             [
              0.8888888888888888,
              "#fdca26"
             ],
             [
              1,
              "#f0f921"
             ]
            ],
            "type": "surface"
           }
          ],
          "table": [
           {
            "cells": {
             "fill": {
              "color": "#EBF0F8"
             },
             "line": {
              "color": "white"
             }
            },
            "header": {
             "fill": {
              "color": "#C8D4E3"
             },
             "line": {
              "color": "white"
             }
            },
            "type": "table"
           }
          ]
         },
         "layout": {
          "annotationdefaults": {
           "arrowcolor": "#2a3f5f",
           "arrowhead": 0,
           "arrowwidth": 1
          },
          "coloraxis": {
           "colorbar": {
            "outlinewidth": 0,
            "ticks": ""
           }
          },
          "colorscale": {
           "diverging": [
            [
             0,
             "#8e0152"
            ],
            [
             0.1,
             "#c51b7d"
            ],
            [
             0.2,
             "#de77ae"
            ],
            [
             0.3,
             "#f1b6da"
            ],
            [
             0.4,
             "#fde0ef"
            ],
            [
             0.5,
             "#f7f7f7"
            ],
            [
             0.6,
             "#e6f5d0"
            ],
            [
             0.7,
             "#b8e186"
            ],
            [
             0.8,
             "#7fbc41"
            ],
            [
             0.9,
             "#4d9221"
            ],
            [
             1,
             "#276419"
            ]
           ],
           "sequential": [
            [
             0,
             "#0d0887"
            ],
            [
             0.1111111111111111,
             "#46039f"
            ],
            [
             0.2222222222222222,
             "#7201a8"
            ],
            [
             0.3333333333333333,
             "#9c179e"
            ],
            [
             0.4444444444444444,
             "#bd3786"
            ],
            [
             0.5555555555555556,
             "#d8576b"
            ],
            [
             0.6666666666666666,
             "#ed7953"
            ],
            [
             0.7777777777777778,
             "#fb9f3a"
            ],
            [
             0.8888888888888888,
             "#fdca26"
            ],
            [
             1,
             "#f0f921"
            ]
           ],
           "sequentialminus": [
            [
             0,
             "#0d0887"
            ],
            [
             0.1111111111111111,
             "#46039f"
            ],
            [
             0.2222222222222222,
             "#7201a8"
            ],
            [
             0.3333333333333333,
             "#9c179e"
            ],
            [
             0.4444444444444444,
             "#bd3786"
            ],
            [
             0.5555555555555556,
             "#d8576b"
            ],
            [
             0.6666666666666666,
             "#ed7953"
            ],
            [
             0.7777777777777778,
             "#fb9f3a"
            ],
            [
             0.8888888888888888,
             "#fdca26"
            ],
            [
             1,
             "#f0f921"
            ]
           ]
          },
          "colorway": [
           "#636efa",
           "#EF553B",
           "#00cc96",
           "#ab63fa",
           "#FFA15A",
           "#19d3f3",
           "#FF6692",
           "#B6E880",
           "#FF97FF",
           "#FECB52"
          ],
          "font": {
           "color": "#2a3f5f"
          },
          "geo": {
           "bgcolor": "white",
           "lakecolor": "white",
           "landcolor": "#E5ECF6",
           "showlakes": true,
           "showland": true,
           "subunitcolor": "white"
          },
          "hoverlabel": {
           "align": "left"
          },
          "hovermode": "closest",
          "mapbox": {
           "style": "light"
          },
          "paper_bgcolor": "white",
          "plot_bgcolor": "#E5ECF6",
          "polar": {
           "angularaxis": {
            "gridcolor": "white",
            "linecolor": "white",
            "ticks": ""
           },
           "bgcolor": "#E5ECF6",
           "radialaxis": {
            "gridcolor": "white",
            "linecolor": "white",
            "ticks": ""
           }
          },
          "scene": {
           "xaxis": {
            "backgroundcolor": "#E5ECF6",
            "gridcolor": "white",
            "gridwidth": 2,
            "linecolor": "white",
            "showbackground": true,
            "ticks": "",
            "zerolinecolor": "white"
           },
           "yaxis": {
            "backgroundcolor": "#E5ECF6",
            "gridcolor": "white",
            "gridwidth": 2,
            "linecolor": "white",
            "showbackground": true,
            "ticks": "",
            "zerolinecolor": "white"
           },
           "zaxis": {
            "backgroundcolor": "#E5ECF6",
            "gridcolor": "white",
            "gridwidth": 2,
            "linecolor": "white",
            "showbackground": true,
            "ticks": "",
            "zerolinecolor": "white"
           }
          },
          "shapedefaults": {
           "line": {
            "color": "#2a3f5f"
           }
          },
          "ternary": {
           "aaxis": {
            "gridcolor": "white",
            "linecolor": "white",
            "ticks": ""
           },
           "baxis": {
            "gridcolor": "white",
            "linecolor": "white",
            "ticks": ""
           },
           "bgcolor": "#E5ECF6",
           "caxis": {
            "gridcolor": "white",
            "linecolor": "white",
            "ticks": ""
           }
          },
          "title": {
           "x": 0.05
          },
          "xaxis": {
           "automargin": true,
           "gridcolor": "white",
           "linecolor": "white",
           "ticks": "",
           "title": {
            "standoff": 15
           },
           "zerolinecolor": "white",
           "zerolinewidth": 2
          },
          "yaxis": {
           "automargin": true,
           "gridcolor": "white",
           "linecolor": "white",
           "ticks": "",
           "title": {
            "standoff": 15
           },
           "zerolinecolor": "white",
           "zerolinewidth": 2
          }
         }
        },
        "title": {
         "text": "Overall, how supported do you feel by this person?",
         "x": 0.955,
         "y": 0.88
        },
        "xaxis": {
         "domain": [
          0.15,
          1
         ],
         "showgrid": false,
         "showline": false,
         "showticklabels": false,
         "zeroline": false
        },
        "yaxis": {
         "showgrid": false,
         "showline": false,
         "showticklabels": false,
         "zeroline": false
        }
       }
      },
      "text/html": [
       "<div>\n",
       "        \n",
       "        \n",
       "            <div id=\"cf2f6536-fd73-4afc-8956-545a9c9b1e14\" class=\"plotly-graph-div\" style=\"height:525px; width:100%;\"></div>\n",
       "            <script type=\"text/javascript\">\n",
       "                require([\"plotly\"], function(Plotly) {\n",
       "                    window.PLOTLYENV=window.PLOTLYENV || {};\n",
       "                    \n",
       "                if (document.getElementById(\"cf2f6536-fd73-4afc-8956-545a9c9b1e14\")) {\n",
       "                    Plotly.newPlot(\n",
       "                        'cf2f6536-fd73-4afc-8956-545a9c9b1e14',\n",
       "                        [{\"hovertemplate\": \"<b>%{x}%</b><extra></extra>\", \"marker\": {\"color\": \"#FF6478\"}, \"orientation\": \"h\", \"showlegend\": false, \"type\": \"bar\", \"x\": [0.3], \"y\": [\"Friend\"]}, {\"hovertemplate\": \"<b>%{x}%</b><extra></extra>\", \"marker\": {\"color\": \"#FF6478\"}, \"orientation\": \"h\", \"showlegend\": false, \"type\": \"bar\", \"x\": [7.1], \"y\": [\"Informal\"]}, {\"hovertemplate\": \"<b>%{x}%</b><extra></extra>\", \"marker\": {\"color\": \"#FF6478\"}, \"name\": \"Not at all\", \"orientation\": \"h\", \"showlegend\": true, \"type\": \"bar\", \"x\": [11.5], \"y\": [\"Formal\"]}, {\"hovertemplate\": \"<b>%{x}%</b><extra></extra>\", \"marker\": {\"color\": \"#FF8477\"}, \"orientation\": \"h\", \"showlegend\": false, \"type\": \"bar\", \"x\": [1.3], \"y\": [\"Friend\"]}, {\"hovertemplate\": \"<b>%{x}%</b><extra></extra>\", \"marker\": {\"color\": \"#FF8477\"}, \"orientation\": \"h\", \"showlegend\": false, \"type\": \"bar\", \"x\": [3.3], \"y\": [\"Informal\"]}, {\"hovertemplate\": \"<b>%{x}%</b><extra></extra>\", \"marker\": {\"color\": \"#FF8477\"}, \"name\": \"Rarely\", \"orientation\": \"h\", \"showlegend\": true, \"type\": \"bar\", \"x\": [4.8], \"y\": [\"Formal\"]}, {\"hovertemplate\": \"<b>%{x}%</b><extra></extra>\", \"marker\": {\"color\": \"#FF9F77\"}, \"orientation\": \"h\", \"showlegend\": false, \"type\": \"bar\", \"x\": [2.5], \"y\": [\"Friend\"]}, {\"hovertemplate\": \"<b>%{x}%</b><extra></extra>\", \"marker\": {\"color\": \"#FF9F77\"}, \"orientation\": \"h\", \"showlegend\": false, \"type\": \"bar\", \"x\": [5.6], \"y\": [\"Informal\"]}, {\"hovertemplate\": \"<b>%{x}%</b><extra></extra>\", \"marker\": {\"color\": \"#FF9F77\"}, \"name\": \"Occasionally\", \"orientation\": \"h\", \"showlegend\": true, \"type\": \"bar\", \"x\": [4.2], \"y\": [\"Formal\"]}, {\"hovertemplate\": \"<b>%{x}%</b><extra></extra>\", \"marker\": {\"color\": \"#FFB775\"}, \"orientation\": \"h\", \"showlegend\": false, \"type\": \"bar\", \"x\": [11.4], \"y\": [\"Friend\"]}, {\"hovertemplate\": \"<b>%{x}%</b><extra></extra>\", \"marker\": {\"color\": \"#FFB775\"}, \"orientation\": \"h\", \"showlegend\": false, \"type\": \"bar\", \"x\": [9.6], \"y\": [\"Informal\"]}, {\"hovertemplate\": \"<b>%{x}%</b><extra></extra>\", \"marker\": {\"color\": \"#FFB775\"}, \"name\": \"Sometimes\", \"orientation\": \"h\", \"showlegend\": true, \"type\": \"bar\", \"x\": [12.6], \"y\": [\"Formal\"]}, {\"hovertemplate\": \"<b>%{x}%</b><extra></extra>\", \"marker\": {\"color\": \"#BCF0C2\"}, \"orientation\": \"h\", \"showlegend\": false, \"type\": \"bar\", \"x\": [16.7], \"y\": [\"Friend\"]}, {\"hovertemplate\": \"<b>%{x}%</b><extra></extra>\", \"marker\": {\"color\": \"#BCF0C2\"}, \"orientation\": \"h\", \"showlegend\": false, \"type\": \"bar\", \"x\": [13.8], \"y\": [\"Informal\"]}, {\"hovertemplate\": \"<b>%{x}%</b><extra></extra>\", \"marker\": {\"color\": \"#BCF0C2\"}, \"name\": \"???\", \"orientation\": \"h\", \"showlegend\": true, \"type\": \"bar\", \"x\": [16.9], \"y\": [\"Formal\"]}, {\"hovertemplate\": \"<b>%{x}%</b><extra></extra>\", \"marker\": {\"color\": \"#8BE595\"}, \"orientation\": \"h\", \"showlegend\": false, \"type\": \"bar\", \"x\": [33.4], \"y\": [\"Friend\"]}, {\"hovertemplate\": \"<b>%{x}%</b><extra></extra>\", \"marker\": {\"color\": \"#8BE595\"}, \"orientation\": \"h\", \"showlegend\": false, \"type\": \"bar\", \"x\": [21.5], \"y\": [\"Informal\"]}, {\"hovertemplate\": \"<b>%{x}%</b><extra></extra>\", \"marker\": {\"color\": \"#8BE595\"}, \"name\": \"Often\", \"orientation\": \"h\", \"showlegend\": true, \"type\": \"bar\", \"x\": [22.4], \"y\": [\"Formal\"]}, {\"hovertemplate\": \"<b>%{x}%</b><extra></extra>\", \"marker\": {\"color\": \"#56DA65\"}, \"orientation\": \"h\", \"showlegend\": false, \"type\": \"bar\", \"x\": [34.4], \"y\": [\"Friend\"]}, {\"hovertemplate\": \"<b>%{x}%</b><extra></extra>\", \"marker\": {\"color\": \"#56DA65\"}, \"orientation\": \"h\", \"showlegend\": false, \"type\": \"bar\", \"x\": [39.1], \"y\": [\"Informal\"]}, {\"hovertemplate\": \"<b>%{x}%</b><extra></extra>\", \"marker\": {\"color\": \"#56DA65\"}, \"name\": \"A lot\", \"orientation\": \"h\", \"showlegend\": true, \"type\": \"bar\", \"x\": [27.5], \"y\": [\"Formal\"]}],\n",
       "                        {\"annotations\": [{\"align\": \"right\", \"font\": {\"color\": \"black\", \"size\": 12}, \"showarrow\": false, \"text\": \"Friend\", \"x\": 0.14, \"xanchor\": \"right\", \"xref\": \"paper\", \"y\": \"Friend\", \"yref\": \"y\"}, {\"font\": {\"color\": \"#595959\", \"size\": 12}, \"showarrow\": false, \"text\": \"11.4%\", \"x\": 9.8, \"xref\": \"x\", \"y\": \"Friend\", \"yref\": \"y\"}, {\"font\": {\"color\": \"#595959\", \"size\": 12}, \"showarrow\": false, \"text\": \"16.7%\", \"x\": 23.85, \"xref\": \"x\", \"y\": \"Friend\", \"yref\": \"y\"}, {\"font\": {\"color\": \"#595959\", \"size\": 12}, \"showarrow\": false, \"text\": \"33.4%\", \"x\": 48.900000000000006, \"xref\": \"x\", \"y\": \"Friend\", \"yref\": \"y\"}, {\"font\": {\"color\": \"#595959\", \"size\": 12}, \"showarrow\": false, \"text\": \"34.4%\", \"x\": 82.8, \"xref\": \"x\", \"y\": \"Friend\", \"yref\": \"y\"}, {\"align\": \"right\", \"font\": {\"color\": \"black\", \"size\": 12}, \"showarrow\": false, \"text\": \"Informal\", \"x\": 0.14, \"xanchor\": \"right\", \"xref\": \"paper\", \"y\": \"Informal\", \"yref\": \"y\"}, {\"font\": {\"color\": \"#595959\", \"size\": 12}, \"showarrow\": false, \"text\": \"7.1%\", \"x\": 3.55, \"xref\": \"x\", \"y\": \"Informal\", \"yref\": \"y\"}, {\"font\": {\"color\": \"#595959\", \"size\": 12}, \"showarrow\": false, \"text\": \"9.6%\", \"x\": 20.799999999999997, \"xref\": \"x\", \"y\": \"Informal\", \"yref\": \"y\"}, {\"font\": {\"color\": \"#595959\", \"size\": 12}, \"showarrow\": false, \"text\": \"13.8%\", \"x\": 32.5, \"xref\": \"x\", \"y\": \"Informal\", \"yref\": \"y\"}, {\"font\": {\"color\": \"#595959\", \"size\": 12}, \"showarrow\": false, \"text\": \"21.5%\", \"x\": 50.15, \"xref\": \"x\", \"y\": \"Informal\", \"yref\": \"y\"}, {\"font\": {\"color\": \"#595959\", \"size\": 12}, \"showarrow\": false, \"text\": \"39.1%\", \"x\": 80.45, \"xref\": \"x\", \"y\": \"Informal\", \"yref\": \"y\"}, {\"align\": \"right\", \"font\": {\"color\": \"black\", \"size\": 12}, \"showarrow\": false, \"text\": \"Formal\", \"x\": 0.14, \"xanchor\": \"right\", \"xref\": \"paper\", \"y\": \"Formal\", \"yref\": \"y\"}, {\"font\": {\"color\": \"#595959\", \"size\": 12}, \"showarrow\": false, \"text\": \"11.5%\", \"x\": 5.75, \"xref\": \"x\", \"y\": \"Formal\", \"yref\": \"y\"}, {\"font\": {\"color\": \"#595959\", \"size\": 12}, \"showarrow\": false, \"text\": \"12.6%\", \"x\": 26.8, \"xref\": \"x\", \"y\": \"Formal\", \"yref\": \"y\"}, {\"font\": {\"color\": \"#595959\", \"size\": 12}, \"showarrow\": false, \"text\": \"16.9%\", \"x\": 41.55, \"xref\": \"x\", \"y\": \"Formal\", \"yref\": \"y\"}, {\"font\": {\"color\": \"#595959\", \"size\": 12}, \"showarrow\": false, \"text\": \"22.4%\", \"x\": 61.2, \"xref\": \"x\", \"y\": \"Formal\", \"yref\": \"y\"}, {\"font\": {\"color\": \"#595959\", \"size\": 12}, \"showarrow\": false, \"text\": \"27.5%\", \"x\": 86.15, \"xref\": \"x\", \"y\": \"Formal\", \"yref\": \"y\"}], \"barmode\": \"stack\", \"font\": {\"color\": \"black\", \"size\": 12}, \"legend\": {\"itemclick\": false, \"orientation\": \"h\", \"traceorder\": \"normal\", \"x\": 0.94, \"xanchor\": \"right\", \"y\": 1.02, \"yanchor\": \"bottom\"}, \"margin\": {\"b\": 80, \"l\": 120, \"r\": 10, \"t\": 140}, \"paper_bgcolor\": \"rgb(248, 248, 255)\", \"plot_bgcolor\": \"rgb(248, 248, 255)\", \"template\": {\"data\": {\"bar\": [{\"error_x\": {\"color\": \"#2a3f5f\"}, \"error_y\": {\"color\": \"#2a3f5f\"}, \"marker\": {\"line\": {\"color\": \"#E5ECF6\", \"width\": 0.5}}, \"type\": \"bar\"}], \"barpolar\": [{\"marker\": {\"line\": {\"color\": \"#E5ECF6\", \"width\": 0.5}}, \"type\": \"barpolar\"}], \"carpet\": [{\"aaxis\": {\"endlinecolor\": \"#2a3f5f\", \"gridcolor\": \"white\", \"linecolor\": \"white\", \"minorgridcolor\": \"white\", \"startlinecolor\": \"#2a3f5f\"}, \"baxis\": {\"endlinecolor\": \"#2a3f5f\", \"gridcolor\": \"white\", \"linecolor\": \"white\", \"minorgridcolor\": \"white\", \"startlinecolor\": \"#2a3f5f\"}, \"type\": \"carpet\"}], \"choropleth\": [{\"colorbar\": {\"outlinewidth\": 0, \"ticks\": \"\"}, \"type\": \"choropleth\"}], \"contour\": [{\"colorbar\": {\"outlinewidth\": 0, \"ticks\": \"\"}, \"colorscale\": [[0.0, \"#0d0887\"], [0.1111111111111111, \"#46039f\"], [0.2222222222222222, \"#7201a8\"], [0.3333333333333333, \"#9c179e\"], [0.4444444444444444, \"#bd3786\"], [0.5555555555555556, \"#d8576b\"], [0.6666666666666666, \"#ed7953\"], [0.7777777777777778, \"#fb9f3a\"], [0.8888888888888888, \"#fdca26\"], [1.0, \"#f0f921\"]], \"type\": \"contour\"}], \"contourcarpet\": [{\"colorbar\": {\"outlinewidth\": 0, \"ticks\": \"\"}, \"type\": \"contourcarpet\"}], \"heatmap\": [{\"colorbar\": {\"outlinewidth\": 0, \"ticks\": \"\"}, \"colorscale\": [[0.0, \"#0d0887\"], [0.1111111111111111, \"#46039f\"], [0.2222222222222222, \"#7201a8\"], [0.3333333333333333, \"#9c179e\"], [0.4444444444444444, \"#bd3786\"], [0.5555555555555556, \"#d8576b\"], [0.6666666666666666, \"#ed7953\"], [0.7777777777777778, \"#fb9f3a\"], [0.8888888888888888, \"#fdca26\"], [1.0, \"#f0f921\"]], \"type\": \"heatmap\"}], \"heatmapgl\": [{\"colorbar\": {\"outlinewidth\": 0, \"ticks\": \"\"}, \"colorscale\": [[0.0, \"#0d0887\"], [0.1111111111111111, \"#46039f\"], [0.2222222222222222, \"#7201a8\"], [0.3333333333333333, \"#9c179e\"], [0.4444444444444444, \"#bd3786\"], [0.5555555555555556, \"#d8576b\"], [0.6666666666666666, \"#ed7953\"], [0.7777777777777778, \"#fb9f3a\"], [0.8888888888888888, \"#fdca26\"], [1.0, \"#f0f921\"]], \"type\": \"heatmapgl\"}], \"histogram\": [{\"marker\": {\"colorbar\": {\"outlinewidth\": 0, \"ticks\": \"\"}}, \"type\": \"histogram\"}], \"histogram2d\": [{\"colorbar\": {\"outlinewidth\": 0, \"ticks\": \"\"}, \"colorscale\": [[0.0, \"#0d0887\"], [0.1111111111111111, \"#46039f\"], [0.2222222222222222, \"#7201a8\"], [0.3333333333333333, \"#9c179e\"], [0.4444444444444444, \"#bd3786\"], [0.5555555555555556, \"#d8576b\"], [0.6666666666666666, \"#ed7953\"], [0.7777777777777778, \"#fb9f3a\"], [0.8888888888888888, \"#fdca26\"], [1.0, \"#f0f921\"]], \"type\": \"histogram2d\"}], \"histogram2dcontour\": [{\"colorbar\": {\"outlinewidth\": 0, \"ticks\": \"\"}, \"colorscale\": [[0.0, \"#0d0887\"], [0.1111111111111111, \"#46039f\"], [0.2222222222222222, \"#7201a8\"], [0.3333333333333333, \"#9c179e\"], [0.4444444444444444, \"#bd3786\"], [0.5555555555555556, \"#d8576b\"], [0.6666666666666666, \"#ed7953\"], [0.7777777777777778, \"#fb9f3a\"], [0.8888888888888888, \"#fdca26\"], [1.0, \"#f0f921\"]], \"type\": \"histogram2dcontour\"}], \"mesh3d\": [{\"colorbar\": {\"outlinewidth\": 0, \"ticks\": \"\"}, \"type\": \"mesh3d\"}], \"parcoords\": [{\"line\": {\"colorbar\": {\"outlinewidth\": 0, \"ticks\": \"\"}}, \"type\": \"parcoords\"}], \"pie\": [{\"automargin\": true, \"type\": \"pie\"}], \"scatter\": [{\"marker\": {\"colorbar\": {\"outlinewidth\": 0, \"ticks\": \"\"}}, \"type\": \"scatter\"}], \"scatter3d\": [{\"line\": {\"colorbar\": {\"outlinewidth\": 0, \"ticks\": \"\"}}, \"marker\": {\"colorbar\": {\"outlinewidth\": 0, \"ticks\": \"\"}}, \"type\": \"scatter3d\"}], \"scattercarpet\": [{\"marker\": {\"colorbar\": {\"outlinewidth\": 0, \"ticks\": \"\"}}, \"type\": \"scattercarpet\"}], \"scattergeo\": [{\"marker\": {\"colorbar\": {\"outlinewidth\": 0, \"ticks\": \"\"}}, \"type\": \"scattergeo\"}], \"scattergl\": [{\"marker\": {\"colorbar\": {\"outlinewidth\": 0, \"ticks\": \"\"}}, \"type\": \"scattergl\"}], \"scattermapbox\": [{\"marker\": {\"colorbar\": {\"outlinewidth\": 0, \"ticks\": \"\"}}, \"type\": \"scattermapbox\"}], \"scatterpolar\": [{\"marker\": {\"colorbar\": {\"outlinewidth\": 0, \"ticks\": \"\"}}, \"type\": \"scatterpolar\"}], \"scatterpolargl\": [{\"marker\": {\"colorbar\": {\"outlinewidth\": 0, \"ticks\": \"\"}}, \"type\": \"scatterpolargl\"}], \"scatterternary\": [{\"marker\": {\"colorbar\": {\"outlinewidth\": 0, \"ticks\": \"\"}}, \"type\": \"scatterternary\"}], \"surface\": [{\"colorbar\": {\"outlinewidth\": 0, \"ticks\": \"\"}, \"colorscale\": [[0.0, \"#0d0887\"], [0.1111111111111111, \"#46039f\"], [0.2222222222222222, \"#7201a8\"], [0.3333333333333333, \"#9c179e\"], [0.4444444444444444, \"#bd3786\"], [0.5555555555555556, \"#d8576b\"], [0.6666666666666666, \"#ed7953\"], [0.7777777777777778, \"#fb9f3a\"], [0.8888888888888888, \"#fdca26\"], [1.0, \"#f0f921\"]], \"type\": \"surface\"}], \"table\": [{\"cells\": {\"fill\": {\"color\": \"#EBF0F8\"}, \"line\": {\"color\": \"white\"}}, \"header\": {\"fill\": {\"color\": \"#C8D4E3\"}, \"line\": {\"color\": \"white\"}}, \"type\": \"table\"}]}, \"layout\": {\"annotationdefaults\": {\"arrowcolor\": \"#2a3f5f\", \"arrowhead\": 0, \"arrowwidth\": 1}, \"coloraxis\": {\"colorbar\": {\"outlinewidth\": 0, \"ticks\": \"\"}}, \"colorscale\": {\"diverging\": [[0, \"#8e0152\"], [0.1, \"#c51b7d\"], [0.2, \"#de77ae\"], [0.3, \"#f1b6da\"], [0.4, \"#fde0ef\"], [0.5, \"#f7f7f7\"], [0.6, \"#e6f5d0\"], [0.7, \"#b8e186\"], [0.8, \"#7fbc41\"], [0.9, \"#4d9221\"], [1, \"#276419\"]], \"sequential\": [[0.0, \"#0d0887\"], [0.1111111111111111, \"#46039f\"], [0.2222222222222222, \"#7201a8\"], [0.3333333333333333, \"#9c179e\"], [0.4444444444444444, \"#bd3786\"], [0.5555555555555556, \"#d8576b\"], [0.6666666666666666, \"#ed7953\"], [0.7777777777777778, \"#fb9f3a\"], [0.8888888888888888, \"#fdca26\"], [1.0, \"#f0f921\"]], \"sequentialminus\": [[0.0, \"#0d0887\"], [0.1111111111111111, \"#46039f\"], [0.2222222222222222, \"#7201a8\"], [0.3333333333333333, \"#9c179e\"], [0.4444444444444444, \"#bd3786\"], [0.5555555555555556, \"#d8576b\"], [0.6666666666666666, \"#ed7953\"], [0.7777777777777778, \"#fb9f3a\"], [0.8888888888888888, \"#fdca26\"], [1.0, \"#f0f921\"]]}, \"colorway\": [\"#636efa\", \"#EF553B\", \"#00cc96\", \"#ab63fa\", \"#FFA15A\", \"#19d3f3\", \"#FF6692\", \"#B6E880\", \"#FF97FF\", \"#FECB52\"], \"font\": {\"color\": \"#2a3f5f\"}, \"geo\": {\"bgcolor\": \"white\", \"lakecolor\": \"white\", \"landcolor\": \"#E5ECF6\", \"showlakes\": true, \"showland\": true, \"subunitcolor\": \"white\"}, \"hoverlabel\": {\"align\": \"left\"}, \"hovermode\": \"closest\", \"mapbox\": {\"style\": \"light\"}, \"paper_bgcolor\": \"white\", \"plot_bgcolor\": \"#E5ECF6\", \"polar\": {\"angularaxis\": {\"gridcolor\": \"white\", \"linecolor\": \"white\", \"ticks\": \"\"}, \"bgcolor\": \"#E5ECF6\", \"radialaxis\": {\"gridcolor\": \"white\", \"linecolor\": \"white\", \"ticks\": \"\"}}, \"scene\": {\"xaxis\": {\"backgroundcolor\": \"#E5ECF6\", \"gridcolor\": \"white\", \"gridwidth\": 2, \"linecolor\": \"white\", \"showbackground\": true, \"ticks\": \"\", \"zerolinecolor\": \"white\"}, \"yaxis\": {\"backgroundcolor\": \"#E5ECF6\", \"gridcolor\": \"white\", \"gridwidth\": 2, \"linecolor\": \"white\", \"showbackground\": true, \"ticks\": \"\", \"zerolinecolor\": \"white\"}, \"zaxis\": {\"backgroundcolor\": \"#E5ECF6\", \"gridcolor\": \"white\", \"gridwidth\": 2, \"linecolor\": \"white\", \"showbackground\": true, \"ticks\": \"\", \"zerolinecolor\": \"white\"}}, \"shapedefaults\": {\"line\": {\"color\": \"#2a3f5f\"}}, \"ternary\": {\"aaxis\": {\"gridcolor\": \"white\", \"linecolor\": \"white\", \"ticks\": \"\"}, \"baxis\": {\"gridcolor\": \"white\", \"linecolor\": \"white\", \"ticks\": \"\"}, \"bgcolor\": \"#E5ECF6\", \"caxis\": {\"gridcolor\": \"white\", \"linecolor\": \"white\", \"ticks\": \"\"}}, \"title\": {\"x\": 0.05}, \"xaxis\": {\"automargin\": true, \"gridcolor\": \"white\", \"linecolor\": \"white\", \"ticks\": \"\", \"title\": {\"standoff\": 15}, \"zerolinecolor\": \"white\", \"zerolinewidth\": 2}, \"yaxis\": {\"automargin\": true, \"gridcolor\": \"white\", \"linecolor\": \"white\", \"ticks\": \"\", \"title\": {\"standoff\": 15}, \"zerolinecolor\": \"white\", \"zerolinewidth\": 2}}}, \"title\": {\"text\": \"Overall, how supported do you feel by this person?\", \"x\": 0.955, \"y\": 0.88}, \"xaxis\": {\"domain\": [0.15, 1], \"showgrid\": false, \"showline\": false, \"showticklabels\": false, \"zeroline\": false}, \"yaxis\": {\"showgrid\": false, \"showline\": false, \"showticklabels\": false, \"zeroline\": false}},\n",
       "                        {\"displayModeBar\": false, \"responsive\": true}\n",
       "                    ).then(function(){\n",
       "                            \n",
       "var gd = document.getElementById('cf2f6536-fd73-4afc-8956-545a9c9b1e14');\n",
       "var x = new MutationObserver(function (mutations, observer) {{\n",
       "        var display = window.getComputedStyle(gd).display;\n",
       "        if (!display || display === 'none') {{\n",
       "            console.log([gd, 'removed!']);\n",
       "            Plotly.purge(gd);\n",
       "            observer.disconnect();\n",
       "        }}\n",
       "}});\n",
       "\n",
       "// Listen for the removal of the full notebook cells\n",
       "var notebookContainer = gd.closest('#notebook-container');\n",
       "if (notebookContainer) {{\n",
       "    x.observe(notebookContainer, {childList: true});\n",
       "}}\n",
       "\n",
       "// Listen for the clearing of the current output cell\n",
       "var outputEl = gd.closest('.output');\n",
       "if (outputEl) {{\n",
       "    x.observe(outputEl, {childList: true});\n",
       "}}\n",
       "\n",
       "                        })\n",
       "                };\n",
       "                });\n",
       "            </script>\n",
       "        </div>"
      ]
     },
     "metadata": {},
     "output_type": "display_data"
    }
   ],
   "source": [
    "vertical_stack_percent_bar('support.overall.p', 'Overall, how supported do you feel by this person?')"
   ]
  },
  {
   "cell_type": "code",
   "execution_count": 47,
   "metadata": {},
   "outputs": [
    {
     "data": {
      "application/vnd.plotly.v1+json": {
       "config": {
        "displayModeBar": false,
        "plotlyServerURL": "https://plotly.com"
       },
       "data": [
        {
         "hovertemplate": "<b>%{x}%</b><extra></extra>",
         "marker": {
          "color": "#FF6478"
         },
         "orientation": "h",
         "showlegend": false,
         "type": "bar",
         "x": [
          0.3
         ],
         "y": [
          "Friend"
         ]
        },
        {
         "hovertemplate": "<b>%{x}%</b><extra></extra>",
         "marker": {
          "color": "#FF6478"
         },
         "orientation": "h",
         "showlegend": false,
         "type": "bar",
         "x": [
          4.6
         ],
         "y": [
          "Informal"
         ]
        },
        {
         "hovertemplate": "<b>%{x}%</b><extra></extra>",
         "marker": {
          "color": "#FF6478"
         },
         "name": "Not at all",
         "orientation": "h",
         "showlegend": true,
         "type": "bar",
         "x": [
          22.3
         ],
         "y": [
          "Formal"
         ]
        },
        {
         "hovertemplate": "<b>%{x}%</b><extra></extra>",
         "marker": {
          "color": "#FF8477"
         },
         "orientation": "h",
         "showlegend": false,
         "type": "bar",
         "x": [
          0.9
         ],
         "y": [
          "Friend"
         ]
        },
        {
         "hovertemplate": "<b>%{x}%</b><extra></extra>",
         "marker": {
          "color": "#FF8477"
         },
         "orientation": "h",
         "showlegend": false,
         "type": "bar",
         "x": [
          3.5
         ],
         "y": [
          "Informal"
         ]
        },
        {
         "hovertemplate": "<b>%{x}%</b><extra></extra>",
         "marker": {
          "color": "#FF8477"
         },
         "name": "Rarely",
         "orientation": "h",
         "showlegend": true,
         "type": "bar",
         "x": [
          11.4
         ],
         "y": [
          "Formal"
         ]
        },
        {
         "hovertemplate": "<b>%{x}%</b><extra></extra>",
         "marker": {
          "color": "#FF9F77"
         },
         "orientation": "h",
         "showlegend": false,
         "type": "bar",
         "x": [
          2.2
         ],
         "y": [
          "Friend"
         ]
        },
        {
         "hovertemplate": "<b>%{x}%</b><extra></extra>",
         "marker": {
          "color": "#FF9F77"
         },
         "orientation": "h",
         "showlegend": false,
         "type": "bar",
         "x": [
          6.2
         ],
         "y": [
          "Informal"
         ]
        },
        {
         "hovertemplate": "<b>%{x}%</b><extra></extra>",
         "marker": {
          "color": "#FF9F77"
         },
         "name": "Occasionally",
         "orientation": "h",
         "showlegend": true,
         "type": "bar",
         "x": [
          11.5
         ],
         "y": [
          "Formal"
         ]
        },
        {
         "hovertemplate": "<b>%{x}%</b><extra></extra>",
         "marker": {
          "color": "#FFB775"
         },
         "orientation": "h",
         "showlegend": false,
         "type": "bar",
         "x": [
          12.3
         ],
         "y": [
          "Friend"
         ]
        },
        {
         "hovertemplate": "<b>%{x}%</b><extra></extra>",
         "marker": {
          "color": "#FFB775"
         },
         "orientation": "h",
         "showlegend": false,
         "type": "bar",
         "x": [
          15.5
         ],
         "y": [
          "Informal"
         ]
        },
        {
         "hovertemplate": "<b>%{x}%</b><extra></extra>",
         "marker": {
          "color": "#FFB775"
         },
         "name": "Sometimes",
         "orientation": "h",
         "showlegend": true,
         "type": "bar",
         "x": [
          23
         ],
         "y": [
          "Formal"
         ]
        },
        {
         "hovertemplate": "<b>%{x}%</b><extra></extra>",
         "marker": {
          "color": "#BCF0C2"
         },
         "orientation": "h",
         "showlegend": false,
         "type": "bar",
         "x": [
          19.6
         ],
         "y": [
          "Friend"
         ]
        },
        {
         "hovertemplate": "<b>%{x}%</b><extra></extra>",
         "marker": {
          "color": "#BCF0C2"
         },
         "orientation": "h",
         "showlegend": false,
         "type": "bar",
         "x": [
          19.5
         ],
         "y": [
          "Informal"
         ]
        },
        {
         "hovertemplate": "<b>%{x}%</b><extra></extra>",
         "marker": {
          "color": "#BCF0C2"
         },
         "name": "???",
         "orientation": "h",
         "showlegend": true,
         "type": "bar",
         "x": [
          9.8
         ],
         "y": [
          "Formal"
         ]
        },
        {
         "hovertemplate": "<b>%{x}%</b><extra></extra>",
         "marker": {
          "color": "#8BE595"
         },
         "orientation": "h",
         "showlegend": false,
         "type": "bar",
         "x": [
          33.4
         ],
         "y": [
          "Friend"
         ]
        },
        {
         "hovertemplate": "<b>%{x}%</b><extra></extra>",
         "marker": {
          "color": "#8BE595"
         },
         "orientation": "h",
         "showlegend": false,
         "type": "bar",
         "x": [
          22.6
         ],
         "y": [
          "Informal"
         ]
        },
        {
         "hovertemplate": "<b>%{x}%</b><extra></extra>",
         "marker": {
          "color": "#8BE595"
         },
         "name": "Often",
         "orientation": "h",
         "showlegend": true,
         "type": "bar",
         "x": [
          10.1
         ],
         "y": [
          "Formal"
         ]
        },
        {
         "hovertemplate": "<b>%{x}%</b><extra></extra>",
         "marker": {
          "color": "#56DA65"
         },
         "orientation": "h",
         "showlegend": false,
         "type": "bar",
         "x": [
          31.2
         ],
         "y": [
          "Friend"
         ]
        },
        {
         "hovertemplate": "<b>%{x}%</b><extra></extra>",
         "marker": {
          "color": "#56DA65"
         },
         "orientation": "h",
         "showlegend": false,
         "type": "bar",
         "x": [
          28.1
         ],
         "y": [
          "Informal"
         ]
        },
        {
         "hovertemplate": "<b>%{x}%</b><extra></extra>",
         "marker": {
          "color": "#56DA65"
         },
         "name": "A lot",
         "orientation": "h",
         "showlegend": true,
         "type": "bar",
         "x": [
          11.8
         ],
         "y": [
          "Formal"
         ]
        }
       ],
       "layout": {
        "annotations": [
         {
          "align": "right",
          "font": {
           "color": "black",
           "size": 12
          },
          "showarrow": false,
          "text": "Friend",
          "x": 0.14,
          "xanchor": "right",
          "xref": "paper",
          "y": "Friend",
          "yref": "y"
         },
         {
          "font": {
           "color": "#595959",
           "size": 12
          },
          "showarrow": false,
          "text": "12.3%",
          "x": 9.55,
          "xref": "x",
          "y": "Friend",
          "yref": "y"
         },
         {
          "font": {
           "color": "#595959",
           "size": 12
          },
          "showarrow": false,
          "text": "19.6%",
          "x": 25.5,
          "xref": "x",
          "y": "Friend",
          "yref": "y"
         },
         {
          "font": {
           "color": "#595959",
           "size": 12
          },
          "showarrow": false,
          "text": "33.4%",
          "x": 52,
          "xref": "x",
          "y": "Friend",
          "yref": "y"
         },
         {
          "font": {
           "color": "#595959",
           "size": 12
          },
          "showarrow": false,
          "text": "31.2%",
          "x": 84.3,
          "xref": "x",
          "y": "Friend",
          "yref": "y"
         },
         {
          "align": "right",
          "font": {
           "color": "black",
           "size": 12
          },
          "showarrow": false,
          "text": "Informal",
          "x": 0.14,
          "xanchor": "right",
          "xref": "paper",
          "y": "Informal",
          "yref": "y"
         },
         {
          "font": {
           "color": "#595959",
           "size": 12
          },
          "showarrow": false,
          "text": "15.5%",
          "x": 22.05,
          "xref": "x",
          "y": "Informal",
          "yref": "y"
         },
         {
          "font": {
           "color": "#595959",
           "size": 12
          },
          "showarrow": false,
          "text": "19.5%",
          "x": 39.55,
          "xref": "x",
          "y": "Informal",
          "yref": "y"
         },
         {
          "font": {
           "color": "#595959",
           "size": 12
          },
          "showarrow": false,
          "text": "22.6%",
          "x": 60.599999999999994,
          "xref": "x",
          "y": "Informal",
          "yref": "y"
         },
         {
          "font": {
           "color": "#595959",
           "size": 12
          },
          "showarrow": false,
          "text": "28.1%",
          "x": 85.95,
          "xref": "x",
          "y": "Informal",
          "yref": "y"
         },
         {
          "align": "right",
          "font": {
           "color": "black",
           "size": 12
          },
          "showarrow": false,
          "text": "Formal",
          "x": 0.14,
          "xanchor": "right",
          "xref": "paper",
          "y": "Formal",
          "yref": "y"
         },
         {
          "font": {
           "color": "#595959",
           "size": 12
          },
          "showarrow": false,
          "text": "22.3%",
          "x": 11.15,
          "xref": "x",
          "y": "Formal",
          "yref": "y"
         },
         {
          "font": {
           "color": "#595959",
           "size": 12
          },
          "showarrow": false,
          "text": "11.4%",
          "x": 28,
          "xref": "x",
          "y": "Formal",
          "yref": "y"
         },
         {
          "font": {
           "color": "#595959",
           "size": 12
          },
          "showarrow": false,
          "text": "11.5%",
          "x": 39.45,
          "xref": "x",
          "y": "Formal",
          "yref": "y"
         },
         {
          "font": {
           "color": "#595959",
           "size": 12
          },
          "showarrow": false,
          "text": "23.0%",
          "x": 56.7,
          "xref": "x",
          "y": "Formal",
          "yref": "y"
         },
         {
          "font": {
           "color": "#595959",
           "size": 12
          },
          "showarrow": false,
          "text": "9.8%",
          "x": 73.10000000000001,
          "xref": "x",
          "y": "Formal",
          "yref": "y"
         },
         {
          "font": {
           "color": "#595959",
           "size": 12
          },
          "showarrow": false,
          "text": "10.1%",
          "x": 83.05,
          "xref": "x",
          "y": "Formal",
          "yref": "y"
         },
         {
          "font": {
           "color": "#595959",
           "size": 12
          },
          "showarrow": false,
          "text": "11.8%",
          "x": 94,
          "xref": "x",
          "y": "Formal",
          "yref": "y"
         }
        ],
        "barmode": "stack",
        "font": {
         "color": "black",
         "size": 12
        },
        "legend": {
         "itemclick": false,
         "orientation": "h",
         "traceorder": "normal",
         "x": 0.94,
         "xanchor": "right",
         "y": 1.02,
         "yanchor": "bottom"
        },
        "margin": {
         "b": 80,
         "l": 120,
         "r": 10,
         "t": 140
        },
        "paper_bgcolor": "rgb(248, 248, 255)",
        "plot_bgcolor": "rgb(248, 248, 255)",
        "template": {
         "data": {
          "bar": [
           {
            "error_x": {
             "color": "#2a3f5f"
            },
            "error_y": {
             "color": "#2a3f5f"
            },
            "marker": {
             "line": {
              "color": "#E5ECF6",
              "width": 0.5
             }
            },
            "type": "bar"
           }
          ],
          "barpolar": [
           {
            "marker": {
             "line": {
              "color": "#E5ECF6",
              "width": 0.5
             }
            },
            "type": "barpolar"
           }
          ],
          "carpet": [
           {
            "aaxis": {
             "endlinecolor": "#2a3f5f",
             "gridcolor": "white",
             "linecolor": "white",
             "minorgridcolor": "white",
             "startlinecolor": "#2a3f5f"
            },
            "baxis": {
             "endlinecolor": "#2a3f5f",
             "gridcolor": "white",
             "linecolor": "white",
             "minorgridcolor": "white",
             "startlinecolor": "#2a3f5f"
            },
            "type": "carpet"
           }
          ],
          "choropleth": [
           {
            "colorbar": {
             "outlinewidth": 0,
             "ticks": ""
            },
            "type": "choropleth"
           }
          ],
          "contour": [
           {
            "colorbar": {
             "outlinewidth": 0,
             "ticks": ""
            },
            "colorscale": [
             [
              0,
              "#0d0887"
             ],
             [
              0.1111111111111111,
              "#46039f"
             ],
             [
              0.2222222222222222,
              "#7201a8"
             ],
             [
              0.3333333333333333,
              "#9c179e"
             ],
             [
              0.4444444444444444,
              "#bd3786"
             ],
             [
              0.5555555555555556,
              "#d8576b"
             ],
             [
              0.6666666666666666,
              "#ed7953"
             ],
             [
              0.7777777777777778,
              "#fb9f3a"
             ],
             [
              0.8888888888888888,
              "#fdca26"
             ],
             [
              1,
              "#f0f921"
             ]
            ],
            "type": "contour"
           }
          ],
          "contourcarpet": [
           {
            "colorbar": {
             "outlinewidth": 0,
             "ticks": ""
            },
            "type": "contourcarpet"
           }
          ],
          "heatmap": [
           {
            "colorbar": {
             "outlinewidth": 0,
             "ticks": ""
            },
            "colorscale": [
             [
              0,
              "#0d0887"
             ],
             [
              0.1111111111111111,
              "#46039f"
             ],
             [
              0.2222222222222222,
              "#7201a8"
             ],
             [
              0.3333333333333333,
              "#9c179e"
             ],
             [
              0.4444444444444444,
              "#bd3786"
             ],
             [
              0.5555555555555556,
              "#d8576b"
             ],
             [
              0.6666666666666666,
              "#ed7953"
             ],
             [
              0.7777777777777778,
              "#fb9f3a"
             ],
             [
              0.8888888888888888,
              "#fdca26"
             ],
             [
              1,
              "#f0f921"
             ]
            ],
            "type": "heatmap"
           }
          ],
          "heatmapgl": [
           {
            "colorbar": {
             "outlinewidth": 0,
             "ticks": ""
            },
            "colorscale": [
             [
              0,
              "#0d0887"
             ],
             [
              0.1111111111111111,
              "#46039f"
             ],
             [
              0.2222222222222222,
              "#7201a8"
             ],
             [
              0.3333333333333333,
              "#9c179e"
             ],
             [
              0.4444444444444444,
              "#bd3786"
             ],
             [
              0.5555555555555556,
              "#d8576b"
             ],
             [
              0.6666666666666666,
              "#ed7953"
             ],
             [
              0.7777777777777778,
              "#fb9f3a"
             ],
             [
              0.8888888888888888,
              "#fdca26"
             ],
             [
              1,
              "#f0f921"
             ]
            ],
            "type": "heatmapgl"
           }
          ],
          "histogram": [
           {
            "marker": {
             "colorbar": {
              "outlinewidth": 0,
              "ticks": ""
             }
            },
            "type": "histogram"
           }
          ],
          "histogram2d": [
           {
            "colorbar": {
             "outlinewidth": 0,
             "ticks": ""
            },
            "colorscale": [
             [
              0,
              "#0d0887"
             ],
             [
              0.1111111111111111,
              "#46039f"
             ],
             [
              0.2222222222222222,
              "#7201a8"
             ],
             [
              0.3333333333333333,
              "#9c179e"
             ],
             [
              0.4444444444444444,
              "#bd3786"
             ],
             [
              0.5555555555555556,
              "#d8576b"
             ],
             [
              0.6666666666666666,
              "#ed7953"
             ],
             [
              0.7777777777777778,
              "#fb9f3a"
             ],
             [
              0.8888888888888888,
              "#fdca26"
             ],
             [
              1,
              "#f0f921"
             ]
            ],
            "type": "histogram2d"
           }
          ],
          "histogram2dcontour": [
           {
            "colorbar": {
             "outlinewidth": 0,
             "ticks": ""
            },
            "colorscale": [
             [
              0,
              "#0d0887"
             ],
             [
              0.1111111111111111,
              "#46039f"
             ],
             [
              0.2222222222222222,
              "#7201a8"
             ],
             [
              0.3333333333333333,
              "#9c179e"
             ],
             [
              0.4444444444444444,
              "#bd3786"
             ],
             [
              0.5555555555555556,
              "#d8576b"
             ],
             [
              0.6666666666666666,
              "#ed7953"
             ],
             [
              0.7777777777777778,
              "#fb9f3a"
             ],
             [
              0.8888888888888888,
              "#fdca26"
             ],
             [
              1,
              "#f0f921"
             ]
            ],
            "type": "histogram2dcontour"
           }
          ],
          "mesh3d": [
           {
            "colorbar": {
             "outlinewidth": 0,
             "ticks": ""
            },
            "type": "mesh3d"
           }
          ],
          "parcoords": [
           {
            "line": {
             "colorbar": {
              "outlinewidth": 0,
              "ticks": ""
             }
            },
            "type": "parcoords"
           }
          ],
          "pie": [
           {
            "automargin": true,
            "type": "pie"
           }
          ],
          "scatter": [
           {
            "marker": {
             "colorbar": {
              "outlinewidth": 0,
              "ticks": ""
             }
            },
            "type": "scatter"
           }
          ],
          "scatter3d": [
           {
            "line": {
             "colorbar": {
              "outlinewidth": 0,
              "ticks": ""
             }
            },
            "marker": {
             "colorbar": {
              "outlinewidth": 0,
              "ticks": ""
             }
            },
            "type": "scatter3d"
           }
          ],
          "scattercarpet": [
           {
            "marker": {
             "colorbar": {
              "outlinewidth": 0,
              "ticks": ""
             }
            },
            "type": "scattercarpet"
           }
          ],
          "scattergeo": [
           {
            "marker": {
             "colorbar": {
              "outlinewidth": 0,
              "ticks": ""
             }
            },
            "type": "scattergeo"
           }
          ],
          "scattergl": [
           {
            "marker": {
             "colorbar": {
              "outlinewidth": 0,
              "ticks": ""
             }
            },
            "type": "scattergl"
           }
          ],
          "scattermapbox": [
           {
            "marker": {
             "colorbar": {
              "outlinewidth": 0,
              "ticks": ""
             }
            },
            "type": "scattermapbox"
           }
          ],
          "scatterpolar": [
           {
            "marker": {
             "colorbar": {
              "outlinewidth": 0,
              "ticks": ""
             }
            },
            "type": "scatterpolar"
           }
          ],
          "scatterpolargl": [
           {
            "marker": {
             "colorbar": {
              "outlinewidth": 0,
              "ticks": ""
             }
            },
            "type": "scatterpolargl"
           }
          ],
          "scatterternary": [
           {
            "marker": {
             "colorbar": {
              "outlinewidth": 0,
              "ticks": ""
             }
            },
            "type": "scatterternary"
           }
          ],
          "surface": [
           {
            "colorbar": {
             "outlinewidth": 0,
             "ticks": ""
            },
            "colorscale": [
             [
              0,
              "#0d0887"
             ],
             [
              0.1111111111111111,
              "#46039f"
             ],
             [
              0.2222222222222222,
              "#7201a8"
             ],
             [
              0.3333333333333333,
              "#9c179e"
             ],
             [
              0.4444444444444444,
              "#bd3786"
             ],
             [
              0.5555555555555556,
              "#d8576b"
             ],
             [
              0.6666666666666666,
              "#ed7953"
             ],
             [
              0.7777777777777778,
              "#fb9f3a"
             ],
             [
              0.8888888888888888,
              "#fdca26"
             ],
             [
              1,
              "#f0f921"
             ]
            ],
            "type": "surface"
           }
          ],
          "table": [
           {
            "cells": {
             "fill": {
              "color": "#EBF0F8"
             },
             "line": {
              "color": "white"
             }
            },
            "header": {
             "fill": {
              "color": "#C8D4E3"
             },
             "line": {
              "color": "white"
             }
            },
            "type": "table"
           }
          ]
         },
         "layout": {
          "annotationdefaults": {
           "arrowcolor": "#2a3f5f",
           "arrowhead": 0,
           "arrowwidth": 1
          },
          "coloraxis": {
           "colorbar": {
            "outlinewidth": 0,
            "ticks": ""
           }
          },
          "colorscale": {
           "diverging": [
            [
             0,
             "#8e0152"
            ],
            [
             0.1,
             "#c51b7d"
            ],
            [
             0.2,
             "#de77ae"
            ],
            [
             0.3,
             "#f1b6da"
            ],
            [
             0.4,
             "#fde0ef"
            ],
            [
             0.5,
             "#f7f7f7"
            ],
            [
             0.6,
             "#e6f5d0"
            ],
            [
             0.7,
             "#b8e186"
            ],
            [
             0.8,
             "#7fbc41"
            ],
            [
             0.9,
             "#4d9221"
            ],
            [
             1,
             "#276419"
            ]
           ],
           "sequential": [
            [
             0,
             "#0d0887"
            ],
            [
             0.1111111111111111,
             "#46039f"
            ],
            [
             0.2222222222222222,
             "#7201a8"
            ],
            [
             0.3333333333333333,
             "#9c179e"
            ],
            [
             0.4444444444444444,
             "#bd3786"
            ],
            [
             0.5555555555555556,
             "#d8576b"
            ],
            [
             0.6666666666666666,
             "#ed7953"
            ],
            [
             0.7777777777777778,
             "#fb9f3a"
            ],
            [
             0.8888888888888888,
             "#fdca26"
            ],
            [
             1,
             "#f0f921"
            ]
           ],
           "sequentialminus": [
            [
             0,
             "#0d0887"
            ],
            [
             0.1111111111111111,
             "#46039f"
            ],
            [
             0.2222222222222222,
             "#7201a8"
            ],
            [
             0.3333333333333333,
             "#9c179e"
            ],
            [
             0.4444444444444444,
             "#bd3786"
            ],
            [
             0.5555555555555556,
             "#d8576b"
            ],
            [
             0.6666666666666666,
             "#ed7953"
            ],
            [
             0.7777777777777778,
             "#fb9f3a"
            ],
            [
             0.8888888888888888,
             "#fdca26"
            ],
            [
             1,
             "#f0f921"
            ]
           ]
          },
          "colorway": [
           "#636efa",
           "#EF553B",
           "#00cc96",
           "#ab63fa",
           "#FFA15A",
           "#19d3f3",
           "#FF6692",
           "#B6E880",
           "#FF97FF",
           "#FECB52"
          ],
          "font": {
           "color": "#2a3f5f"
          },
          "geo": {
           "bgcolor": "white",
           "lakecolor": "white",
           "landcolor": "#E5ECF6",
           "showlakes": true,
           "showland": true,
           "subunitcolor": "white"
          },
          "hoverlabel": {
           "align": "left"
          },
          "hovermode": "closest",
          "mapbox": {
           "style": "light"
          },
          "paper_bgcolor": "white",
          "plot_bgcolor": "#E5ECF6",
          "polar": {
           "angularaxis": {
            "gridcolor": "white",
            "linecolor": "white",
            "ticks": ""
           },
           "bgcolor": "#E5ECF6",
           "radialaxis": {
            "gridcolor": "white",
            "linecolor": "white",
            "ticks": ""
           }
          },
          "scene": {
           "xaxis": {
            "backgroundcolor": "#E5ECF6",
            "gridcolor": "white",
            "gridwidth": 2,
            "linecolor": "white",
            "showbackground": true,
            "ticks": "",
            "zerolinecolor": "white"
           },
           "yaxis": {
            "backgroundcolor": "#E5ECF6",
            "gridcolor": "white",
            "gridwidth": 2,
            "linecolor": "white",
            "showbackground": true,
            "ticks": "",
            "zerolinecolor": "white"
           },
           "zaxis": {
            "backgroundcolor": "#E5ECF6",
            "gridcolor": "white",
            "gridwidth": 2,
            "linecolor": "white",
            "showbackground": true,
            "ticks": "",
            "zerolinecolor": "white"
           }
          },
          "shapedefaults": {
           "line": {
            "color": "#2a3f5f"
           }
          },
          "ternary": {
           "aaxis": {
            "gridcolor": "white",
            "linecolor": "white",
            "ticks": ""
           },
           "baxis": {
            "gridcolor": "white",
            "linecolor": "white",
            "ticks": ""
           },
           "bgcolor": "#E5ECF6",
           "caxis": {
            "gridcolor": "white",
            "linecolor": "white",
            "ticks": ""
           }
          },
          "title": {
           "x": 0.05
          },
          "xaxis": {
           "automargin": true,
           "gridcolor": "white",
           "linecolor": "white",
           "ticks": "",
           "title": {
            "standoff": 15
           },
           "zerolinecolor": "white",
           "zerolinewidth": 2
          },
          "yaxis": {
           "automargin": true,
           "gridcolor": "white",
           "linecolor": "white",
           "ticks": "",
           "title": {
            "standoff": 15
           },
           "zerolinecolor": "white",
           "zerolinewidth": 2
          }
         }
        },
        "title": {
         "text": "Overall, how much do you think this person feels supported by you?",
         "x": 0.955,
         "y": 0.88
        },
        "xaxis": {
         "domain": [
          0.15,
          1
         ],
         "showgrid": false,
         "showline": false,
         "showticklabels": false,
         "zeroline": false
        },
        "yaxis": {
         "showgrid": false,
         "showline": false,
         "showticklabels": false,
         "zeroline": false
        }
       }
      },
      "text/html": [
       "<div>\n",
       "        \n",
       "        \n",
       "            <div id=\"39f8744d-5a75-45fa-8bb1-f2752a0158f9\" class=\"plotly-graph-div\" style=\"height:525px; width:100%;\"></div>\n",
       "            <script type=\"text/javascript\">\n",
       "                require([\"plotly\"], function(Plotly) {\n",
       "                    window.PLOTLYENV=window.PLOTLYENV || {};\n",
       "                    \n",
       "                if (document.getElementById(\"39f8744d-5a75-45fa-8bb1-f2752a0158f9\")) {\n",
       "                    Plotly.newPlot(\n",
       "                        '39f8744d-5a75-45fa-8bb1-f2752a0158f9',\n",
       "                        [{\"hovertemplate\": \"<b>%{x}%</b><extra></extra>\", \"marker\": {\"color\": \"#FF6478\"}, \"orientation\": \"h\", \"showlegend\": false, \"type\": \"bar\", \"x\": [0.3], \"y\": [\"Friend\"]}, {\"hovertemplate\": \"<b>%{x}%</b><extra></extra>\", \"marker\": {\"color\": \"#FF6478\"}, \"orientation\": \"h\", \"showlegend\": false, \"type\": \"bar\", \"x\": [4.6], \"y\": [\"Informal\"]}, {\"hovertemplate\": \"<b>%{x}%</b><extra></extra>\", \"marker\": {\"color\": \"#FF6478\"}, \"name\": \"Not at all\", \"orientation\": \"h\", \"showlegend\": true, \"type\": \"bar\", \"x\": [22.3], \"y\": [\"Formal\"]}, {\"hovertemplate\": \"<b>%{x}%</b><extra></extra>\", \"marker\": {\"color\": \"#FF8477\"}, \"orientation\": \"h\", \"showlegend\": false, \"type\": \"bar\", \"x\": [0.9], \"y\": [\"Friend\"]}, {\"hovertemplate\": \"<b>%{x}%</b><extra></extra>\", \"marker\": {\"color\": \"#FF8477\"}, \"orientation\": \"h\", \"showlegend\": false, \"type\": \"bar\", \"x\": [3.5], \"y\": [\"Informal\"]}, {\"hovertemplate\": \"<b>%{x}%</b><extra></extra>\", \"marker\": {\"color\": \"#FF8477\"}, \"name\": \"Rarely\", \"orientation\": \"h\", \"showlegend\": true, \"type\": \"bar\", \"x\": [11.4], \"y\": [\"Formal\"]}, {\"hovertemplate\": \"<b>%{x}%</b><extra></extra>\", \"marker\": {\"color\": \"#FF9F77\"}, \"orientation\": \"h\", \"showlegend\": false, \"type\": \"bar\", \"x\": [2.2], \"y\": [\"Friend\"]}, {\"hovertemplate\": \"<b>%{x}%</b><extra></extra>\", \"marker\": {\"color\": \"#FF9F77\"}, \"orientation\": \"h\", \"showlegend\": false, \"type\": \"bar\", \"x\": [6.2], \"y\": [\"Informal\"]}, {\"hovertemplate\": \"<b>%{x}%</b><extra></extra>\", \"marker\": {\"color\": \"#FF9F77\"}, \"name\": \"Occasionally\", \"orientation\": \"h\", \"showlegend\": true, \"type\": \"bar\", \"x\": [11.5], \"y\": [\"Formal\"]}, {\"hovertemplate\": \"<b>%{x}%</b><extra></extra>\", \"marker\": {\"color\": \"#FFB775\"}, \"orientation\": \"h\", \"showlegend\": false, \"type\": \"bar\", \"x\": [12.3], \"y\": [\"Friend\"]}, {\"hovertemplate\": \"<b>%{x}%</b><extra></extra>\", \"marker\": {\"color\": \"#FFB775\"}, \"orientation\": \"h\", \"showlegend\": false, \"type\": \"bar\", \"x\": [15.5], \"y\": [\"Informal\"]}, {\"hovertemplate\": \"<b>%{x}%</b><extra></extra>\", \"marker\": {\"color\": \"#FFB775\"}, \"name\": \"Sometimes\", \"orientation\": \"h\", \"showlegend\": true, \"type\": \"bar\", \"x\": [23.0], \"y\": [\"Formal\"]}, {\"hovertemplate\": \"<b>%{x}%</b><extra></extra>\", \"marker\": {\"color\": \"#BCF0C2\"}, \"orientation\": \"h\", \"showlegend\": false, \"type\": \"bar\", \"x\": [19.6], \"y\": [\"Friend\"]}, {\"hovertemplate\": \"<b>%{x}%</b><extra></extra>\", \"marker\": {\"color\": \"#BCF0C2\"}, \"orientation\": \"h\", \"showlegend\": false, \"type\": \"bar\", \"x\": [19.5], \"y\": [\"Informal\"]}, {\"hovertemplate\": \"<b>%{x}%</b><extra></extra>\", \"marker\": {\"color\": \"#BCF0C2\"}, \"name\": \"???\", \"orientation\": \"h\", \"showlegend\": true, \"type\": \"bar\", \"x\": [9.8], \"y\": [\"Formal\"]}, {\"hovertemplate\": \"<b>%{x}%</b><extra></extra>\", \"marker\": {\"color\": \"#8BE595\"}, \"orientation\": \"h\", \"showlegend\": false, \"type\": \"bar\", \"x\": [33.4], \"y\": [\"Friend\"]}, {\"hovertemplate\": \"<b>%{x}%</b><extra></extra>\", \"marker\": {\"color\": \"#8BE595\"}, \"orientation\": \"h\", \"showlegend\": false, \"type\": \"bar\", \"x\": [22.6], \"y\": [\"Informal\"]}, {\"hovertemplate\": \"<b>%{x}%</b><extra></extra>\", \"marker\": {\"color\": \"#8BE595\"}, \"name\": \"Often\", \"orientation\": \"h\", \"showlegend\": true, \"type\": \"bar\", \"x\": [10.1], \"y\": [\"Formal\"]}, {\"hovertemplate\": \"<b>%{x}%</b><extra></extra>\", \"marker\": {\"color\": \"#56DA65\"}, \"orientation\": \"h\", \"showlegend\": false, \"type\": \"bar\", \"x\": [31.2], \"y\": [\"Friend\"]}, {\"hovertemplate\": \"<b>%{x}%</b><extra></extra>\", \"marker\": {\"color\": \"#56DA65\"}, \"orientation\": \"h\", \"showlegend\": false, \"type\": \"bar\", \"x\": [28.1], \"y\": [\"Informal\"]}, {\"hovertemplate\": \"<b>%{x}%</b><extra></extra>\", \"marker\": {\"color\": \"#56DA65\"}, \"name\": \"A lot\", \"orientation\": \"h\", \"showlegend\": true, \"type\": \"bar\", \"x\": [11.8], \"y\": [\"Formal\"]}],\n",
       "                        {\"annotations\": [{\"align\": \"right\", \"font\": {\"color\": \"black\", \"size\": 12}, \"showarrow\": false, \"text\": \"Friend\", \"x\": 0.14, \"xanchor\": \"right\", \"xref\": \"paper\", \"y\": \"Friend\", \"yref\": \"y\"}, {\"font\": {\"color\": \"#595959\", \"size\": 12}, \"showarrow\": false, \"text\": \"12.3%\", \"x\": 9.55, \"xref\": \"x\", \"y\": \"Friend\", \"yref\": \"y\"}, {\"font\": {\"color\": \"#595959\", \"size\": 12}, \"showarrow\": false, \"text\": \"19.6%\", \"x\": 25.5, \"xref\": \"x\", \"y\": \"Friend\", \"yref\": \"y\"}, {\"font\": {\"color\": \"#595959\", \"size\": 12}, \"showarrow\": false, \"text\": \"33.4%\", \"x\": 52.0, \"xref\": \"x\", \"y\": \"Friend\", \"yref\": \"y\"}, {\"font\": {\"color\": \"#595959\", \"size\": 12}, \"showarrow\": false, \"text\": \"31.2%\", \"x\": 84.3, \"xref\": \"x\", \"y\": \"Friend\", \"yref\": \"y\"}, {\"align\": \"right\", \"font\": {\"color\": \"black\", \"size\": 12}, \"showarrow\": false, \"text\": \"Informal\", \"x\": 0.14, \"xanchor\": \"right\", \"xref\": \"paper\", \"y\": \"Informal\", \"yref\": \"y\"}, {\"font\": {\"color\": \"#595959\", \"size\": 12}, \"showarrow\": false, \"text\": \"15.5%\", \"x\": 22.05, \"xref\": \"x\", \"y\": \"Informal\", \"yref\": \"y\"}, {\"font\": {\"color\": \"#595959\", \"size\": 12}, \"showarrow\": false, \"text\": \"19.5%\", \"x\": 39.55, \"xref\": \"x\", \"y\": \"Informal\", \"yref\": \"y\"}, {\"font\": {\"color\": \"#595959\", \"size\": 12}, \"showarrow\": false, \"text\": \"22.6%\", \"x\": 60.599999999999994, \"xref\": \"x\", \"y\": \"Informal\", \"yref\": \"y\"}, {\"font\": {\"color\": \"#595959\", \"size\": 12}, \"showarrow\": false, \"text\": \"28.1%\", \"x\": 85.95, \"xref\": \"x\", \"y\": \"Informal\", \"yref\": \"y\"}, {\"align\": \"right\", \"font\": {\"color\": \"black\", \"size\": 12}, \"showarrow\": false, \"text\": \"Formal\", \"x\": 0.14, \"xanchor\": \"right\", \"xref\": \"paper\", \"y\": \"Formal\", \"yref\": \"y\"}, {\"font\": {\"color\": \"#595959\", \"size\": 12}, \"showarrow\": false, \"text\": \"22.3%\", \"x\": 11.15, \"xref\": \"x\", \"y\": \"Formal\", \"yref\": \"y\"}, {\"font\": {\"color\": \"#595959\", \"size\": 12}, \"showarrow\": false, \"text\": \"11.4%\", \"x\": 28.0, \"xref\": \"x\", \"y\": \"Formal\", \"yref\": \"y\"}, {\"font\": {\"color\": \"#595959\", \"size\": 12}, \"showarrow\": false, \"text\": \"11.5%\", \"x\": 39.45, \"xref\": \"x\", \"y\": \"Formal\", \"yref\": \"y\"}, {\"font\": {\"color\": \"#595959\", \"size\": 12}, \"showarrow\": false, \"text\": \"23.0%\", \"x\": 56.7, \"xref\": \"x\", \"y\": \"Formal\", \"yref\": \"y\"}, {\"font\": {\"color\": \"#595959\", \"size\": 12}, \"showarrow\": false, \"text\": \"9.8%\", \"x\": 73.10000000000001, \"xref\": \"x\", \"y\": \"Formal\", \"yref\": \"y\"}, {\"font\": {\"color\": \"#595959\", \"size\": 12}, \"showarrow\": false, \"text\": \"10.1%\", \"x\": 83.05, \"xref\": \"x\", \"y\": \"Formal\", \"yref\": \"y\"}, {\"font\": {\"color\": \"#595959\", \"size\": 12}, \"showarrow\": false, \"text\": \"11.8%\", \"x\": 94.0, \"xref\": \"x\", \"y\": \"Formal\", \"yref\": \"y\"}], \"barmode\": \"stack\", \"font\": {\"color\": \"black\", \"size\": 12}, \"legend\": {\"itemclick\": false, \"orientation\": \"h\", \"traceorder\": \"normal\", \"x\": 0.94, \"xanchor\": \"right\", \"y\": 1.02, \"yanchor\": \"bottom\"}, \"margin\": {\"b\": 80, \"l\": 120, \"r\": 10, \"t\": 140}, \"paper_bgcolor\": \"rgb(248, 248, 255)\", \"plot_bgcolor\": \"rgb(248, 248, 255)\", \"template\": {\"data\": {\"bar\": [{\"error_x\": {\"color\": \"#2a3f5f\"}, \"error_y\": {\"color\": \"#2a3f5f\"}, \"marker\": {\"line\": {\"color\": \"#E5ECF6\", \"width\": 0.5}}, \"type\": \"bar\"}], \"barpolar\": [{\"marker\": {\"line\": {\"color\": \"#E5ECF6\", \"width\": 0.5}}, \"type\": \"barpolar\"}], \"carpet\": [{\"aaxis\": {\"endlinecolor\": \"#2a3f5f\", \"gridcolor\": \"white\", \"linecolor\": \"white\", \"minorgridcolor\": \"white\", \"startlinecolor\": \"#2a3f5f\"}, \"baxis\": {\"endlinecolor\": \"#2a3f5f\", \"gridcolor\": \"white\", \"linecolor\": \"white\", \"minorgridcolor\": \"white\", \"startlinecolor\": \"#2a3f5f\"}, \"type\": \"carpet\"}], \"choropleth\": [{\"colorbar\": {\"outlinewidth\": 0, \"ticks\": \"\"}, \"type\": \"choropleth\"}], \"contour\": [{\"colorbar\": {\"outlinewidth\": 0, \"ticks\": \"\"}, \"colorscale\": [[0.0, \"#0d0887\"], [0.1111111111111111, \"#46039f\"], [0.2222222222222222, \"#7201a8\"], [0.3333333333333333, \"#9c179e\"], [0.4444444444444444, \"#bd3786\"], [0.5555555555555556, \"#d8576b\"], [0.6666666666666666, \"#ed7953\"], [0.7777777777777778, \"#fb9f3a\"], [0.8888888888888888, \"#fdca26\"], [1.0, \"#f0f921\"]], \"type\": \"contour\"}], \"contourcarpet\": [{\"colorbar\": {\"outlinewidth\": 0, \"ticks\": \"\"}, \"type\": \"contourcarpet\"}], \"heatmap\": [{\"colorbar\": {\"outlinewidth\": 0, \"ticks\": \"\"}, \"colorscale\": [[0.0, \"#0d0887\"], [0.1111111111111111, \"#46039f\"], [0.2222222222222222, \"#7201a8\"], [0.3333333333333333, \"#9c179e\"], [0.4444444444444444, \"#bd3786\"], [0.5555555555555556, \"#d8576b\"], [0.6666666666666666, \"#ed7953\"], [0.7777777777777778, \"#fb9f3a\"], [0.8888888888888888, \"#fdca26\"], [1.0, \"#f0f921\"]], \"type\": \"heatmap\"}], \"heatmapgl\": [{\"colorbar\": {\"outlinewidth\": 0, \"ticks\": \"\"}, \"colorscale\": [[0.0, \"#0d0887\"], [0.1111111111111111, \"#46039f\"], [0.2222222222222222, \"#7201a8\"], [0.3333333333333333, \"#9c179e\"], [0.4444444444444444, \"#bd3786\"], [0.5555555555555556, \"#d8576b\"], [0.6666666666666666, \"#ed7953\"], [0.7777777777777778, \"#fb9f3a\"], [0.8888888888888888, \"#fdca26\"], [1.0, \"#f0f921\"]], \"type\": \"heatmapgl\"}], \"histogram\": [{\"marker\": {\"colorbar\": {\"outlinewidth\": 0, \"ticks\": \"\"}}, \"type\": \"histogram\"}], \"histogram2d\": [{\"colorbar\": {\"outlinewidth\": 0, \"ticks\": \"\"}, \"colorscale\": [[0.0, \"#0d0887\"], [0.1111111111111111, \"#46039f\"], [0.2222222222222222, \"#7201a8\"], [0.3333333333333333, \"#9c179e\"], [0.4444444444444444, \"#bd3786\"], [0.5555555555555556, \"#d8576b\"], [0.6666666666666666, \"#ed7953\"], [0.7777777777777778, \"#fb9f3a\"], [0.8888888888888888, \"#fdca26\"], [1.0, \"#f0f921\"]], \"type\": \"histogram2d\"}], \"histogram2dcontour\": [{\"colorbar\": {\"outlinewidth\": 0, \"ticks\": \"\"}, \"colorscale\": [[0.0, \"#0d0887\"], [0.1111111111111111, \"#46039f\"], [0.2222222222222222, \"#7201a8\"], [0.3333333333333333, \"#9c179e\"], [0.4444444444444444, \"#bd3786\"], [0.5555555555555556, \"#d8576b\"], [0.6666666666666666, \"#ed7953\"], [0.7777777777777778, \"#fb9f3a\"], [0.8888888888888888, \"#fdca26\"], [1.0, \"#f0f921\"]], \"type\": \"histogram2dcontour\"}], \"mesh3d\": [{\"colorbar\": {\"outlinewidth\": 0, \"ticks\": \"\"}, \"type\": \"mesh3d\"}], \"parcoords\": [{\"line\": {\"colorbar\": {\"outlinewidth\": 0, \"ticks\": \"\"}}, \"type\": \"parcoords\"}], \"pie\": [{\"automargin\": true, \"type\": \"pie\"}], \"scatter\": [{\"marker\": {\"colorbar\": {\"outlinewidth\": 0, \"ticks\": \"\"}}, \"type\": \"scatter\"}], \"scatter3d\": [{\"line\": {\"colorbar\": {\"outlinewidth\": 0, \"ticks\": \"\"}}, \"marker\": {\"colorbar\": {\"outlinewidth\": 0, \"ticks\": \"\"}}, \"type\": \"scatter3d\"}], \"scattercarpet\": [{\"marker\": {\"colorbar\": {\"outlinewidth\": 0, \"ticks\": \"\"}}, \"type\": \"scattercarpet\"}], \"scattergeo\": [{\"marker\": {\"colorbar\": {\"outlinewidth\": 0, \"ticks\": \"\"}}, \"type\": \"scattergeo\"}], \"scattergl\": [{\"marker\": {\"colorbar\": {\"outlinewidth\": 0, \"ticks\": \"\"}}, \"type\": \"scattergl\"}], \"scattermapbox\": [{\"marker\": {\"colorbar\": {\"outlinewidth\": 0, \"ticks\": \"\"}}, \"type\": \"scattermapbox\"}], \"scatterpolar\": [{\"marker\": {\"colorbar\": {\"outlinewidth\": 0, \"ticks\": \"\"}}, \"type\": \"scatterpolar\"}], \"scatterpolargl\": [{\"marker\": {\"colorbar\": {\"outlinewidth\": 0, \"ticks\": \"\"}}, \"type\": \"scatterpolargl\"}], \"scatterternary\": [{\"marker\": {\"colorbar\": {\"outlinewidth\": 0, \"ticks\": \"\"}}, \"type\": \"scatterternary\"}], \"surface\": [{\"colorbar\": {\"outlinewidth\": 0, \"ticks\": \"\"}, \"colorscale\": [[0.0, \"#0d0887\"], [0.1111111111111111, \"#46039f\"], [0.2222222222222222, \"#7201a8\"], [0.3333333333333333, \"#9c179e\"], [0.4444444444444444, \"#bd3786\"], [0.5555555555555556, \"#d8576b\"], [0.6666666666666666, \"#ed7953\"], [0.7777777777777778, \"#fb9f3a\"], [0.8888888888888888, \"#fdca26\"], [1.0, \"#f0f921\"]], \"type\": \"surface\"}], \"table\": [{\"cells\": {\"fill\": {\"color\": \"#EBF0F8\"}, \"line\": {\"color\": \"white\"}}, \"header\": {\"fill\": {\"color\": \"#C8D4E3\"}, \"line\": {\"color\": \"white\"}}, \"type\": \"table\"}]}, \"layout\": {\"annotationdefaults\": {\"arrowcolor\": \"#2a3f5f\", \"arrowhead\": 0, \"arrowwidth\": 1}, \"coloraxis\": {\"colorbar\": {\"outlinewidth\": 0, \"ticks\": \"\"}}, \"colorscale\": {\"diverging\": [[0, \"#8e0152\"], [0.1, \"#c51b7d\"], [0.2, \"#de77ae\"], [0.3, \"#f1b6da\"], [0.4, \"#fde0ef\"], [0.5, \"#f7f7f7\"], [0.6, \"#e6f5d0\"], [0.7, \"#b8e186\"], [0.8, \"#7fbc41\"], [0.9, \"#4d9221\"], [1, \"#276419\"]], \"sequential\": [[0.0, \"#0d0887\"], [0.1111111111111111, \"#46039f\"], [0.2222222222222222, \"#7201a8\"], [0.3333333333333333, \"#9c179e\"], [0.4444444444444444, \"#bd3786\"], [0.5555555555555556, \"#d8576b\"], [0.6666666666666666, \"#ed7953\"], [0.7777777777777778, \"#fb9f3a\"], [0.8888888888888888, \"#fdca26\"], [1.0, \"#f0f921\"]], \"sequentialminus\": [[0.0, \"#0d0887\"], [0.1111111111111111, \"#46039f\"], [0.2222222222222222, \"#7201a8\"], [0.3333333333333333, \"#9c179e\"], [0.4444444444444444, \"#bd3786\"], [0.5555555555555556, \"#d8576b\"], [0.6666666666666666, \"#ed7953\"], [0.7777777777777778, \"#fb9f3a\"], [0.8888888888888888, \"#fdca26\"], [1.0, \"#f0f921\"]]}, \"colorway\": [\"#636efa\", \"#EF553B\", \"#00cc96\", \"#ab63fa\", \"#FFA15A\", \"#19d3f3\", \"#FF6692\", \"#B6E880\", \"#FF97FF\", \"#FECB52\"], \"font\": {\"color\": \"#2a3f5f\"}, \"geo\": {\"bgcolor\": \"white\", \"lakecolor\": \"white\", \"landcolor\": \"#E5ECF6\", \"showlakes\": true, \"showland\": true, \"subunitcolor\": \"white\"}, \"hoverlabel\": {\"align\": \"left\"}, \"hovermode\": \"closest\", \"mapbox\": {\"style\": \"light\"}, \"paper_bgcolor\": \"white\", \"plot_bgcolor\": \"#E5ECF6\", \"polar\": {\"angularaxis\": {\"gridcolor\": \"white\", \"linecolor\": \"white\", \"ticks\": \"\"}, \"bgcolor\": \"#E5ECF6\", \"radialaxis\": {\"gridcolor\": \"white\", \"linecolor\": \"white\", \"ticks\": \"\"}}, \"scene\": {\"xaxis\": {\"backgroundcolor\": \"#E5ECF6\", \"gridcolor\": \"white\", \"gridwidth\": 2, \"linecolor\": \"white\", \"showbackground\": true, \"ticks\": \"\", \"zerolinecolor\": \"white\"}, \"yaxis\": {\"backgroundcolor\": \"#E5ECF6\", \"gridcolor\": \"white\", \"gridwidth\": 2, \"linecolor\": \"white\", \"showbackground\": true, \"ticks\": \"\", \"zerolinecolor\": \"white\"}, \"zaxis\": {\"backgroundcolor\": \"#E5ECF6\", \"gridcolor\": \"white\", \"gridwidth\": 2, \"linecolor\": \"white\", \"showbackground\": true, \"ticks\": \"\", \"zerolinecolor\": \"white\"}}, \"shapedefaults\": {\"line\": {\"color\": \"#2a3f5f\"}}, \"ternary\": {\"aaxis\": {\"gridcolor\": \"white\", \"linecolor\": \"white\", \"ticks\": \"\"}, \"baxis\": {\"gridcolor\": \"white\", \"linecolor\": \"white\", \"ticks\": \"\"}, \"bgcolor\": \"#E5ECF6\", \"caxis\": {\"gridcolor\": \"white\", \"linecolor\": \"white\", \"ticks\": \"\"}}, \"title\": {\"x\": 0.05}, \"xaxis\": {\"automargin\": true, \"gridcolor\": \"white\", \"linecolor\": \"white\", \"ticks\": \"\", \"title\": {\"standoff\": 15}, \"zerolinecolor\": \"white\", \"zerolinewidth\": 2}, \"yaxis\": {\"automargin\": true, \"gridcolor\": \"white\", \"linecolor\": \"white\", \"ticks\": \"\", \"title\": {\"standoff\": 15}, \"zerolinecolor\": \"white\", \"zerolinewidth\": 2}}}, \"title\": {\"text\": \"Overall, how much do you think this person feels supported by you?\", \"x\": 0.955, \"y\": 0.88}, \"xaxis\": {\"domain\": [0.15, 1], \"showgrid\": false, \"showline\": false, \"showticklabels\": false, \"zeroline\": false}, \"yaxis\": {\"showgrid\": false, \"showline\": false, \"showticklabels\": false, \"zeroline\": false}},\n",
       "                        {\"displayModeBar\": false, \"responsive\": true}\n",
       "                    ).then(function(){\n",
       "                            \n",
       "var gd = document.getElementById('39f8744d-5a75-45fa-8bb1-f2752a0158f9');\n",
       "var x = new MutationObserver(function (mutations, observer) {{\n",
       "        var display = window.getComputedStyle(gd).display;\n",
       "        if (!display || display === 'none') {{\n",
       "            console.log([gd, 'removed!']);\n",
       "            Plotly.purge(gd);\n",
       "            observer.disconnect();\n",
       "        }}\n",
       "}});\n",
       "\n",
       "// Listen for the removal of the full notebook cells\n",
       "var notebookContainer = gd.closest('#notebook-container');\n",
       "if (notebookContainer) {{\n",
       "    x.observe(notebookContainer, {childList: true});\n",
       "}}\n",
       "\n",
       "// Listen for the clearing of the current output cell\n",
       "var outputEl = gd.closest('.output');\n",
       "if (outputEl) {{\n",
       "    x.observe(outputEl, {childList: true});\n",
       "}}\n",
       "\n",
       "                        })\n",
       "                };\n",
       "                });\n",
       "            </script>\n",
       "        </div>"
      ]
     },
     "metadata": {},
     "output_type": "display_data"
    }
   ],
   "source": [
    "vertical_stack_percent_bar('support.overall.t', 'Overall, how much do you think this person feels supported by you?')"
   ]
  },
  {
   "cell_type": "code",
   "execution_count": 48,
   "metadata": {},
   "outputs": [
    {
     "data": {
      "application/vnd.plotly.v1+json": {
       "config": {
        "displayModeBar": false,
        "plotlyServerURL": "https://plotly.com"
       },
       "data": [
        {
         "hovertemplate": "<b>%{x}%</b><extra></extra>",
         "marker": {
          "color": "#FF6478"
         },
         "orientation": "h",
         "showlegend": false,
         "type": "bar",
         "x": [
          0.3
         ],
         "y": [
          "Friend"
         ]
        },
        {
         "hovertemplate": "<b>%{x}%</b><extra></extra>",
         "marker": {
          "color": "#FF6478"
         },
         "orientation": "h",
         "showlegend": false,
         "type": "bar",
         "x": [
          6.1
         ],
         "y": [
          "Informal"
         ]
        },
        {
         "hovertemplate": "<b>%{x}%</b><extra></extra>",
         "marker": {
          "color": "#FF6478"
         },
         "name": "Not at all",
         "orientation": "h",
         "showlegend": true,
         "type": "bar",
         "x": [
          10.1
         ],
         "y": [
          "Formal"
         ]
        },
        {
         "hovertemplate": "<b>%{x}%</b><extra></extra>",
         "marker": {
          "color": "#FF8477"
         },
         "orientation": "h",
         "showlegend": false,
         "type": "bar",
         "x": [
          0.3
         ],
         "y": [
          "Friend"
         ]
        },
        {
         "hovertemplate": "<b>%{x}%</b><extra></extra>",
         "marker": {
          "color": "#FF8477"
         },
         "orientation": "h",
         "showlegend": false,
         "type": "bar",
         "x": [
          4.3
         ],
         "y": [
          "Informal"
         ]
        },
        {
         "hovertemplate": "<b>%{x}%</b><extra></extra>",
         "marker": {
          "color": "#FF8477"
         },
         "name": "Rarely",
         "orientation": "h",
         "showlegend": true,
         "type": "bar",
         "x": [
          5
         ],
         "y": [
          "Formal"
         ]
        },
        {
         "hovertemplate": "<b>%{x}%</b><extra></extra>",
         "marker": {
          "color": "#FF9F77"
         },
         "orientation": "h",
         "showlegend": false,
         "type": "bar",
         "x": [
          0.9
         ],
         "y": [
          "Friend"
         ]
        },
        {
         "hovertemplate": "<b>%{x}%</b><extra></extra>",
         "marker": {
          "color": "#FF9F77"
         },
         "orientation": "h",
         "showlegend": false,
         "type": "bar",
         "x": [
          3.9
         ],
         "y": [
          "Informal"
         ]
        },
        {
         "hovertemplate": "<b>%{x}%</b><extra></extra>",
         "marker": {
          "color": "#FF9F77"
         },
         "name": "Occasionally",
         "orientation": "h",
         "showlegend": true,
         "type": "bar",
         "x": [
          3.8
         ],
         "y": [
          "Formal"
         ]
        },
        {
         "hovertemplate": "<b>%{x}%</b><extra></extra>",
         "marker": {
          "color": "#FFB775"
         },
         "orientation": "h",
         "showlegend": false,
         "type": "bar",
         "x": [
          9
         ],
         "y": [
          "Friend"
         ]
        },
        {
         "hovertemplate": "<b>%{x}%</b><extra></extra>",
         "marker": {
          "color": "#FFB775"
         },
         "orientation": "h",
         "showlegend": false,
         "type": "bar",
         "x": [
          6.8
         ],
         "y": [
          "Informal"
         ]
        },
        {
         "hovertemplate": "<b>%{x}%</b><extra></extra>",
         "marker": {
          "color": "#FFB775"
         },
         "name": "Sometimes",
         "orientation": "h",
         "showlegend": true,
         "type": "bar",
         "x": [
          10.7
         ],
         "y": [
          "Formal"
         ]
        },
        {
         "hovertemplate": "<b>%{x}%</b><extra></extra>",
         "marker": {
          "color": "#BCF0C2"
         },
         "orientation": "h",
         "showlegend": false,
         "type": "bar",
         "x": [
          11.2
         ],
         "y": [
          "Friend"
         ]
        },
        {
         "hovertemplate": "<b>%{x}%</b><extra></extra>",
         "marker": {
          "color": "#BCF0C2"
         },
         "orientation": "h",
         "showlegend": false,
         "type": "bar",
         "x": [
          11.4
         ],
         "y": [
          "Informal"
         ]
        },
        {
         "hovertemplate": "<b>%{x}%</b><extra></extra>",
         "marker": {
          "color": "#BCF0C2"
         },
         "name": "???",
         "orientation": "h",
         "showlegend": true,
         "type": "bar",
         "x": [
          16.9
         ],
         "y": [
          "Formal"
         ]
        },
        {
         "hovertemplate": "<b>%{x}%</b><extra></extra>",
         "marker": {
          "color": "#8BE595"
         },
         "orientation": "h",
         "showlegend": false,
         "type": "bar",
         "x": [
          32
         ],
         "y": [
          "Friend"
         ]
        },
        {
         "hovertemplate": "<b>%{x}%</b><extra></extra>",
         "marker": {
          "color": "#8BE595"
         },
         "orientation": "h",
         "showlegend": false,
         "type": "bar",
         "x": [
          21.8
         ],
         "y": [
          "Informal"
         ]
        },
        {
         "hovertemplate": "<b>%{x}%</b><extra></extra>",
         "marker": {
          "color": "#8BE595"
         },
         "name": "Often",
         "orientation": "h",
         "showlegend": true,
         "type": "bar",
         "x": [
          24.7
         ],
         "y": [
          "Formal"
         ]
        },
        {
         "hovertemplate": "<b>%{x}%</b><extra></extra>",
         "marker": {
          "color": "#56DA65"
         },
         "orientation": "h",
         "showlegend": false,
         "type": "bar",
         "x": [
          46.3
         ],
         "y": [
          "Friend"
         ]
        },
        {
         "hovertemplate": "<b>%{x}%</b><extra></extra>",
         "marker": {
          "color": "#56DA65"
         },
         "orientation": "h",
         "showlegend": false,
         "type": "bar",
         "x": [
          45.7
         ],
         "y": [
          "Informal"
         ]
        },
        {
         "hovertemplate": "<b>%{x}%</b><extra></extra>",
         "marker": {
          "color": "#56DA65"
         },
         "name": "A lot",
         "orientation": "h",
         "showlegend": true,
         "type": "bar",
         "x": [
          28.7
         ],
         "y": [
          "Formal"
         ]
        }
       ],
       "layout": {
        "annotations": [
         {
          "align": "right",
          "font": {
           "color": "black",
           "size": 12
          },
          "showarrow": false,
          "text": "Friend",
          "x": 0.14,
          "xanchor": "right",
          "xref": "paper",
          "y": "Friend",
          "yref": "y"
         },
         {
          "font": {
           "color": "#595959",
           "size": 12
          },
          "showarrow": false,
          "text": "9.0%",
          "x": 6,
          "xref": "x",
          "y": "Friend",
          "yref": "y"
         },
         {
          "font": {
           "color": "#595959",
           "size": 12
          },
          "showarrow": false,
          "text": "11.2%",
          "x": 16.1,
          "xref": "x",
          "y": "Friend",
          "yref": "y"
         },
         {
          "font": {
           "color": "#595959",
           "size": 12
          },
          "showarrow": false,
          "text": "32.0%",
          "x": 37.7,
          "xref": "x",
          "y": "Friend",
          "yref": "y"
         },
         {
          "font": {
           "color": "#595959",
           "size": 12
          },
          "showarrow": false,
          "text": "46.3%",
          "x": 76.85,
          "xref": "x",
          "y": "Friend",
          "yref": "y"
         },
         {
          "align": "right",
          "font": {
           "color": "black",
           "size": 12
          },
          "showarrow": false,
          "text": "Informal",
          "x": 0.14,
          "xanchor": "right",
          "xref": "paper",
          "y": "Informal",
          "yref": "y"
         },
         {
          "font": {
           "color": "#595959",
           "size": 12
          },
          "showarrow": false,
          "text": "11.4%",
          "x": 26.799999999999997,
          "xref": "x",
          "y": "Informal",
          "yref": "y"
         },
         {
          "font": {
           "color": "#595959",
           "size": 12
          },
          "showarrow": false,
          "text": "21.8%",
          "x": 43.4,
          "xref": "x",
          "y": "Informal",
          "yref": "y"
         },
         {
          "font": {
           "color": "#595959",
           "size": 12
          },
          "showarrow": false,
          "text": "45.7%",
          "x": 77.15,
          "xref": "x",
          "y": "Informal",
          "yref": "y"
         },
         {
          "align": "right",
          "font": {
           "color": "black",
           "size": 12
          },
          "showarrow": false,
          "text": "Formal",
          "x": 0.14,
          "xanchor": "right",
          "xref": "paper",
          "y": "Formal",
          "yref": "y"
         },
         {
          "font": {
           "color": "#595959",
           "size": 12
          },
          "showarrow": false,
          "text": "10.1%",
          "x": 5.05,
          "xref": "x",
          "y": "Formal",
          "yref": "y"
         },
         {
          "font": {
           "color": "#595959",
           "size": 12
          },
          "showarrow": false,
          "text": "10.7%",
          "x": 24.25,
          "xref": "x",
          "y": "Formal",
          "yref": "y"
         },
         {
          "font": {
           "color": "#595959",
           "size": 12
          },
          "showarrow": false,
          "text": "16.9%",
          "x": 38.05,
          "xref": "x",
          "y": "Formal",
          "yref": "y"
         },
         {
          "font": {
           "color": "#595959",
           "size": 12
          },
          "showarrow": false,
          "text": "24.7%",
          "x": 58.85,
          "xref": "x",
          "y": "Formal",
          "yref": "y"
         },
         {
          "font": {
           "color": "#595959",
           "size": 12
          },
          "showarrow": false,
          "text": "28.7%",
          "x": 85.55,
          "xref": "x",
          "y": "Formal",
          "yref": "y"
         }
        ],
        "barmode": "stack",
        "font": {
         "color": "black",
         "size": 12
        },
        "legend": {
         "itemclick": false,
         "orientation": "h",
         "traceorder": "normal",
         "x": 0.94,
         "xanchor": "right",
         "y": 1.02,
         "yanchor": "bottom"
        },
        "margin": {
         "b": 80,
         "l": 120,
         "r": 10,
         "t": 140
        },
        "paper_bgcolor": "rgb(248, 248, 255)",
        "plot_bgcolor": "rgb(248, 248, 255)",
        "template": {
         "data": {
          "bar": [
           {
            "error_x": {
             "color": "#2a3f5f"
            },
            "error_y": {
             "color": "#2a3f5f"
            },
            "marker": {
             "line": {
              "color": "#E5ECF6",
              "width": 0.5
             }
            },
            "type": "bar"
           }
          ],
          "barpolar": [
           {
            "marker": {
             "line": {
              "color": "#E5ECF6",
              "width": 0.5
             }
            },
            "type": "barpolar"
           }
          ],
          "carpet": [
           {
            "aaxis": {
             "endlinecolor": "#2a3f5f",
             "gridcolor": "white",
             "linecolor": "white",
             "minorgridcolor": "white",
             "startlinecolor": "#2a3f5f"
            },
            "baxis": {
             "endlinecolor": "#2a3f5f",
             "gridcolor": "white",
             "linecolor": "white",
             "minorgridcolor": "white",
             "startlinecolor": "#2a3f5f"
            },
            "type": "carpet"
           }
          ],
          "choropleth": [
           {
            "colorbar": {
             "outlinewidth": 0,
             "ticks": ""
            },
            "type": "choropleth"
           }
          ],
          "contour": [
           {
            "colorbar": {
             "outlinewidth": 0,
             "ticks": ""
            },
            "colorscale": [
             [
              0,
              "#0d0887"
             ],
             [
              0.1111111111111111,
              "#46039f"
             ],
             [
              0.2222222222222222,
              "#7201a8"
             ],
             [
              0.3333333333333333,
              "#9c179e"
             ],
             [
              0.4444444444444444,
              "#bd3786"
             ],
             [
              0.5555555555555556,
              "#d8576b"
             ],
             [
              0.6666666666666666,
              "#ed7953"
             ],
             [
              0.7777777777777778,
              "#fb9f3a"
             ],
             [
              0.8888888888888888,
              "#fdca26"
             ],
             [
              1,
              "#f0f921"
             ]
            ],
            "type": "contour"
           }
          ],
          "contourcarpet": [
           {
            "colorbar": {
             "outlinewidth": 0,
             "ticks": ""
            },
            "type": "contourcarpet"
           }
          ],
          "heatmap": [
           {
            "colorbar": {
             "outlinewidth": 0,
             "ticks": ""
            },
            "colorscale": [
             [
              0,
              "#0d0887"
             ],
             [
              0.1111111111111111,
              "#46039f"
             ],
             [
              0.2222222222222222,
              "#7201a8"
             ],
             [
              0.3333333333333333,
              "#9c179e"
             ],
             [
              0.4444444444444444,
              "#bd3786"
             ],
             [
              0.5555555555555556,
              "#d8576b"
             ],
             [
              0.6666666666666666,
              "#ed7953"
             ],
             [
              0.7777777777777778,
              "#fb9f3a"
             ],
             [
              0.8888888888888888,
              "#fdca26"
             ],
             [
              1,
              "#f0f921"
             ]
            ],
            "type": "heatmap"
           }
          ],
          "heatmapgl": [
           {
            "colorbar": {
             "outlinewidth": 0,
             "ticks": ""
            },
            "colorscale": [
             [
              0,
              "#0d0887"
             ],
             [
              0.1111111111111111,
              "#46039f"
             ],
             [
              0.2222222222222222,
              "#7201a8"
             ],
             [
              0.3333333333333333,
              "#9c179e"
             ],
             [
              0.4444444444444444,
              "#bd3786"
             ],
             [
              0.5555555555555556,
              "#d8576b"
             ],
             [
              0.6666666666666666,
              "#ed7953"
             ],
             [
              0.7777777777777778,
              "#fb9f3a"
             ],
             [
              0.8888888888888888,
              "#fdca26"
             ],
             [
              1,
              "#f0f921"
             ]
            ],
            "type": "heatmapgl"
           }
          ],
          "histogram": [
           {
            "marker": {
             "colorbar": {
              "outlinewidth": 0,
              "ticks": ""
             }
            },
            "type": "histogram"
           }
          ],
          "histogram2d": [
           {
            "colorbar": {
             "outlinewidth": 0,
             "ticks": ""
            },
            "colorscale": [
             [
              0,
              "#0d0887"
             ],
             [
              0.1111111111111111,
              "#46039f"
             ],
             [
              0.2222222222222222,
              "#7201a8"
             ],
             [
              0.3333333333333333,
              "#9c179e"
             ],
             [
              0.4444444444444444,
              "#bd3786"
             ],
             [
              0.5555555555555556,
              "#d8576b"
             ],
             [
              0.6666666666666666,
              "#ed7953"
             ],
             [
              0.7777777777777778,
              "#fb9f3a"
             ],
             [
              0.8888888888888888,
              "#fdca26"
             ],
             [
              1,
              "#f0f921"
             ]
            ],
            "type": "histogram2d"
           }
          ],
          "histogram2dcontour": [
           {
            "colorbar": {
             "outlinewidth": 0,
             "ticks": ""
            },
            "colorscale": [
             [
              0,
              "#0d0887"
             ],
             [
              0.1111111111111111,
              "#46039f"
             ],
             [
              0.2222222222222222,
              "#7201a8"
             ],
             [
              0.3333333333333333,
              "#9c179e"
             ],
             [
              0.4444444444444444,
              "#bd3786"
             ],
             [
              0.5555555555555556,
              "#d8576b"
             ],
             [
              0.6666666666666666,
              "#ed7953"
             ],
             [
              0.7777777777777778,
              "#fb9f3a"
             ],
             [
              0.8888888888888888,
              "#fdca26"
             ],
             [
              1,
              "#f0f921"
             ]
            ],
            "type": "histogram2dcontour"
           }
          ],
          "mesh3d": [
           {
            "colorbar": {
             "outlinewidth": 0,
             "ticks": ""
            },
            "type": "mesh3d"
           }
          ],
          "parcoords": [
           {
            "line": {
             "colorbar": {
              "outlinewidth": 0,
              "ticks": ""
             }
            },
            "type": "parcoords"
           }
          ],
          "pie": [
           {
            "automargin": true,
            "type": "pie"
           }
          ],
          "scatter": [
           {
            "marker": {
             "colorbar": {
              "outlinewidth": 0,
              "ticks": ""
             }
            },
            "type": "scatter"
           }
          ],
          "scatter3d": [
           {
            "line": {
             "colorbar": {
              "outlinewidth": 0,
              "ticks": ""
             }
            },
            "marker": {
             "colorbar": {
              "outlinewidth": 0,
              "ticks": ""
             }
            },
            "type": "scatter3d"
           }
          ],
          "scattercarpet": [
           {
            "marker": {
             "colorbar": {
              "outlinewidth": 0,
              "ticks": ""
             }
            },
            "type": "scattercarpet"
           }
          ],
          "scattergeo": [
           {
            "marker": {
             "colorbar": {
              "outlinewidth": 0,
              "ticks": ""
             }
            },
            "type": "scattergeo"
           }
          ],
          "scattergl": [
           {
            "marker": {
             "colorbar": {
              "outlinewidth": 0,
              "ticks": ""
             }
            },
            "type": "scattergl"
           }
          ],
          "scattermapbox": [
           {
            "marker": {
             "colorbar": {
              "outlinewidth": 0,
              "ticks": ""
             }
            },
            "type": "scattermapbox"
           }
          ],
          "scatterpolar": [
           {
            "marker": {
             "colorbar": {
              "outlinewidth": 0,
              "ticks": ""
             }
            },
            "type": "scatterpolar"
           }
          ],
          "scatterpolargl": [
           {
            "marker": {
             "colorbar": {
              "outlinewidth": 0,
              "ticks": ""
             }
            },
            "type": "scatterpolargl"
           }
          ],
          "scatterternary": [
           {
            "marker": {
             "colorbar": {
              "outlinewidth": 0,
              "ticks": ""
             }
            },
            "type": "scatterternary"
           }
          ],
          "surface": [
           {
            "colorbar": {
             "outlinewidth": 0,
             "ticks": ""
            },
            "colorscale": [
             [
              0,
              "#0d0887"
             ],
             [
              0.1111111111111111,
              "#46039f"
             ],
             [
              0.2222222222222222,
              "#7201a8"
             ],
             [
              0.3333333333333333,
              "#9c179e"
             ],
             [
              0.4444444444444444,
              "#bd3786"
             ],
             [
              0.5555555555555556,
              "#d8576b"
             ],
             [
              0.6666666666666666,
              "#ed7953"
             ],
             [
              0.7777777777777778,
              "#fb9f3a"
             ],
             [
              0.8888888888888888,
              "#fdca26"
             ],
             [
              1,
              "#f0f921"
             ]
            ],
            "type": "surface"
           }
          ],
          "table": [
           {
            "cells": {
             "fill": {
              "color": "#EBF0F8"
             },
             "line": {
              "color": "white"
             }
            },
            "header": {
             "fill": {
              "color": "#C8D4E3"
             },
             "line": {
              "color": "white"
             }
            },
            "type": "table"
           }
          ]
         },
         "layout": {
          "annotationdefaults": {
           "arrowcolor": "#2a3f5f",
           "arrowhead": 0,
           "arrowwidth": 1
          },
          "coloraxis": {
           "colorbar": {
            "outlinewidth": 0,
            "ticks": ""
           }
          },
          "colorscale": {
           "diverging": [
            [
             0,
             "#8e0152"
            ],
            [
             0.1,
             "#c51b7d"
            ],
            [
             0.2,
             "#de77ae"
            ],
            [
             0.3,
             "#f1b6da"
            ],
            [
             0.4,
             "#fde0ef"
            ],
            [
             0.5,
             "#f7f7f7"
            ],
            [
             0.6,
             "#e6f5d0"
            ],
            [
             0.7,
             "#b8e186"
            ],
            [
             0.8,
             "#7fbc41"
            ],
            [
             0.9,
             "#4d9221"
            ],
            [
             1,
             "#276419"
            ]
           ],
           "sequential": [
            [
             0,
             "#0d0887"
            ],
            [
             0.1111111111111111,
             "#46039f"
            ],
            [
             0.2222222222222222,
             "#7201a8"
            ],
            [
             0.3333333333333333,
             "#9c179e"
            ],
            [
             0.4444444444444444,
             "#bd3786"
            ],
            [
             0.5555555555555556,
             "#d8576b"
            ],
            [
             0.6666666666666666,
             "#ed7953"
            ],
            [
             0.7777777777777778,
             "#fb9f3a"
            ],
            [
             0.8888888888888888,
             "#fdca26"
            ],
            [
             1,
             "#f0f921"
            ]
           ],
           "sequentialminus": [
            [
             0,
             "#0d0887"
            ],
            [
             0.1111111111111111,
             "#46039f"
            ],
            [
             0.2222222222222222,
             "#7201a8"
            ],
            [
             0.3333333333333333,
             "#9c179e"
            ],
            [
             0.4444444444444444,
             "#bd3786"
            ],
            [
             0.5555555555555556,
             "#d8576b"
            ],
            [
             0.6666666666666666,
             "#ed7953"
            ],
            [
             0.7777777777777778,
             "#fb9f3a"
            ],
            [
             0.8888888888888888,
             "#fdca26"
            ],
            [
             1,
             "#f0f921"
            ]
           ]
          },
          "colorway": [
           "#636efa",
           "#EF553B",
           "#00cc96",
           "#ab63fa",
           "#FFA15A",
           "#19d3f3",
           "#FF6692",
           "#B6E880",
           "#FF97FF",
           "#FECB52"
          ],
          "font": {
           "color": "#2a3f5f"
          },
          "geo": {
           "bgcolor": "white",
           "lakecolor": "white",
           "landcolor": "#E5ECF6",
           "showlakes": true,
           "showland": true,
           "subunitcolor": "white"
          },
          "hoverlabel": {
           "align": "left"
          },
          "hovermode": "closest",
          "mapbox": {
           "style": "light"
          },
          "paper_bgcolor": "white",
          "plot_bgcolor": "#E5ECF6",
          "polar": {
           "angularaxis": {
            "gridcolor": "white",
            "linecolor": "white",
            "ticks": ""
           },
           "bgcolor": "#E5ECF6",
           "radialaxis": {
            "gridcolor": "white",
            "linecolor": "white",
            "ticks": ""
           }
          },
          "scene": {
           "xaxis": {
            "backgroundcolor": "#E5ECF6",
            "gridcolor": "white",
            "gridwidth": 2,
            "linecolor": "white",
            "showbackground": true,
            "ticks": "",
            "zerolinecolor": "white"
           },
           "yaxis": {
            "backgroundcolor": "#E5ECF6",
            "gridcolor": "white",
            "gridwidth": 2,
            "linecolor": "white",
            "showbackground": true,
            "ticks": "",
            "zerolinecolor": "white"
           },
           "zaxis": {
            "backgroundcolor": "#E5ECF6",
            "gridcolor": "white",
            "gridwidth": 2,
            "linecolor": "white",
            "showbackground": true,
            "ticks": "",
            "zerolinecolor": "white"
           }
          },
          "shapedefaults": {
           "line": {
            "color": "#2a3f5f"
           }
          },
          "ternary": {
           "aaxis": {
            "gridcolor": "white",
            "linecolor": "white",
            "ticks": ""
           },
           "baxis": {
            "gridcolor": "white",
            "linecolor": "white",
            "ticks": ""
           },
           "bgcolor": "#E5ECF6",
           "caxis": {
            "gridcolor": "white",
            "linecolor": "white",
            "ticks": ""
           }
          },
          "title": {
           "x": 0.05
          },
          "xaxis": {
           "automargin": true,
           "gridcolor": "white",
           "linecolor": "white",
           "ticks": "",
           "title": {
            "standoff": 15
           },
           "zerolinecolor": "white",
           "zerolinewidth": 2
          },
          "yaxis": {
           "automargin": true,
           "gridcolor": "white",
           "linecolor": "white",
           "ticks": "",
           "title": {
            "standoff": 15
           },
           "zerolinecolor": "white",
           "zerolinewidth": 2
          }
         }
        },
        "title": {
         "text": "Overall, how much would you say you trust this person?",
         "x": 0.955,
         "y": 0.88
        },
        "xaxis": {
         "domain": [
          0.15,
          1
         ],
         "showgrid": false,
         "showline": false,
         "showticklabels": false,
         "zeroline": false
        },
        "yaxis": {
         "showgrid": false,
         "showline": false,
         "showticklabels": false,
         "zeroline": false
        }
       }
      },
      "text/html": [
       "<div>\n",
       "        \n",
       "        \n",
       "            <div id=\"2d702397-a19a-4daf-8314-d79d2525f50d\" class=\"plotly-graph-div\" style=\"height:525px; width:100%;\"></div>\n",
       "            <script type=\"text/javascript\">\n",
       "                require([\"plotly\"], function(Plotly) {\n",
       "                    window.PLOTLYENV=window.PLOTLYENV || {};\n",
       "                    \n",
       "                if (document.getElementById(\"2d702397-a19a-4daf-8314-d79d2525f50d\")) {\n",
       "                    Plotly.newPlot(\n",
       "                        '2d702397-a19a-4daf-8314-d79d2525f50d',\n",
       "                        [{\"hovertemplate\": \"<b>%{x}%</b><extra></extra>\", \"marker\": {\"color\": \"#FF6478\"}, \"orientation\": \"h\", \"showlegend\": false, \"type\": \"bar\", \"x\": [0.3], \"y\": [\"Friend\"]}, {\"hovertemplate\": \"<b>%{x}%</b><extra></extra>\", \"marker\": {\"color\": \"#FF6478\"}, \"orientation\": \"h\", \"showlegend\": false, \"type\": \"bar\", \"x\": [6.1], \"y\": [\"Informal\"]}, {\"hovertemplate\": \"<b>%{x}%</b><extra></extra>\", \"marker\": {\"color\": \"#FF6478\"}, \"name\": \"Not at all\", \"orientation\": \"h\", \"showlegend\": true, \"type\": \"bar\", \"x\": [10.1], \"y\": [\"Formal\"]}, {\"hovertemplate\": \"<b>%{x}%</b><extra></extra>\", \"marker\": {\"color\": \"#FF8477\"}, \"orientation\": \"h\", \"showlegend\": false, \"type\": \"bar\", \"x\": [0.3], \"y\": [\"Friend\"]}, {\"hovertemplate\": \"<b>%{x}%</b><extra></extra>\", \"marker\": {\"color\": \"#FF8477\"}, \"orientation\": \"h\", \"showlegend\": false, \"type\": \"bar\", \"x\": [4.3], \"y\": [\"Informal\"]}, {\"hovertemplate\": \"<b>%{x}%</b><extra></extra>\", \"marker\": {\"color\": \"#FF8477\"}, \"name\": \"Rarely\", \"orientation\": \"h\", \"showlegend\": true, \"type\": \"bar\", \"x\": [5.0], \"y\": [\"Formal\"]}, {\"hovertemplate\": \"<b>%{x}%</b><extra></extra>\", \"marker\": {\"color\": \"#FF9F77\"}, \"orientation\": \"h\", \"showlegend\": false, \"type\": \"bar\", \"x\": [0.9], \"y\": [\"Friend\"]}, {\"hovertemplate\": \"<b>%{x}%</b><extra></extra>\", \"marker\": {\"color\": \"#FF9F77\"}, \"orientation\": \"h\", \"showlegend\": false, \"type\": \"bar\", \"x\": [3.9], \"y\": [\"Informal\"]}, {\"hovertemplate\": \"<b>%{x}%</b><extra></extra>\", \"marker\": {\"color\": \"#FF9F77\"}, \"name\": \"Occasionally\", \"orientation\": \"h\", \"showlegend\": true, \"type\": \"bar\", \"x\": [3.8], \"y\": [\"Formal\"]}, {\"hovertemplate\": \"<b>%{x}%</b><extra></extra>\", \"marker\": {\"color\": \"#FFB775\"}, \"orientation\": \"h\", \"showlegend\": false, \"type\": \"bar\", \"x\": [9.0], \"y\": [\"Friend\"]}, {\"hovertemplate\": \"<b>%{x}%</b><extra></extra>\", \"marker\": {\"color\": \"#FFB775\"}, \"orientation\": \"h\", \"showlegend\": false, \"type\": \"bar\", \"x\": [6.8], \"y\": [\"Informal\"]}, {\"hovertemplate\": \"<b>%{x}%</b><extra></extra>\", \"marker\": {\"color\": \"#FFB775\"}, \"name\": \"Sometimes\", \"orientation\": \"h\", \"showlegend\": true, \"type\": \"bar\", \"x\": [10.7], \"y\": [\"Formal\"]}, {\"hovertemplate\": \"<b>%{x}%</b><extra></extra>\", \"marker\": {\"color\": \"#BCF0C2\"}, \"orientation\": \"h\", \"showlegend\": false, \"type\": \"bar\", \"x\": [11.2], \"y\": [\"Friend\"]}, {\"hovertemplate\": \"<b>%{x}%</b><extra></extra>\", \"marker\": {\"color\": \"#BCF0C2\"}, \"orientation\": \"h\", \"showlegend\": false, \"type\": \"bar\", \"x\": [11.4], \"y\": [\"Informal\"]}, {\"hovertemplate\": \"<b>%{x}%</b><extra></extra>\", \"marker\": {\"color\": \"#BCF0C2\"}, \"name\": \"???\", \"orientation\": \"h\", \"showlegend\": true, \"type\": \"bar\", \"x\": [16.9], \"y\": [\"Formal\"]}, {\"hovertemplate\": \"<b>%{x}%</b><extra></extra>\", \"marker\": {\"color\": \"#8BE595\"}, \"orientation\": \"h\", \"showlegend\": false, \"type\": \"bar\", \"x\": [32.0], \"y\": [\"Friend\"]}, {\"hovertemplate\": \"<b>%{x}%</b><extra></extra>\", \"marker\": {\"color\": \"#8BE595\"}, \"orientation\": \"h\", \"showlegend\": false, \"type\": \"bar\", \"x\": [21.8], \"y\": [\"Informal\"]}, {\"hovertemplate\": \"<b>%{x}%</b><extra></extra>\", \"marker\": {\"color\": \"#8BE595\"}, \"name\": \"Often\", \"orientation\": \"h\", \"showlegend\": true, \"type\": \"bar\", \"x\": [24.7], \"y\": [\"Formal\"]}, {\"hovertemplate\": \"<b>%{x}%</b><extra></extra>\", \"marker\": {\"color\": \"#56DA65\"}, \"orientation\": \"h\", \"showlegend\": false, \"type\": \"bar\", \"x\": [46.3], \"y\": [\"Friend\"]}, {\"hovertemplate\": \"<b>%{x}%</b><extra></extra>\", \"marker\": {\"color\": \"#56DA65\"}, \"orientation\": \"h\", \"showlegend\": false, \"type\": \"bar\", \"x\": [45.7], \"y\": [\"Informal\"]}, {\"hovertemplate\": \"<b>%{x}%</b><extra></extra>\", \"marker\": {\"color\": \"#56DA65\"}, \"name\": \"A lot\", \"orientation\": \"h\", \"showlegend\": true, \"type\": \"bar\", \"x\": [28.7], \"y\": [\"Formal\"]}],\n",
       "                        {\"annotations\": [{\"align\": \"right\", \"font\": {\"color\": \"black\", \"size\": 12}, \"showarrow\": false, \"text\": \"Friend\", \"x\": 0.14, \"xanchor\": \"right\", \"xref\": \"paper\", \"y\": \"Friend\", \"yref\": \"y\"}, {\"font\": {\"color\": \"#595959\", \"size\": 12}, \"showarrow\": false, \"text\": \"9.0%\", \"x\": 6.0, \"xref\": \"x\", \"y\": \"Friend\", \"yref\": \"y\"}, {\"font\": {\"color\": \"#595959\", \"size\": 12}, \"showarrow\": false, \"text\": \"11.2%\", \"x\": 16.1, \"xref\": \"x\", \"y\": \"Friend\", \"yref\": \"y\"}, {\"font\": {\"color\": \"#595959\", \"size\": 12}, \"showarrow\": false, \"text\": \"32.0%\", \"x\": 37.7, \"xref\": \"x\", \"y\": \"Friend\", \"yref\": \"y\"}, {\"font\": {\"color\": \"#595959\", \"size\": 12}, \"showarrow\": false, \"text\": \"46.3%\", \"x\": 76.85, \"xref\": \"x\", \"y\": \"Friend\", \"yref\": \"y\"}, {\"align\": \"right\", \"font\": {\"color\": \"black\", \"size\": 12}, \"showarrow\": false, \"text\": \"Informal\", \"x\": 0.14, \"xanchor\": \"right\", \"xref\": \"paper\", \"y\": \"Informal\", \"yref\": \"y\"}, {\"font\": {\"color\": \"#595959\", \"size\": 12}, \"showarrow\": false, \"text\": \"11.4%\", \"x\": 26.799999999999997, \"xref\": \"x\", \"y\": \"Informal\", \"yref\": \"y\"}, {\"font\": {\"color\": \"#595959\", \"size\": 12}, \"showarrow\": false, \"text\": \"21.8%\", \"x\": 43.4, \"xref\": \"x\", \"y\": \"Informal\", \"yref\": \"y\"}, {\"font\": {\"color\": \"#595959\", \"size\": 12}, \"showarrow\": false, \"text\": \"45.7%\", \"x\": 77.15, \"xref\": \"x\", \"y\": \"Informal\", \"yref\": \"y\"}, {\"align\": \"right\", \"font\": {\"color\": \"black\", \"size\": 12}, \"showarrow\": false, \"text\": \"Formal\", \"x\": 0.14, \"xanchor\": \"right\", \"xref\": \"paper\", \"y\": \"Formal\", \"yref\": \"y\"}, {\"font\": {\"color\": \"#595959\", \"size\": 12}, \"showarrow\": false, \"text\": \"10.1%\", \"x\": 5.05, \"xref\": \"x\", \"y\": \"Formal\", \"yref\": \"y\"}, {\"font\": {\"color\": \"#595959\", \"size\": 12}, \"showarrow\": false, \"text\": \"10.7%\", \"x\": 24.25, \"xref\": \"x\", \"y\": \"Formal\", \"yref\": \"y\"}, {\"font\": {\"color\": \"#595959\", \"size\": 12}, \"showarrow\": false, \"text\": \"16.9%\", \"x\": 38.05, \"xref\": \"x\", \"y\": \"Formal\", \"yref\": \"y\"}, {\"font\": {\"color\": \"#595959\", \"size\": 12}, \"showarrow\": false, \"text\": \"24.7%\", \"x\": 58.85, \"xref\": \"x\", \"y\": \"Formal\", \"yref\": \"y\"}, {\"font\": {\"color\": \"#595959\", \"size\": 12}, \"showarrow\": false, \"text\": \"28.7%\", \"x\": 85.55, \"xref\": \"x\", \"y\": \"Formal\", \"yref\": \"y\"}], \"barmode\": \"stack\", \"font\": {\"color\": \"black\", \"size\": 12}, \"legend\": {\"itemclick\": false, \"orientation\": \"h\", \"traceorder\": \"normal\", \"x\": 0.94, \"xanchor\": \"right\", \"y\": 1.02, \"yanchor\": \"bottom\"}, \"margin\": {\"b\": 80, \"l\": 120, \"r\": 10, \"t\": 140}, \"paper_bgcolor\": \"rgb(248, 248, 255)\", \"plot_bgcolor\": \"rgb(248, 248, 255)\", \"template\": {\"data\": {\"bar\": [{\"error_x\": {\"color\": \"#2a3f5f\"}, \"error_y\": {\"color\": \"#2a3f5f\"}, \"marker\": {\"line\": {\"color\": \"#E5ECF6\", \"width\": 0.5}}, \"type\": \"bar\"}], \"barpolar\": [{\"marker\": {\"line\": {\"color\": \"#E5ECF6\", \"width\": 0.5}}, \"type\": \"barpolar\"}], \"carpet\": [{\"aaxis\": {\"endlinecolor\": \"#2a3f5f\", \"gridcolor\": \"white\", \"linecolor\": \"white\", \"minorgridcolor\": \"white\", \"startlinecolor\": \"#2a3f5f\"}, \"baxis\": {\"endlinecolor\": \"#2a3f5f\", \"gridcolor\": \"white\", \"linecolor\": \"white\", \"minorgridcolor\": \"white\", \"startlinecolor\": \"#2a3f5f\"}, \"type\": \"carpet\"}], \"choropleth\": [{\"colorbar\": {\"outlinewidth\": 0, \"ticks\": \"\"}, \"type\": \"choropleth\"}], \"contour\": [{\"colorbar\": {\"outlinewidth\": 0, \"ticks\": \"\"}, \"colorscale\": [[0.0, \"#0d0887\"], [0.1111111111111111, \"#46039f\"], [0.2222222222222222, \"#7201a8\"], [0.3333333333333333, \"#9c179e\"], [0.4444444444444444, \"#bd3786\"], [0.5555555555555556, \"#d8576b\"], [0.6666666666666666, \"#ed7953\"], [0.7777777777777778, \"#fb9f3a\"], [0.8888888888888888, \"#fdca26\"], [1.0, \"#f0f921\"]], \"type\": \"contour\"}], \"contourcarpet\": [{\"colorbar\": {\"outlinewidth\": 0, \"ticks\": \"\"}, \"type\": \"contourcarpet\"}], \"heatmap\": [{\"colorbar\": {\"outlinewidth\": 0, \"ticks\": \"\"}, \"colorscale\": [[0.0, \"#0d0887\"], [0.1111111111111111, \"#46039f\"], [0.2222222222222222, \"#7201a8\"], [0.3333333333333333, \"#9c179e\"], [0.4444444444444444, \"#bd3786\"], [0.5555555555555556, \"#d8576b\"], [0.6666666666666666, \"#ed7953\"], [0.7777777777777778, \"#fb9f3a\"], [0.8888888888888888, \"#fdca26\"], [1.0, \"#f0f921\"]], \"type\": \"heatmap\"}], \"heatmapgl\": [{\"colorbar\": {\"outlinewidth\": 0, \"ticks\": \"\"}, \"colorscale\": [[0.0, \"#0d0887\"], [0.1111111111111111, \"#46039f\"], [0.2222222222222222, \"#7201a8\"], [0.3333333333333333, \"#9c179e\"], [0.4444444444444444, \"#bd3786\"], [0.5555555555555556, \"#d8576b\"], [0.6666666666666666, \"#ed7953\"], [0.7777777777777778, \"#fb9f3a\"], [0.8888888888888888, \"#fdca26\"], [1.0, \"#f0f921\"]], \"type\": \"heatmapgl\"}], \"histogram\": [{\"marker\": {\"colorbar\": {\"outlinewidth\": 0, \"ticks\": \"\"}}, \"type\": \"histogram\"}], \"histogram2d\": [{\"colorbar\": {\"outlinewidth\": 0, \"ticks\": \"\"}, \"colorscale\": [[0.0, \"#0d0887\"], [0.1111111111111111, \"#46039f\"], [0.2222222222222222, \"#7201a8\"], [0.3333333333333333, \"#9c179e\"], [0.4444444444444444, \"#bd3786\"], [0.5555555555555556, \"#d8576b\"], [0.6666666666666666, \"#ed7953\"], [0.7777777777777778, \"#fb9f3a\"], [0.8888888888888888, \"#fdca26\"], [1.0, \"#f0f921\"]], \"type\": \"histogram2d\"}], \"histogram2dcontour\": [{\"colorbar\": {\"outlinewidth\": 0, \"ticks\": \"\"}, \"colorscale\": [[0.0, \"#0d0887\"], [0.1111111111111111, \"#46039f\"], [0.2222222222222222, \"#7201a8\"], [0.3333333333333333, \"#9c179e\"], [0.4444444444444444, \"#bd3786\"], [0.5555555555555556, \"#d8576b\"], [0.6666666666666666, \"#ed7953\"], [0.7777777777777778, \"#fb9f3a\"], [0.8888888888888888, \"#fdca26\"], [1.0, \"#f0f921\"]], \"type\": \"histogram2dcontour\"}], \"mesh3d\": [{\"colorbar\": {\"outlinewidth\": 0, \"ticks\": \"\"}, \"type\": \"mesh3d\"}], \"parcoords\": [{\"line\": {\"colorbar\": {\"outlinewidth\": 0, \"ticks\": \"\"}}, \"type\": \"parcoords\"}], \"pie\": [{\"automargin\": true, \"type\": \"pie\"}], \"scatter\": [{\"marker\": {\"colorbar\": {\"outlinewidth\": 0, \"ticks\": \"\"}}, \"type\": \"scatter\"}], \"scatter3d\": [{\"line\": {\"colorbar\": {\"outlinewidth\": 0, \"ticks\": \"\"}}, \"marker\": {\"colorbar\": {\"outlinewidth\": 0, \"ticks\": \"\"}}, \"type\": \"scatter3d\"}], \"scattercarpet\": [{\"marker\": {\"colorbar\": {\"outlinewidth\": 0, \"ticks\": \"\"}}, \"type\": \"scattercarpet\"}], \"scattergeo\": [{\"marker\": {\"colorbar\": {\"outlinewidth\": 0, \"ticks\": \"\"}}, \"type\": \"scattergeo\"}], \"scattergl\": [{\"marker\": {\"colorbar\": {\"outlinewidth\": 0, \"ticks\": \"\"}}, \"type\": \"scattergl\"}], \"scattermapbox\": [{\"marker\": {\"colorbar\": {\"outlinewidth\": 0, \"ticks\": \"\"}}, \"type\": \"scattermapbox\"}], \"scatterpolar\": [{\"marker\": {\"colorbar\": {\"outlinewidth\": 0, \"ticks\": \"\"}}, \"type\": \"scatterpolar\"}], \"scatterpolargl\": [{\"marker\": {\"colorbar\": {\"outlinewidth\": 0, \"ticks\": \"\"}}, \"type\": \"scatterpolargl\"}], \"scatterternary\": [{\"marker\": {\"colorbar\": {\"outlinewidth\": 0, \"ticks\": \"\"}}, \"type\": \"scatterternary\"}], \"surface\": [{\"colorbar\": {\"outlinewidth\": 0, \"ticks\": \"\"}, \"colorscale\": [[0.0, \"#0d0887\"], [0.1111111111111111, \"#46039f\"], [0.2222222222222222, \"#7201a8\"], [0.3333333333333333, \"#9c179e\"], [0.4444444444444444, \"#bd3786\"], [0.5555555555555556, \"#d8576b\"], [0.6666666666666666, \"#ed7953\"], [0.7777777777777778, \"#fb9f3a\"], [0.8888888888888888, \"#fdca26\"], [1.0, \"#f0f921\"]], \"type\": \"surface\"}], \"table\": [{\"cells\": {\"fill\": {\"color\": \"#EBF0F8\"}, \"line\": {\"color\": \"white\"}}, \"header\": {\"fill\": {\"color\": \"#C8D4E3\"}, \"line\": {\"color\": \"white\"}}, \"type\": \"table\"}]}, \"layout\": {\"annotationdefaults\": {\"arrowcolor\": \"#2a3f5f\", \"arrowhead\": 0, \"arrowwidth\": 1}, \"coloraxis\": {\"colorbar\": {\"outlinewidth\": 0, \"ticks\": \"\"}}, \"colorscale\": {\"diverging\": [[0, \"#8e0152\"], [0.1, \"#c51b7d\"], [0.2, \"#de77ae\"], [0.3, \"#f1b6da\"], [0.4, \"#fde0ef\"], [0.5, \"#f7f7f7\"], [0.6, \"#e6f5d0\"], [0.7, \"#b8e186\"], [0.8, \"#7fbc41\"], [0.9, \"#4d9221\"], [1, \"#276419\"]], \"sequential\": [[0.0, \"#0d0887\"], [0.1111111111111111, \"#46039f\"], [0.2222222222222222, \"#7201a8\"], [0.3333333333333333, \"#9c179e\"], [0.4444444444444444, \"#bd3786\"], [0.5555555555555556, \"#d8576b\"], [0.6666666666666666, \"#ed7953\"], [0.7777777777777778, \"#fb9f3a\"], [0.8888888888888888, \"#fdca26\"], [1.0, \"#f0f921\"]], \"sequentialminus\": [[0.0, \"#0d0887\"], [0.1111111111111111, \"#46039f\"], [0.2222222222222222, \"#7201a8\"], [0.3333333333333333, \"#9c179e\"], [0.4444444444444444, \"#bd3786\"], [0.5555555555555556, \"#d8576b\"], [0.6666666666666666, \"#ed7953\"], [0.7777777777777778, \"#fb9f3a\"], [0.8888888888888888, \"#fdca26\"], [1.0, \"#f0f921\"]]}, \"colorway\": [\"#636efa\", \"#EF553B\", \"#00cc96\", \"#ab63fa\", \"#FFA15A\", \"#19d3f3\", \"#FF6692\", \"#B6E880\", \"#FF97FF\", \"#FECB52\"], \"font\": {\"color\": \"#2a3f5f\"}, \"geo\": {\"bgcolor\": \"white\", \"lakecolor\": \"white\", \"landcolor\": \"#E5ECF6\", \"showlakes\": true, \"showland\": true, \"subunitcolor\": \"white\"}, \"hoverlabel\": {\"align\": \"left\"}, \"hovermode\": \"closest\", \"mapbox\": {\"style\": \"light\"}, \"paper_bgcolor\": \"white\", \"plot_bgcolor\": \"#E5ECF6\", \"polar\": {\"angularaxis\": {\"gridcolor\": \"white\", \"linecolor\": \"white\", \"ticks\": \"\"}, \"bgcolor\": \"#E5ECF6\", \"radialaxis\": {\"gridcolor\": \"white\", \"linecolor\": \"white\", \"ticks\": \"\"}}, \"scene\": {\"xaxis\": {\"backgroundcolor\": \"#E5ECF6\", \"gridcolor\": \"white\", \"gridwidth\": 2, \"linecolor\": \"white\", \"showbackground\": true, \"ticks\": \"\", \"zerolinecolor\": \"white\"}, \"yaxis\": {\"backgroundcolor\": \"#E5ECF6\", \"gridcolor\": \"white\", \"gridwidth\": 2, \"linecolor\": \"white\", \"showbackground\": true, \"ticks\": \"\", \"zerolinecolor\": \"white\"}, \"zaxis\": {\"backgroundcolor\": \"#E5ECF6\", \"gridcolor\": \"white\", \"gridwidth\": 2, \"linecolor\": \"white\", \"showbackground\": true, \"ticks\": \"\", \"zerolinecolor\": \"white\"}}, \"shapedefaults\": {\"line\": {\"color\": \"#2a3f5f\"}}, \"ternary\": {\"aaxis\": {\"gridcolor\": \"white\", \"linecolor\": \"white\", \"ticks\": \"\"}, \"baxis\": {\"gridcolor\": \"white\", \"linecolor\": \"white\", \"ticks\": \"\"}, \"bgcolor\": \"#E5ECF6\", \"caxis\": {\"gridcolor\": \"white\", \"linecolor\": \"white\", \"ticks\": \"\"}}, \"title\": {\"x\": 0.05}, \"xaxis\": {\"automargin\": true, \"gridcolor\": \"white\", \"linecolor\": \"white\", \"ticks\": \"\", \"title\": {\"standoff\": 15}, \"zerolinecolor\": \"white\", \"zerolinewidth\": 2}, \"yaxis\": {\"automargin\": true, \"gridcolor\": \"white\", \"linecolor\": \"white\", \"ticks\": \"\", \"title\": {\"standoff\": 15}, \"zerolinecolor\": \"white\", \"zerolinewidth\": 2}}}, \"title\": {\"text\": \"Overall, how much would you say you trust this person?\", \"x\": 0.955, \"y\": 0.88}, \"xaxis\": {\"domain\": [0.15, 1], \"showgrid\": false, \"showline\": false, \"showticklabels\": false, \"zeroline\": false}, \"yaxis\": {\"showgrid\": false, \"showline\": false, \"showticklabels\": false, \"zeroline\": false}},\n",
       "                        {\"displayModeBar\": false, \"responsive\": true}\n",
       "                    ).then(function(){\n",
       "                            \n",
       "var gd = document.getElementById('2d702397-a19a-4daf-8314-d79d2525f50d');\n",
       "var x = new MutationObserver(function (mutations, observer) {{\n",
       "        var display = window.getComputedStyle(gd).display;\n",
       "        if (!display || display === 'none') {{\n",
       "            console.log([gd, 'removed!']);\n",
       "            Plotly.purge(gd);\n",
       "            observer.disconnect();\n",
       "        }}\n",
       "}});\n",
       "\n",
       "// Listen for the removal of the full notebook cells\n",
       "var notebookContainer = gd.closest('#notebook-container');\n",
       "if (notebookContainer) {{\n",
       "    x.observe(notebookContainer, {childList: true});\n",
       "}}\n",
       "\n",
       "// Listen for the clearing of the current output cell\n",
       "var outputEl = gd.closest('.output');\n",
       "if (outputEl) {{\n",
       "    x.observe(outputEl, {childList: true});\n",
       "}}\n",
       "\n",
       "                        })\n",
       "                };\n",
       "                });\n",
       "            </script>\n",
       "        </div>"
      ]
     },
     "metadata": {},
     "output_type": "display_data"
    }
   ],
   "source": [
    "vertical_stack_percent_bar('trust.overall.p', 'Overall, how much would you say you trust this person?')"
   ]
  },
  {
   "cell_type": "code",
   "execution_count": 49,
   "metadata": {},
   "outputs": [
    {
     "data": {
      "application/vnd.plotly.v1+json": {
       "config": {
        "displayModeBar": false,
        "plotlyServerURL": "https://plotly.com"
       },
       "data": [
        {
         "hovertemplate": "<b>%{x}%</b><extra></extra>",
         "marker": {
          "color": "#FF6478"
         },
         "orientation": "h",
         "showlegend": false,
         "type": "bar",
         "x": [
          0.3
         ],
         "y": [
          "Friend"
         ]
        },
        {
         "hovertemplate": "<b>%{x}%</b><extra></extra>",
         "marker": {
          "color": "#FF6478"
         },
         "orientation": "h",
         "showlegend": false,
         "type": "bar",
         "x": [
          9.3
         ],
         "y": [
          "Informal"
         ]
        },
        {
         "hovertemplate": "<b>%{x}%</b><extra></extra>",
         "marker": {
          "color": "#FF6478"
         },
         "name": "Not at all",
         "orientation": "h",
         "showlegend": true,
         "type": "bar",
         "x": [
          22.4
         ],
         "y": [
          "Formal"
         ]
        },
        {
         "hovertemplate": "<b>%{x}%</b><extra></extra>",
         "marker": {
          "color": "#FF8477"
         },
         "orientation": "h",
         "showlegend": false,
         "type": "bar",
         "x": [
          0.3
         ],
         "y": [
          "Friend"
         ]
        },
        {
         "hovertemplate": "<b>%{x}%</b><extra></extra>",
         "marker": {
          "color": "#FF8477"
         },
         "orientation": "h",
         "showlegend": false,
         "type": "bar",
         "x": [
          4.6
         ],
         "y": [
          "Informal"
         ]
        },
        {
         "hovertemplate": "<b>%{x}%</b><extra></extra>",
         "marker": {
          "color": "#FF8477"
         },
         "name": "Rarely",
         "orientation": "h",
         "showlegend": true,
         "type": "bar",
         "x": [
          10.6
         ],
         "y": [
          "Formal"
         ]
        },
        {
         "hovertemplate": "<b>%{x}%</b><extra></extra>",
         "marker": {
          "color": "#FF9F77"
         },
         "orientation": "h",
         "showlegend": false,
         "type": "bar",
         "x": [
          2.2
         ],
         "y": [
          "Friend"
         ]
        },
        {
         "hovertemplate": "<b>%{x}%</b><extra></extra>",
         "marker": {
          "color": "#FF9F77"
         },
         "orientation": "h",
         "showlegend": false,
         "type": "bar",
         "x": [
          4.9
         ],
         "y": [
          "Informal"
         ]
        },
        {
         "hovertemplate": "<b>%{x}%</b><extra></extra>",
         "marker": {
          "color": "#FF9F77"
         },
         "name": "Occasionally",
         "orientation": "h",
         "showlegend": true,
         "type": "bar",
         "x": [
          8.5
         ],
         "y": [
          "Formal"
         ]
        },
        {
         "hovertemplate": "<b>%{x}%</b><extra></extra>",
         "marker": {
          "color": "#FFB775"
         },
         "orientation": "h",
         "showlegend": false,
         "type": "bar",
         "x": [
          7.6
         ],
         "y": [
          "Friend"
         ]
        },
        {
         "hovertemplate": "<b>%{x}%</b><extra></extra>",
         "marker": {
          "color": "#FFB775"
         },
         "orientation": "h",
         "showlegend": false,
         "type": "bar",
         "x": [
          8.8
         ],
         "y": [
          "Informal"
         ]
        },
        {
         "hovertemplate": "<b>%{x}%</b><extra></extra>",
         "marker": {
          "color": "#FFB775"
         },
         "name": "Sometimes",
         "orientation": "h",
         "showlegend": true,
         "type": "bar",
         "x": [
          20.7
         ],
         "y": [
          "Formal"
         ]
        },
        {
         "hovertemplate": "<b>%{x}%</b><extra></extra>",
         "marker": {
          "color": "#BCF0C2"
         },
         "orientation": "h",
         "showlegend": false,
         "type": "bar",
         "x": [
          17.1
         ],
         "y": [
          "Friend"
         ]
        },
        {
         "hovertemplate": "<b>%{x}%</b><extra></extra>",
         "marker": {
          "color": "#BCF0C2"
         },
         "orientation": "h",
         "showlegend": false,
         "type": "bar",
         "x": [
          12.5
         ],
         "y": [
          "Informal"
         ]
        },
        {
         "hovertemplate": "<b>%{x}%</b><extra></extra>",
         "marker": {
          "color": "#BCF0C2"
         },
         "name": "???",
         "orientation": "h",
         "showlegend": true,
         "type": "bar",
         "x": [
          13.7
         ],
         "y": [
          "Formal"
         ]
        },
        {
         "hovertemplate": "<b>%{x}%</b><extra></extra>",
         "marker": {
          "color": "#8BE595"
         },
         "orientation": "h",
         "showlegend": false,
         "type": "bar",
         "x": [
          32.6
         ],
         "y": [
          "Friend"
         ]
        },
        {
         "hovertemplate": "<b>%{x}%</b><extra></extra>",
         "marker": {
          "color": "#8BE595"
         },
         "orientation": "h",
         "showlegend": false,
         "type": "bar",
         "x": [
          25.3
         ],
         "y": [
          "Informal"
         ]
        },
        {
         "hovertemplate": "<b>%{x}%</b><extra></extra>",
         "marker": {
          "color": "#8BE595"
         },
         "name": "Often",
         "orientation": "h",
         "showlegend": true,
         "type": "bar",
         "x": [
          11.6
         ],
         "y": [
          "Formal"
         ]
        },
        {
         "hovertemplate": "<b>%{x}%</b><extra></extra>",
         "marker": {
          "color": "#56DA65"
         },
         "orientation": "h",
         "showlegend": false,
         "type": "bar",
         "x": [
          39.9
         ],
         "y": [
          "Friend"
         ]
        },
        {
         "hovertemplate": "<b>%{x}%</b><extra></extra>",
         "marker": {
          "color": "#56DA65"
         },
         "orientation": "h",
         "showlegend": false,
         "type": "bar",
         "x": [
          34.5
         ],
         "y": [
          "Informal"
         ]
        },
        {
         "hovertemplate": "<b>%{x}%</b><extra></extra>",
         "marker": {
          "color": "#56DA65"
         },
         "name": "A lot",
         "orientation": "h",
         "showlegend": true,
         "type": "bar",
         "x": [
          12.5
         ],
         "y": [
          "Formal"
         ]
        }
       ],
       "layout": {
        "annotations": [
         {
          "align": "right",
          "font": {
           "color": "black",
           "size": 12
          },
          "showarrow": false,
          "text": "Friend",
          "x": 0.14,
          "xanchor": "right",
          "xref": "paper",
          "y": "Friend",
          "yref": "y"
         },
         {
          "font": {
           "color": "#595959",
           "size": 12
          },
          "showarrow": false,
          "text": "7.6%",
          "x": 6.6,
          "xref": "x",
          "y": "Friend",
          "yref": "y"
         },
         {
          "font": {
           "color": "#595959",
           "size": 12
          },
          "showarrow": false,
          "text": "17.1%",
          "x": 18.950000000000003,
          "xref": "x",
          "y": "Friend",
          "yref": "y"
         },
         {
          "font": {
           "color": "#595959",
           "size": 12
          },
          "showarrow": false,
          "text": "32.6%",
          "x": 43.8,
          "xref": "x",
          "y": "Friend",
          "yref": "y"
         },
         {
          "font": {
           "color": "#595959",
           "size": 12
          },
          "showarrow": false,
          "text": "39.9%",
          "x": 80.05,
          "xref": "x",
          "y": "Friend",
          "yref": "y"
         },
         {
          "align": "right",
          "font": {
           "color": "black",
           "size": 12
          },
          "showarrow": false,
          "text": "Informal",
          "x": 0.14,
          "xanchor": "right",
          "xref": "paper",
          "y": "Informal",
          "yref": "y"
         },
         {
          "font": {
           "color": "#595959",
           "size": 12
          },
          "showarrow": false,
          "text": "9.3%",
          "x": 4.65,
          "xref": "x",
          "y": "Informal",
          "yref": "y"
         },
         {
          "font": {
           "color": "#595959",
           "size": 12
          },
          "showarrow": false,
          "text": "8.8%",
          "x": 23.200000000000003,
          "xref": "x",
          "y": "Informal",
          "yref": "y"
         },
         {
          "font": {
           "color": "#595959",
           "size": 12
          },
          "showarrow": false,
          "text": "12.5%",
          "x": 33.85,
          "xref": "x",
          "y": "Informal",
          "yref": "y"
         },
         {
          "font": {
           "color": "#595959",
           "size": 12
          },
          "showarrow": false,
          "text": "25.3%",
          "x": 52.75,
          "xref": "x",
          "y": "Informal",
          "yref": "y"
         },
         {
          "font": {
           "color": "#595959",
           "size": 12
          },
          "showarrow": false,
          "text": "34.5%",
          "x": 82.65,
          "xref": "x",
          "y": "Informal",
          "yref": "y"
         },
         {
          "align": "right",
          "font": {
           "color": "black",
           "size": 12
          },
          "showarrow": false,
          "text": "Formal",
          "x": 0.14,
          "xanchor": "right",
          "xref": "paper",
          "y": "Formal",
          "yref": "y"
         },
         {
          "font": {
           "color": "#595959",
           "size": 12
          },
          "showarrow": false,
          "text": "22.4%",
          "x": 11.2,
          "xref": "x",
          "y": "Formal",
          "yref": "y"
         },
         {
          "font": {
           "color": "#595959",
           "size": 12
          },
          "showarrow": false,
          "text": "10.6%",
          "x": 27.7,
          "xref": "x",
          "y": "Formal",
          "yref": "y"
         },
         {
          "font": {
           "color": "#595959",
           "size": 12
          },
          "showarrow": false,
          "text": "8.5%",
          "x": 37.25,
          "xref": "x",
          "y": "Formal",
          "yref": "y"
         },
         {
          "font": {
           "color": "#595959",
           "size": 12
          },
          "showarrow": false,
          "text": "20.7%",
          "x": 51.85,
          "xref": "x",
          "y": "Formal",
          "yref": "y"
         },
         {
          "font": {
           "color": "#595959",
           "size": 12
          },
          "showarrow": false,
          "text": "13.7%",
          "x": 69.05,
          "xref": "x",
          "y": "Formal",
          "yref": "y"
         },
         {
          "font": {
           "color": "#595959",
           "size": 12
          },
          "showarrow": false,
          "text": "11.6%",
          "x": 81.7,
          "xref": "x",
          "y": "Formal",
          "yref": "y"
         },
         {
          "font": {
           "color": "#595959",
           "size": 12
          },
          "showarrow": false,
          "text": "12.5%",
          "x": 93.75,
          "xref": "x",
          "y": "Formal",
          "yref": "y"
         }
        ],
        "barmode": "stack",
        "font": {
         "color": "black",
         "size": 12
        },
        "legend": {
         "itemclick": false,
         "orientation": "h",
         "traceorder": "normal",
         "x": 0.94,
         "xanchor": "right",
         "y": 1.02,
         "yanchor": "bottom"
        },
        "margin": {
         "b": 80,
         "l": 120,
         "r": 10,
         "t": 140
        },
        "paper_bgcolor": "rgb(248, 248, 255)",
        "plot_bgcolor": "rgb(248, 248, 255)",
        "template": {
         "data": {
          "bar": [
           {
            "error_x": {
             "color": "#2a3f5f"
            },
            "error_y": {
             "color": "#2a3f5f"
            },
            "marker": {
             "line": {
              "color": "#E5ECF6",
              "width": 0.5
             }
            },
            "type": "bar"
           }
          ],
          "barpolar": [
           {
            "marker": {
             "line": {
              "color": "#E5ECF6",
              "width": 0.5
             }
            },
            "type": "barpolar"
           }
          ],
          "carpet": [
           {
            "aaxis": {
             "endlinecolor": "#2a3f5f",
             "gridcolor": "white",
             "linecolor": "white",
             "minorgridcolor": "white",
             "startlinecolor": "#2a3f5f"
            },
            "baxis": {
             "endlinecolor": "#2a3f5f",
             "gridcolor": "white",
             "linecolor": "white",
             "minorgridcolor": "white",
             "startlinecolor": "#2a3f5f"
            },
            "type": "carpet"
           }
          ],
          "choropleth": [
           {
            "colorbar": {
             "outlinewidth": 0,
             "ticks": ""
            },
            "type": "choropleth"
           }
          ],
          "contour": [
           {
            "colorbar": {
             "outlinewidth": 0,
             "ticks": ""
            },
            "colorscale": [
             [
              0,
              "#0d0887"
             ],
             [
              0.1111111111111111,
              "#46039f"
             ],
             [
              0.2222222222222222,
              "#7201a8"
             ],
             [
              0.3333333333333333,
              "#9c179e"
             ],
             [
              0.4444444444444444,
              "#bd3786"
             ],
             [
              0.5555555555555556,
              "#d8576b"
             ],
             [
              0.6666666666666666,
              "#ed7953"
             ],
             [
              0.7777777777777778,
              "#fb9f3a"
             ],
             [
              0.8888888888888888,
              "#fdca26"
             ],
             [
              1,
              "#f0f921"
             ]
            ],
            "type": "contour"
           }
          ],
          "contourcarpet": [
           {
            "colorbar": {
             "outlinewidth": 0,
             "ticks": ""
            },
            "type": "contourcarpet"
           }
          ],
          "heatmap": [
           {
            "colorbar": {
             "outlinewidth": 0,
             "ticks": ""
            },
            "colorscale": [
             [
              0,
              "#0d0887"
             ],
             [
              0.1111111111111111,
              "#46039f"
             ],
             [
              0.2222222222222222,
              "#7201a8"
             ],
             [
              0.3333333333333333,
              "#9c179e"
             ],
             [
              0.4444444444444444,
              "#bd3786"
             ],
             [
              0.5555555555555556,
              "#d8576b"
             ],
             [
              0.6666666666666666,
              "#ed7953"
             ],
             [
              0.7777777777777778,
              "#fb9f3a"
             ],
             [
              0.8888888888888888,
              "#fdca26"
             ],
             [
              1,
              "#f0f921"
             ]
            ],
            "type": "heatmap"
           }
          ],
          "heatmapgl": [
           {
            "colorbar": {
             "outlinewidth": 0,
             "ticks": ""
            },
            "colorscale": [
             [
              0,
              "#0d0887"
             ],
             [
              0.1111111111111111,
              "#46039f"
             ],
             [
              0.2222222222222222,
              "#7201a8"
             ],
             [
              0.3333333333333333,
              "#9c179e"
             ],
             [
              0.4444444444444444,
              "#bd3786"
             ],
             [
              0.5555555555555556,
              "#d8576b"
             ],
             [
              0.6666666666666666,
              "#ed7953"
             ],
             [
              0.7777777777777778,
              "#fb9f3a"
             ],
             [
              0.8888888888888888,
              "#fdca26"
             ],
             [
              1,
              "#f0f921"
             ]
            ],
            "type": "heatmapgl"
           }
          ],
          "histogram": [
           {
            "marker": {
             "colorbar": {
              "outlinewidth": 0,
              "ticks": ""
             }
            },
            "type": "histogram"
           }
          ],
          "histogram2d": [
           {
            "colorbar": {
             "outlinewidth": 0,
             "ticks": ""
            },
            "colorscale": [
             [
              0,
              "#0d0887"
             ],
             [
              0.1111111111111111,
              "#46039f"
             ],
             [
              0.2222222222222222,
              "#7201a8"
             ],
             [
              0.3333333333333333,
              "#9c179e"
             ],
             [
              0.4444444444444444,
              "#bd3786"
             ],
             [
              0.5555555555555556,
              "#d8576b"
             ],
             [
              0.6666666666666666,
              "#ed7953"
             ],
             [
              0.7777777777777778,
              "#fb9f3a"
             ],
             [
              0.8888888888888888,
              "#fdca26"
             ],
             [
              1,
              "#f0f921"
             ]
            ],
            "type": "histogram2d"
           }
          ],
          "histogram2dcontour": [
           {
            "colorbar": {
             "outlinewidth": 0,
             "ticks": ""
            },
            "colorscale": [
             [
              0,
              "#0d0887"
             ],
             [
              0.1111111111111111,
              "#46039f"
             ],
             [
              0.2222222222222222,
              "#7201a8"
             ],
             [
              0.3333333333333333,
              "#9c179e"
             ],
             [
              0.4444444444444444,
              "#bd3786"
             ],
             [
              0.5555555555555556,
              "#d8576b"
             ],
             [
              0.6666666666666666,
              "#ed7953"
             ],
             [
              0.7777777777777778,
              "#fb9f3a"
             ],
             [
              0.8888888888888888,
              "#fdca26"
             ],
             [
              1,
              "#f0f921"
             ]
            ],
            "type": "histogram2dcontour"
           }
          ],
          "mesh3d": [
           {
            "colorbar": {
             "outlinewidth": 0,
             "ticks": ""
            },
            "type": "mesh3d"
           }
          ],
          "parcoords": [
           {
            "line": {
             "colorbar": {
              "outlinewidth": 0,
              "ticks": ""
             }
            },
            "type": "parcoords"
           }
          ],
          "pie": [
           {
            "automargin": true,
            "type": "pie"
           }
          ],
          "scatter": [
           {
            "marker": {
             "colorbar": {
              "outlinewidth": 0,
              "ticks": ""
             }
            },
            "type": "scatter"
           }
          ],
          "scatter3d": [
           {
            "line": {
             "colorbar": {
              "outlinewidth": 0,
              "ticks": ""
             }
            },
            "marker": {
             "colorbar": {
              "outlinewidth": 0,
              "ticks": ""
             }
            },
            "type": "scatter3d"
           }
          ],
          "scattercarpet": [
           {
            "marker": {
             "colorbar": {
              "outlinewidth": 0,
              "ticks": ""
             }
            },
            "type": "scattercarpet"
           }
          ],
          "scattergeo": [
           {
            "marker": {
             "colorbar": {
              "outlinewidth": 0,
              "ticks": ""
             }
            },
            "type": "scattergeo"
           }
          ],
          "scattergl": [
           {
            "marker": {
             "colorbar": {
              "outlinewidth": 0,
              "ticks": ""
             }
            },
            "type": "scattergl"
           }
          ],
          "scattermapbox": [
           {
            "marker": {
             "colorbar": {
              "outlinewidth": 0,
              "ticks": ""
             }
            },
            "type": "scattermapbox"
           }
          ],
          "scatterpolar": [
           {
            "marker": {
             "colorbar": {
              "outlinewidth": 0,
              "ticks": ""
             }
            },
            "type": "scatterpolar"
           }
          ],
          "scatterpolargl": [
           {
            "marker": {
             "colorbar": {
              "outlinewidth": 0,
              "ticks": ""
             }
            },
            "type": "scatterpolargl"
           }
          ],
          "scatterternary": [
           {
            "marker": {
             "colorbar": {
              "outlinewidth": 0,
              "ticks": ""
             }
            },
            "type": "scatterternary"
           }
          ],
          "surface": [
           {
            "colorbar": {
             "outlinewidth": 0,
             "ticks": ""
            },
            "colorscale": [
             [
              0,
              "#0d0887"
             ],
             [
              0.1111111111111111,
              "#46039f"
             ],
             [
              0.2222222222222222,
              "#7201a8"
             ],
             [
              0.3333333333333333,
              "#9c179e"
             ],
             [
              0.4444444444444444,
              "#bd3786"
             ],
             [
              0.5555555555555556,
              "#d8576b"
             ],
             [
              0.6666666666666666,
              "#ed7953"
             ],
             [
              0.7777777777777778,
              "#fb9f3a"
             ],
             [
              0.8888888888888888,
              "#fdca26"
             ],
             [
              1,
              "#f0f921"
             ]
            ],
            "type": "surface"
           }
          ],
          "table": [
           {
            "cells": {
             "fill": {
              "color": "#EBF0F8"
             },
             "line": {
              "color": "white"
             }
            },
            "header": {
             "fill": {
              "color": "#C8D4E3"
             },
             "line": {
              "color": "white"
             }
            },
            "type": "table"
           }
          ]
         },
         "layout": {
          "annotationdefaults": {
           "arrowcolor": "#2a3f5f",
           "arrowhead": 0,
           "arrowwidth": 1
          },
          "coloraxis": {
           "colorbar": {
            "outlinewidth": 0,
            "ticks": ""
           }
          },
          "colorscale": {
           "diverging": [
            [
             0,
             "#8e0152"
            ],
            [
             0.1,
             "#c51b7d"
            ],
            [
             0.2,
             "#de77ae"
            ],
            [
             0.3,
             "#f1b6da"
            ],
            [
             0.4,
             "#fde0ef"
            ],
            [
             0.5,
             "#f7f7f7"
            ],
            [
             0.6,
             "#e6f5d0"
            ],
            [
             0.7,
             "#b8e186"
            ],
            [
             0.8,
             "#7fbc41"
            ],
            [
             0.9,
             "#4d9221"
            ],
            [
             1,
             "#276419"
            ]
           ],
           "sequential": [
            [
             0,
             "#0d0887"
            ],
            [
             0.1111111111111111,
             "#46039f"
            ],
            [
             0.2222222222222222,
             "#7201a8"
            ],
            [
             0.3333333333333333,
             "#9c179e"
            ],
            [
             0.4444444444444444,
             "#bd3786"
            ],
            [
             0.5555555555555556,
             "#d8576b"
            ],
            [
             0.6666666666666666,
             "#ed7953"
            ],
            [
             0.7777777777777778,
             "#fb9f3a"
            ],
            [
             0.8888888888888888,
             "#fdca26"
            ],
            [
             1,
             "#f0f921"
            ]
           ],
           "sequentialminus": [
            [
             0,
             "#0d0887"
            ],
            [
             0.1111111111111111,
             "#46039f"
            ],
            [
             0.2222222222222222,
             "#7201a8"
            ],
            [
             0.3333333333333333,
             "#9c179e"
            ],
            [
             0.4444444444444444,
             "#bd3786"
            ],
            [
             0.5555555555555556,
             "#d8576b"
            ],
            [
             0.6666666666666666,
             "#ed7953"
            ],
            [
             0.7777777777777778,
             "#fb9f3a"
            ],
            [
             0.8888888888888888,
             "#fdca26"
            ],
            [
             1,
             "#f0f921"
            ]
           ]
          },
          "colorway": [
           "#636efa",
           "#EF553B",
           "#00cc96",
           "#ab63fa",
           "#FFA15A",
           "#19d3f3",
           "#FF6692",
           "#B6E880",
           "#FF97FF",
           "#FECB52"
          ],
          "font": {
           "color": "#2a3f5f"
          },
          "geo": {
           "bgcolor": "white",
           "lakecolor": "white",
           "landcolor": "#E5ECF6",
           "showlakes": true,
           "showland": true,
           "subunitcolor": "white"
          },
          "hoverlabel": {
           "align": "left"
          },
          "hovermode": "closest",
          "mapbox": {
           "style": "light"
          },
          "paper_bgcolor": "white",
          "plot_bgcolor": "#E5ECF6",
          "polar": {
           "angularaxis": {
            "gridcolor": "white",
            "linecolor": "white",
            "ticks": ""
           },
           "bgcolor": "#E5ECF6",
           "radialaxis": {
            "gridcolor": "white",
            "linecolor": "white",
            "ticks": ""
           }
          },
          "scene": {
           "xaxis": {
            "backgroundcolor": "#E5ECF6",
            "gridcolor": "white",
            "gridwidth": 2,
            "linecolor": "white",
            "showbackground": true,
            "ticks": "",
            "zerolinecolor": "white"
           },
           "yaxis": {
            "backgroundcolor": "#E5ECF6",
            "gridcolor": "white",
            "gridwidth": 2,
            "linecolor": "white",
            "showbackground": true,
            "ticks": "",
            "zerolinecolor": "white"
           },
           "zaxis": {
            "backgroundcolor": "#E5ECF6",
            "gridcolor": "white",
            "gridwidth": 2,
            "linecolor": "white",
            "showbackground": true,
            "ticks": "",
            "zerolinecolor": "white"
           }
          },
          "shapedefaults": {
           "line": {
            "color": "#2a3f5f"
           }
          },
          "ternary": {
           "aaxis": {
            "gridcolor": "white",
            "linecolor": "white",
            "ticks": ""
           },
           "baxis": {
            "gridcolor": "white",
            "linecolor": "white",
            "ticks": ""
           },
           "bgcolor": "#E5ECF6",
           "caxis": {
            "gridcolor": "white",
            "linecolor": "white",
            "ticks": ""
           }
          },
          "title": {
           "x": 0.05
          },
          "xaxis": {
           "automargin": true,
           "gridcolor": "white",
           "linecolor": "white",
           "ticks": "",
           "title": {
            "standoff": 15
           },
           "zerolinecolor": "white",
           "zerolinewidth": 2
          },
          "yaxis": {
           "automargin": true,
           "gridcolor": "white",
           "linecolor": "white",
           "ticks": "",
           "title": {
            "standoff": 15
           },
           "zerolinecolor": "white",
           "zerolinewidth": 2
          }
         }
        },
        "title": {
         "text": "Overall, how close do you feel to this person?",
         "x": 0.955,
         "y": 0.88
        },
        "xaxis": {
         "domain": [
          0.15,
          1
         ],
         "showgrid": false,
         "showline": false,
         "showticklabels": false,
         "zeroline": false
        },
        "yaxis": {
         "showgrid": false,
         "showline": false,
         "showticklabels": false,
         "zeroline": false
        }
       }
      },
      "text/html": [
       "<div>\n",
       "        \n",
       "        \n",
       "            <div id=\"a08c9a56-6ccc-4c60-8209-0376343173ca\" class=\"plotly-graph-div\" style=\"height:525px; width:100%;\"></div>\n",
       "            <script type=\"text/javascript\">\n",
       "                require([\"plotly\"], function(Plotly) {\n",
       "                    window.PLOTLYENV=window.PLOTLYENV || {};\n",
       "                    \n",
       "                if (document.getElementById(\"a08c9a56-6ccc-4c60-8209-0376343173ca\")) {\n",
       "                    Plotly.newPlot(\n",
       "                        'a08c9a56-6ccc-4c60-8209-0376343173ca',\n",
       "                        [{\"hovertemplate\": \"<b>%{x}%</b><extra></extra>\", \"marker\": {\"color\": \"#FF6478\"}, \"orientation\": \"h\", \"showlegend\": false, \"type\": \"bar\", \"x\": [0.3], \"y\": [\"Friend\"]}, {\"hovertemplate\": \"<b>%{x}%</b><extra></extra>\", \"marker\": {\"color\": \"#FF6478\"}, \"orientation\": \"h\", \"showlegend\": false, \"type\": \"bar\", \"x\": [9.3], \"y\": [\"Informal\"]}, {\"hovertemplate\": \"<b>%{x}%</b><extra></extra>\", \"marker\": {\"color\": \"#FF6478\"}, \"name\": \"Not at all\", \"orientation\": \"h\", \"showlegend\": true, \"type\": \"bar\", \"x\": [22.4], \"y\": [\"Formal\"]}, {\"hovertemplate\": \"<b>%{x}%</b><extra></extra>\", \"marker\": {\"color\": \"#FF8477\"}, \"orientation\": \"h\", \"showlegend\": false, \"type\": \"bar\", \"x\": [0.3], \"y\": [\"Friend\"]}, {\"hovertemplate\": \"<b>%{x}%</b><extra></extra>\", \"marker\": {\"color\": \"#FF8477\"}, \"orientation\": \"h\", \"showlegend\": false, \"type\": \"bar\", \"x\": [4.6], \"y\": [\"Informal\"]}, {\"hovertemplate\": \"<b>%{x}%</b><extra></extra>\", \"marker\": {\"color\": \"#FF8477\"}, \"name\": \"Rarely\", \"orientation\": \"h\", \"showlegend\": true, \"type\": \"bar\", \"x\": [10.6], \"y\": [\"Formal\"]}, {\"hovertemplate\": \"<b>%{x}%</b><extra></extra>\", \"marker\": {\"color\": \"#FF9F77\"}, \"orientation\": \"h\", \"showlegend\": false, \"type\": \"bar\", \"x\": [2.2], \"y\": [\"Friend\"]}, {\"hovertemplate\": \"<b>%{x}%</b><extra></extra>\", \"marker\": {\"color\": \"#FF9F77\"}, \"orientation\": \"h\", \"showlegend\": false, \"type\": \"bar\", \"x\": [4.9], \"y\": [\"Informal\"]}, {\"hovertemplate\": \"<b>%{x}%</b><extra></extra>\", \"marker\": {\"color\": \"#FF9F77\"}, \"name\": \"Occasionally\", \"orientation\": \"h\", \"showlegend\": true, \"type\": \"bar\", \"x\": [8.5], \"y\": [\"Formal\"]}, {\"hovertemplate\": \"<b>%{x}%</b><extra></extra>\", \"marker\": {\"color\": \"#FFB775\"}, \"orientation\": \"h\", \"showlegend\": false, \"type\": \"bar\", \"x\": [7.6], \"y\": [\"Friend\"]}, {\"hovertemplate\": \"<b>%{x}%</b><extra></extra>\", \"marker\": {\"color\": \"#FFB775\"}, \"orientation\": \"h\", \"showlegend\": false, \"type\": \"bar\", \"x\": [8.8], \"y\": [\"Informal\"]}, {\"hovertemplate\": \"<b>%{x}%</b><extra></extra>\", \"marker\": {\"color\": \"#FFB775\"}, \"name\": \"Sometimes\", \"orientation\": \"h\", \"showlegend\": true, \"type\": \"bar\", \"x\": [20.7], \"y\": [\"Formal\"]}, {\"hovertemplate\": \"<b>%{x}%</b><extra></extra>\", \"marker\": {\"color\": \"#BCF0C2\"}, \"orientation\": \"h\", \"showlegend\": false, \"type\": \"bar\", \"x\": [17.1], \"y\": [\"Friend\"]}, {\"hovertemplate\": \"<b>%{x}%</b><extra></extra>\", \"marker\": {\"color\": \"#BCF0C2\"}, \"orientation\": \"h\", \"showlegend\": false, \"type\": \"bar\", \"x\": [12.5], \"y\": [\"Informal\"]}, {\"hovertemplate\": \"<b>%{x}%</b><extra></extra>\", \"marker\": {\"color\": \"#BCF0C2\"}, \"name\": \"???\", \"orientation\": \"h\", \"showlegend\": true, \"type\": \"bar\", \"x\": [13.7], \"y\": [\"Formal\"]}, {\"hovertemplate\": \"<b>%{x}%</b><extra></extra>\", \"marker\": {\"color\": \"#8BE595\"}, \"orientation\": \"h\", \"showlegend\": false, \"type\": \"bar\", \"x\": [32.6], \"y\": [\"Friend\"]}, {\"hovertemplate\": \"<b>%{x}%</b><extra></extra>\", \"marker\": {\"color\": \"#8BE595\"}, \"orientation\": \"h\", \"showlegend\": false, \"type\": \"bar\", \"x\": [25.3], \"y\": [\"Informal\"]}, {\"hovertemplate\": \"<b>%{x}%</b><extra></extra>\", \"marker\": {\"color\": \"#8BE595\"}, \"name\": \"Often\", \"orientation\": \"h\", \"showlegend\": true, \"type\": \"bar\", \"x\": [11.6], \"y\": [\"Formal\"]}, {\"hovertemplate\": \"<b>%{x}%</b><extra></extra>\", \"marker\": {\"color\": \"#56DA65\"}, \"orientation\": \"h\", \"showlegend\": false, \"type\": \"bar\", \"x\": [39.9], \"y\": [\"Friend\"]}, {\"hovertemplate\": \"<b>%{x}%</b><extra></extra>\", \"marker\": {\"color\": \"#56DA65\"}, \"orientation\": \"h\", \"showlegend\": false, \"type\": \"bar\", \"x\": [34.5], \"y\": [\"Informal\"]}, {\"hovertemplate\": \"<b>%{x}%</b><extra></extra>\", \"marker\": {\"color\": \"#56DA65\"}, \"name\": \"A lot\", \"orientation\": \"h\", \"showlegend\": true, \"type\": \"bar\", \"x\": [12.5], \"y\": [\"Formal\"]}],\n",
       "                        {\"annotations\": [{\"align\": \"right\", \"font\": {\"color\": \"black\", \"size\": 12}, \"showarrow\": false, \"text\": \"Friend\", \"x\": 0.14, \"xanchor\": \"right\", \"xref\": \"paper\", \"y\": \"Friend\", \"yref\": \"y\"}, {\"font\": {\"color\": \"#595959\", \"size\": 12}, \"showarrow\": false, \"text\": \"7.6%\", \"x\": 6.6, \"xref\": \"x\", \"y\": \"Friend\", \"yref\": \"y\"}, {\"font\": {\"color\": \"#595959\", \"size\": 12}, \"showarrow\": false, \"text\": \"17.1%\", \"x\": 18.950000000000003, \"xref\": \"x\", \"y\": \"Friend\", \"yref\": \"y\"}, {\"font\": {\"color\": \"#595959\", \"size\": 12}, \"showarrow\": false, \"text\": \"32.6%\", \"x\": 43.8, \"xref\": \"x\", \"y\": \"Friend\", \"yref\": \"y\"}, {\"font\": {\"color\": \"#595959\", \"size\": 12}, \"showarrow\": false, \"text\": \"39.9%\", \"x\": 80.05, \"xref\": \"x\", \"y\": \"Friend\", \"yref\": \"y\"}, {\"align\": \"right\", \"font\": {\"color\": \"black\", \"size\": 12}, \"showarrow\": false, \"text\": \"Informal\", \"x\": 0.14, \"xanchor\": \"right\", \"xref\": \"paper\", \"y\": \"Informal\", \"yref\": \"y\"}, {\"font\": {\"color\": \"#595959\", \"size\": 12}, \"showarrow\": false, \"text\": \"9.3%\", \"x\": 4.65, \"xref\": \"x\", \"y\": \"Informal\", \"yref\": \"y\"}, {\"font\": {\"color\": \"#595959\", \"size\": 12}, \"showarrow\": false, \"text\": \"8.8%\", \"x\": 23.200000000000003, \"xref\": \"x\", \"y\": \"Informal\", \"yref\": \"y\"}, {\"font\": {\"color\": \"#595959\", \"size\": 12}, \"showarrow\": false, \"text\": \"12.5%\", \"x\": 33.85, \"xref\": \"x\", \"y\": \"Informal\", \"yref\": \"y\"}, {\"font\": {\"color\": \"#595959\", \"size\": 12}, \"showarrow\": false, \"text\": \"25.3%\", \"x\": 52.75, \"xref\": \"x\", \"y\": \"Informal\", \"yref\": \"y\"}, {\"font\": {\"color\": \"#595959\", \"size\": 12}, \"showarrow\": false, \"text\": \"34.5%\", \"x\": 82.65, \"xref\": \"x\", \"y\": \"Informal\", \"yref\": \"y\"}, {\"align\": \"right\", \"font\": {\"color\": \"black\", \"size\": 12}, \"showarrow\": false, \"text\": \"Formal\", \"x\": 0.14, \"xanchor\": \"right\", \"xref\": \"paper\", \"y\": \"Formal\", \"yref\": \"y\"}, {\"font\": {\"color\": \"#595959\", \"size\": 12}, \"showarrow\": false, \"text\": \"22.4%\", \"x\": 11.2, \"xref\": \"x\", \"y\": \"Formal\", \"yref\": \"y\"}, {\"font\": {\"color\": \"#595959\", \"size\": 12}, \"showarrow\": false, \"text\": \"10.6%\", \"x\": 27.7, \"xref\": \"x\", \"y\": \"Formal\", \"yref\": \"y\"}, {\"font\": {\"color\": \"#595959\", \"size\": 12}, \"showarrow\": false, \"text\": \"8.5%\", \"x\": 37.25, \"xref\": \"x\", \"y\": \"Formal\", \"yref\": \"y\"}, {\"font\": {\"color\": \"#595959\", \"size\": 12}, \"showarrow\": false, \"text\": \"20.7%\", \"x\": 51.85, \"xref\": \"x\", \"y\": \"Formal\", \"yref\": \"y\"}, {\"font\": {\"color\": \"#595959\", \"size\": 12}, \"showarrow\": false, \"text\": \"13.7%\", \"x\": 69.05, \"xref\": \"x\", \"y\": \"Formal\", \"yref\": \"y\"}, {\"font\": {\"color\": \"#595959\", \"size\": 12}, \"showarrow\": false, \"text\": \"11.6%\", \"x\": 81.7, \"xref\": \"x\", \"y\": \"Formal\", \"yref\": \"y\"}, {\"font\": {\"color\": \"#595959\", \"size\": 12}, \"showarrow\": false, \"text\": \"12.5%\", \"x\": 93.75, \"xref\": \"x\", \"y\": \"Formal\", \"yref\": \"y\"}], \"barmode\": \"stack\", \"font\": {\"color\": \"black\", \"size\": 12}, \"legend\": {\"itemclick\": false, \"orientation\": \"h\", \"traceorder\": \"normal\", \"x\": 0.94, \"xanchor\": \"right\", \"y\": 1.02, \"yanchor\": \"bottom\"}, \"margin\": {\"b\": 80, \"l\": 120, \"r\": 10, \"t\": 140}, \"paper_bgcolor\": \"rgb(248, 248, 255)\", \"plot_bgcolor\": \"rgb(248, 248, 255)\", \"template\": {\"data\": {\"bar\": [{\"error_x\": {\"color\": \"#2a3f5f\"}, \"error_y\": {\"color\": \"#2a3f5f\"}, \"marker\": {\"line\": {\"color\": \"#E5ECF6\", \"width\": 0.5}}, \"type\": \"bar\"}], \"barpolar\": [{\"marker\": {\"line\": {\"color\": \"#E5ECF6\", \"width\": 0.5}}, \"type\": \"barpolar\"}], \"carpet\": [{\"aaxis\": {\"endlinecolor\": \"#2a3f5f\", \"gridcolor\": \"white\", \"linecolor\": \"white\", \"minorgridcolor\": \"white\", \"startlinecolor\": \"#2a3f5f\"}, \"baxis\": {\"endlinecolor\": \"#2a3f5f\", \"gridcolor\": \"white\", \"linecolor\": \"white\", \"minorgridcolor\": \"white\", \"startlinecolor\": \"#2a3f5f\"}, \"type\": \"carpet\"}], \"choropleth\": [{\"colorbar\": {\"outlinewidth\": 0, \"ticks\": \"\"}, \"type\": \"choropleth\"}], \"contour\": [{\"colorbar\": {\"outlinewidth\": 0, \"ticks\": \"\"}, \"colorscale\": [[0.0, \"#0d0887\"], [0.1111111111111111, \"#46039f\"], [0.2222222222222222, \"#7201a8\"], [0.3333333333333333, \"#9c179e\"], [0.4444444444444444, \"#bd3786\"], [0.5555555555555556, \"#d8576b\"], [0.6666666666666666, \"#ed7953\"], [0.7777777777777778, \"#fb9f3a\"], [0.8888888888888888, \"#fdca26\"], [1.0, \"#f0f921\"]], \"type\": \"contour\"}], \"contourcarpet\": [{\"colorbar\": {\"outlinewidth\": 0, \"ticks\": \"\"}, \"type\": \"contourcarpet\"}], \"heatmap\": [{\"colorbar\": {\"outlinewidth\": 0, \"ticks\": \"\"}, \"colorscale\": [[0.0, \"#0d0887\"], [0.1111111111111111, \"#46039f\"], [0.2222222222222222, \"#7201a8\"], [0.3333333333333333, \"#9c179e\"], [0.4444444444444444, \"#bd3786\"], [0.5555555555555556, \"#d8576b\"], [0.6666666666666666, \"#ed7953\"], [0.7777777777777778, \"#fb9f3a\"], [0.8888888888888888, \"#fdca26\"], [1.0, \"#f0f921\"]], \"type\": \"heatmap\"}], \"heatmapgl\": [{\"colorbar\": {\"outlinewidth\": 0, \"ticks\": \"\"}, \"colorscale\": [[0.0, \"#0d0887\"], [0.1111111111111111, \"#46039f\"], [0.2222222222222222, \"#7201a8\"], [0.3333333333333333, \"#9c179e\"], [0.4444444444444444, \"#bd3786\"], [0.5555555555555556, \"#d8576b\"], [0.6666666666666666, \"#ed7953\"], [0.7777777777777778, \"#fb9f3a\"], [0.8888888888888888, \"#fdca26\"], [1.0, \"#f0f921\"]], \"type\": \"heatmapgl\"}], \"histogram\": [{\"marker\": {\"colorbar\": {\"outlinewidth\": 0, \"ticks\": \"\"}}, \"type\": \"histogram\"}], \"histogram2d\": [{\"colorbar\": {\"outlinewidth\": 0, \"ticks\": \"\"}, \"colorscale\": [[0.0, \"#0d0887\"], [0.1111111111111111, \"#46039f\"], [0.2222222222222222, \"#7201a8\"], [0.3333333333333333, \"#9c179e\"], [0.4444444444444444, \"#bd3786\"], [0.5555555555555556, \"#d8576b\"], [0.6666666666666666, \"#ed7953\"], [0.7777777777777778, \"#fb9f3a\"], [0.8888888888888888, \"#fdca26\"], [1.0, \"#f0f921\"]], \"type\": \"histogram2d\"}], \"histogram2dcontour\": [{\"colorbar\": {\"outlinewidth\": 0, \"ticks\": \"\"}, \"colorscale\": [[0.0, \"#0d0887\"], [0.1111111111111111, \"#46039f\"], [0.2222222222222222, \"#7201a8\"], [0.3333333333333333, \"#9c179e\"], [0.4444444444444444, \"#bd3786\"], [0.5555555555555556, \"#d8576b\"], [0.6666666666666666, \"#ed7953\"], [0.7777777777777778, \"#fb9f3a\"], [0.8888888888888888, \"#fdca26\"], [1.0, \"#f0f921\"]], \"type\": \"histogram2dcontour\"}], \"mesh3d\": [{\"colorbar\": {\"outlinewidth\": 0, \"ticks\": \"\"}, \"type\": \"mesh3d\"}], \"parcoords\": [{\"line\": {\"colorbar\": {\"outlinewidth\": 0, \"ticks\": \"\"}}, \"type\": \"parcoords\"}], \"pie\": [{\"automargin\": true, \"type\": \"pie\"}], \"scatter\": [{\"marker\": {\"colorbar\": {\"outlinewidth\": 0, \"ticks\": \"\"}}, \"type\": \"scatter\"}], \"scatter3d\": [{\"line\": {\"colorbar\": {\"outlinewidth\": 0, \"ticks\": \"\"}}, \"marker\": {\"colorbar\": {\"outlinewidth\": 0, \"ticks\": \"\"}}, \"type\": \"scatter3d\"}], \"scattercarpet\": [{\"marker\": {\"colorbar\": {\"outlinewidth\": 0, \"ticks\": \"\"}}, \"type\": \"scattercarpet\"}], \"scattergeo\": [{\"marker\": {\"colorbar\": {\"outlinewidth\": 0, \"ticks\": \"\"}}, \"type\": \"scattergeo\"}], \"scattergl\": [{\"marker\": {\"colorbar\": {\"outlinewidth\": 0, \"ticks\": \"\"}}, \"type\": \"scattergl\"}], \"scattermapbox\": [{\"marker\": {\"colorbar\": {\"outlinewidth\": 0, \"ticks\": \"\"}}, \"type\": \"scattermapbox\"}], \"scatterpolar\": [{\"marker\": {\"colorbar\": {\"outlinewidth\": 0, \"ticks\": \"\"}}, \"type\": \"scatterpolar\"}], \"scatterpolargl\": [{\"marker\": {\"colorbar\": {\"outlinewidth\": 0, \"ticks\": \"\"}}, \"type\": \"scatterpolargl\"}], \"scatterternary\": [{\"marker\": {\"colorbar\": {\"outlinewidth\": 0, \"ticks\": \"\"}}, \"type\": \"scatterternary\"}], \"surface\": [{\"colorbar\": {\"outlinewidth\": 0, \"ticks\": \"\"}, \"colorscale\": [[0.0, \"#0d0887\"], [0.1111111111111111, \"#46039f\"], [0.2222222222222222, \"#7201a8\"], [0.3333333333333333, \"#9c179e\"], [0.4444444444444444, \"#bd3786\"], [0.5555555555555556, \"#d8576b\"], [0.6666666666666666, \"#ed7953\"], [0.7777777777777778, \"#fb9f3a\"], [0.8888888888888888, \"#fdca26\"], [1.0, \"#f0f921\"]], \"type\": \"surface\"}], \"table\": [{\"cells\": {\"fill\": {\"color\": \"#EBF0F8\"}, \"line\": {\"color\": \"white\"}}, \"header\": {\"fill\": {\"color\": \"#C8D4E3\"}, \"line\": {\"color\": \"white\"}}, \"type\": \"table\"}]}, \"layout\": {\"annotationdefaults\": {\"arrowcolor\": \"#2a3f5f\", \"arrowhead\": 0, \"arrowwidth\": 1}, \"coloraxis\": {\"colorbar\": {\"outlinewidth\": 0, \"ticks\": \"\"}}, \"colorscale\": {\"diverging\": [[0, \"#8e0152\"], [0.1, \"#c51b7d\"], [0.2, \"#de77ae\"], [0.3, \"#f1b6da\"], [0.4, \"#fde0ef\"], [0.5, \"#f7f7f7\"], [0.6, \"#e6f5d0\"], [0.7, \"#b8e186\"], [0.8, \"#7fbc41\"], [0.9, \"#4d9221\"], [1, \"#276419\"]], \"sequential\": [[0.0, \"#0d0887\"], [0.1111111111111111, \"#46039f\"], [0.2222222222222222, \"#7201a8\"], [0.3333333333333333, \"#9c179e\"], [0.4444444444444444, \"#bd3786\"], [0.5555555555555556, \"#d8576b\"], [0.6666666666666666, \"#ed7953\"], [0.7777777777777778, \"#fb9f3a\"], [0.8888888888888888, \"#fdca26\"], [1.0, \"#f0f921\"]], \"sequentialminus\": [[0.0, \"#0d0887\"], [0.1111111111111111, \"#46039f\"], [0.2222222222222222, \"#7201a8\"], [0.3333333333333333, \"#9c179e\"], [0.4444444444444444, \"#bd3786\"], [0.5555555555555556, \"#d8576b\"], [0.6666666666666666, \"#ed7953\"], [0.7777777777777778, \"#fb9f3a\"], [0.8888888888888888, \"#fdca26\"], [1.0, \"#f0f921\"]]}, \"colorway\": [\"#636efa\", \"#EF553B\", \"#00cc96\", \"#ab63fa\", \"#FFA15A\", \"#19d3f3\", \"#FF6692\", \"#B6E880\", \"#FF97FF\", \"#FECB52\"], \"font\": {\"color\": \"#2a3f5f\"}, \"geo\": {\"bgcolor\": \"white\", \"lakecolor\": \"white\", \"landcolor\": \"#E5ECF6\", \"showlakes\": true, \"showland\": true, \"subunitcolor\": \"white\"}, \"hoverlabel\": {\"align\": \"left\"}, \"hovermode\": \"closest\", \"mapbox\": {\"style\": \"light\"}, \"paper_bgcolor\": \"white\", \"plot_bgcolor\": \"#E5ECF6\", \"polar\": {\"angularaxis\": {\"gridcolor\": \"white\", \"linecolor\": \"white\", \"ticks\": \"\"}, \"bgcolor\": \"#E5ECF6\", \"radialaxis\": {\"gridcolor\": \"white\", \"linecolor\": \"white\", \"ticks\": \"\"}}, \"scene\": {\"xaxis\": {\"backgroundcolor\": \"#E5ECF6\", \"gridcolor\": \"white\", \"gridwidth\": 2, \"linecolor\": \"white\", \"showbackground\": true, \"ticks\": \"\", \"zerolinecolor\": \"white\"}, \"yaxis\": {\"backgroundcolor\": \"#E5ECF6\", \"gridcolor\": \"white\", \"gridwidth\": 2, \"linecolor\": \"white\", \"showbackground\": true, \"ticks\": \"\", \"zerolinecolor\": \"white\"}, \"zaxis\": {\"backgroundcolor\": \"#E5ECF6\", \"gridcolor\": \"white\", \"gridwidth\": 2, \"linecolor\": \"white\", \"showbackground\": true, \"ticks\": \"\", \"zerolinecolor\": \"white\"}}, \"shapedefaults\": {\"line\": {\"color\": \"#2a3f5f\"}}, \"ternary\": {\"aaxis\": {\"gridcolor\": \"white\", \"linecolor\": \"white\", \"ticks\": \"\"}, \"baxis\": {\"gridcolor\": \"white\", \"linecolor\": \"white\", \"ticks\": \"\"}, \"bgcolor\": \"#E5ECF6\", \"caxis\": {\"gridcolor\": \"white\", \"linecolor\": \"white\", \"ticks\": \"\"}}, \"title\": {\"x\": 0.05}, \"xaxis\": {\"automargin\": true, \"gridcolor\": \"white\", \"linecolor\": \"white\", \"ticks\": \"\", \"title\": {\"standoff\": 15}, \"zerolinecolor\": \"white\", \"zerolinewidth\": 2}, \"yaxis\": {\"automargin\": true, \"gridcolor\": \"white\", \"linecolor\": \"white\", \"ticks\": \"\", \"title\": {\"standoff\": 15}, \"zerolinecolor\": \"white\", \"zerolinewidth\": 2}}}, \"title\": {\"text\": \"Overall, how close do you feel to this person?\", \"x\": 0.955, \"y\": 0.88}, \"xaxis\": {\"domain\": [0.15, 1], \"showgrid\": false, \"showline\": false, \"showticklabels\": false, \"zeroline\": false}, \"yaxis\": {\"showgrid\": false, \"showline\": false, \"showticklabels\": false, \"zeroline\": false}},\n",
       "                        {\"displayModeBar\": false, \"responsive\": true}\n",
       "                    ).then(function(){\n",
       "                            \n",
       "var gd = document.getElementById('a08c9a56-6ccc-4c60-8209-0376343173ca');\n",
       "var x = new MutationObserver(function (mutations, observer) {{\n",
       "        var display = window.getComputedStyle(gd).display;\n",
       "        if (!display || display === 'none') {{\n",
       "            console.log([gd, 'removed!']);\n",
       "            Plotly.purge(gd);\n",
       "            observer.disconnect();\n",
       "        }}\n",
       "}});\n",
       "\n",
       "// Listen for the removal of the full notebook cells\n",
       "var notebookContainer = gd.closest('#notebook-container');\n",
       "if (notebookContainer) {{\n",
       "    x.observe(notebookContainer, {childList: true});\n",
       "}}\n",
       "\n",
       "// Listen for the clearing of the current output cell\n",
       "var outputEl = gd.closest('.output');\n",
       "if (outputEl) {{\n",
       "    x.observe(outputEl, {childList: true});\n",
       "}}\n",
       "\n",
       "                        })\n",
       "                };\n",
       "                });\n",
       "            </script>\n",
       "        </div>"
      ]
     },
     "metadata": {},
     "output_type": "display_data"
    }
   ],
   "source": [
    "vertical_stack_percent_bar('int.overall.close.p', 'Overall, how close do you feel to this person?')"
   ]
  },
  {
   "cell_type": "code",
   "execution_count": 51,
   "metadata": {},
   "outputs": [
    {
     "data": {
      "application/vnd.plotly.v1+json": {
       "config": {
        "displayModeBar": false,
        "plotlyServerURL": "https://plotly.com"
       },
       "data": [
        {
         "hovertemplate": "<b>%{x}%</b><extra></extra>",
         "marker": {
          "color": "#FF6478"
         },
         "orientation": "h",
         "showlegend": false,
         "type": "bar",
         "x": [
          0.6
         ],
         "y": [
          "Friend"
         ]
        },
        {
         "hovertemplate": "<b>%{x}%</b><extra></extra>",
         "marker": {
          "color": "#FF6478"
         },
         "orientation": "h",
         "showlegend": false,
         "type": "bar",
         "x": [
          7.8
         ],
         "y": [
          "Informal"
         ]
        },
        {
         "hovertemplate": "<b>%{x}%</b><extra></extra>",
         "marker": {
          "color": "#FF6478"
         },
         "name": "Not at all",
         "orientation": "h",
         "showlegend": true,
         "type": "bar",
         "x": [
          24.3
         ],
         "y": [
          "Formal"
         ]
        },
        {
         "hovertemplate": "<b>%{x}%</b><extra></extra>",
         "marker": {
          "color": "#FF8477"
         },
         "orientation": "h",
         "showlegend": false,
         "type": "bar",
         "x": [
          1.9
         ],
         "y": [
          "Friend"
         ]
        },
        {
         "hovertemplate": "<b>%{x}%</b><extra></extra>",
         "marker": {
          "color": "#FF8477"
         },
         "orientation": "h",
         "showlegend": false,
         "type": "bar",
         "x": [
          4.6
         ],
         "y": [
          "Informal"
         ]
        },
        {
         "hovertemplate": "<b>%{x}%</b><extra></extra>",
         "marker": {
          "color": "#FF8477"
         },
         "name": "Rarely",
         "orientation": "h",
         "showlegend": true,
         "type": "bar",
         "x": [
          10.4
         ],
         "y": [
          "Formal"
         ]
        },
        {
         "hovertemplate": "<b>%{x}%</b><extra></extra>",
         "marker": {
          "color": "#FF9F77"
         },
         "orientation": "h",
         "showlegend": false,
         "type": "bar",
         "x": [
          1.9
         ],
         "y": [
          "Friend"
         ]
        },
        {
         "hovertemplate": "<b>%{x}%</b><extra></extra>",
         "marker": {
          "color": "#FF9F77"
         },
         "orientation": "h",
         "showlegend": false,
         "type": "bar",
         "x": [
          5.3
         ],
         "y": [
          "Informal"
         ]
        },
        {
         "hovertemplate": "<b>%{x}%</b><extra></extra>",
         "marker": {
          "color": "#FF9F77"
         },
         "name": "Occasionally",
         "orientation": "h",
         "showlegend": true,
         "type": "bar",
         "x": [
          9.2
         ],
         "y": [
          "Formal"
         ]
        },
        {
         "hovertemplate": "<b>%{x}%</b><extra></extra>",
         "marker": {
          "color": "#FFB775"
         },
         "orientation": "h",
         "showlegend": false,
         "type": "bar",
         "x": [
          19.8
         ],
         "y": [
          "Friend"
         ]
        },
        {
         "hovertemplate": "<b>%{x}%</b><extra></extra>",
         "marker": {
          "color": "#FFB775"
         },
         "orientation": "h",
         "showlegend": false,
         "type": "bar",
         "x": [
          11.8
         ],
         "y": [
          "Informal"
         ]
        },
        {
         "hovertemplate": "<b>%{x}%</b><extra></extra>",
         "marker": {
          "color": "#FFB775"
         },
         "name": "Sometimes",
         "orientation": "h",
         "showlegend": true,
         "type": "bar",
         "x": [
          18
         ],
         "y": [
          "Formal"
         ]
        },
        {
         "hovertemplate": "<b>%{x}%</b><extra></extra>",
         "marker": {
          "color": "#BCF0C2"
         },
         "orientation": "h",
         "showlegend": false,
         "type": "bar",
         "x": [
          25.5
         ],
         "y": [
          "Friend"
         ]
        },
        {
         "hovertemplate": "<b>%{x}%</b><extra></extra>",
         "marker": {
          "color": "#BCF0C2"
         },
         "orientation": "h",
         "showlegend": false,
         "type": "bar",
         "x": [
          19.7
         ],
         "y": [
          "Informal"
         ]
        },
        {
         "hovertemplate": "<b>%{x}%</b><extra></extra>",
         "marker": {
          "color": "#BCF0C2"
         },
         "name": "???",
         "orientation": "h",
         "showlegend": true,
         "type": "bar",
         "x": [
          16.9
         ],
         "y": [
          "Formal"
         ]
        },
        {
         "hovertemplate": "<b>%{x}%</b><extra></extra>",
         "marker": {
          "color": "#8BE595"
         },
         "orientation": "h",
         "showlegend": false,
         "type": "bar",
         "x": [
          23
         ],
         "y": [
          "Friend"
         ]
        },
        {
         "hovertemplate": "<b>%{x}%</b><extra></extra>",
         "marker": {
          "color": "#8BE595"
         },
         "orientation": "h",
         "showlegend": false,
         "type": "bar",
         "x": [
          20
         ],
         "y": [
          "Informal"
         ]
        },
        {
         "hovertemplate": "<b>%{x}%</b><extra></extra>",
         "marker": {
          "color": "#8BE595"
         },
         "name": "Often",
         "orientation": "h",
         "showlegend": true,
         "type": "bar",
         "x": [
          10.4
         ],
         "y": [
          "Formal"
         ]
        },
        {
         "hovertemplate": "<b>%{x}%</b><extra></extra>",
         "marker": {
          "color": "#56DA65"
         },
         "orientation": "h",
         "showlegend": false,
         "type": "bar",
         "x": [
          27.4
         ],
         "y": [
          "Friend"
         ]
        },
        {
         "hovertemplate": "<b>%{x}%</b><extra></extra>",
         "marker": {
          "color": "#56DA65"
         },
         "orientation": "h",
         "showlegend": false,
         "type": "bar",
         "x": [
          30.8
         ],
         "y": [
          "Informal"
         ]
        },
        {
         "hovertemplate": "<b>%{x}%</b><extra></extra>",
         "marker": {
          "color": "#56DA65"
         },
         "name": "A lot",
         "orientation": "h",
         "showlegend": true,
         "type": "bar",
         "x": [
          10.7
         ],
         "y": [
          "Formal"
         ]
        }
       ],
       "layout": {
        "annotations": [
         {
          "align": "right",
          "font": {
           "color": "black",
           "size": 12
          },
          "showarrow": false,
          "text": "Friend",
          "x": 0.14,
          "xanchor": "right",
          "xref": "paper",
          "y": "Friend",
          "yref": "y"
         },
         {
          "font": {
           "color": "#595959",
           "size": 12
          },
          "showarrow": false,
          "text": "19.8%",
          "x": 14.3,
          "xref": "x",
          "y": "Friend",
          "yref": "y"
         },
         {
          "font": {
           "color": "#595959",
           "size": 12
          },
          "showarrow": false,
          "text": "25.5%",
          "x": 36.95,
          "xref": "x",
          "y": "Friend",
          "yref": "y"
         },
         {
          "font": {
           "color": "#595959",
           "size": 12
          },
          "showarrow": false,
          "text": "23.0%",
          "x": 61.2,
          "xref": "x",
          "y": "Friend",
          "yref": "y"
         },
         {
          "font": {
           "color": "#595959",
           "size": 12
          },
          "showarrow": false,
          "text": "27.4%",
          "x": 86.4,
          "xref": "x",
          "y": "Friend",
          "yref": "y"
         },
         {
          "align": "right",
          "font": {
           "color": "black",
           "size": 12
          },
          "showarrow": false,
          "text": "Informal",
          "x": 0.14,
          "xanchor": "right",
          "xref": "paper",
          "y": "Informal",
          "yref": "y"
         },
         {
          "font": {
           "color": "#595959",
           "size": 12
          },
          "showarrow": false,
          "text": "7.8%",
          "x": 3.9,
          "xref": "x",
          "y": "Informal",
          "yref": "y"
         },
         {
          "font": {
           "color": "#595959",
           "size": 12
          },
          "showarrow": false,
          "text": "11.8%",
          "x": 23.6,
          "xref": "x",
          "y": "Informal",
          "yref": "y"
         },
         {
          "font": {
           "color": "#595959",
           "size": 12
          },
          "showarrow": false,
          "text": "19.7%",
          "x": 39.35,
          "xref": "x",
          "y": "Informal",
          "yref": "y"
         },
         {
          "font": {
           "color": "#595959",
           "size": 12
          },
          "showarrow": false,
          "text": "20.0%",
          "x": 59.2,
          "xref": "x",
          "y": "Informal",
          "yref": "y"
         },
         {
          "font": {
           "color": "#595959",
           "size": 12
          },
          "showarrow": false,
          "text": "30.8%",
          "x": 84.60000000000001,
          "xref": "x",
          "y": "Informal",
          "yref": "y"
         },
         {
          "align": "right",
          "font": {
           "color": "black",
           "size": 12
          },
          "showarrow": false,
          "text": "Formal",
          "x": 0.14,
          "xanchor": "right",
          "xref": "paper",
          "y": "Formal",
          "yref": "y"
         },
         {
          "font": {
           "color": "#595959",
           "size": 12
          },
          "showarrow": false,
          "text": "24.3%",
          "x": 12.15,
          "xref": "x",
          "y": "Formal",
          "yref": "y"
         },
         {
          "font": {
           "color": "#595959",
           "size": 12
          },
          "showarrow": false,
          "text": "10.4%",
          "x": 29.5,
          "xref": "x",
          "y": "Formal",
          "yref": "y"
         },
         {
          "font": {
           "color": "#595959",
           "size": 12
          },
          "showarrow": false,
          "text": "9.2%",
          "x": 39.300000000000004,
          "xref": "x",
          "y": "Formal",
          "yref": "y"
         },
         {
          "font": {
           "color": "#595959",
           "size": 12
          },
          "showarrow": false,
          "text": "18.0%",
          "x": 52.900000000000006,
          "xref": "x",
          "y": "Formal",
          "yref": "y"
         },
         {
          "font": {
           "color": "#595959",
           "size": 12
          },
          "showarrow": false,
          "text": "16.9%",
          "x": 70.35000000000001,
          "xref": "x",
          "y": "Formal",
          "yref": "y"
         },
         {
          "font": {
           "color": "#595959",
           "size": 12
          },
          "showarrow": false,
          "text": "10.4%",
          "x": 84.00000000000001,
          "xref": "x",
          "y": "Formal",
          "yref": "y"
         },
         {
          "font": {
           "color": "#595959",
           "size": 12
          },
          "showarrow": false,
          "text": "10.7%",
          "x": 94.55000000000001,
          "xref": "x",
          "y": "Formal",
          "yref": "y"
         }
        ],
        "barmode": "stack",
        "font": {
         "color": "black",
         "size": 12
        },
        "legend": {
         "itemclick": false,
         "orientation": "h",
         "traceorder": "normal",
         "x": 0.94,
         "xanchor": "right",
         "y": 1.02,
         "yanchor": "bottom"
        },
        "margin": {
         "b": 80,
         "l": 120,
         "r": 10,
         "t": 140
        },
        "paper_bgcolor": "rgb(248, 248, 255)",
        "plot_bgcolor": "rgb(248, 248, 255)",
        "template": {
         "data": {
          "bar": [
           {
            "error_x": {
             "color": "#2a3f5f"
            },
            "error_y": {
             "color": "#2a3f5f"
            },
            "marker": {
             "line": {
              "color": "#E5ECF6",
              "width": 0.5
             }
            },
            "type": "bar"
           }
          ],
          "barpolar": [
           {
            "marker": {
             "line": {
              "color": "#E5ECF6",
              "width": 0.5
             }
            },
            "type": "barpolar"
           }
          ],
          "carpet": [
           {
            "aaxis": {
             "endlinecolor": "#2a3f5f",
             "gridcolor": "white",
             "linecolor": "white",
             "minorgridcolor": "white",
             "startlinecolor": "#2a3f5f"
            },
            "baxis": {
             "endlinecolor": "#2a3f5f",
             "gridcolor": "white",
             "linecolor": "white",
             "minorgridcolor": "white",
             "startlinecolor": "#2a3f5f"
            },
            "type": "carpet"
           }
          ],
          "choropleth": [
           {
            "colorbar": {
             "outlinewidth": 0,
             "ticks": ""
            },
            "type": "choropleth"
           }
          ],
          "contour": [
           {
            "colorbar": {
             "outlinewidth": 0,
             "ticks": ""
            },
            "colorscale": [
             [
              0,
              "#0d0887"
             ],
             [
              0.1111111111111111,
              "#46039f"
             ],
             [
              0.2222222222222222,
              "#7201a8"
             ],
             [
              0.3333333333333333,
              "#9c179e"
             ],
             [
              0.4444444444444444,
              "#bd3786"
             ],
             [
              0.5555555555555556,
              "#d8576b"
             ],
             [
              0.6666666666666666,
              "#ed7953"
             ],
             [
              0.7777777777777778,
              "#fb9f3a"
             ],
             [
              0.8888888888888888,
              "#fdca26"
             ],
             [
              1,
              "#f0f921"
             ]
            ],
            "type": "contour"
           }
          ],
          "contourcarpet": [
           {
            "colorbar": {
             "outlinewidth": 0,
             "ticks": ""
            },
            "type": "contourcarpet"
           }
          ],
          "heatmap": [
           {
            "colorbar": {
             "outlinewidth": 0,
             "ticks": ""
            },
            "colorscale": [
             [
              0,
              "#0d0887"
             ],
             [
              0.1111111111111111,
              "#46039f"
             ],
             [
              0.2222222222222222,
              "#7201a8"
             ],
             [
              0.3333333333333333,
              "#9c179e"
             ],
             [
              0.4444444444444444,
              "#bd3786"
             ],
             [
              0.5555555555555556,
              "#d8576b"
             ],
             [
              0.6666666666666666,
              "#ed7953"
             ],
             [
              0.7777777777777778,
              "#fb9f3a"
             ],
             [
              0.8888888888888888,
              "#fdca26"
             ],
             [
              1,
              "#f0f921"
             ]
            ],
            "type": "heatmap"
           }
          ],
          "heatmapgl": [
           {
            "colorbar": {
             "outlinewidth": 0,
             "ticks": ""
            },
            "colorscale": [
             [
              0,
              "#0d0887"
             ],
             [
              0.1111111111111111,
              "#46039f"
             ],
             [
              0.2222222222222222,
              "#7201a8"
             ],
             [
              0.3333333333333333,
              "#9c179e"
             ],
             [
              0.4444444444444444,
              "#bd3786"
             ],
             [
              0.5555555555555556,
              "#d8576b"
             ],
             [
              0.6666666666666666,
              "#ed7953"
             ],
             [
              0.7777777777777778,
              "#fb9f3a"
             ],
             [
              0.8888888888888888,
              "#fdca26"
             ],
             [
              1,
              "#f0f921"
             ]
            ],
            "type": "heatmapgl"
           }
          ],
          "histogram": [
           {
            "marker": {
             "colorbar": {
              "outlinewidth": 0,
              "ticks": ""
             }
            },
            "type": "histogram"
           }
          ],
          "histogram2d": [
           {
            "colorbar": {
             "outlinewidth": 0,
             "ticks": ""
            },
            "colorscale": [
             [
              0,
              "#0d0887"
             ],
             [
              0.1111111111111111,
              "#46039f"
             ],
             [
              0.2222222222222222,
              "#7201a8"
             ],
             [
              0.3333333333333333,
              "#9c179e"
             ],
             [
              0.4444444444444444,
              "#bd3786"
             ],
             [
              0.5555555555555556,
              "#d8576b"
             ],
             [
              0.6666666666666666,
              "#ed7953"
             ],
             [
              0.7777777777777778,
              "#fb9f3a"
             ],
             [
              0.8888888888888888,
              "#fdca26"
             ],
             [
              1,
              "#f0f921"
             ]
            ],
            "type": "histogram2d"
           }
          ],
          "histogram2dcontour": [
           {
            "colorbar": {
             "outlinewidth": 0,
             "ticks": ""
            },
            "colorscale": [
             [
              0,
              "#0d0887"
             ],
             [
              0.1111111111111111,
              "#46039f"
             ],
             [
              0.2222222222222222,
              "#7201a8"
             ],
             [
              0.3333333333333333,
              "#9c179e"
             ],
             [
              0.4444444444444444,
              "#bd3786"
             ],
             [
              0.5555555555555556,
              "#d8576b"
             ],
             [
              0.6666666666666666,
              "#ed7953"
             ],
             [
              0.7777777777777778,
              "#fb9f3a"
             ],
             [
              0.8888888888888888,
              "#fdca26"
             ],
             [
              1,
              "#f0f921"
             ]
            ],
            "type": "histogram2dcontour"
           }
          ],
          "mesh3d": [
           {
            "colorbar": {
             "outlinewidth": 0,
             "ticks": ""
            },
            "type": "mesh3d"
           }
          ],
          "parcoords": [
           {
            "line": {
             "colorbar": {
              "outlinewidth": 0,
              "ticks": ""
             }
            },
            "type": "parcoords"
           }
          ],
          "pie": [
           {
            "automargin": true,
            "type": "pie"
           }
          ],
          "scatter": [
           {
            "marker": {
             "colorbar": {
              "outlinewidth": 0,
              "ticks": ""
             }
            },
            "type": "scatter"
           }
          ],
          "scatter3d": [
           {
            "line": {
             "colorbar": {
              "outlinewidth": 0,
              "ticks": ""
             }
            },
            "marker": {
             "colorbar": {
              "outlinewidth": 0,
              "ticks": ""
             }
            },
            "type": "scatter3d"
           }
          ],
          "scattercarpet": [
           {
            "marker": {
             "colorbar": {
              "outlinewidth": 0,
              "ticks": ""
             }
            },
            "type": "scattercarpet"
           }
          ],
          "scattergeo": [
           {
            "marker": {
             "colorbar": {
              "outlinewidth": 0,
              "ticks": ""
             }
            },
            "type": "scattergeo"
           }
          ],
          "scattergl": [
           {
            "marker": {
             "colorbar": {
              "outlinewidth": 0,
              "ticks": ""
             }
            },
            "type": "scattergl"
           }
          ],
          "scattermapbox": [
           {
            "marker": {
             "colorbar": {
              "outlinewidth": 0,
              "ticks": ""
             }
            },
            "type": "scattermapbox"
           }
          ],
          "scatterpolar": [
           {
            "marker": {
             "colorbar": {
              "outlinewidth": 0,
              "ticks": ""
             }
            },
            "type": "scatterpolar"
           }
          ],
          "scatterpolargl": [
           {
            "marker": {
             "colorbar": {
              "outlinewidth": 0,
              "ticks": ""
             }
            },
            "type": "scatterpolargl"
           }
          ],
          "scatterternary": [
           {
            "marker": {
             "colorbar": {
              "outlinewidth": 0,
              "ticks": ""
             }
            },
            "type": "scatterternary"
           }
          ],
          "surface": [
           {
            "colorbar": {
             "outlinewidth": 0,
             "ticks": ""
            },
            "colorscale": [
             [
              0,
              "#0d0887"
             ],
             [
              0.1111111111111111,
              "#46039f"
             ],
             [
              0.2222222222222222,
              "#7201a8"
             ],
             [
              0.3333333333333333,
              "#9c179e"
             ],
             [
              0.4444444444444444,
              "#bd3786"
             ],
             [
              0.5555555555555556,
              "#d8576b"
             ],
             [
              0.6666666666666666,
              "#ed7953"
             ],
             [
              0.7777777777777778,
              "#fb9f3a"
             ],
             [
              0.8888888888888888,
              "#fdca26"
             ],
             [
              1,
              "#f0f921"
             ]
            ],
            "type": "surface"
           }
          ],
          "table": [
           {
            "cells": {
             "fill": {
              "color": "#EBF0F8"
             },
             "line": {
              "color": "white"
             }
            },
            "header": {
             "fill": {
              "color": "#C8D4E3"
             },
             "line": {
              "color": "white"
             }
            },
            "type": "table"
           }
          ]
         },
         "layout": {
          "annotationdefaults": {
           "arrowcolor": "#2a3f5f",
           "arrowhead": 0,
           "arrowwidth": 1
          },
          "coloraxis": {
           "colorbar": {
            "outlinewidth": 0,
            "ticks": ""
           }
          },
          "colorscale": {
           "diverging": [
            [
             0,
             "#8e0152"
            ],
            [
             0.1,
             "#c51b7d"
            ],
            [
             0.2,
             "#de77ae"
            ],
            [
             0.3,
             "#f1b6da"
            ],
            [
             0.4,
             "#fde0ef"
            ],
            [
             0.5,
             "#f7f7f7"
            ],
            [
             0.6,
             "#e6f5d0"
            ],
            [
             0.7,
             "#b8e186"
            ],
            [
             0.8,
             "#7fbc41"
            ],
            [
             0.9,
             "#4d9221"
            ],
            [
             1,
             "#276419"
            ]
           ],
           "sequential": [
            [
             0,
             "#0d0887"
            ],
            [
             0.1111111111111111,
             "#46039f"
            ],
            [
             0.2222222222222222,
             "#7201a8"
            ],
            [
             0.3333333333333333,
             "#9c179e"
            ],
            [
             0.4444444444444444,
             "#bd3786"
            ],
            [
             0.5555555555555556,
             "#d8576b"
            ],
            [
             0.6666666666666666,
             "#ed7953"
            ],
            [
             0.7777777777777778,
             "#fb9f3a"
            ],
            [
             0.8888888888888888,
             "#fdca26"
            ],
            [
             1,
             "#f0f921"
            ]
           ],
           "sequentialminus": [
            [
             0,
             "#0d0887"
            ],
            [
             0.1111111111111111,
             "#46039f"
            ],
            [
             0.2222222222222222,
             "#7201a8"
            ],
            [
             0.3333333333333333,
             "#9c179e"
            ],
            [
             0.4444444444444444,
             "#bd3786"
            ],
            [
             0.5555555555555556,
             "#d8576b"
            ],
            [
             0.6666666666666666,
             "#ed7953"
            ],
            [
             0.7777777777777778,
             "#fb9f3a"
            ],
            [
             0.8888888888888888,
             "#fdca26"
            ],
            [
             1,
             "#f0f921"
            ]
           ]
          },
          "colorway": [
           "#636efa",
           "#EF553B",
           "#00cc96",
           "#ab63fa",
           "#FFA15A",
           "#19d3f3",
           "#FF6692",
           "#B6E880",
           "#FF97FF",
           "#FECB52"
          ],
          "font": {
           "color": "#2a3f5f"
          },
          "geo": {
           "bgcolor": "white",
           "lakecolor": "white",
           "landcolor": "#E5ECF6",
           "showlakes": true,
           "showland": true,
           "subunitcolor": "white"
          },
          "hoverlabel": {
           "align": "left"
          },
          "hovermode": "closest",
          "mapbox": {
           "style": "light"
          },
          "paper_bgcolor": "white",
          "plot_bgcolor": "#E5ECF6",
          "polar": {
           "angularaxis": {
            "gridcolor": "white",
            "linecolor": "white",
            "ticks": ""
           },
           "bgcolor": "#E5ECF6",
           "radialaxis": {
            "gridcolor": "white",
            "linecolor": "white",
            "ticks": ""
           }
          },
          "scene": {
           "xaxis": {
            "backgroundcolor": "#E5ECF6",
            "gridcolor": "white",
            "gridwidth": 2,
            "linecolor": "white",
            "showbackground": true,
            "ticks": "",
            "zerolinecolor": "white"
           },
           "yaxis": {
            "backgroundcolor": "#E5ECF6",
            "gridcolor": "white",
            "gridwidth": 2,
            "linecolor": "white",
            "showbackground": true,
            "ticks": "",
            "zerolinecolor": "white"
           },
           "zaxis": {
            "backgroundcolor": "#E5ECF6",
            "gridcolor": "white",
            "gridwidth": 2,
            "linecolor": "white",
            "showbackground": true,
            "ticks": "",
            "zerolinecolor": "white"
           }
          },
          "shapedefaults": {
           "line": {
            "color": "#2a3f5f"
           }
          },
          "ternary": {
           "aaxis": {
            "gridcolor": "white",
            "linecolor": "white",
            "ticks": ""
           },
           "baxis": {
            "gridcolor": "white",
            "linecolor": "white",
            "ticks": ""
           },
           "bgcolor": "#E5ECF6",
           "caxis": {
            "gridcolor": "white",
            "linecolor": "white",
            "ticks": ""
           }
          },
          "title": {
           "x": 0.05
          },
          "xaxis": {
           "automargin": true,
           "gridcolor": "white",
           "linecolor": "white",
           "ticks": "",
           "title": {
            "standoff": 15
           },
           "zerolinecolor": "white",
           "zerolinewidth": 2
          },
          "yaxis": {
           "automargin": true,
           "gridcolor": "white",
           "linecolor": "white",
           "ticks": "",
           "title": {
            "standoff": 15
           },
           "zerolinecolor": "white",
           "zerolinewidth": 2
          }
         }
        },
        "title": {
         "text": "Overall, how invested do you feel in your relationship with this person?",
         "x": 0.955,
         "y": 0.88
        },
        "xaxis": {
         "domain": [
          0.15,
          1
         ],
         "showgrid": false,
         "showline": false,
         "showticklabels": false,
         "zeroline": false
        },
        "yaxis": {
         "showgrid": false,
         "showline": false,
         "showticklabels": false,
         "zeroline": false
        }
       }
      },
      "text/html": [
       "<div>\n",
       "        \n",
       "        \n",
       "            <div id=\"1432e903-b6c2-43a6-91c8-b168fda652ab\" class=\"plotly-graph-div\" style=\"height:525px; width:100%;\"></div>\n",
       "            <script type=\"text/javascript\">\n",
       "                require([\"plotly\"], function(Plotly) {\n",
       "                    window.PLOTLYENV=window.PLOTLYENV || {};\n",
       "                    \n",
       "                if (document.getElementById(\"1432e903-b6c2-43a6-91c8-b168fda652ab\")) {\n",
       "                    Plotly.newPlot(\n",
       "                        '1432e903-b6c2-43a6-91c8-b168fda652ab',\n",
       "                        [{\"hovertemplate\": \"<b>%{x}%</b><extra></extra>\", \"marker\": {\"color\": \"#FF6478\"}, \"orientation\": \"h\", \"showlegend\": false, \"type\": \"bar\", \"x\": [0.6], \"y\": [\"Friend\"]}, {\"hovertemplate\": \"<b>%{x}%</b><extra></extra>\", \"marker\": {\"color\": \"#FF6478\"}, \"orientation\": \"h\", \"showlegend\": false, \"type\": \"bar\", \"x\": [7.8], \"y\": [\"Informal\"]}, {\"hovertemplate\": \"<b>%{x}%</b><extra></extra>\", \"marker\": {\"color\": \"#FF6478\"}, \"name\": \"Not at all\", \"orientation\": \"h\", \"showlegend\": true, \"type\": \"bar\", \"x\": [24.3], \"y\": [\"Formal\"]}, {\"hovertemplate\": \"<b>%{x}%</b><extra></extra>\", \"marker\": {\"color\": \"#FF8477\"}, \"orientation\": \"h\", \"showlegend\": false, \"type\": \"bar\", \"x\": [1.9], \"y\": [\"Friend\"]}, {\"hovertemplate\": \"<b>%{x}%</b><extra></extra>\", \"marker\": {\"color\": \"#FF8477\"}, \"orientation\": \"h\", \"showlegend\": false, \"type\": \"bar\", \"x\": [4.6], \"y\": [\"Informal\"]}, {\"hovertemplate\": \"<b>%{x}%</b><extra></extra>\", \"marker\": {\"color\": \"#FF8477\"}, \"name\": \"Rarely\", \"orientation\": \"h\", \"showlegend\": true, \"type\": \"bar\", \"x\": [10.4], \"y\": [\"Formal\"]}, {\"hovertemplate\": \"<b>%{x}%</b><extra></extra>\", \"marker\": {\"color\": \"#FF9F77\"}, \"orientation\": \"h\", \"showlegend\": false, \"type\": \"bar\", \"x\": [1.9], \"y\": [\"Friend\"]}, {\"hovertemplate\": \"<b>%{x}%</b><extra></extra>\", \"marker\": {\"color\": \"#FF9F77\"}, \"orientation\": \"h\", \"showlegend\": false, \"type\": \"bar\", \"x\": [5.3], \"y\": [\"Informal\"]}, {\"hovertemplate\": \"<b>%{x}%</b><extra></extra>\", \"marker\": {\"color\": \"#FF9F77\"}, \"name\": \"Occasionally\", \"orientation\": \"h\", \"showlegend\": true, \"type\": \"bar\", \"x\": [9.2], \"y\": [\"Formal\"]}, {\"hovertemplate\": \"<b>%{x}%</b><extra></extra>\", \"marker\": {\"color\": \"#FFB775\"}, \"orientation\": \"h\", \"showlegend\": false, \"type\": \"bar\", \"x\": [19.8], \"y\": [\"Friend\"]}, {\"hovertemplate\": \"<b>%{x}%</b><extra></extra>\", \"marker\": {\"color\": \"#FFB775\"}, \"orientation\": \"h\", \"showlegend\": false, \"type\": \"bar\", \"x\": [11.8], \"y\": [\"Informal\"]}, {\"hovertemplate\": \"<b>%{x}%</b><extra></extra>\", \"marker\": {\"color\": \"#FFB775\"}, \"name\": \"Sometimes\", \"orientation\": \"h\", \"showlegend\": true, \"type\": \"bar\", \"x\": [18.0], \"y\": [\"Formal\"]}, {\"hovertemplate\": \"<b>%{x}%</b><extra></extra>\", \"marker\": {\"color\": \"#BCF0C2\"}, \"orientation\": \"h\", \"showlegend\": false, \"type\": \"bar\", \"x\": [25.5], \"y\": [\"Friend\"]}, {\"hovertemplate\": \"<b>%{x}%</b><extra></extra>\", \"marker\": {\"color\": \"#BCF0C2\"}, \"orientation\": \"h\", \"showlegend\": false, \"type\": \"bar\", \"x\": [19.7], \"y\": [\"Informal\"]}, {\"hovertemplate\": \"<b>%{x}%</b><extra></extra>\", \"marker\": {\"color\": \"#BCF0C2\"}, \"name\": \"???\", \"orientation\": \"h\", \"showlegend\": true, \"type\": \"bar\", \"x\": [16.9], \"y\": [\"Formal\"]}, {\"hovertemplate\": \"<b>%{x}%</b><extra></extra>\", \"marker\": {\"color\": \"#8BE595\"}, \"orientation\": \"h\", \"showlegend\": false, \"type\": \"bar\", \"x\": [23.0], \"y\": [\"Friend\"]}, {\"hovertemplate\": \"<b>%{x}%</b><extra></extra>\", \"marker\": {\"color\": \"#8BE595\"}, \"orientation\": \"h\", \"showlegend\": false, \"type\": \"bar\", \"x\": [20.0], \"y\": [\"Informal\"]}, {\"hovertemplate\": \"<b>%{x}%</b><extra></extra>\", \"marker\": {\"color\": \"#8BE595\"}, \"name\": \"Often\", \"orientation\": \"h\", \"showlegend\": true, \"type\": \"bar\", \"x\": [10.4], \"y\": [\"Formal\"]}, {\"hovertemplate\": \"<b>%{x}%</b><extra></extra>\", \"marker\": {\"color\": \"#56DA65\"}, \"orientation\": \"h\", \"showlegend\": false, \"type\": \"bar\", \"x\": [27.4], \"y\": [\"Friend\"]}, {\"hovertemplate\": \"<b>%{x}%</b><extra></extra>\", \"marker\": {\"color\": \"#56DA65\"}, \"orientation\": \"h\", \"showlegend\": false, \"type\": \"bar\", \"x\": [30.8], \"y\": [\"Informal\"]}, {\"hovertemplate\": \"<b>%{x}%</b><extra></extra>\", \"marker\": {\"color\": \"#56DA65\"}, \"name\": \"A lot\", \"orientation\": \"h\", \"showlegend\": true, \"type\": \"bar\", \"x\": [10.7], \"y\": [\"Formal\"]}],\n",
       "                        {\"annotations\": [{\"align\": \"right\", \"font\": {\"color\": \"black\", \"size\": 12}, \"showarrow\": false, \"text\": \"Friend\", \"x\": 0.14, \"xanchor\": \"right\", \"xref\": \"paper\", \"y\": \"Friend\", \"yref\": \"y\"}, {\"font\": {\"color\": \"#595959\", \"size\": 12}, \"showarrow\": false, \"text\": \"19.8%\", \"x\": 14.3, \"xref\": \"x\", \"y\": \"Friend\", \"yref\": \"y\"}, {\"font\": {\"color\": \"#595959\", \"size\": 12}, \"showarrow\": false, \"text\": \"25.5%\", \"x\": 36.95, \"xref\": \"x\", \"y\": \"Friend\", \"yref\": \"y\"}, {\"font\": {\"color\": \"#595959\", \"size\": 12}, \"showarrow\": false, \"text\": \"23.0%\", \"x\": 61.2, \"xref\": \"x\", \"y\": \"Friend\", \"yref\": \"y\"}, {\"font\": {\"color\": \"#595959\", \"size\": 12}, \"showarrow\": false, \"text\": \"27.4%\", \"x\": 86.4, \"xref\": \"x\", \"y\": \"Friend\", \"yref\": \"y\"}, {\"align\": \"right\", \"font\": {\"color\": \"black\", \"size\": 12}, \"showarrow\": false, \"text\": \"Informal\", \"x\": 0.14, \"xanchor\": \"right\", \"xref\": \"paper\", \"y\": \"Informal\", \"yref\": \"y\"}, {\"font\": {\"color\": \"#595959\", \"size\": 12}, \"showarrow\": false, \"text\": \"7.8%\", \"x\": 3.9, \"xref\": \"x\", \"y\": \"Informal\", \"yref\": \"y\"}, {\"font\": {\"color\": \"#595959\", \"size\": 12}, \"showarrow\": false, \"text\": \"11.8%\", \"x\": 23.6, \"xref\": \"x\", \"y\": \"Informal\", \"yref\": \"y\"}, {\"font\": {\"color\": \"#595959\", \"size\": 12}, \"showarrow\": false, \"text\": \"19.7%\", \"x\": 39.35, \"xref\": \"x\", \"y\": \"Informal\", \"yref\": \"y\"}, {\"font\": {\"color\": \"#595959\", \"size\": 12}, \"showarrow\": false, \"text\": \"20.0%\", \"x\": 59.2, \"xref\": \"x\", \"y\": \"Informal\", \"yref\": \"y\"}, {\"font\": {\"color\": \"#595959\", \"size\": 12}, \"showarrow\": false, \"text\": \"30.8%\", \"x\": 84.60000000000001, \"xref\": \"x\", \"y\": \"Informal\", \"yref\": \"y\"}, {\"align\": \"right\", \"font\": {\"color\": \"black\", \"size\": 12}, \"showarrow\": false, \"text\": \"Formal\", \"x\": 0.14, \"xanchor\": \"right\", \"xref\": \"paper\", \"y\": \"Formal\", \"yref\": \"y\"}, {\"font\": {\"color\": \"#595959\", \"size\": 12}, \"showarrow\": false, \"text\": \"24.3%\", \"x\": 12.15, \"xref\": \"x\", \"y\": \"Formal\", \"yref\": \"y\"}, {\"font\": {\"color\": \"#595959\", \"size\": 12}, \"showarrow\": false, \"text\": \"10.4%\", \"x\": 29.5, \"xref\": \"x\", \"y\": \"Formal\", \"yref\": \"y\"}, {\"font\": {\"color\": \"#595959\", \"size\": 12}, \"showarrow\": false, \"text\": \"9.2%\", \"x\": 39.300000000000004, \"xref\": \"x\", \"y\": \"Formal\", \"yref\": \"y\"}, {\"font\": {\"color\": \"#595959\", \"size\": 12}, \"showarrow\": false, \"text\": \"18.0%\", \"x\": 52.900000000000006, \"xref\": \"x\", \"y\": \"Formal\", \"yref\": \"y\"}, {\"font\": {\"color\": \"#595959\", \"size\": 12}, \"showarrow\": false, \"text\": \"16.9%\", \"x\": 70.35000000000001, \"xref\": \"x\", \"y\": \"Formal\", \"yref\": \"y\"}, {\"font\": {\"color\": \"#595959\", \"size\": 12}, \"showarrow\": false, \"text\": \"10.4%\", \"x\": 84.00000000000001, \"xref\": \"x\", \"y\": \"Formal\", \"yref\": \"y\"}, {\"font\": {\"color\": \"#595959\", \"size\": 12}, \"showarrow\": false, \"text\": \"10.7%\", \"x\": 94.55000000000001, \"xref\": \"x\", \"y\": \"Formal\", \"yref\": \"y\"}], \"barmode\": \"stack\", \"font\": {\"color\": \"black\", \"size\": 12}, \"legend\": {\"itemclick\": false, \"orientation\": \"h\", \"traceorder\": \"normal\", \"x\": 0.94, \"xanchor\": \"right\", \"y\": 1.02, \"yanchor\": \"bottom\"}, \"margin\": {\"b\": 80, \"l\": 120, \"r\": 10, \"t\": 140}, \"paper_bgcolor\": \"rgb(248, 248, 255)\", \"plot_bgcolor\": \"rgb(248, 248, 255)\", \"template\": {\"data\": {\"bar\": [{\"error_x\": {\"color\": \"#2a3f5f\"}, \"error_y\": {\"color\": \"#2a3f5f\"}, \"marker\": {\"line\": {\"color\": \"#E5ECF6\", \"width\": 0.5}}, \"type\": \"bar\"}], \"barpolar\": [{\"marker\": {\"line\": {\"color\": \"#E5ECF6\", \"width\": 0.5}}, \"type\": \"barpolar\"}], \"carpet\": [{\"aaxis\": {\"endlinecolor\": \"#2a3f5f\", \"gridcolor\": \"white\", \"linecolor\": \"white\", \"minorgridcolor\": \"white\", \"startlinecolor\": \"#2a3f5f\"}, \"baxis\": {\"endlinecolor\": \"#2a3f5f\", \"gridcolor\": \"white\", \"linecolor\": \"white\", \"minorgridcolor\": \"white\", \"startlinecolor\": \"#2a3f5f\"}, \"type\": \"carpet\"}], \"choropleth\": [{\"colorbar\": {\"outlinewidth\": 0, \"ticks\": \"\"}, \"type\": \"choropleth\"}], \"contour\": [{\"colorbar\": {\"outlinewidth\": 0, \"ticks\": \"\"}, \"colorscale\": [[0.0, \"#0d0887\"], [0.1111111111111111, \"#46039f\"], [0.2222222222222222, \"#7201a8\"], [0.3333333333333333, \"#9c179e\"], [0.4444444444444444, \"#bd3786\"], [0.5555555555555556, \"#d8576b\"], [0.6666666666666666, \"#ed7953\"], [0.7777777777777778, \"#fb9f3a\"], [0.8888888888888888, \"#fdca26\"], [1.0, \"#f0f921\"]], \"type\": \"contour\"}], \"contourcarpet\": [{\"colorbar\": {\"outlinewidth\": 0, \"ticks\": \"\"}, \"type\": \"contourcarpet\"}], \"heatmap\": [{\"colorbar\": {\"outlinewidth\": 0, \"ticks\": \"\"}, \"colorscale\": [[0.0, \"#0d0887\"], [0.1111111111111111, \"#46039f\"], [0.2222222222222222, \"#7201a8\"], [0.3333333333333333, \"#9c179e\"], [0.4444444444444444, \"#bd3786\"], [0.5555555555555556, \"#d8576b\"], [0.6666666666666666, \"#ed7953\"], [0.7777777777777778, \"#fb9f3a\"], [0.8888888888888888, \"#fdca26\"], [1.0, \"#f0f921\"]], \"type\": \"heatmap\"}], \"heatmapgl\": [{\"colorbar\": {\"outlinewidth\": 0, \"ticks\": \"\"}, \"colorscale\": [[0.0, \"#0d0887\"], [0.1111111111111111, \"#46039f\"], [0.2222222222222222, \"#7201a8\"], [0.3333333333333333, \"#9c179e\"], [0.4444444444444444, \"#bd3786\"], [0.5555555555555556, \"#d8576b\"], [0.6666666666666666, \"#ed7953\"], [0.7777777777777778, \"#fb9f3a\"], [0.8888888888888888, \"#fdca26\"], [1.0, \"#f0f921\"]], \"type\": \"heatmapgl\"}], \"histogram\": [{\"marker\": {\"colorbar\": {\"outlinewidth\": 0, \"ticks\": \"\"}}, \"type\": \"histogram\"}], \"histogram2d\": [{\"colorbar\": {\"outlinewidth\": 0, \"ticks\": \"\"}, \"colorscale\": [[0.0, \"#0d0887\"], [0.1111111111111111, \"#46039f\"], [0.2222222222222222, \"#7201a8\"], [0.3333333333333333, \"#9c179e\"], [0.4444444444444444, \"#bd3786\"], [0.5555555555555556, \"#d8576b\"], [0.6666666666666666, \"#ed7953\"], [0.7777777777777778, \"#fb9f3a\"], [0.8888888888888888, \"#fdca26\"], [1.0, \"#f0f921\"]], \"type\": \"histogram2d\"}], \"histogram2dcontour\": [{\"colorbar\": {\"outlinewidth\": 0, \"ticks\": \"\"}, \"colorscale\": [[0.0, \"#0d0887\"], [0.1111111111111111, \"#46039f\"], [0.2222222222222222, \"#7201a8\"], [0.3333333333333333, \"#9c179e\"], [0.4444444444444444, \"#bd3786\"], [0.5555555555555556, \"#d8576b\"], [0.6666666666666666, \"#ed7953\"], [0.7777777777777778, \"#fb9f3a\"], [0.8888888888888888, \"#fdca26\"], [1.0, \"#f0f921\"]], \"type\": \"histogram2dcontour\"}], \"mesh3d\": [{\"colorbar\": {\"outlinewidth\": 0, \"ticks\": \"\"}, \"type\": \"mesh3d\"}], \"parcoords\": [{\"line\": {\"colorbar\": {\"outlinewidth\": 0, \"ticks\": \"\"}}, \"type\": \"parcoords\"}], \"pie\": [{\"automargin\": true, \"type\": \"pie\"}], \"scatter\": [{\"marker\": {\"colorbar\": {\"outlinewidth\": 0, \"ticks\": \"\"}}, \"type\": \"scatter\"}], \"scatter3d\": [{\"line\": {\"colorbar\": {\"outlinewidth\": 0, \"ticks\": \"\"}}, \"marker\": {\"colorbar\": {\"outlinewidth\": 0, \"ticks\": \"\"}}, \"type\": \"scatter3d\"}], \"scattercarpet\": [{\"marker\": {\"colorbar\": {\"outlinewidth\": 0, \"ticks\": \"\"}}, \"type\": \"scattercarpet\"}], \"scattergeo\": [{\"marker\": {\"colorbar\": {\"outlinewidth\": 0, \"ticks\": \"\"}}, \"type\": \"scattergeo\"}], \"scattergl\": [{\"marker\": {\"colorbar\": {\"outlinewidth\": 0, \"ticks\": \"\"}}, \"type\": \"scattergl\"}], \"scattermapbox\": [{\"marker\": {\"colorbar\": {\"outlinewidth\": 0, \"ticks\": \"\"}}, \"type\": \"scattermapbox\"}], \"scatterpolar\": [{\"marker\": {\"colorbar\": {\"outlinewidth\": 0, \"ticks\": \"\"}}, \"type\": \"scatterpolar\"}], \"scatterpolargl\": [{\"marker\": {\"colorbar\": {\"outlinewidth\": 0, \"ticks\": \"\"}}, \"type\": \"scatterpolargl\"}], \"scatterternary\": [{\"marker\": {\"colorbar\": {\"outlinewidth\": 0, \"ticks\": \"\"}}, \"type\": \"scatterternary\"}], \"surface\": [{\"colorbar\": {\"outlinewidth\": 0, \"ticks\": \"\"}, \"colorscale\": [[0.0, \"#0d0887\"], [0.1111111111111111, \"#46039f\"], [0.2222222222222222, \"#7201a8\"], [0.3333333333333333, \"#9c179e\"], [0.4444444444444444, \"#bd3786\"], [0.5555555555555556, \"#d8576b\"], [0.6666666666666666, \"#ed7953\"], [0.7777777777777778, \"#fb9f3a\"], [0.8888888888888888, \"#fdca26\"], [1.0, \"#f0f921\"]], \"type\": \"surface\"}], \"table\": [{\"cells\": {\"fill\": {\"color\": \"#EBF0F8\"}, \"line\": {\"color\": \"white\"}}, \"header\": {\"fill\": {\"color\": \"#C8D4E3\"}, \"line\": {\"color\": \"white\"}}, \"type\": \"table\"}]}, \"layout\": {\"annotationdefaults\": {\"arrowcolor\": \"#2a3f5f\", \"arrowhead\": 0, \"arrowwidth\": 1}, \"coloraxis\": {\"colorbar\": {\"outlinewidth\": 0, \"ticks\": \"\"}}, \"colorscale\": {\"diverging\": [[0, \"#8e0152\"], [0.1, \"#c51b7d\"], [0.2, \"#de77ae\"], [0.3, \"#f1b6da\"], [0.4, \"#fde0ef\"], [0.5, \"#f7f7f7\"], [0.6, \"#e6f5d0\"], [0.7, \"#b8e186\"], [0.8, \"#7fbc41\"], [0.9, \"#4d9221\"], [1, \"#276419\"]], \"sequential\": [[0.0, \"#0d0887\"], [0.1111111111111111, \"#46039f\"], [0.2222222222222222, \"#7201a8\"], [0.3333333333333333, \"#9c179e\"], [0.4444444444444444, \"#bd3786\"], [0.5555555555555556, \"#d8576b\"], [0.6666666666666666, \"#ed7953\"], [0.7777777777777778, \"#fb9f3a\"], [0.8888888888888888, \"#fdca26\"], [1.0, \"#f0f921\"]], \"sequentialminus\": [[0.0, \"#0d0887\"], [0.1111111111111111, \"#46039f\"], [0.2222222222222222, \"#7201a8\"], [0.3333333333333333, \"#9c179e\"], [0.4444444444444444, \"#bd3786\"], [0.5555555555555556, \"#d8576b\"], [0.6666666666666666, \"#ed7953\"], [0.7777777777777778, \"#fb9f3a\"], [0.8888888888888888, \"#fdca26\"], [1.0, \"#f0f921\"]]}, \"colorway\": [\"#636efa\", \"#EF553B\", \"#00cc96\", \"#ab63fa\", \"#FFA15A\", \"#19d3f3\", \"#FF6692\", \"#B6E880\", \"#FF97FF\", \"#FECB52\"], \"font\": {\"color\": \"#2a3f5f\"}, \"geo\": {\"bgcolor\": \"white\", \"lakecolor\": \"white\", \"landcolor\": \"#E5ECF6\", \"showlakes\": true, \"showland\": true, \"subunitcolor\": \"white\"}, \"hoverlabel\": {\"align\": \"left\"}, \"hovermode\": \"closest\", \"mapbox\": {\"style\": \"light\"}, \"paper_bgcolor\": \"white\", \"plot_bgcolor\": \"#E5ECF6\", \"polar\": {\"angularaxis\": {\"gridcolor\": \"white\", \"linecolor\": \"white\", \"ticks\": \"\"}, \"bgcolor\": \"#E5ECF6\", \"radialaxis\": {\"gridcolor\": \"white\", \"linecolor\": \"white\", \"ticks\": \"\"}}, \"scene\": {\"xaxis\": {\"backgroundcolor\": \"#E5ECF6\", \"gridcolor\": \"white\", \"gridwidth\": 2, \"linecolor\": \"white\", \"showbackground\": true, \"ticks\": \"\", \"zerolinecolor\": \"white\"}, \"yaxis\": {\"backgroundcolor\": \"#E5ECF6\", \"gridcolor\": \"white\", \"gridwidth\": 2, \"linecolor\": \"white\", \"showbackground\": true, \"ticks\": \"\", \"zerolinecolor\": \"white\"}, \"zaxis\": {\"backgroundcolor\": \"#E5ECF6\", \"gridcolor\": \"white\", \"gridwidth\": 2, \"linecolor\": \"white\", \"showbackground\": true, \"ticks\": \"\", \"zerolinecolor\": \"white\"}}, \"shapedefaults\": {\"line\": {\"color\": \"#2a3f5f\"}}, \"ternary\": {\"aaxis\": {\"gridcolor\": \"white\", \"linecolor\": \"white\", \"ticks\": \"\"}, \"baxis\": {\"gridcolor\": \"white\", \"linecolor\": \"white\", \"ticks\": \"\"}, \"bgcolor\": \"#E5ECF6\", \"caxis\": {\"gridcolor\": \"white\", \"linecolor\": \"white\", \"ticks\": \"\"}}, \"title\": {\"x\": 0.05}, \"xaxis\": {\"automargin\": true, \"gridcolor\": \"white\", \"linecolor\": \"white\", \"ticks\": \"\", \"title\": {\"standoff\": 15}, \"zerolinecolor\": \"white\", \"zerolinewidth\": 2}, \"yaxis\": {\"automargin\": true, \"gridcolor\": \"white\", \"linecolor\": \"white\", \"ticks\": \"\", \"title\": {\"standoff\": 15}, \"zerolinecolor\": \"white\", \"zerolinewidth\": 2}}}, \"title\": {\"text\": \"Overall, how invested do you feel in your relationship with this person?\", \"x\": 0.955, \"y\": 0.88}, \"xaxis\": {\"domain\": [0.15, 1], \"showgrid\": false, \"showline\": false, \"showticklabels\": false, \"zeroline\": false}, \"yaxis\": {\"showgrid\": false, \"showline\": false, \"showticklabels\": false, \"zeroline\": false}},\n",
       "                        {\"displayModeBar\": false, \"responsive\": true}\n",
       "                    ).then(function(){\n",
       "                            \n",
       "var gd = document.getElementById('1432e903-b6c2-43a6-91c8-b168fda652ab');\n",
       "var x = new MutationObserver(function (mutations, observer) {{\n",
       "        var display = window.getComputedStyle(gd).display;\n",
       "        if (!display || display === 'none') {{\n",
       "            console.log([gd, 'removed!']);\n",
       "            Plotly.purge(gd);\n",
       "            observer.disconnect();\n",
       "        }}\n",
       "}});\n",
       "\n",
       "// Listen for the removal of the full notebook cells\n",
       "var notebookContainer = gd.closest('#notebook-container');\n",
       "if (notebookContainer) {{\n",
       "    x.observe(notebookContainer, {childList: true});\n",
       "}}\n",
       "\n",
       "// Listen for the clearing of the current output cell\n",
       "var outputEl = gd.closest('.output');\n",
       "if (outputEl) {{\n",
       "    x.observe(outputEl, {childList: true});\n",
       "}}\n",
       "\n",
       "                        })\n",
       "                };\n",
       "                });\n",
       "            </script>\n",
       "        </div>"
      ]
     },
     "metadata": {},
     "output_type": "display_data"
    }
   ],
   "source": [
    "vertical_stack_percent_bar('invest.overall.p', 'Overall, how invested do you feel in your relationship with this person?')"
   ]
  }
 ],
 "metadata": {
  "kernelspec": {
   "display_name": "Python 3",
   "language": "python",
   "name": "python3"
  },
  "language_info": {
   "codemirror_mode": {
    "name": "ipython",
    "version": 3
   },
   "file_extension": ".py",
   "mimetype": "text/x-python",
   "name": "python",
   "nbconvert_exporter": "python",
   "pygments_lexer": "ipython3",
   "version": "3.7.3"
  }
 },
 "nbformat": 4,
 "nbformat_minor": 2
}
